{
 "cells": [
  {
   "cell_type": "markdown",
   "metadata": {},
   "source": [
    "how to create a bucket?\n",
    "\n",
    "create storage bucket?\n",
    "\n"
   ]
  },
  {
   "cell_type": "code",
   "execution_count": null,
   "metadata": {},
   "outputs": [],
   "source": [
    "var qs = require('querystring');\n",
    "var importer = require('../Core');\n",
    "var authorizeGoogle = importer.import('authorize google service');\n",
    "\n",
    "// TODO: set index page\n",
    "\n",
    "function safeName(name) {\n",
    "    return name.replace(/[^a-z0-9\\-\\.]/ig, '-').toLowerCase();\n",
    "}\n",
    "\n",
    "function setPublic(project, bucketName) {\n",
    "    var client;\n",
    "    // TODO:\n",
    "    return authorizeGoogle()\n",
    "        .then(c => client = c)\n",
    "        .then(() => client.request({\n",
    "            method: 'POST',\n",
    "            url: `https://www.googleapis.com/storage/v1/b/${qs.escape(bucketName)}/acl`,\n",
    "            data: {\n",
    "                entity: 'allUsers',\n",
    "                role: 'READER'\n",
    "            }\n",
    "        }))\n",
    "        .then(() => client.request({\n",
    "            method: 'POST',\n",
    "            url: `https://www.googleapis.com/storage/v1/b/${qs.escape(bucketName)}/defaultObjectAcl`,\n",
    "            data: {\n",
    "                entity: 'allUsers',\n",
    "                role: 'READER'\n",
    "            }\n",
    "        }))\n",
    "}\n",
    "\n",
    "function listBuckets(project, bucketName) {\n",
    "    var params = {project: project};\n",
    "    if(bucketName) {\n",
    "        params.prefix = bucketName;\n",
    "    }\n",
    "    return authorizeGoogle()\n",
    "        .then(client => client.request({\n",
    "            url: `https://www.googleapis.com/storage/v1/b`,\n",
    "            params\n",
    "        }))\n",
    "        .then(response => response.data.items || [])\n",
    "}\n",
    "\n",
    "function addBucket(project, bucketName) {\n",
    "    return authorizeGoogle()\n",
    "        .then(client => client.request({\n",
    "            method: 'POST',\n",
    "            url: `https://www.googleapis.com/storage/v1/b`,\n",
    "            params: {project: project},\n",
    "            data: {\n",
    "                name: bucketName,\n",
    "                location: 'us-central1',\n",
    "                storageClass: 'regional',\n",
    "                website: {\n",
    "                    mainPageSuffix: 'index.html'\n",
    "                }\n",
    "            }\n",
    "        }))\n",
    "        .then(response => response.data.name)\n",
    "        .then(() => setPublic(project, bucketName))\n",
    "}\n",
    "\n",
    "function createBucket(project, bucketName) {\n",
    "    bucketName = safeName(bucketName);\n",
    "    return listBuckets(project, bucketName)\n",
    "        .then(buckets => {\n",
    "            if(buckets.length > 0) {\n",
    "                console.log(`bucket ${bucketName} already exists`);\n",
    "                return Promise.resolve(buckets[0].name);\n",
    "            }\n",
    "            return addBucket(project, bucketName)\n",
    "        })\n",
    "        .then(() => bucketName);\n",
    "}\n",
    "\n",
    "module.exports = createBucket;\n"
   ]
  },
  {
   "cell_type": "markdown",
   "metadata": {},
   "source": [
    "test create bucket?\n"
   ]
  },
  {
   "cell_type": "code",
   "execution_count": null,
   "metadata": {},
   "outputs": [],
   "source": [
    "var assert = require('assert');\n",
    "var importer = require('../Core');\n",
    "var createBucket = importer.import('create a bucket');\n",
    "var project = 'spahaha-ea443';\n",
    "var bucketName = 'sheet-to-web.sheet-to-web.com';\n",
    "\n",
    "describe('adding a bucket to google storage', () => {\n",
    "    it('should add a bucket', () => {\n",
    "        return createBucket(project, bucketName)\n",
    "            .then(bucketName => {\n",
    "                assert(bucketName.length > 0, 'should have added a bucket');\n",
    "            })\n",
    "    })\n",
    "    \n",
    "});\n"
   ]
  },
  {
   "cell_type": "markdown",
   "metadata": {},
   "source": [
    "test stream to output?\n"
   ]
  },
  {
   "cell_type": "code",
   "execution_count": null,
   "metadata": {},
   "outputs": [],
   "source": [
    "var fs = require('fs');\n",
    "var path = require('path');\n",
    "var importer = require('../Core');\n",
    "var mkdirpSync = importer.import('mkdirp');\n",
    "var fetchOrStream = importer.import('fetch file or stream');\n",
    "\n",
    "// locally based utility for editing styles\n",
    "function streamToOutput(fileUrl, bucketName, stream) {\n",
    "    var outputPath = path.join(path.resolve(process.env.PROJECT_OUTPUT),\n",
    "                               fileUrl.replace(/\\?.*/ig, ''));\n",
    "    mkdirpSync(path.dirname(outputPath));\n",
    "    var writeStream = fs.createWriteStream(outputPath);\n",
    "    return fetchOrStream(stream || fileUrl, writeStream)\n",
    "        .then(() => outputPath)\n",
    "}\n",
    "\n",
    "module.exports = streamToOutput;\n"
   ]
  },
  {
   "cell_type": "markdown",
   "metadata": {},
   "source": [
    "fetch file or stream?\n"
   ]
  },
  {
   "cell_type": "code",
   "execution_count": null,
   "metadata": {},
   "outputs": [],
   "source": [
    "var util = require('util');\n",
    "var http = require('http');\n",
    "var https = require('https');\n",
    "\n",
    "function fetchOrStream(stream, writeStream) {\n",
    "    var promise;\n",
    "    if(typeof stream == 'object') {\n",
    "        promise = Promise.resolve(stream);\n",
    "    } else {\n",
    "        var protocol = stream.includes('https://') ? https : http;\n",
    "        promise = util.promisify(protocol.get.bind(protocol))(stream)\n",
    "    }\n",
    "    return promise\n",
    "        .then(() => new Promise((resolve, reject) => {\n",
    "            stream.pipe(writeStream)\n",
    "            .on(\"error\", (err) => {\n",
    "                reject(err);\n",
    "            })\n",
    "            .on('finish', () => {\n",
    "                resolve();\n",
    "            });\n",
    "        }))\n",
    "}\n",
    "\n",
    "module.exports = fetchOrStream;\n"
   ]
  },
  {
   "cell_type": "markdown",
   "metadata": {},
   "source": [
    "upload files to google cloud?\n"
   ]
  },
  {
   "cell_type": "code",
   "execution_count": null,
   "metadata": {},
   "outputs": [],
   "source": [
    "var mime = require('mime-types');\n",
    "var path = require('path');\n",
    "var {Storage} = require(\"@google-cloud/storage\");\n",
    "var importer = require('../Core');\n",
    "var createBucket = importer.import('create a bucket');\n",
    "var streamToOutput = importer.import('test stream to output');\n",
    "var fetchOrStream = importer.import('fetch file or stream');\n",
    "\n",
    "var storage = new Storage({  \n",
    "  projectId: process.env.GOOGLE_STORAGE_PROJECT,  \n",
    "  keyFilename: process.env.GOOGLE_STORAGE_CREDENTIALS\n",
    "});\n",
    "\n",
    "function streamToGoogle(fileUrl, bucketName, stream, metadata) {\n",
    "    var gcsname = (stream ? fileUrl : path.basename(fileUrl)).replace(/\\?.*/ig, '');\n",
    "    console.log('project', storage.projectId, process.env.GOOGLE_STORAGE_PROJECT)\n",
    "    return createBucket(storage.projectId, bucketName)\n",
    "        .then(() => storage.bucket(bucketName).file(gcsname)\n",
    "            .createWriteStream({\n",
    "                metadata: Object.assign({\n",
    "                    contentType: mime.lookup(gcsname)\n",
    "                }, metadata || {})\n",
    "            }))\n",
    "        .then(writeStream => fetchOrStream(stream || fileUrl, writeStream))\n",
    "        .then(() => `https://storage.googleapis.com/${bucketName}/${gcsname}`)\n",
    "}\n",
    "\n",
    "module.exports = streamToGoogle;\n",
    "\n"
   ]
  },
  {
   "cell_type": "markdown",
   "metadata": {},
   "source": [
    "copy a file in storage bucket?\n"
   ]
  },
  {
   "cell_type": "code",
   "execution_count": null,
   "metadata": {},
   "outputs": [],
   "source": [
    "var importer = require('../Core');\n",
    "var authorizeGoogle = importer.import('authorize google service');\n",
    "var project = 'spahaha-ea443';\n",
    "var qs = require('querystring');\n",
    "\n",
    "function copyFileBucket(bucket, file) {\n",
    "    var params = {project: project};\n",
    "    console.log('copying file:', file)\n",
    "    return authorizeGoogle()\n",
    "        .then(client => client.request({\n",
    "            method: 'POST',\n",
    "            url: `https://www.googleapis.com/storage/v1/b/${bucket}/o/${qs.escape(file)}/rewriteTo/b/${bucket}/o/${qs.escape(file.replace(/\\.html|\\.htm/ig, ''))}`,\n",
    "            params\n",
    "        }))\n",
    "}\n",
    "\n",
    "module.exports = copyFileBucket;\n"
   ]
  },
  {
   "cell_type": "markdown",
   "metadata": {},
   "source": [
    "test upload files to google storage?\n"
   ]
  },
  {
   "cell_type": "code",
   "execution_count": null,
   "metadata": {},
   "outputs": [],
   "source": [
    "var path = require('path');\n",
    "var assert = require('assert');\n",
    "var importer = require('../Core');\n",
    "var streamToGoogle = importer.import('upload files google cloud');\n",
    "\n",
    "describe('upload google storage', () => {\n",
    "    \n",
    "    it('should upload a file to a bucket', () => {\n",
    "        return streamToGoogle(\n",
    "            'https://www.sgs.com/-/media/global/images/structural-website-images/hero-images/hero-color-palette.jpg?la=en&hash=70B51DB0FA678306B2EAF2E6C4A725BAB0D12342',\n",
    "            'sheet-to-web.com')\n",
    "            .then(url => {\n",
    "                assert(url.length > 0, 'should have a file url');\n",
    "            })\n",
    "    })\n",
    "    \n",
    "    \n",
    "})\n"
   ]
  }
 ],
 "metadata": {
  "kernelspec": {
   "display_name": "Javascript (Node.js)",
   "language": "javascript",
   "name": "javascript"
  },
  "language_info": {
   "file_extension": ".js",
   "mimetype": "application/javascript",
   "name": "javascript",
   "version": "12.7.0"
  }
 },
 "nbformat": 4,
 "nbformat_minor": 2
}
