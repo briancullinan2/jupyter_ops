{
 "cells": [
  {
   "cell_type": "markdown",
   "metadata": {},
   "source": [
    "# What is Selenium?\n",
    "\n",
    "Selenium is a remote control for web-browsers.  Chrome-driver is the remote control for Chrome.\n",
    "\n",
    "[http://www.seleniumhq.org/download/](http://www.seleniumhq.org/download/)\n",
    "\n",
    "[https://sites.google.com/a/chromium.org/chromedriver/downloads](https://sites.google.com/a/chromium.org/chromedriver/downloads)\n",
    "\n",
    "Ecommerce portal\n",
    "inside selenium\n",
    "inside chrome\n",
    "inside VNC\n",
    "inside jupyter\n",
    "inside Linux\n",
    "inside Docker\n",
    "inside Chrome\n",
    "inside Windows\n",
    "\n"
   ]
  },
  {
   "cell_type": "markdown",
   "metadata": {},
   "source": [
    "First run the virtual frame buffer with selenium\n"
   ]
  },
  {
   "cell_type": "code",
   "execution_count": 1,
   "metadata": {
    "scrolled": true
   },
   "outputs": [],
   "source": [
    "Xvfb :0 -ac -screen 0 1024x768x24 +extension RANDR\n"
   ]
  },
  {
   "cell_type": "markdown",
   "metadata": {},
   "source": [
    "Run selenium \n",
    "\n"
   ]
  },
  {
   "cell_type": "code",
   "execution_count": null,
   "metadata": {
    "collapsed": false,
    "inputHidden": false,
    "outputHidden": false
   },
   "outputs": [],
   "source": [
    "export DISPLAY=:0 \n",
    "java -Dwebdriver.chrome.driver=\"/usr/bin/chromedriver\" -Dwebdriver.chrome.args=\"--start-fullscreen --no-sandbox --incognito\" -jar /opt/selenium/selenium-server-standalone.jar\n",
    "\n"
   ]
  },
  {
   "cell_type": "markdown",
   "metadata": {},
   "source": [
    "Run our first selenium script\n",
    "\n"
   ]
  },
  {
   "cell_type": "code",
   "execution_count": null,
   "metadata": {
    "collapsed": false,
    "inputHidden": false,
    "outputHidden": false
   },
   "outputs": [],
   "source": [
    "export DISPLAY=:0\n",
    "google-chrome http://localhost:4200 --no-sandbox --start-fullscreen\n",
    "\n"
   ]
  },
  {
   "cell_type": "markdown",
   "metadata": {},
   "source": [
    "Run selenium inside of docker?"
   ]
  },
  {
   "cell_type": "code",
   "execution_count": null,
   "metadata": {
    "collapsed": true
   },
   "outputs": [],
   "source": [
    "FROM selenium/standalone-chrome-debug\n",
    "\n",
    "EXPOSE 4200\n",
    "EXPOSE 4444\n",
    "EXPOSE 3000\n",
    "\n",
    "ENV DBUS_SESSION_BUS_ADDRESS /dev/null\n",
    "ENV CHROME_USER_DATA_DIR /usr/profile\n",
    "WORKDIR /home/seluser\n",
    "\n",
    "# I added this part?\n",
    "USER root\n",
    "RUN mkdir /usr/profile\n",
    "RUN mkdir /usr/downloads\n",
    "RUN chown seluser:seluser -R /usr/profile\n",
    "RUN chown seluser:seluser -R /usr/downloads\n",
    "RUN chmod 777 -R /usr/profile\n",
    "RUN chmod 777 -R /usr/downloads\n",
    "#VOLUME /usr/profile\n",
    "#VOLUME /data/downloads\n",
    "\n",
    "RUN sed -i '/wait \\$NODE_PID/ised -i -e s/exit_type\":\"Crashed/exit_type\":\"None/g /usr/profile/Default/Preferences &' /opt/bin/entry_point.sh\n",
    "RUN sed -i '/wait \\$NODE_PID/ised -i -e s/exited_cleanly\":false/exited_cleanly\":true/g /usr/profile/Default/Preferences &' /opt/bin/entry_point.sh\n",
    "\n"
   ]
  }
 ],
 "metadata": {
  "kernel_info": {
   "name": "bash"
  },
  "kernelspec": {
   "display_name": "Bash",
   "language": "bash",
   "name": "bash"
  },
  "language_info": {
   "codemirror_mode": "shell",
   "file_extension": ".sh",
   "mimetype": "text/x-sh",
   "name": "bash"
  }
 },
 "nbformat": 4,
 "nbformat_minor": 2
}
