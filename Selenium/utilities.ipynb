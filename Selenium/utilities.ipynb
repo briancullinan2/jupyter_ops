{
 "cells": [
  {
   "cell_type": "markdown",
   "metadata": {},
   "source": [
    "Scroll a specific element?\n"
   ]
  },
  {
   "cell_type": "code",
   "execution_count": 5,
   "metadata": {},
   "outputs": [
    {
     "data": {
      "text/plain": [
       "[Function: scrollClient]"
      ]
     },
     "execution_count": 5,
     "metadata": {},
     "output_type": "execute_result"
    }
   ],
   "source": [
    "\n"
   ]
  },
  {
   "cell_type": "markdown",
   "metadata": {},
   "source": [
    "Get all elements until?\n",
    "\n"
   ]
  },
  {
   "cell_type": "code",
   "execution_count": 7,
   "metadata": {},
   "outputs": [
    {
     "data": {
      "text/plain": [
       "[Function: getAllUntil]"
      ]
     },
     "execution_count": 7,
     "metadata": {},
     "output_type": "execute_result"
    }
   ],
   "source": [
    "var importer = require('../Core');\n",
    "var {\n",
    "    getAllXPath, scrollClient\n",
    "} = importer.import([\n",
    "    'all elements xpath',\n",
    "    'scroll specific element'\n",
    "])\n",
    "\n",
    "function getAllUntil(client, scrollableSelector,\n",
    "    dataSelector,\n",
    "    set = [],\n",
    "    compare = (a, b) => a === b,\n",
    "    cb = (i) => i < 3,\n",
    "    up = false,\n",
    "    i = 0) {\n",
    "    return getAllXPath(dataSelector)\n",
    "        .then(r => {\n",
    "            var newPosts = ((typeof r === 'string' ? [r] : r) || [])\n",
    "                .filter(e => set\n",
    "                    .filter(m => compare(e, m)).length === 0);\n",
    "            set = newPosts.concat(set);\n",
    "            return newPosts.length > 0\n",
    "                ? scrollClient(client, scrollableSelector, up)\n",
    "                    .pause(4000)\n",
    "                    .then(() => cb(i)\n",
    "                        ? getAllUntil(scrollableSelector, dataSelector, set, compare, cb, up, i + 1)\n",
    "                        : set)\n",
    "                : Promise.resolve(set);\n",
    "        })\n",
    "        .catch(e => console.log(e))\n",
    "};\n",
    "\n",
    "\n",
    "module.exports = getAllUntil;\n",
    "\n",
    "\n"
   ]
  },
  {
   "cell_type": "markdown",
   "metadata": {},
   "source": [
    "click spa link?\n"
   ]
  },
  {
   "cell_type": "code",
   "execution_count": null,
   "metadata": {
    "collapsed": true
   },
   "outputs": [],
   "source": [
    "function clickSpa(client, profile) {\n",
    "    return client\n",
    "        .getUrl()\n",
    "        .then(url => url.indexOf(profile) > -1\n",
    "              ? []\n",
    "              : client\n",
    "             .execute(url => {\n",
    "                var a = document.createElement('a');\n",
    "                a.setAttribute('href', url);\n",
    "                a.setAttribute('class', 'spa');\n",
    "                a.onclick = () => setTimeout(() => document.body.removeChild(a), 500)\n",
    "                a.href = url;\n",
    "                a.style.position = 'absolute';\n",
    "                a.style.zIndex = 4294967295;\n",
    "                a.style.top = 0;\n",
    "                a.style.left = 0;\n",
    "                a.style.bottom = 0;\n",
    "                a.style.right = 0;\n",
    "                document.body.appendChild(a);\n",
    "            }, profile)\n",
    "        .click('a.spa[href*=\"' + profile + '\"]')\n",
    "        .pause(1000))\n",
    "        .catch(e => console.log(e))\n",
    "};\n",
    "\n",
    "module.exports = clickSpa;\n"
   ]
  },
  {
   "cell_type": "markdown",
   "metadata": {},
   "source": [
    "Find the element rect dimensions that match this OCR detection of text content on page:\n",
    "\n",
    "https://www.mathworks.com/help/vision/examples/automatically-detect-and-recognize-text-in-natural-images.html?s_tid=gn_loc_drop\n",
    "\n"
   ]
  },
  {
   "cell_type": "code",
   "execution_count": null,
   "metadata": {
    "collapsed": true
   },
   "outputs": [],
   "source": [
    "\n",
    "\n"
   ]
  }
 ],
 "metadata": {
  "kernelspec": {
   "display_name": "Javascript (Node.js)",
   "language": "javascript",
   "name": "javascript"
  },
  "language_info": {
   "file_extension": ".js",
   "mimetype": "application/javascript",
   "name": "javascript",
   "version": "12.7.0"
  }
 },
 "nbformat": 4,
 "nbformat_minor": 2
}
