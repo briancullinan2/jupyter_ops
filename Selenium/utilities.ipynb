{
 "cells": [
  {
   "cell_type": "markdown",
   "metadata": {},
   "source": [
    "Scroll a specific element?\n"
   ]
  },
  {
   "cell_type": "code",
   "execution_count": 5,
   "metadata": {},
   "outputs": [
    {
     "data": {
      "text/plain": [
       "[Function: scrollClient]"
      ]
     },
     "execution_count": 5,
     "metadata": {},
     "output_type": "execute_result"
    }
   ],
   "source": [
    "const {selectDom, evaluateDom} = importer.import('select tree')\n",
    "const {walkTree} = importer.import('walk tree')\n",
    "\n",
    "async function scrollClient(driver, selector, up = false) {\n",
    "  // scroll to bottom of messages\n",
    "  return await driver\n",
    "    .executeScript((evaluateDomString, walkTreeString, selectDomString, selector, up = false) => {\n",
    "      if (selector === '' || selector === false) {\n",
    "        window.scroll(window.scrollX, window.scrollY + (up ? -100000 : 100000));\n",
    "        return;\n",
    "      }\n",
    "      if(!window.evaluateDom)\n",
    "        window.evaluateDom = eval('(' + evaluateDomString + ')')\n",
    "      if(!window.walkTree)\n",
    "        window.walkTree = eval('(' + walkTreeString + ')')\n",
    "      if(!window.selectDom)\n",
    "        window.selectDom = eval('(' + selectDomString + ')')\n",
    "      var people = selectDom(selector, document)\n",
    "      console.log('something', people)\n",
    "      people.scrollTop = people.scrollTop + (up ? -100000 : 100000);\n",
    "    }, evaluateDom, walkTree, selectDom, selector, up)\n",
    "}\n",
    "\n",
    "module.exports = scrollClient\n"
   ]
  },
  {
   "cell_type": "markdown",
   "metadata": {},
   "source": [
    "Get all elements until?\n",
    "\n",
    "all elements until?\n"
   ]
  },
  {
   "cell_type": "code",
   "execution_count": 7,
   "metadata": {},
   "outputs": [
    {
     "data": {
      "text/plain": [
       "[Function: getAllUntil]"
      ]
     },
     "execution_count": 7,
     "metadata": {},
     "output_type": "execute_result"
    }
   ],
   "source": [
    "var importer = require('../Core');\n",
    "var scrollClient = importer.import('scroll specific element')\n",
    "const selectDom = importer.import('selenium select')\n",
    "\n",
    "async function getAllUntil(driver, scrollableSelector,\n",
    "    dataSelector,\n",
    "    compare = (a, b) => a === b,\n",
    "    cb = (i) => i < 3,\n",
    "    set = [],\n",
    "    up = false,\n",
    "    i = 0) {\n",
    "    //let body = await driver.findElement(By.css('body'))\n",
    "    let result = await selectDom(driver, dataSelector)\n",
    "    //let result = await driver.executeScript('return (function main() {\\n return 1;\\n})()')\n",
    "\n",
    "    let filtered = []\n",
    "    let newPosts = ((typeof result === 'string' ? [result] : result) || [])\n",
    "    for (let i = 0; i < newPosts.length; i++) {\n",
    "        let found = false\n",
    "        for (let j = 0; j < set.length; j++) {\n",
    "            if (await compare(newPosts[i], set[j])) {\n",
    "                found = true\n",
    "            }\n",
    "        }\n",
    "        if (!found) {\n",
    "            filtered.push(newPosts[i])\n",
    "        }\n",
    "    }\n",
    "    set = set.concat(filtered);\n",
    "    // TODO: something with page timing is causing this to fail, continue to call until cb\n",
    "    if (filtered.length > 0 && await cb(i, set)) {\n",
    "        await scrollClient(driver, scrollableSelector, up)\n",
    "        await new Promise(resolve => setTimeout(resolve, 2500))\n",
    "        await scrollClient(driver, scrollableSelector, up)\n",
    "        await new Promise(resolve => setTimeout(resolve, 2500))\n",
    "        return await getAllUntil(driver, scrollableSelector, dataSelector, compare, cb, set, up, i + 1)\n",
    "    }\n",
    "    return set\n",
    "}\n",
    "\n",
    "\n",
    "module.exports = getAllUntil;\n",
    "\n",
    "\n"
   ]
  },
  {
   "cell_type": "markdown",
   "metadata": {},
   "source": [
    "click spa link?\n"
   ]
  },
  {
   "cell_type": "code",
   "execution_count": null,
   "metadata": {
    "collapsed": true
   },
   "outputs": [],
   "source": [
    "function clickSpa(client, profile) {\n",
    "    return client\n",
    "        .getUrl()\n",
    "        .then(url => url.indexOf(profile) > -1\n",
    "              ? []\n",
    "              : client\n",
    "             .execute(url => {\n",
    "                var a = document.createElement('a');\n",
    "                a.setAttribute('href', url);\n",
    "                a.setAttribute('class', 'spa');\n",
    "                a.onclick = () => setTimeout(() => document.body.removeChild(a), 500)\n",
    "                a.href = url;\n",
    "                a.style.position = 'absolute';\n",
    "                a.style.zIndex = 4294967295;\n",
    "                a.style.top = 0;\n",
    "                a.style.left = 0;\n",
    "                a.style.bottom = 0;\n",
    "                a.style.right = 0;\n",
    "                document.body.appendChild(a);\n",
    "            }, profile)\n",
    "        .click('a.spa[href*=\"' + profile + '\"]')\n",
    "        .pause(1000))\n",
    "        .catch(e => console.log(e))\n",
    "};\n",
    "\n",
    "module.exports = clickSpa;\n"
   ]
  },
  {
   "cell_type": "markdown",
   "metadata": {},
   "source": [
    "Find the element rect dimensions that match this OCR detection of text content on page:\n",
    "\n",
    "https://www.mathworks.com/help/vision/examples/automatically-detect-and-recognize-text-in-natural-images.html?s_tid=gn_loc_drop\n",
    "\n"
   ]
  },
  {
   "cell_type": "code",
   "execution_count": null,
   "metadata": {
    "collapsed": true
   },
   "outputs": [],
   "source": [
    "\n",
    "\n"
   ]
  }
 ],
 "metadata": {
  "kernelspec": {
   "display_name": "Javascript (Node.js)",
   "language": "javascript",
   "name": "javascript"
  },
  "language_info": {
   "file_extension": ".js",
   "mimetype": "application/javascript",
   "name": "javascript",
   "version": "12.7.0"
  }
 },
 "nbformat": 4,
 "nbformat_minor": 2
}
