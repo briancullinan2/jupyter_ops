{
 "cells": [
  {
   "cell_type": "markdown",
   "metadata": {},
   "source": [
    "# LinkedIn\n"
   ]
  },
  {
   "cell_type": "markdown",
   "metadata": {
    "vscode": {
     "languageId": "javascript"
    }
   },
   "source": [
    "\n",
    "## Auth\n"
   ]
  },
  {
   "cell_type": "markdown",
   "metadata": {},
   "source": [
    "### Login\n"
   ]
  },
  {
   "cell_type": "markdown",
   "metadata": {},
   "source": [
    "#### the code\n",
    "\n",
    "login linkedin?\n"
   ]
  },
  {
   "cell_type": "code",
   "execution_count": null,
   "metadata": {
    "vscode": {
     "languageId": "javascript"
    }
   },
   "outputs": [],
   "source": [
    "\n",
    "const getClient = importer.import('selenium client')\n",
    "const { Builder, Browser, By, Key, until } = require('selenium-webdriver')\n",
    "\n",
    "const PROFILE_PATH = process.env.HOME || process.env.HOMEPATH || process.env.USERPROFILE;\n",
    "const PASSWORDS_FILE = path.join(PROFILE_PATH, '.credentials', 'brian.json');\n",
    "\n",
    "async function enterLinkedIn(driver) {\n",
    "  console.log('LinkedIn: Sign in required');\n",
    "\n",
    "  var credentials = require(PASSWORDS_FILE)\n",
    "\n",
    "  let loginButton = await driver.findElement(By.css('a[href*=\"/login\"]'))\n",
    "  if(!loginButton.error) {\n",
    "    try {\n",
    "      await loginButton.click()\n",
    "    } catch (e) {}\n",
    "    await new Promise(resolve => setTimeout(resolve, 2000))\n",
    "  }\n",
    "\n",
    "  //let body = await driver.findElement(By.css('body'))\n",
    "  await driver.wait(until.elementLocated(By.css('.login-form, [type=\"submit\"]')), 10000);\n",
    "  let submit = await driver.findElement(By.css('.login-form, [type=\"submit\"]'))\n",
    "\n",
    "  let login = await driver.findElement(By.css('input[name*=\"session_key\"]'))\n",
    "  \n",
    "  await driver.executeScript('arguments[0].click();', login)\n",
    "  await driver.actions().sendKeys(credentials.username).perform()\n",
    "\n",
    "  await new Promise(resolve => setTimeout(resolve, 1000))\n",
    "\n",
    "  //await pass.sendKeys(credentials.username)\n",
    "  //await driver.executeScript('arguments[0].value=\"' + credentials.username + '\";', login)\n",
    "  \n",
    "  console.log('LinkedIn: Require password')\n",
    "\n",
    "  let pass = await driver.findElement(By.css('input[name*=\"session_password\"]'))\n",
    "  await pass.click()\n",
    "  await pass.sendKeys(credentials.password)\n",
    "\n",
    "  await submit.click()\n",
    "\n",
    "  await new Promise(resolve => setTimeout(resolve, 3000))\n",
    "\n",
    "  let loginStill, loginStill2\n",
    "  try {\n",
    "    loginStill = await driver.findElement(By.css('#captcha-internal'))\n",
    "  } catch (e) {}\n",
    "  try {\n",
    "    loginStill2 = await driver.findElement(By.css('input[name*=\"session_password\"]'))\n",
    "  } catch (e) {}\n",
    "  if(loginStill || loginStill2) {\n",
    "    throw new Error('captcha')\n",
    "  }\n",
    "}\n",
    "\n",
    "async function loginLinkedIn(driver) {\n",
    "  if(!driver) {\n",
    "    driver = await getClient();\n",
    "  }\n",
    "\n",
    "  try {\n",
    "    let url = await driver.getCurrentUrl()\n",
    "    let loggedIn = url.indexOf('linkedin') > -1 && url.indexOf('login') == -1\n",
    "                && url.indexOf('authwall') == -1\n",
    "\n",
    "    if(loggedIn) {\n",
    "      if(await driver.findElement(By.xpath('iframe.authentication-iframe'))) {\n",
    "        await driver.frame((await driver.element('iframe.authentication-iframe')).value)\n",
    "        await enterLinkedIn()\n",
    "        await frame()\n",
    "      }\n",
    "    } else {\n",
    "      //await driver.executeScript('window.location=\"https://www.linkedin.com/\"', [])\n",
    "      //await driver.url('https://www.linkedin.com/')\n",
    "      await driver.get('https://www.linkedin.com/')\n",
    "      let loginLink, loginLink2\n",
    "      try {\n",
    "        loginLink = await driver.findElement(By.xpath('//a[text()[contains(.,\"Forgot password?\")]]'))\n",
    "      } catch (e) {}\n",
    "      try {\n",
    "        loginLink2 = await driver.findElement(By.xpath('//a[text()[contains(.,\"Join now\")]]'))\n",
    "      } catch (e) {}\n",
    "\n",
    "      if(loginLink || loginLink2) {\n",
    "        await enterLinkedIn(driver)\n",
    "      }\n",
    "    }\n",
    "  } catch (e) {\n",
    "    driver.quit()\n",
    "\n",
    "    throw e\n",
    "  }\n",
    "\n",
    "  return driver\n",
    "}\n",
    "\n",
    "module.exports = loginLinkedIn\n"
   ]
  },
  {
   "cell_type": "markdown",
   "metadata": {},
   "source": [
    "\n",
    "## Connections\n"
   ]
  },
  {
   "cell_type": "markdown",
   "metadata": {},
   "source": [
    "\n",
    "### List Connections\n"
   ]
  },
  {
   "cell_type": "markdown",
   "metadata": {},
   "source": [
    "#### the code "
   ]
  },
  {
   "cell_type": "code",
   "execution_count": null,
   "metadata": {
    "vscode": {
     "languageId": "javascript"
    }
   },
   "outputs": [],
   "source": [
    "const fs = require('fs')\n",
    "const getClient = importer.import('selenium client')\n",
    "const getAllUntil = importer.import('all elements until')\n",
    "const loginLinkedIn = importer.import('login linkedin')\n",
    "\n",
    "async function listConnections(driver) {\n",
    "  if(!driver) {\n",
    "    driver = await getClient()\n",
    "    await loginLinkedIn(driver)\n",
    "  }\n",
    "\n",
    "  let url = await driver.getCurrentUrl()\n",
    "  let loggedIn = url.indexOf('mynetwork') > -1\n",
    "  if(!loggedIn) {\n",
    "    await driver.get('https://www.linkedin.com/mynetwork/')\n",
    "    await new Promise(resolve => setTimeout(resolve, 4000))\n",
    "  }\n",
    "\n",
    "  let result = await getAllUntil(driver, \n",
    "    false,\n",
    "    '//a[contains(@href, \"/in/\")]/@href',\n",
    "    /* friends */ [],\n",
    "    (a, b) => a === b,\n",
    "    (i) => i < 10\n",
    "  )\n",
    "\n",
    "  return result.filter((l, i, arr) => arr.indexOf(l) === i)\n",
    "}\n",
    "\n",
    "module.exports = listConnections\n"
   ]
  }
 ],
 "metadata": {
  "language_info": {
   "name": "python"
  }
 },
 "nbformat": 4,
 "nbformat_minor": 2
}
