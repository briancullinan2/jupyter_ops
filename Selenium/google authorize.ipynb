{
 "cells": [
  {
   "cell_type": "markdown",
   "metadata": {},
   "source": [
    "How to authenticate to Google APIs?\n",
    "\n"
   ]
  },
  {
   "cell_type": "markdown",
   "metadata": {},
   "source": [
    "How to exchange token for oauth client?\n",
    "\n",
    "google oauth token client?\n"
   ]
  },
  {
   "cell_type": "code",
   "execution_count": 4,
   "metadata": {
    "inputHidden": false,
    "outputHidden": false
   },
   "outputs": [
    {
     "data": {
      "text/plain": [
       "[Function: authorize]"
      ]
     },
     "execution_count": 4,
     "metadata": {},
     "output_type": "execute_result"
    }
   ],
   "source": [
    "var readline = require('readline');\n",
    "var process = require('process');\n",
    "var path = require('path');\n",
    "var fs = require('fs');\n",
    "var util = require('util');\n",
    "var {OAuth2Client} = require('google-auth-library');\n",
    "\n",
    "var importer = require('../Core');\n",
    "//var runSeleniumCell = importer.import('selenium cell');\n",
    "\n",
    "// Load client secrets from a local file.\n",
    "var SCOPES = ['https://www.googleapis.com/auth/calendar.readonly'];\n",
    "var SECRET_PATH, credentials;\n",
    "var TOKEN_DIR = path.join(process.env.HOME || process.env.HOMEPATH || process.env.USERPROFILE || '', '.credentials');\n",
    "\n",
    "try {\n",
    "    SECRET_PATH = path.join(TOKEN_DIR, 'client_secret.json');\n",
    "    credentials = JSON.parse(fs.readFileSync(SECRET_PATH).toString());\n",
    "} catch(e) {\n",
    "    console.log(e);\n",
    "}\n",
    "\n",
    "function storeToken(token, tokenPath) {\n",
    "    fs.writeFileSync(tokenPath, JSON.stringify(token, null, 4));\n",
    "    console.log('Token stored to ' + tokenPath);\n",
    "}\n",
    "\n",
    "function receiveCode(code, oauth2Client, tokenPath) {\n",
    "    return util.promisify(oauth2Client.getToken.bind(oauth2Client))(code)\n",
    "        .then(token => {\n",
    "            console.log('recieved token: ' + token.access_token);\n",
    "            oauth2Client.setCredentials(token);\n",
    "            storeToken(token, tokenPath);\n",
    "            return oauth2Client;\n",
    "        })\n",
    "}\n",
    "\n",
    "async function errorFallback(up, authUrl, oauth2Client, tokenPath) {\n",
    "    if(up.message.includes('ECONNREFUSED')\n",
    "      || up.message.includes('find module')\n",
    "      || up.message.includes('runSeleniumCell is not defined')) {\n",
    "        console.log('can\\'t authenticate with selenium, waiting for user input.');\n",
    "        console.log('Authorize this app by visiting this url:', authUrl);\n",
    "        //if (process.stdout.isTTY) {\n",
    "        //}\n",
    "        var interface = readline.createInterface(process.stdin, process.stdout);\n",
    "        var code = await new Promise(resolve => interface.question(\n",
    "            'Enter the code from that page here: ', resolve))\n",
    "        interface.close();\n",
    "        return receiveCode(code, oauth2Client, tokenPath)\n",
    "    } else {\n",
    "        throw up;\n",
    "    }\n",
    "}\n",
    "\n",
    "async function renewToken(oauth2Client, scopes, tokenPath) {\n",
    "    var authUrl = oauth2Client.generateAuthUrl({\n",
    "        access_type: 'offline',\n",
    "        scope: scopes\n",
    "    })\n",
    "    try {\n",
    "        var {authorizeSelenium} = await runSeleniumCell(['log in Google', 'selenium authorize google access'])\n",
    "        console.log('using selenium to authorize: ' + authUrl)\n",
    "        var code = await authorizeSelenium(authUrl) \n",
    "        return receiveCode(code, oauth2Client, tokenPath)\n",
    "    } catch (up) {\n",
    "        return errorFallback(up, authUrl, oauth2Client, tokenPath)\n",
    "    }\n",
    "}\n",
    "\n",
    "async function authorize(scopes = SCOPES) {\n",
    "    const tokenPath = path.join(TOKEN_DIR, scopes.join('')\n",
    "        .replace(/[^a-z]+/ig, '_') + '.json')\n",
    "    var oauth2Client = new OAuth2Client(\n",
    "        credentials.web.client_id,\n",
    "        credentials.web.client_secret,\n",
    "        credentials.web.redirect_uris[0])\n",
    "\n",
    "    try {\n",
    "        // Check if we have previously stored a token.\n",
    "        oauth2Client.setCredentials(JSON.parse(fs.readFileSync(tokenPath)));\n",
    "        await oauth2Client.getAccessToken()\n",
    "        return oauth2Client\n",
    "    } catch (up) {\n",
    "        // if the token file isn't found start a new auth\n",
    "        if(up.message == 'invalid_token'\n",
    "          || up.code === 'ENOENT') {\n",
    "            return renewToken(oauth2Client, scopes, tokenPath);\n",
    "        } else {\n",
    "            throw up;\n",
    "        }\n",
    "    }\n",
    "}\n",
    "\n",
    "module.exports = authorize;\n"
   ]
  },
  {
   "cell_type": "markdown",
   "metadata": {},
   "source": [
    "How to use selenium to authorize Google access?\n",
    "\n"
   ]
  },
  {
   "cell_type": "code",
   "execution_count": 6,
   "metadata": {
    "inputHidden": false,
    "outputHidden": false
   },
   "outputs": [
    {
     "ename": "ReferenceError",
     "evalue": "client is not defined",
     "output_type": "error",
     "traceback": [
      "ReferenceError: client is not defined",
      "    at evalmachine.<anonymous>:49:12",
      "    at ContextifyScript.Script.runInThisContext (vm.js:23:33)",
      "    at Object.runInThisContext (vm.js:95:38)",
      "    at run ([eval]:617:19)",
      "    at onRunRequest ([eval]:388:22)",
      "    at onMessage ([eval]:356:17)",
      "    at emitTwo (events.js:106:13)",
      "    at process.emit (events.js:194:7)",
      "    at process.nextTick (internal/child_process.js:766:12)",
      "    at _combinedTickCallback (internal/process/next_tick.js:73:7)"
     ]
    }
   ],
   "source": [
    "var loginGoogle = importer.import('log in google');\n",
    "\n",
    "function authorizeSelenium(authUrl) {\n",
    "    return client\n",
    "        .url(authUrl)\n",
    "        .then(() => loginGoogle(client))\n",
    "        .then(() => client.$('#submit_approve_access'))\n",
    "        .then(el => el.waitForDisplayed(3000))\n",
    "        .then(() => client.$('#submit_approve_access'))\n",
    "        .then(el => el.moveTo())\n",
    "        .then(() => client.$('#submit_approve_access content'))\n",
    "        .then(el => el.waitForDisplayed(3000))\n",
    "        .then(() => client.$('#submit_approve_access content'))\n",
    "        .then(el => el.click())\n",
    "        .then(() => client.$('textarea'))\n",
    "        .then(el => el.waitForDisplayed(4000).then(() => el.getValue()))\n",
    "};\n",
    "\n",
    "module.exports = authorizeSelenium;\n"
   ]
  },
  {
   "cell_type": "code",
   "execution_count": 11,
   "metadata": {},
   "outputs": [
    {
     "data": {
      "text/plain": [
       "'{\"access_token\":\"ya29.GlsCB84KBjXZUV9jPaoIhsz5HJDY1iTYU759khvyfPTZBhWIYiEPAhAfZj9WFZpqT3CmJW048vhD6IY7PeGZyDdZSMp6gnuuj_IEgdLwrPreWtPcBIoja9aoVQYa\",\"refresh_token\":\"1/jWT3jd7TP3Nr7c8_ggew4ZU85_YOeNsOKOaIYl_Miu4\",\"scope\":\"https://www.googleapis.com/auth/calendar\",\"token_type\":\"Bearer\",\"expiry_date\":1557191028718}'"
      ]
     },
     "execution_count": 11,
     "metadata": {},
     "output_type": "execute_result"
    }
   ],
   "source": [
    "var util = require('util');\n",
    "var {OAuth2Client} = require('google-auth-library');\n",
    "var TOKEN_DIR = path.join(process.env.HOME || process.env.HOMEPATH || process.env.USERPROFILE || '', '.credentials');\n",
    "var SECRET_PATH = path.join(TOKEN_DIR, 'client_secret.json');\n",
    "var credentials = JSON.parse(fs.readFileSync(SECRET_PATH).toString());\n",
    "\n",
    "var oauth2Client = new OAuth2Client(\n",
    "    credentials.installed.client_id,\n",
    "    credentials.installed.client_secret,\n",
    "    credentials.installed.redirect_uris[0]);\n",
    "\n",
    "$$.async()\n",
    "util.promisify(oauth2Client.getToken.bind(oauth2Client))\n",
    "('4/QwGy62FM_KlubQwYvKLAu5z1xrT0cF85Zwb_3U7-IHvmm1gJZ-hj0Qo')\n",
    "    .then(r => $$.sendResult(JSON.stringify(r)))\n",
    "    .catch(e => $$.sendError(e))\n",
    "\n"
   ]
  },
  {
   "cell_type": "code",
   "execution_count": null,
   "metadata": {},
   "outputs": [],
   "source": []
  }
 ],
 "metadata": {
  "kernel_info": {
   "name": "node_nteract"
  },
  "kernelspec": {
   "display_name": "Javascript (Node.js)",
   "language": "javascript",
   "name": "javascript"
  },
  "language_info": {
   "file_extension": ".js",
   "mimetype": "application/javascript",
   "name": "javascript",
   "version": "12.7.0"
  }
 },
 "nbformat": 4,
 "nbformat_minor": 4
}
