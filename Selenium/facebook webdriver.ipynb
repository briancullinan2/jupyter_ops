{
 "cells": [
  {
   "cell_type": "markdown",
   "metadata": {
    "vscode": {
     "languageId": "plaintext"
    }
   },
   "source": [
    "\n",
    "# Facebook\n",
    "\n",
    "Collects information from Facebook using Selenium Webdriver.\n",
    "\n",
    "## General Functions\n"
   ]
  },
  {
   "cell_type": "markdown",
   "metadata": {},
   "source": [
    "\n",
    "### Login\n",
    "\n",
    "Login to facebook by selecting and filling specific elements on the page.\n"
   ]
  },
  {
   "cell_type": "markdown",
   "metadata": {},
   "source": [
    "\n",
    "#### the code\n",
    "\n",
    "facebook login?\n",
    "\n",
    "TODO: generalize this for multi-login code\n",
    "\n"
   ]
  },
  {
   "cell_type": "code",
   "execution_count": null,
   "metadata": {
    "vscode": {
     "languageId": "javascript"
    }
   },
   "outputs": [],
   "source": [
    "\n",
    "const getClient = importer.import('selenium client')\n",
    "const { Builder, Browser, By, Key, until } = require('selenium-webdriver')\n",
    "\n",
    "const PROFILE_PATH = process.env.HOME || process.env.HOMEPATH || process.env.USERPROFILE;\n",
    "const PASSWORDS_FILE = path.join(PROFILE_PATH, '.credentials', 'brian.json');\n",
    "\n",
    "async function enterFacebook(driver) {\n",
    "  console.log('Facebook: Sign in required');\n",
    "\n",
    "  var credentials = require(PASSWORDS_FILE)\n",
    "\n",
    "  //let body = await driver.findElement(By.css('body'))\n",
    "  await driver.wait(until.elementLocated(By.css('.login-form, [type=\"submit\"]')), 10000);\n",
    "  let submit = await driver.findElement(By.css('.login-form, [type=\"submit\"]'))\n",
    "\n",
    "  let login = await driver.findElement(By.css('input[name*=\"email\"]'))\n",
    "  \n",
    "  await driver.executeScript('arguments[0].click();', login)\n",
    "  await driver.actions().sendKeys(credentials.username).perform()\n",
    "\n",
    "  await new Promise(resolve => setTimeout(resolve, 1000))\n",
    "\n",
    "  //await pass.sendKeys(credentials.username)\n",
    "  //await driver.executeScript('arguments[0].value=\"' + credentials.username + '\";', login)\n",
    "  \n",
    "  console.log('Facebook: Require password')\n",
    "\n",
    "  let pass = await driver.findElement(By.css('input[name*=\"pass\"]'))\n",
    "  await pass.click()\n",
    "  await pass.sendKeys(credentials.password)\n",
    "\n",
    "  await submit.click()\n",
    "\n",
    "  await new Promise(resolve => setTimeout(resolve, 3000))\n",
    "\n",
    "  let loginStill, loginStill2\n",
    "  try {\n",
    "    loginStill = await driver.findElement(By.css('#captcha-internal'))\n",
    "  } catch (e) {}\n",
    "  try {\n",
    "    loginStill2 = await driver.findElement(By.css('input[name*=\"session_password\"]'))\n",
    "  } catch (e) {}\n",
    "\n",
    "  await new Promise(resolve => setTimeout(resolve, 4000))\n",
    "\n",
    "  if(loginStill || loginStill2) {\n",
    "    throw new Error('captcha')\n",
    "  }\n",
    "}\n",
    "\n",
    "async function loginFacebook(driver) {\n",
    "  if(!driver) {\n",
    "    driver = await getClient();\n",
    "  }\n",
    "\n",
    "  try {\n",
    "    let url = await driver.getCurrentUrl()\n",
    "    let loggedIn = url.indexOf('facebook') > -1 && url.indexOf('login') == -1\n",
    "\n",
    "    if(loggedIn) {\n",
    "      if(await driver.findElement(By.xpath('iframe.authentication-iframe'))) {\n",
    "        await driver.frame((await driver.element('iframe.authentication-iframe')).value)\n",
    "        await enterFacebook()\n",
    "        await frame()\n",
    "      }\n",
    "    } else {\n",
    "      await driver.get('https://www.facebook.com/')\n",
    "      let loginLink, loginLink2\n",
    "      try {\n",
    "        loginLink = await driver.findElement(By.xpath('//a[text()[contains(.,\"Forgot password?\")]]'))\n",
    "      } catch (e) {}\n",
    "      try {\n",
    "        loginLink2 = await driver.findElement(By.xpath('//a[text()[contains(.,\"Create new account\")]]'))\n",
    "      } catch (e) {}\n",
    "      if(loginLink || loginLink2) {\n",
    "        await enterFacebook(driver)\n",
    "      }\n",
    "    }\n",
    "  } catch (e) {\n",
    "    driver.quit() // avoid leaving sessions hanging around\n",
    "\n",
    "    throw e\n",
    "  }\n",
    "\n",
    "  return driver\n",
    "}\n",
    "\n",
    "module.exports = loginFacebook\n"
   ]
  },
  {
   "cell_type": "markdown",
   "metadata": {},
   "source": [
    "\n",
    "### List Friends\n"
   ]
  },
  {
   "cell_type": "markdown",
   "metadata": {},
   "source": [
    "\n",
    "#### the code\n",
    "\n",
    "list friends?\n"
   ]
  },
  {
   "cell_type": "code",
   "execution_count": null,
   "metadata": {
    "vscode": {
     "languageId": "javascript"
    }
   },
   "outputs": [],
   "source": [
    "\n",
    "//const fs = require('fs')\n",
    "const getClient = importer.import('selenium client')\n",
    "const getAllUntil = importer.import('all elements until')\n",
    "const loginFacebook = importer.import('facebook login')\n",
    "//const {FACEBOOK_PATH} = require('./config.js')\n",
    "const selectDom = importer.import('selenium select')\n",
    "\n",
    "async function listFriends(driver) {\n",
    "  if (!driver) {\n",
    "    driver = await getClient()\n",
    "    await loginFacebook(driver)\n",
    "  }\n",
    "\n",
    "  try {\n",
    "    let url = await driver.getCurrentUrl()\n",
    "    let alreadyThere = url.indexOf('facebook') && url.indexOf('suggestions') > -1\n",
    "    if (!alreadyThere) {\n",
    "      await driver.get('https://www.facebook.com/friends/suggestions')\n",
    "      await new Promise(resolve => setTimeout(resolve, 4000))\n",
    "    }\n",
    "\n",
    "    let result = await getAllUntil(selectDom, driver,\n",
    "      '//div[@aria-label=\"Suggestions\"]/div/div[2]',\n",
    "      '//div[@aria-label=\"Suggestions\"]//a[@role=\"link\"]/@href',\n",
    "      /* friends */[],\n",
    "      (a, b) => a === b,\n",
    "      (i) => i < 10\n",
    "    )\n",
    "\n",
    "    //fs.writeFileSync(\n",
    "    //  FACEBOOK_PATH + '/friends.json',\n",
    "    //  JSON.stringify(result, null, 4));\n",
    "\n",
    "    return result.filter((l, i, arr) => arr.indexOf(l) === i)\n",
    "  } catch (e) {\n",
    "    //driver.quit() // avoid leaving sessions hanging around\n",
    "\n",
    "    throw e\n",
    "  }\n",
    "}\n",
    "\n",
    "module.exports = listFriends\n"
   ]
  }
 ],
 "metadata": {
  "language_info": {
   "name": "python"
  }
 },
 "nbformat": 4,
 "nbformat_minor": 2
}
