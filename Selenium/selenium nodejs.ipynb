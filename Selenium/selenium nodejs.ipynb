{
 "cells": [
  {
   "cell_type": "markdown",
   "metadata": {},
   "source": [
    "# Selenium Basics in Node.js + Docker\n",
    "\n",
    "This notebook shows how to:\n",
    "- Use Selenium from a Node.js script\n",
    "- Launch Chrome inside Docker\n",
    "- Scrape web data using Selenium and Node\n",
    "- Save results to local JSON or CSV files"
   ]
  },
  {
   "cell_type": "code",
   "execution_count": null,
   "metadata": {
    "vscode": {
     "languageId": "shellscript"
    }
   },
   "outputs": [],
   "source": [
    "\n",
    "npm install selenium-webdriver fs\n"
   ]
  },
  {
   "cell_type": "markdown",
   "metadata": {},
   "source": [
    "## Open Google and print title"
   ]
  },
  {
   "cell_type": "code",
   "execution_count": null,
   "metadata": {},
   "outputs": [],
   "source": [
    "// file: open_google.js\n",
    "const { Builder } = require('selenium-webdriver');\n",
    "\n",
    "(async function openGoogle() {\n",
    "  const driver = await new Builder().forBrowser('chrome').build();\n",
    "  try {\n",
    "    await driver.get('https://www.google.com');\n",
    "    const title = await driver.getTitle();\n",
    "    console.log('Page title:', title);\n",
    "  } finally {\n",
    "    await driver.quit();\n",
    "  }\n",
    "})();"
   ]
  },
  {
   "cell_type": "markdown",
   "metadata": {},
   "source": [
    "## Scrape RemoteOK Python Jobs"
   ]
  },
  {
   "cell_type": "code",
   "execution_count": null,
   "metadata": {},
   "outputs": [],
   "source": [
    "// file: scrape_jobs.js\n",
    "const { Builder, By } = require('selenium-webdriver');\n",
    "const fs = require('fs');\n",
    "\n",
    "(async function scrapeJobs() {\n",
    "  const driver = await new Builder().forBrowser('chrome').build();\n",
    "  try {\n",
    "    await driver.get('https://remoteok.com/remote-dev+python-jobs');\n",
    "    const jobs = await driver.findElements(By.css('tr.job'));\n",
    "\n",
    "    const results = [];\n",
    "    for (let job of jobs) {\n",
    "      try {\n",
    "        const title = await job.findElement(By.css('td.position h2')).getText();\n",
    "        const company = await job.findElement(By.css('td.company h3')).getText();\n",
    "        results.push({ title, company });\n",
    "      } catch (err) {\n",
    "        continue; // skip broken entries\n",
    "      }\n",
    "    }\n",
    "\n",
    "    fs.writeFileSync('python_jobs.json', JSON.stringify(results, null, 2));\n",
    "    console.log('Scraped jobs:', results.slice(0, 5));\n",
    "  } finally {\n",
    "    await driver.quit();\n",
    "  }\n",
    "})();"
   ]
  },
  {
   "cell_type": "markdown",
   "metadata": {},
   "source": [
    "## Screenshot Example"
   ]
  },
  {
   "cell_type": "code",
   "execution_count": null,
   "metadata": {},
   "outputs": [],
   "source": [
    "// file: screenshot.js\n",
    "const { Builder } = require('selenium-webdriver');\n",
    "const fs = require('fs');\n",
    "\n",
    "(async function takeScreenshot() {\n",
    "  const driver = await new Builder().forBrowser('chrome').build();\n",
    "  try {\n",
    "    await driver.get('https://example.com');\n",
    "    const screenshot = await driver.takeScreenshot();\n",
    "    fs.writeFileSync('example.png', screenshot, 'base64');\n",
    "    console.log('Screenshot saved.');\n",
    "  } finally {\n",
    "    await driver.quit();\n",
    "  }\n",
    "})();"
   ]
  }
 ],
 "metadata": {
  "kernelspec": {
   "display_name": "JavaScript (Node.js)",
   "language": "javascript",
   "name": "javascript"
  },
  "language_info": {
   "name": "javascript"
  }
 },
 "nbformat": 4,
 "nbformat_minor": 2
}
