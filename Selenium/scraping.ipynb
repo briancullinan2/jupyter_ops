{
 "cells": [
  {
   "cell_type": "markdown",
   "metadata": {
    "vscode": {
     "languageId": "javascript"
    }
   },
   "source": [
    "# Scraping Tools\n"
   ]
  },
  {
   "cell_type": "markdown",
   "metadata": {},
   "source": [
    "\n",
    "## Reddit\n",
    "\n",
    "Because whether i like it or not it is an information authority.\n",
    "\n"
   ]
  },
  {
   "cell_type": "markdown",
   "metadata": {},
   "source": [
    "\n",
    "### Scrape Links\n"
   ]
  },
  {
   "cell_type": "markdown",
   "metadata": {},
   "source": [
    "\n",
    "#### the code\n",
    "\n",
    "reddit scraper?\n",
    "\n",
    "TODO: go to reddit and download links and articles from every page in a list.\n"
   ]
  },
  {
   "cell_type": "code",
   "execution_count": null,
   "metadata": {
    "vscode": {
     "languageId": "javascript"
    }
   },
   "outputs": [],
   "source": [
    "const selectDom = importer.import('selenium select')\n",
    "const getClient = importer.import('selenium client')\n",
    "\n",
    "async function redditLinks(driver, startPage) {\n",
    "  if(!startPage.includes('://')) {\n",
    "    startPage = 'https://www.reddit.com/r/' + startPage\n",
    "  }\n",
    "\n",
    "  if(!driver) {\n",
    "    driver = await getClient()\n",
    "  }\n",
    "\n",
    "  try {\n",
    "    await driver.get(startPage)\n",
    "\n",
    "    await new Promise(resolve => setTimeout(resolve, 1000))\n",
    "\n",
    "    let links = await selectDom(driver, ['//div[contains(@role, \"main\")]//div[contains(@class, \"link\") and not(contains(@class, \"linklisting\")) and not(contains(@class, \"promoted\"))]'])\n",
    "\n",
    "    // TODO: get some special links, get comment count, titles, finally next page\n",
    "    let results = []\n",
    "    for(let i = 0; i < links.length; i++) {\n",
    "      let result = await selectDom(driver, {\n",
    "        title: './/a[contains(@class, \"title\")]/text()',\n",
    "        link: './/a[contains(@class, \"title\")]/@href',\n",
    "        time: './/time/@datetime',\n",
    "        comment: './/a[contains(@class, \"comments\")]/text()',\n",
    "      }, links[i])\n",
    "      results.push(result)\n",
    "    }\n",
    "\n",
    "    let next = await selectDom(driver, '//a[contains(@rel, \"next\")]/@href')\n",
    "\n",
    "    let objectArray = results.map(r => ({\n",
    "      title: r.title,\n",
    "      time: new Date(r.time),\n",
    "      link: r.link,\n",
    "      comment: r.comment\n",
    "    }))\n",
    "    objectArray.next = next\n",
    "    return objectArray\n",
    "  } catch (e) {\n",
    "    driver.quit()\n",
    "\n",
    "    throw e\n",
    "  }\n",
    "}\n",
    "\n",
    "module.exports = redditLinks\n"
   ]
  },
  {
   "cell_type": "markdown",
   "metadata": {},
   "source": [
    "#### test scraper\n",
    "\n",
    "test reddit scraper?"
   ]
  },
  {
   "cell_type": "code",
   "execution_count": null,
   "metadata": {
    "vscode": {
     "languageId": "javascript"
    }
   },
   "outputs": [],
   "source": [
    "const redditLinks = importer.import('reddit scraper')\n",
    "const getClient = importer.import('selenium client')\n",
    "\n",
    "async function testScraper(startPage = 'https://www.reddit.com/r/CollapseSupport+climatechange+collapse+economicCollapse/') {\n",
    "  if(!startPage.includes('://')) {\n",
    "    startPage = 'https://www.reddit.com/r/' + startPage\n",
    "  }\n",
    "\n",
    "  driver = await getClient()\n",
    "\n",
    "  let result = await redditLinks(driver, startPage)\n",
    "\n",
    "  driver.quit()\n",
    "\n",
    "  return result\n",
    "}\n",
    "\n",
    "\n",
    "module.exports = testScraper\n",
    "\n"
   ]
  },
  {
   "cell_type": "markdown",
   "metadata": {},
   "source": [
    "### Week/Month Extractor\n",
    "\n",
    "Extract and entire week/month of links, go to the next page until the articles are older than 1 week/month.\n"
   ]
  },
  {
   "cell_type": "markdown",
   "metadata": {},
   "source": [
    "\n",
    "#### the code\n",
    "\n",
    "reddit month of links?\n",
    "\n"
   ]
  },
  {
   "cell_type": "code",
   "execution_count": null,
   "metadata": {
    "vscode": {
     "languageId": "javascript"
    }
   },
   "outputs": [],
   "source": [
    "\n",
    "const redditLinks = importer.import('reddit scraper')\n",
    "const getClient = importer.import('selenium client')\n",
    "\n",
    "async function redditList(driver, startPage, timeSpan = 'week') {\n",
    "  if(!startPage) {\n",
    "    startPage = 'https://www.reddit.com/r/CollapseSupport+climatechange+collapse+economicCollapse/'\n",
    "  }\n",
    "\n",
    "  if(!startPage.includes('://')) {\n",
    "    startPage = 'https://www.reddit.com/r/' + startPage\n",
    "  }\n",
    "\n",
    "  if(!driver)\n",
    "    driver = await getClient()\n",
    "\n",
    "  try {\n",
    "\n",
    "    let safety = 20\n",
    "\n",
    "    let weekAgo = new Date(Date.now() - 1000 * 60 * 60 * 24 * 7)\n",
    "    let monthAgo = new Date(Date.now() - 1000 * 60 * 60 * 24 * 7 * 4.2)\n",
    "\n",
    "    let finalResult = []\n",
    "\n",
    "    let beforeTimeSpan = 0\n",
    "    let shouldLoop = false\n",
    "    do {\n",
    "\n",
    "      console.log(startPage)\n",
    "\n",
    "      let result = await redditLinks(driver, startPage)\n",
    "\n",
    "      finalResult = finalResult.concat(result)\n",
    "\n",
    "      startPage = result.next\n",
    "\n",
    "      // not yet includes any articles over a month ago\n",
    "      beforeTimeSpan = result.filter(r => timeSpan == 'month' \n",
    "        ? r.time < monthAgo : r.time < weekAgo).length\n",
    "\n",
    "      safety--\n",
    "\n",
    "      shouldLoop = result.next && beforeTimeSpan == 0 && safety > 0\n",
    "\n",
    "      if(shouldLoop) {\n",
    "        await new Promise(resolve => setTimeout(resolve, 1000))\n",
    "      }\n",
    "\n",
    "    } while(shouldLoop)\n",
    "\n",
    "    return finalResult;\n",
    "\n",
    "  } catch (e) {\n",
    "    driver.quit()\n",
    "\n",
    "    throw e\n",
    "  }\n",
    "}\n",
    "\n",
    "\n",
    "module.exports = redditList\n",
    "\n",
    "\n"
   ]
  },
  {
   "cell_type": "markdown",
   "metadata": {},
   "source": [
    "\n",
    "### Type of Article\n"
   ]
  },
  {
   "cell_type": "markdown",
   "metadata": {},
   "source": [
    "\n",
    "#### the code\n",
    "\n",
    "reddit article type?\n"
   ]
  },
  {
   "cell_type": "code",
   "execution_count": null,
   "metadata": {
    "vscode": {
     "languageId": "javascript"
    }
   },
   "outputs": [],
   "source": [
    "\n",
    "\n",
    "\n"
   ]
  },
  {
   "cell_type": "markdown",
   "metadata": {},
   "source": [
    "\n",
    "### Weekly Summarizer\n",
    "\n"
   ]
  },
  {
   "cell_type": "markdown",
   "metadata": {},
   "source": [
    "#### the code\n",
    "\n",
    "reddit weekly?\n"
   ]
  },
  {
   "cell_type": "code",
   "execution_count": null,
   "metadata": {
    "vscode": {
     "languageId": "javascript"
    }
   },
   "outputs": [],
   "source": [
    "\n",
    "// TODO: connect reddit article extractor with weekly summarizer below.\n",
    "\n",
    "\n"
   ]
  },
  {
   "cell_type": "markdown",
   "metadata": {},
   "source": [
    "\n",
    "## LLM Tools\n",
    "\n"
   ]
  },
  {
   "cell_type": "markdown",
   "metadata": {},
   "source": [
    "\n",
    "### Article Extract\n"
   ]
  },
  {
   "cell_type": "markdown",
   "metadata": {},
   "source": [
    "\n",
    "#### the code\n",
    "\n",
    "llm article?\n"
   ]
  },
  {
   "cell_type": "code",
   "execution_count": null,
   "metadata": {
    "vscode": {
     "languageId": "javascript"
    }
   },
   "outputs": [],
   "source": [
    "\n",
    "// TODO: help me extract this article from html, only return the article in plain text and remove the html:\n",
    "\n",
    "\n"
   ]
  },
  {
   "cell_type": "markdown",
   "metadata": {},
   "source": [
    "\n",
    "test article extract?\n"
   ]
  },
  {
   "cell_type": "code",
   "execution_count": null,
   "metadata": {
    "vscode": {
     "languageId": "javascript"
    }
   },
   "outputs": [],
   "source": [
    "\n",
    "\n",
    "\n"
   ]
  },
  {
   "cell_type": "markdown",
   "metadata": {},
   "source": [
    "\n",
    "### Summarizer\n"
   ]
  },
  {
   "cell_type": "markdown",
   "metadata": {},
   "source": [
    "\n",
    "#### the code\n",
    "\n"
   ]
  },
  {
   "cell_type": "code",
   "execution_count": null,
   "metadata": {
    "vscode": {
     "languageId": "javascript"
    }
   },
   "outputs": [],
   "source": [
    "\n",
    "\n",
    "// TODO: prompt llm, in one sentence summarize this article. in a whole paragraph summarize this article.\n",
    "\n"
   ]
  },
  {
   "cell_type": "markdown",
   "metadata": {},
   "source": [
    "\n",
    "test article summarizer?\n",
    "\n"
   ]
  },
  {
   "cell_type": "code",
   "execution_count": null,
   "metadata": {
    "vscode": {
     "languageId": "javascript"
    }
   },
   "outputs": [],
   "source": [
    "\n",
    "\n",
    "\n"
   ]
  },
  {
   "cell_type": "markdown",
   "metadata": {},
   "source": [
    "\n",
    "### Summarize All\n"
   ]
  },
  {
   "cell_type": "markdown",
   "metadata": {},
   "source": [
    "\n",
    "#### the code\n",
    "\n",
    "summarize all articles?\n",
    "\n"
   ]
  },
  {
   "cell_type": "code",
   "execution_count": null,
   "metadata": {
    "vscode": {
     "languageId": "javascript"
    }
   },
   "outputs": [],
   "source": [
    "\n",
    "\n",
    "\n"
   ]
  }
 ],
 "metadata": {
  "language_info": {
   "name": "python"
  }
 },
 "nbformat": 4,
 "nbformat_minor": 2
}
