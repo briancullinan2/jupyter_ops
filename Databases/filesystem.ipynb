{
 "cells": [
  {
   "cell_type": "markdown",
   "metadata": {},
   "source": [
    "\n",
    "# filesystem\n",
    "\n",
    "a notebook full of filesystem utilities\n"
   ]
  },
  {
   "cell_type": "markdown",
   "metadata": {},
   "source": [
    "\n",
    "\n",
    "## organize downloads\n",
    "\n"
   ]
  },
  {
   "cell_type": "markdown",
   "metadata": {},
   "source": [
    "\n",
    "### organize downloads?\n",
    "\n",
    "organize downloads folder using AI?\n"
   ]
  },
  {
   "cell_type": "code",
   "execution_count": null,
   "metadata": {
    "vscode": {
     "languageId": "javascript"
    }
   },
   "outputs": [],
   "source": [
    "\n",
    "//let promptModel = await selectModel(process.env.DEFAULT_MODEL || 'Default')\n",
    "\n",
    "\n",
    "\n",
    "\n"
   ]
  },
  {
   "cell_type": "markdown",
   "metadata": {},
   "source": [
    "\n",
    "categorize home directory?\n"
   ]
  },
  {
   "cell_type": "code",
   "execution_count": null,
   "metadata": {
    "vscode": {
     "languageId": "javascript"
    }
   },
   "outputs": [],
   "source": [
    "const path = require('path')\n",
    "const fs = require('fs')\n",
    "const selectModel = importer.import('select llm')\n",
    "\n",
    "const PROJECT_PATH = path.join(path.dirname(__dirname), '.categories.json')\n",
    "const PROFILE_HOME = path.resolve(process.env.HOME || process.env.HOMEPATH || process.env.USERPROFILE)\n",
    "\n",
    "let existingCategories = []\n",
    "let mtime = ''\n",
    "if (fs.existsSync(PROJECT_PATH)) {\n",
    "  existingCategories = JSON.parse(fs.readFileSync(PROJECT_PATH))\n",
    "  mtime = fs.statSync(PROJECT_PATH).mtime.toISOString()\n",
    "}\n",
    "\n",
    "async function categorizeHome() {\n",
    "  let promptModel = await selectModel(process.env.DEFAULT_MODEL || 'Gemma')\n",
    "\n",
    "  let basepath = PROFILE_HOME\n",
    "\n",
    "  let projects = fs.readdirSync(basepath)\n",
    "    .filter(dir => dir[0] != '.'\n",
    "      && fs.statSync(path.join(basepath, dir)).isDirectory()\n",
    "      && fs.existsSync(path.join(basepath, dir, '.git'))\n",
    "      && fs.statSync(path.join(basepath, dir, '.git')).isDirectory()\n",
    "      && !dir.includes('porn'))\n",
    "\n",
    "  let q1 = 'Here\\'s a list of existing projects and modified times:\\n'\n",
    "    + projects.map(dir => dir + ' - ' + fs.statSync(path.join(basepath, dir)).mtime.toISOString()).join('\\n')\n",
    "    + (existingCategories.length == 0 ? '' : ('\\nHere is the list of existing categories modified on '\n",
    "      + mtime + ' :\\n' + existingCategories.join('\\n')))\n",
    "    + '\\nPlease make an awesome list of categories, keep the category name simple, like one or two words.'\n",
    "    + '\\nAdd any new categories that seem necessary to accomodate any new projects.'\n",
    "    + '\\nOnly respond with the flat new line delimited list of categories and nothing else.'\n",
    "  console.log('User:', q1)\n",
    "  let a1 = await promptModel(q1)\n",
    "  console.log('AI:', a1)\n",
    "\n",
    "  let categories = a1.trim().split(/\\s*\\n\\s*|,\\s*|\\s*- |\\s*\\*+\\s*/gi)\n",
    "\n",
    "  fs.writeFileSync(PROJECT_PATH, JSON.stringify(existingCategories.concat(categories), null, 4))\n",
    "  // TODO: cache categories\n",
    "  return categories\n",
    "\n",
    "}\n",
    "\n",
    "module.exports = categorizeHome\n",
    "\n"
   ]
  }
 ],
 "metadata": {
  "language_info": {
   "name": "python"
  }
 },
 "nbformat": 4,
 "nbformat_minor": 2
}
