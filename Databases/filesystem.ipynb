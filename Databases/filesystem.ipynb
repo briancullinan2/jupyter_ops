{
 "cells": [
  {
   "cell_type": "markdown",
   "metadata": {},
   "source": [
    "\n",
    "# filesystem\n",
    "\n",
    "a notebook full of filesystem utilities\n"
   ]
  },
  {
   "cell_type": "markdown",
   "metadata": {},
   "source": [
    "\n",
    "\n",
    "## organize downloads\n",
    "\n"
   ]
  },
  {
   "cell_type": "markdown",
   "metadata": {},
   "source": [
    "\n",
    "### organize downloads?\n",
    "\n",
    "organize downloads folder using AI?\n"
   ]
  },
  {
   "cell_type": "code",
   "execution_count": null,
   "metadata": {
    "vscode": {
     "languageId": "javascript"
    }
   },
   "outputs": [],
   "source": [
    "\n",
    "//let promptModel = await selectModel(process.env.DEFAULT_MODEL || 'Default')\n",
    "\n",
    "\n",
    "\n",
    "\n"
   ]
  },
  {
   "cell_type": "markdown",
   "metadata": {},
   "source": [
    "\n",
    "categorize home directory?\n"
   ]
  },
  {
   "cell_type": "code",
   "execution_count": null,
   "metadata": {
    "vscode": {
     "languageId": "javascript"
    }
   },
   "outputs": [],
   "source": [
    "const path = require('path')\n",
    "const fs = require('fs')\n",
    "const selectModel = importer.import('select llm')\n",
    "\n",
    "const PROJECT_PATH = path.join(path.dirname(__dirname), '.categories.json')\n",
    "const PROFILE_HOME = path.resolve(process.env.HOME || process.env.HOMEPATH || process.env.USERPROFILE)\n",
    "\n",
    "let existingCategories = []\n",
    "let mtime = ''\n",
    "if (fs.existsSync(PROJECT_PATH)) {\n",
    "  existingCategories = JSON.parse(fs.readFileSync(PROJECT_PATH))\n",
    "  mtime = fs.statSync(PROJECT_PATH).mtime.toISOString()\n",
    "}\n",
    "\n",
    "async function categorizeHome() {\n",
    "  let promptModel = await selectModel(process.env.DEFAULT_MODEL || 'Gemma')\n",
    "\n",
    "  let basepath = PROFILE_HOME\n",
    "\n",
    "  let projects = fs.readdirSync(basepath)\n",
    "    .filter(dir => dir[0] != '.'\n",
    "      && fs.statSync(path.join(basepath, dir)).isDirectory()\n",
    "      && fs.existsSync(path.join(basepath, dir, '.git'))\n",
    "      && fs.statSync(path.join(basepath, dir, '.git')).isDirectory()\n",
    "      && !dir.includes('porn'))\n",
    "\n",
    "  let q1 = 'Here\\'s a list of existing projects and modified times:\\n'\n",
    "    + projects.map(dir => dir + ' - ' + fs.statSync(path.join(basepath, dir)).mtime.toISOString()).join('\\n')\n",
    "    + (existingCategories.length == 0 ? '' : ('\\nHere is the list of existing categories modified on '\n",
    "      + mtime + ' :\\n' + existingCategories.join('\\n')))\n",
    "    + '\\nPlease make an awesome list of categories, keep the category name simple, like one or two words.'\n",
    "    + '\\nAdd any new categories that seem necessary to accomodate any new projects.'\n",
    "    + '\\nOnly respond with the flat new line delimited list of categories and nothing else.'\n",
    "  console.log('User:', q1)\n",
    "  let a1 = await promptModel(q1)\n",
    "  console.log('AI:', a1)\n",
    "\n",
    "  let categories = a1.trim().split(/\\s*\\n\\s*|,\\s*|\\s*- |\\s*\\*+\\s*/gi)\n",
    "  let uniqueCategories = existingCategories.concat(categories).filter((a, i, arr) => arr.indexOf(a) === i)\n",
    "\n",
    "  fs.writeFileSync(PROJECT_PATH, JSON.stringify(uniqueCategories, null, 4))\n",
    "  // TODO: cache categories\n",
    "  return categories\n",
    "\n",
    "}\n",
    "\n",
    "module.exports = categorizeHome\n",
    "\n"
   ]
  },
  {
   "cell_type": "markdown",
   "metadata": {},
   "source": [
    "\n",
    "categories downloads?\n"
   ]
  },
  {
   "cell_type": "code",
   "execution_count": null,
   "metadata": {
    "vscode": {
     "languageId": "javascript"
    }
   },
   "outputs": [],
   "source": [
    "const path = require('path')\n",
    "const fs = require('fs')\n",
    "const selectModel = importer.import('select llm')\n",
    "\n",
    "const PROJECT_PATH = path.join(path.dirname(__dirname), '.categories.json')\n",
    "const PROJECT_HOME = path.join(path.resolve(process.env.HOME || process.env.HOMEPATH || process.env.USERPROFILE), 'Downloads')\n",
    "\n",
    "let existingCategories = []\n",
    "let mtime = ''\n",
    "if (fs.existsSync(PROJECT_PATH)) {\n",
    "  existingCategories = JSON.parse(fs.readFileSync(PROJECT_PATH))\n",
    "  mtime = fs.statSync(PROJECT_PATH).mtime.toISOString()\n",
    "}\n",
    "\n",
    "async function promptBatch(batchDownloads, basepath) {\n",
    "  let promptModel = await selectModel(process.env.DEFAULT_MODEL || 'Gemma')\n",
    "\n",
    "  let q1 = 'Here\\'s a partial list of existing files and modified times:\\n'\n",
    "    + batchDownloads\n",
    "    + (existingCategories.length == 0 ? '' : ('\\nHere is the list of existing categories modified on '\n",
    "      + mtime + ' :\\n' + existingCategories.join('\\n')))\n",
    "    + '\\nPlease make a short list of categories, keep the category name simple, like one or two words.'\n",
    "    + '\\nOnly list the missing category for this partial list of files if necessary.'\n",
    "    + '\\nOnly respond with the flat new line delimited list of categories and nothing else.'\n",
    "  console.log('User:', q1)\n",
    "  let a1 = await promptModel(q1)\n",
    "  console.log('AI:', a1)\n",
    "\n",
    "  let categories = a1.trim().split(/\\s*\\n\\s*|,\\s*|\\s*- |\\s*\\*+\\s*/gi)\n",
    "  existingCategories = existingCategories.concat(categories).filter((a, i, arr) => arr.indexOf(a) === i)\n",
    "  fs.writeFileSync(PROJECT_PATH, JSON.stringify(existingCategories, null, 4))\n",
    "\n",
    "  return categories\n",
    "}\n",
    "\n",
    "async function categorizeDownloads() {\n",
    "  let basepath = PROJECT_HOME\n",
    "\n",
    "  let downloads = fs.readdirSync(basepath).sort()\n",
    "    .filter(dir => {\n",
    "      let now = Date.now()\n",
    "      let stats = fs.statSync(path.join(basepath, dir))\n",
    "      // filetime + 30 days > is still in the future\n",
    "      let isRecent = stats.mtime.getTime() + 30 * 24 * 60 * 60 * 1000 > now\n",
    "      if(!isRecent) {\n",
    "        isRecent = stats.atime.getTime() + 30 * 24 * 60 * 60 * 1000 > now\n",
    "      }\n",
    "      if(!isRecent) {\n",
    "        isRecent = stats.ctime.getTime() + 30 * 24 * 60 * 60 * 1000 > now\n",
    "      }\n",
    "      return !isRecent\n",
    "    }) // files being used\n",
    "    .filter(dir => dir[0] != '.' && !dir.includes('porn'))\n",
    "    .filter(dir => !existingCategories.includes(dir))\n",
    "\n",
    "  let batchDownloads = ''\n",
    "  for (let i = 0; i < downloads.length; i++) {\n",
    "    if (batchDownloads.length + downloads[i].length > 4000) {\n",
    "      await promptBatch(batchDownloads, basepath)\n",
    "      batchDownloads = ''\n",
    "    }\n",
    "    batchDownloads += (batchDownloads.length > 0 ? '\\n' : '')\n",
    "      + downloads[i] + ' - ' + fs.statSync(path.join(basepath, downloads[i])).mtime.toISOString()\n",
    "  }\n",
    "  if (batchDownloads.length > 0) {\n",
    "    await promptBatch(batchDownloads, basepath)\n",
    "  }\n",
    "\n",
    "  // TODO: cache categories\n",
    "  return existingCategories\n",
    "\n",
    "}\n",
    "\n",
    "module.exports = categorizeDownloads\n",
    "\n"
   ]
  },
  {
   "cell_type": "markdown",
   "metadata": {},
   "source": [
    "\n",
    "download reorganize bash?\n"
   ]
  },
  {
   "cell_type": "code",
   "execution_count": null,
   "metadata": {
    "vscode": {
     "languageId": "javascript"
    }
   },
   "outputs": [],
   "source": [
    "const path = require('path')\n",
    "const fs = require('fs')\n",
    "const selectModel = importer.import('select llm')\n",
    "\n",
    "const PROJECT_PATH = path.join(path.dirname(__dirname), '.categories.json')\n",
    "const PROJECT_HOME = path.join(path.resolve(process.env.HOME || process.env.HOMEPATH || process.env.USERPROFILE), 'Downloads')\n",
    "\n",
    "let existingCategories = []\n",
    "let mtime = ''\n",
    "if (fs.existsSync(PROJECT_PATH)) {\n",
    "  existingCategories = JSON.parse(fs.readFileSync(PROJECT_PATH))\n",
    "  mtime = fs.statSync(PROJECT_PATH).mtime.toISOString()\n",
    "}\n",
    "\n",
    "async function promptBatch(batchDownloads, basepath) {\n",
    "  let promptModel = await selectModel(process.env.DEFAULT_MODEL || 'Gemma')\n",
    "\n",
    "  let q1 = 'Here\\'s a partial list of existing files:\\n'\n",
    "    + batchDownloads.replaceAll('$', '\\\\$$')\n",
    "    + (existingCategories.length == 0 ? '' : ('\\nHere is the list of existing categories modified on '\n",
    "      + mtime + ' :\\n' + existingCategories.join('\\n')))\n",
    "    + '\\nPlease make a Shell script (' + require('os').platform() + ') that lists `mv` commands to move the files into their most relevant categorized directory.'\n",
    "    + '\\nFor example the command for .pdf files might be `mv \"file.pdf\" \"./PDFs/\" || :`. Skip the repeat filename as files will go to their new directory.'\n",
    "    + '\\nOnly respond with the flat new line delimited list of bash commands and nothing else.'\n",
    "  console.log('User:', q1)\n",
    "  let a1 = await promptModel(q1)\n",
    "  console.log('AI:', a1)\n",
    "\n",
    "  return a1\n",
    "}\n",
    "\n",
    "// const getDateAdded = (filePath) => execSync(`mdls -name kMDItemDateAdded -raw \"${filePath}\"`).toString().trim();\n",
    "\n",
    "async function reorganizeBash() {\n",
    "  let basepath = PROJECT_HOME\n",
    "\n",
    "  let downloads = fs.readdirSync(basepath)\n",
    "  downloads.sort((a, b) => a.toLocaleLowerCase().localeCompare(b.toLocaleLowerCase()))\n",
    "  downloads = downloads.filter(dir => {\n",
    "      let now = Date.now()\n",
    "      let stats = fs.statSync(path.join(basepath, dir))\n",
    "      // filetime + 30 days > is still in the future\n",
    "      //console.log(stats.mtime.toISOString(), stats.mtime.getTime() + 30 * 24 * 60 * 60 * 1000 , now, stats.mtime.getTime() + 30 * 24 * 60 * 60 * 1000 > now)\n",
    "      let isRecent = stats.mtime.getTime() + 30 * 24 * 60 * 60 * 1000 > now\n",
    "      //if(!isRecent) {\n",
    "      //  isRecent = stats.atime.getTime() + 30 * 24 * 60 * 60 * 1000 > now\n",
    "      //}\n",
    "      //if(!isRecent) {\n",
    "      //  isRecent = stats.ctime.getTime() + 30 * 24 * 60 * 60 * 1000 > now\n",
    "      //}\n",
    "      return !isRecent\n",
    "    }) // files being used\n",
    "    .filter(dir => dir[0] != '.' && !dir.includes('porn'))\n",
    "    .filter(dir => !existingCategories.includes(dir))\n",
    "\n",
    "  let batchDownloads = ''\n",
    "  for (let i = 0; i < downloads.length; i++) {\n",
    "    if (batchDownloads.length + downloads[i].length > 2000) {\n",
    "      // only run once?\n",
    "      return await promptBatch(batchDownloads, basepath)\n",
    "      batchDownloads = ''\n",
    "    }\n",
    "    batchDownloads += (batchDownloads.length > 0 ? '\\n' : '') + downloads[i]\n",
    "  }\n",
    "  if (batchDownloads.length > 0) {\n",
    "    return await promptBatch(batchDownloads, basepath)\n",
    "  }\n",
    "\n",
    "  throw new Error('No files to reorganize') // so docker doesn't accidentally execute\n",
    "}\n",
    "\n",
    "module.exports = reorganizeBash\n",
    "\n"
   ]
  },
  {
   "cell_type": "markdown",
   "metadata": {},
   "source": [
    "\n",
    "bash make categories?\n"
   ]
  },
  {
   "cell_type": "code",
   "execution_count": null,
   "metadata": {
    "vscode": {
     "languageId": "javascript"
    }
   },
   "outputs": [],
   "source": [
    "const path = require('path')\n",
    "const fs = require('fs')\n",
    "const selectModel = importer.import('select llm')\n",
    "\n",
    "const PROJECT_PATH = path.join(path.dirname(__dirname), '.categories.json')\n",
    "\n",
    "let existingCategories = []\n",
    "let mtime = ''\n",
    "if (fs.existsSync(PROJECT_PATH)) {\n",
    "  existingCategories = JSON.parse(fs.readFileSync(PROJECT_PATH))\n",
    "  mtime = fs.statSync(PROJECT_PATH).mtime.toISOString()\n",
    "}\n",
    "\n",
    "async function bashCategories() {\n",
    "  let promptModel = await selectModel(process.env.DEFAULT_MODEL || 'Gemma')\n",
    "\n",
    "  let q1 = (existingCategories.length == 0 ? '' : ('\\nHere is the list of existing categories modified on '\n",
    "      + mtime + ' :\\n' + existingCategories.join('\\n')))\n",
    "    + '\\nPlease make a Shell script (' + require('os').platform() + ') that lists `mkdir` commands to make category directories.'\n",
    "    + '\\nFor example the command for Taxes might be `if [ ! -d \"Taxes\" ]; then mkdir \"./Taxes\"; fi; || :`. Skip the repeat filename as files will go to their new directory.'\n",
    "    + '\\nOnly respond with the flat new line delimited list of bash commands and nothing else.'\n",
    "  console.log('User:', q1)\n",
    "  let a1 = await promptModel(q1)\n",
    "  console.log('AI:', a1)\n",
    "\n",
    "  return a1\n",
    "}\n",
    "\n",
    "module.exports = bashCategories\n"
   ]
  },
  {
   "cell_type": "markdown",
   "metadata": {},
   "source": [
    "\n",
    "run bash on downloads?\n"
   ]
  },
  {
   "cell_type": "code",
   "execution_count": null,
   "metadata": {
    "vscode": {
     "languageId": "javascript"
    }
   },
   "outputs": [],
   "source": [
    "const fs = require('fs')\n",
    "const path = require('path')\n",
    "const {spawnSync} = require('child_process')\n",
    "const {safeurl} = importer.import('domain cache tools')\n",
    "\n",
    "const PROJECT_PATH = path.resolve(path.dirname(__dirname))\n",
    "const DOWNLOAD_PATH = path.join(path.resolve(process.env.HOME || process.env.HOMEPATH || process.env.USERPROFILE), 'Downloads')\n",
    "const CD_DIR = '/home/' + path.basename(DOWNLOAD_PATH)\n",
    "\n",
    "async function runBashCommands(prompt = 'download reorganize bash') {\n",
    "\n",
    "  let bashGeneratingFunction = await importer.import(prompt)\n",
    "  console.log('calling bash generator:', bashGeneratingFunction)\n",
    "  if(typeof bashGeneratingFunction == 'object' && typeof bashGeneratingFunction[Object.keys(bashGeneratingFunction)[0]] == 'function') {\n",
    "    bashGeneratingFunction = bashGeneratingFunction[Object.keys(bashGeneratingFunction)[0]]\n",
    "  }\n",
    "\n",
    "  let codeBlocks = await bashGeneratingFunction()\n",
    "\n",
    "  if (!fs.existsSync(path.join(PROJECT_PATH, '.automations'))) {\n",
    "    fs.mkdirSync(path.join(PROJECT_PATH, '.automations'))\n",
    "  }\n",
    "  const CODE_FILE = path.join('.automations', safeurl((new Date).toISOString() + '-' + prompt) + '.sh')\n",
    "  fs.writeFileSync(path.join(PROJECT_PATH, CODE_FILE), 'cd ' + CD_DIR + ';\\n' + codeBlocks)\n",
    "  fs.chmodSync(path.join(PROJECT_PATH, CODE_FILE), 0o777)\n",
    "\n",
    "  let baseName = path.basename(PROJECT_PATH)\n",
    "  // TODO: execute new docker file on project\n",
    "  let args = ['run', '-it', '--rm',\n",
    "    // TODO: mount project directory\n",
    "    '-v', PROJECT_PATH + ':/home/' + baseName,\n",
    "    '-v', DOWNLOAD_PATH + ':' + CD_DIR,\n",
    "    // TODO: change docker image\n",
    "    'alpine:latest', 'sh',\n",
    "    path.join('/home/', baseName, CODE_FILE)]\n",
    "  console.log('docker', args.join(' '))\n",
    "  await spawnSync('docker', args, {\n",
    "    cwd: PROJECT_PATH,\n",
    "    timeout: 3000,\n",
    "    stdio: [0, 1, 2]\n",
    "  })\n",
    "}\n",
    "\n",
    "module.exports = runBashCommands\n",
    "\n"
   ]
  },
  {
   "cell_type": "markdown",
   "metadata": {},
   "source": [
    "\n",
    "macos time added in objective-c\n",
    "\n",
    "macos time added?\n",
    "\n",
    "FRAMEWORKS = CoreServices\n"
   ]
  },
  {
   "cell_type": "code",
   "execution_count": null,
   "metadata": {
    "vscode": {
     "languageId": "objective-c"
    }
   },
   "outputs": [],
   "source": [
    "#include <CoreServices/CoreServices.h>\n",
    "#include <time.h>\n",
    "\n",
    "#ifdef __cplusplus\n",
    "extern \"C\" {\n",
    "#endif\n",
    "\n",
    "// Exported function to retrieve \"Date Added\" as Unix timestamp.\n",
    "// Returns -1 if metadata not available or file not indexed.\n",
    "time_t get_date_added_unix_timestamp(const char *filePath) {\n",
    "    if (!filePath) return -1;\n",
    "\n",
    "    CFStringRef path = CFStringCreateWithCString(NULL, filePath, kCFStringEncodingUTF8);\n",
    "    if (!path) return -1;\n",
    "\n",
    "    CFURLRef fileURL = CFURLCreateWithFileSystemPath(NULL, path, kCFURLPOSIXPathStyle, false);\n",
    "    CFRelease(path);\n",
    "    if (!fileURL) return -1;\n",
    "\n",
    "    MDItemRef item = MDItemCreateWithURL(NULL, fileURL);\n",
    "    CFRelease(fileURL);\n",
    "    if (!item) return -1;\n",
    "\n",
    "    CFTypeRef dateAdded = MDItemCopyAttribute(item, kMDItemDateAdded);\n",
    "    CFRelease(item);\n",
    "    if (!dateAdded) return -1;\n",
    "\n",
    "    time_t unixTime = -1;\n",
    "    if (CFGetTypeID(dateAdded) == CFDateGetTypeID()) {\n",
    "        CFDateRef date = (CFDateRef)dateAdded;\n",
    "        CFAbsoluteTime absTime = CFDateGetAbsoluteTime(date);\n",
    "        unixTime = (time_t)(absTime + kCFAbsoluteTimeIntervalSince1970);\n",
    "    }\n",
    "\n",
    "    CFRelease(dateAdded);\n",
    "    return unixTime;\n",
    "}\n",
    "\n",
    "#ifdef __cplusplus\n",
    "}\n",
    "#endif\n"
   ]
  }
 ],
 "metadata": {
  "language_info": {
   "name": "python"
  }
 },
 "nbformat": 4,
 "nbformat_minor": 2
}
