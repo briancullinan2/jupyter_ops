{
 "cells": [
  {
   "cell_type": "markdown",
   "metadata": {},
   "source": [
    "\n",
    "git stylesheet?\n"
   ]
  },
  {
   "cell_type": "code",
   "execution_count": null,
   "metadata": {
    "vscode": {
     "languageId": "css"
    }
   },
   "outputs": [],
   "source": [
    "/* General Reset */\n",
    "* {\n",
    "    margin: 0;\n",
    "    padding: 0;\n",
    "    box-sizing: border-box;\n",
    "}\n",
    "\n",
    "/* Body Styles */\n",
    "body {\n",
    "    font-family: Arial, sans-serif;\n",
    "    background-color: #3d444d;\n",
    "    color: #333;\n",
    "}\n",
    "\n",
    "/* Header Styles */\n",
    "header {\n",
    "    background-color: #24292f;\n",
    "    color: #fff;\n",
    "    padding: 10px 20px;\n",
    "}\n",
    "\n",
    "h1, h2, h3, h4, h5 {\n",
    "    color: #fff;\n",
    "}\n",
    "\n",
    ".navbar {\n",
    "    display: flex;\n",
    "    justify-content: space-between;\n",
    "    align-items: center;\n",
    "}\n",
    "\n",
    ".navbar .logo a {\n",
    "    font-size: 24px;\n",
    "    color: #fff;\n",
    "    text-decoration: none;\n",
    "    font-weight: bold;\n",
    "}\n",
    "\n",
    ".navbar .search input {\n",
    "    padding: 8px 15px;\n",
    "    font-size: 14px;\n",
    "    border-radius: 4px;\n",
    "    border: 1px solid #ddd;\n",
    "    width: 300px;\n",
    "}\n",
    "\n",
    ".navbar .user-profile a {\n",
    "    color: #fff;\n",
    "    text-decoration: none;\n",
    "    font-size: 14px;\n",
    "}\n",
    "\n",
    "/* Main Layout */\n",
    ".container {\n",
    "    display: flex;\n",
    "    margin-top: 20px;\n",
    "    padding: 0 20px;\n",
    "}\n",
    "\n",
    "/* Sidebar Styles */\n",
    ".sidebar {\n",
    "    width: 220px;\n",
    "    background-color: #24292f;\n",
    "    color: #fff;\n",
    "    padding-top: 20px;\n",
    "    margin-right: 20px;\n",
    "}\n",
    "\n",
    ".sidebar ul {\n",
    "    list-style-type: none;\n",
    "}\n",
    "\n",
    ".sidebar ul li {\n",
    "    padding: 10px 10px;\n",
    "}\n",
    "\n",
    ".sidebar ul li a {\n",
    "    color: #fff;\n",
    "    text-decoration: none;\n",
    "    font-size: 16px;\n",
    "    display: block;\n",
    "    padding: 5px 10px;\n",
    "}\n",
    "\n",
    ".branches header a, \n",
    ".files header a {\n",
    "    color: #fff;\n",
    "    text-decoration: none;\n",
    "    font-size: 16px;\n",
    "    display: inline-block;\n",
    "    padding: 5px 10px;\n",
    "}\n",
    "\n",
    ".branches header a:hover, \n",
    ".files header a:hover,\n",
    ".sidebar ul li a:hover {\n",
    "    background-color: #3c4043;\n",
    "    border-radius: 4px;\n",
    "}\n",
    "\n",
    "/* Main Content Styles */\n",
    ".main-content {\n",
    "    flex-grow: 1;\n",
    "}\n",
    "\n",
    ".repositories {\n",
    "    background-color: #fff;\n",
    "    padding: 20px;\n",
    "    border-radius: 6px;\n",
    "    box-shadow: 0 2px 4px rgba(0, 0, 0, 0.1);\n",
    "}\n",
    "\n",
    ".repositories h2 {\n",
    "    font-size: 24px;\n",
    "    margin-bottom: 20px;\n",
    "}\n",
    "\n",
    ".repo-list {\n",
    "    display: flex;\n",
    "    flex-direction: column;\n",
    "    gap: 15px;\n",
    "}\n",
    "\n",
    ".repo-item {\n",
    "    color: #f9fafb;\n",
    "    padding: 15px;\n",
    "    border-radius: 6px;\n",
    "    box-shadow: 0 1px 3px rgba(0, 0, 0, 0.1);\n",
    "}\n",
    "\n",
    ".file-list ul {\n",
    "    list-style: none;\n",
    "}\n",
    "\n",
    ".file-list ul,\n",
    ".branch-list,\n",
    ".commit-list {\n",
    "    display: flex;\n",
    "    flex-direction: column;\n",
    "    gap: 0;\n",
    "}\n",
    "\n",
    ".file-list li,\n",
    ".branch-item,\n",
    ".commit-item {\n",
    "    color: #f9fafb;\n",
    "    padding: 15px;\n",
    "    border: none;\n",
    "    border-bottom: 1px solid #3c4043;\n",
    "    box-shadow: 0 1px 3px rgba(0, 0, 0, 0.1);\n",
    "}\n",
    "\n",
    ".file-list li a, \n",
    ".branch-item a,\n",
    ".commit-item a {\n",
    "    color: #fff;\n",
    "    text-decoration: none;\n",
    "    font-size: 16px;\n",
    "    display: inline-block;\n",
    "    padding: 0;\n",
    "}\n",
    "\n",
    ".file-list li a:hover,\n",
    ".branch-item a:hover,\n",
    ".commit-item a:hover {\n",
    "    color: lightblue;\n",
    "    text-decoration: underline;\n",
    "}\n",
    "\n",
    ".file-list li:hover, \n",
    ".branch-item:hover,\n",
    ".commit-item:hover {\n",
    "    background-color: #3c4043;\n",
    "    border-radius: 4px;\n",
    "}\n",
    "\n",
    ".repo-item h3 {\n",
    "    font-size: 18px;\n",
    "    margin-bottom: 8px;\n",
    "}\n",
    "\n",
    ".repo-item p {\n",
    "    font-size: 14px;\n",
    "    color: #666;\n",
    "}\n",
    "\n",
    "/* Footer Styles */\n",
    "footer {\n",
    "    background-color: #24292f;\n",
    "    color: #fff;\n",
    "    text-align: center;\n",
    "    padding: 10px;\n",
    "    margin-top: 20px;\n",
    "}\n"
   ]
  },
  {
   "cell_type": "markdown",
   "metadata": {},
   "source": [
    "\n",
    "git service index?\n"
   ]
  },
  {
   "cell_type": "code",
   "execution_count": null,
   "metadata": {
    "vscode": {
     "languageId": "html"
    }
   },
   "outputs": [],
   "source": [
    "<!DOCTYPE html>\n",
    "<html lang=\"en\">\n",
    "<head>\n",
    "    <meta charset=\"UTF-8\">\n",
    "    <meta name=\"viewport\" content=\"width=device-width, initial-scale=1.0\">\n",
    "    <title>GitHub Clone</title>\n",
    "    <link rel=\"stylesheet\" href=\"/styles.css\">\n",
    "</head>\n",
    "<body>\n",
    "    <!-- Header Section -->\n",
    "    <header>\n",
    "        <nav class=\"navbar\">\n",
    "            <div class=\"logo\">\n",
    "                <a href=\"#\">GitHub Clone</a>\n",
    "            </div>\n",
    "            <div class=\"search\">\n",
    "                <input type=\"text\" placeholder=\"Search GitHub\" id=\"search\">\n",
    "            </div>\n",
    "            <div class=\"user-profile\">\n",
    "                <a href=\"#\">User Profile</a>\n",
    "            </div>\n",
    "        </nav>\n",
    "    </header>\n",
    "\n",
    "    <!-- Main Content Section -->\n",
    "    <div class=\"container\">\n",
    "        <!-- Sidebar Section -->\n",
    "        <aside class=\"sidebar\">\n",
    "            <ul>\n",
    "                <li><a href=\"#\">Dashboard</a></li>\n",
    "                <li><a href=\"/{USERNAME}\">Repositories</a></li>\n",
    "                <li><a href=\"#\">Pull Requests</a></li>\n",
    "                <li><a href=\"#\">Issues</a></li>\n",
    "                <li><a href=\"#\">Actions</a></li>\n",
    "                <li><a href=\"#\">Projects</a></li>\n",
    "                <li><a href=\"#\">Settings</a></li>\n",
    "            </ul>\n",
    "        </aside>\n",
    "\n",
    "        <!-- Main Content Area -->\n",
    "        <main class=\"main-content\">\n",
    "            {MAINCONTENT}\n",
    "        </main>\n",
    "    </div>\n",
    "\n",
    "    <!-- Footer Section -->\n",
    "    <footer>\n",
    "        <p>&copy; 2025 GitHub Clone. All rights reserved.</p>\n",
    "    </footer>\n",
    "</body>\n",
    "</html>\n"
   ]
  },
  {
   "cell_type": "markdown",
   "metadata": {},
   "source": [
    "repositories fragment?"
   ]
  },
  {
   "cell_type": "code",
   "execution_count": null,
   "metadata": {
    "vscode": {
     "languageId": "html"
    }
   },
   "outputs": [],
   "source": [
    "<section class=\"repositories\">\n",
    "  <h2>Repositories</h2>\n",
    "  <div class=\"repo-list\">\n",
    "      {REPOSITORIES}\n",
    "  </div>\n",
    "</section>\n"
   ]
  },
  {
   "cell_type": "markdown",
   "metadata": {},
   "source": [
    "\n",
    "file list fragment?"
   ]
  },
  {
   "cell_type": "code",
   "execution_count": null,
   "metadata": {
    "vscode": {
     "languageId": "html"
    }
   },
   "outputs": [],
   "source": [
    "<section class=\"files\">\n",
    "  <h2>{REPONAME}</h2>\n",
    "  <header>\n",
    "    <a href=\"/{USERNAME}/{REPONAME}/branches\">{BRANCHES}</a>\n",
    "    <a href=\"/{USERNAME}/{REPONAME}/tags\">{TAGS}</a>\n",
    "    <a href=\"/{USERNAME}/{REPONAME}/commits/{BRANCHNAME}\">{COMMITS}</a>\n",
    "  </header>\n",
    "  <div class=\"file-list\">\n",
    "      {FILES}\n",
    "  </div>\n",
    "</section>\n"
   ]
  },
  {
   "cell_type": "markdown",
   "metadata": {},
   "source": [
    "\n",
    "branch list fragment?\n"
   ]
  },
  {
   "cell_type": "code",
   "execution_count": null,
   "metadata": {
    "vscode": {
     "languageId": "html"
    }
   },
   "outputs": [],
   "source": [
    "<section class=\"branches\">\n",
    "  <h2>{REPONAME}</h2>\n",
    "  <header>\n",
    "    <a href=\"/{USERNAME}/{REPONAME}/active\">Active</a>\n",
    "    <a href=\"/{USERNAME}/{REPONAME}/stale\">Stale</a>\n",
    "    <a href=\"/{USERNAME}/{REPONAME}/branches\">All</a>\n",
    "  </header>\n",
    "  <div class=\"branch-list\">\n",
    "      {BRANCHES}\n",
    "  </div>\n",
    "</section>\n"
   ]
  },
  {
   "cell_type": "markdown",
   "metadata": {},
   "source": [
    "\n",
    "commit list fragment?\n"
   ]
  },
  {
   "cell_type": "code",
   "execution_count": null,
   "metadata": {
    "vscode": {
     "languageId": "html"
    }
   },
   "outputs": [],
   "source": [
    "<section class=\"commits\">\n",
    "  <h2>{REPONAME}</h2>\n",
    "  <div class=\"commit-list\">\n",
    "      {COMMITS}\n",
    "  </div>\n",
    "</section>\n"
   ]
  },
  {
   "cell_type": "markdown",
   "metadata": {},
   "source": [
    "\n",
    "repo fragment?"
   ]
  },
  {
   "cell_type": "code",
   "execution_count": null,
   "metadata": {
    "vscode": {
     "languageId": "html"
    }
   },
   "outputs": [],
   "source": [
    "<div class=\"repo-item\">\n",
    "  <h3><a href=\"/{USERNAME}/{REPONAME}\">{REPONAME}</a></h3>\n",
    "  <p>{REPODESC}</p>\n",
    "</div>\n"
   ]
  },
  {
   "cell_type": "markdown",
   "metadata": {},
   "source": [
    "\n",
    "branch fragment?\n"
   ]
  },
  {
   "cell_type": "code",
   "execution_count": null,
   "metadata": {
    "vscode": {
     "languageId": "html"
    }
   },
   "outputs": [],
   "source": [
    "<div class=\"branch-item\">\n",
    "  <h3><a href=\"/{USERNAME}/{REPONAME}/tree/{BRANCHNAME}\">{BRANCHNAME}</a></h3>\n",
    "</div>\n"
   ]
  },
  {
   "cell_type": "markdown",
   "metadata": {},
   "source": [
    "\n",
    "commit fragment?\n"
   ]
  },
  {
   "cell_type": "code",
   "execution_count": null,
   "metadata": {
    "vscode": {
     "languageId": "html"
    }
   },
   "outputs": [],
   "source": [
    "<div class=\"commit-item\">\n",
    "  <h3><a href=\"/{USERNAME}/{REPONAME}/tree/{COMMITNAME}\">{COMMITNAME}</a></h3>\n",
    "  <p>{COMMITDESC}</p>\n",
    "</div>\n"
   ]
  },
  {
   "cell_type": "markdown",
   "metadata": {},
   "source": [
    "\n",
    "github service?\n"
   ]
  },
  {
   "cell_type": "code",
   "execution_count": null,
   "metadata": {
    "vscode": {
     "languageId": "javascript"
    }
   },
   "outputs": [],
   "source": [
    "const processRepo = importer.import('git serve repo')\n",
    "const processBranches = importer.import('git service branches')\n",
    "const processList = importer.import('git serve repo list')\n",
    "const processTree = importer.import('git serve tree')\n",
    "const processCommits = importer.import('git serve commits')\n",
    "\n",
    "const express = require('express')\n",
    "const cors = require('cors')\n",
    "\n",
    "async function startServer() {\n",
    "  var app = express()\n",
    "  app.use(cors({\n",
    "    credentials: true,\n",
    "    origin: '*' \n",
    "  }))\n",
    "  app.use(express.json({ limit: '20mb' }))\n",
    "  //app.post('/', handleRequest)\n",
    "  //app.get('/monitors/*', getMonitor)\n",
    "  //app.get('/embed', renderMessages)\n",
    "  //app.get('/history', renderHistory)\n",
    "  //app.use('/txt2img-images', express.static(path.join(OUTPUT_PATH, 'txt2img-images')))\n",
    "  // TODO: git clone --bare . ../git-bare/jupyter_ops\n",
    "  app.get('/:profile/:primary/commits/:branch', processCommits)\n",
    "  app.get('/:profile/:primary/commits', processCommits)\n",
    "  app.get('/:profile/:primary/tree/:branch', processTree)\n",
    "  app.get('/:profile/:primary/branches', processBranches)\n",
    "  app.get('/:profile/:primary', processRepo)\n",
    "  app.get('/styles.css', function (req, res) {\n",
    "    res.setHeader('content-type', 'text/css');\n",
    "    res.send(importer.interpret('git stylesheet').code)\n",
    "  })\n",
    "  app.get('/:profile', processList)\n",
    "  app.get('/', processList)\n",
    "\n",
    "  let port = process.env.GITHUB_PORT || 9090\n",
    "  app.listen(port, () => console.log('Listening on https://localhost:' + port))\n",
    "}\n",
    "\n",
    "module.exports = startServer\n",
    "\n"
   ]
  },
  {
   "cell_type": "markdown",
   "metadata": {},
   "source": [
    "\n",
    "github service config?\n"
   ]
  },
  {
   "cell_type": "code",
   "execution_count": null,
   "metadata": {
    "vscode": {
     "languageId": "javascript"
    }
   },
   "outputs": [],
   "source": [
    "const path = require('path')\n",
    "const fs = require('fs')\n",
    "\n",
    "const PROFILE_HOME = path.resolve(process.env.HOME || process.env.HOMEPATH || process.env.USERPROFILE)\n",
    "\n",
    "const GITHUB_BARE = path.join(PROFILE_HOME, 'git-bare')\n",
    "\n",
    "const PROJECT_PATHS = [\n",
    "  PROFILE_HOME\n",
    "]\n",
    "\n",
    "\n",
    "\n",
    "module.exports = {\n",
    "  PROFILE_HOME,\n",
    "  GITHUB_BARE,\n",
    "  PROJECT_PATHS,\n",
    "\n",
    "}\n"
   ]
  },
  {
   "cell_type": "markdown",
   "metadata": {},
   "source": [
    "\n",
    "git service branches?\n"
   ]
  },
  {
   "cell_type": "code",
   "execution_count": null,
   "metadata": {
    "vscode": {
     "languageId": "javascript"
    }
   },
   "outputs": [],
   "source": [
    "const fs = require('fs')\n",
    "const path = require('path')\n",
    "const {PROFILE_HOME, GITHUB_BARE} = importer.import('github service config')\n",
    "const gitBranches = importer.import('git branches')\n",
    "\n",
    "\n",
    "\n",
    "function processBranches(req, res, next) {\n",
    "  let profile = req.params['profile']\n",
    "  if(profile != path.basename(PROFILE_HOME)) {\n",
    "    return next()\n",
    "  }\n",
    "\n",
    "  //let segments = req.path.replaceAll(/^\\/|\\/$/gi, '').split('/')\n",
    "  let primary = req.params['primary']\n",
    "  if(!fs.existsSync(path.join(PROFILE_HOME, primary, '.git'))) {\n",
    "    return next()\n",
    "  }\n",
    "\n",
    "  if(!fs.existsSync(path.join(GITHUB_BARE, primary + '.git'))\n",
    "    || !fs.existsSync(path.join(GITHUB_BARE, primary))) {\n",
    "    return next()\n",
    "  }\n",
    "\n",
    "  let branches = gitBranches(path.join(PROFILE_HOME, primary), path.join(GITHUB_BARE, primary))\n",
    "  \n",
    "  let wrapperFragment = importer.interpret('git service index').code\n",
    "  let listFragment = importer.interpret('branch list fragment').code\n",
    "  let branchFragment = importer.interpret('branch fragment').code\n",
    "  let branchHtml = branches.map(branch => branchFragment\n",
    "    .replaceAll('{BRANCHNAME}', branch.replaceAll(/\\*\\s*/gi, ''))).join('\\n')\n",
    "\n",
    "  return res.send(wrapperFragment.replaceAll('{MAINCONTENT}', \n",
    "    listFragment.replaceAll('{BRANCHES}', branchHtml))\n",
    "    .replaceAll('{REPONAME}', primary)\n",
    "    .replaceAll('{USERNAME}', path.basename(PROFILE_HOME)))\n",
    "}\n",
    "\n",
    "\n",
    "module.exports = processBranches\n",
    "\n"
   ]
  },
  {
   "cell_type": "markdown",
   "metadata": {},
   "source": [
    "\n",
    "git serve repo?\n"
   ]
  },
  {
   "cell_type": "code",
   "execution_count": null,
   "metadata": {
    "vscode": {
     "languageId": "javascript"
    }
   },
   "outputs": [],
   "source": [
    "const fs = require('fs')\n",
    "const path = require('path')\n",
    "const {PROFILE_HOME, GITHUB_BARE} = importer.import('github service config')\n",
    "const {spawnSync} = require('child_process')\n",
    "const directoryToHtml = importer.import('directory to html')\n",
    "const gitBranches = importer.import('git branches')\n",
    "\n",
    "function processRepo(req, res, next) {\n",
    "  let profile = req.params['profile']\n",
    "  if(profile != path.basename(PROFILE_HOME)) {\n",
    "    return next()\n",
    "  }\n",
    "\n",
    "  let segments = req.path.replaceAll(/^\\/|\\/$/gi, '').split('/')\n",
    "  let primary = segments[1]\n",
    "  if(!fs.existsSync(path.join(PROFILE_HOME, primary, '.git'))) {\n",
    "    return next()\n",
    "  }\n",
    "\n",
    "  if(!fs.existsSync(path.join(GITHUB_BARE, primary + '.git'))) {\n",
    "    spawnSync('git', ['clone', '--bare', path.join(PROFILE_HOME, primary), path.join(GITHUB_BARE, primary + '.git')], {\n",
    "      stdio: ['pipe', 'pipe', 'pipe']\n",
    "    })\n",
    "  }\n",
    "\n",
    "  if(!fs.existsSync(path.join(GITHUB_BARE, primary))) {\n",
    "    spawnSync('git', ['clone', path.join(GITHUB_BARE, primary + '.git'), path.join(GITHUB_BARE, primary)], {\n",
    "      stdio: ['pipe', 'pipe', 'pipe']\n",
    "    })\n",
    "  }\n",
    "\n",
    "  let branches = gitBranches(path.join(PROFILE_HOME, primary), path.join(GITHUB_BARE, primary))\n",
    "\n",
    "  let commitsProc = spawnSync('git', ['rev-list', '--count', 'HEAD'], {\n",
    "    cwd: path.join(GITHUB_BARE, primary + '.git'),\n",
    "    stdio: ['pipe', 'pipe', 'pipe']\n",
    "  })\n",
    "  let commits = parseInt(commitsProc.output[1].toString().trim())\n",
    "\n",
    "  // TODO: directory output\n",
    "  let wrapperFragment = importer.interpret('git service index').code\n",
    "  let fileFragment = importer.interpret('file list fragment').code\n",
    "  let html = directoryToHtml(path.join(GITHUB_BARE, primary), segments.length > 2, req.authenticated, true)\n",
    "  return res.send(wrapperFragment.replaceAll('{MAINCONTENT}', \n",
    "    fileFragment.replaceAll('{FILES}', html)\n",
    "                .replaceAll('{BRANCHES}', branches.length + (branches.length == 1 ? ' branch' : ' branches'))\n",
    "                .replaceAll('{COMMITS}', commits + (commits == 1 ? ' commits' : ' commits'))\n",
    "    ).replaceAll('{REPONAME}', primary)\n",
    "     .replaceAll('{BRANCHNAME}', 'HEAD')\n",
    "     .replaceAll('{USERNAME}', path.basename(PROFILE_HOME)))\n",
    "}\n",
    "\n",
    "module.exports = processRepo\n"
   ]
  },
  {
   "cell_type": "markdown",
   "metadata": {},
   "source": [
    "\n",
    "git serve repo list?\n"
   ]
  },
  {
   "cell_type": "code",
   "execution_count": null,
   "metadata": {
    "vscode": {
     "languageId": "javascript"
    }
   },
   "outputs": [],
   "source": [
    "const fs = require('fs')\n",
    "const path = require('path')\n",
    "const {PROFILE_HOME} = importer.import('github service config')\n",
    "\n",
    "\n",
    "function processList(req, res) {\n",
    "  let wrapperFragment = importer.interpret('git service index').code\n",
    "  let repoFragment = importer.interpret('repo fragment').code\n",
    "  let repositoriesFragment = importer.interpret('repositories fragment').code\n",
    "  //let repositories = glob('{,*,*/*,*/*/*}/.git/HEAD', path.resolve(PROFILE_HOME))\n",
    "  let repositories = fs.readdirSync(path.resolve(PROFILE_HOME))\n",
    "    .filter(dir => dir[0] != '.' \n",
    "      && fs.statSync(path.join(PROFILE_HOME, dir)).isDirectory() \n",
    "      && fs.existsSync(path.join(PROFILE_HOME, dir, '.git')) \n",
    "      && fs.statSync(path.join(PROFILE_HOME, dir, '.git')).isDirectory()\n",
    "      && !dir.includes('porn'))\n",
    "\n",
    "  repositories.sort((a, b) => a.localeCompare(b))\n",
    "\n",
    "  res.send(wrapperFragment.replaceAll('{MAINCONTENT}', repositoriesFragment\n",
    "    .replaceAll('{REPOSITORIES}', repositories.map(repo => repoFragment\n",
    "      .replaceAll('{REPONAME}', repo)\n",
    "      .replaceAll('{REPODESC}', 'TODO: extract from package.json')).join(''))\n",
    "    ).replaceAll('{USERNAME}', path.basename(PROFILE_HOME))\n",
    "  )\n",
    "}\n",
    "\n",
    "module.exports = processList\n"
   ]
  },
  {
   "cell_type": "markdown",
   "metadata": {},
   "source": [
    "\n",
    "git branches?\n"
   ]
  },
  {
   "cell_type": "code",
   "execution_count": null,
   "metadata": {
    "vscode": {
     "languageId": "javascript"
    }
   },
   "outputs": [],
   "source": [
    "const path = require('path')\n",
    "const {spawnSync} = require('child_process')\n",
    "\n",
    "function getBranches(origin, bare) {\n",
    "  let branchesProc = spawnSync('git', ['branch', '-a'], {\n",
    "    cwd: origin,\n",
    "    stdio: ['pipe', 'pipe', 'pipe']\n",
    "  })\n",
    "  let branches = branchesProc.output[1].toString().trim().split('\\n').map(branch => branch.replaceAll(/\\*\\s*/gi, ''))\n",
    "  return branches\n",
    "}\n",
    "\n",
    "module.exports = getBranches\n"
   ]
  },
  {
   "cell_type": "markdown",
   "metadata": {},
   "source": [
    "\n",
    "git serve tree?\n"
   ]
  },
  {
   "cell_type": "code",
   "execution_count": null,
   "metadata": {
    "vscode": {
     "languageId": "javascript"
    }
   },
   "outputs": [],
   "source": [
    "const fs = require('fs')\n",
    "const path = require('path')\n",
    "const {PROFILE_HOME, GITHUB_BARE} = importer.import('github service config')\n",
    "const gitBranches = importer.import('git branches')\n",
    "const {spawnSync} = require('child_process')\n",
    "const directoryToHtml = importer.import('directory to html')\n",
    "\n",
    "\n",
    "\n",
    "function processTree(req, res, next) {\n",
    "  let profile = req.params['profile']\n",
    "  if(profile != path.basename(PROFILE_HOME)) {\n",
    "    return next()\n",
    "  }\n",
    "\n",
    "  //let segments = req.path.replaceAll(/^\\/|\\/$/gi, '').split('/')\n",
    "  let segments = req.path.replaceAll(/^\\/|\\/$/gi, '').split('/')\n",
    "  let primary = req.params['primary']\n",
    "  if(!fs.existsSync(path.join(PROFILE_HOME, primary, '.git'))) {\n",
    "    return next()\n",
    "  }\n",
    "\n",
    "  if(!fs.existsSync(path.join(GITHUB_BARE, primary + '.git'))\n",
    "    || !fs.existsSync(path.join(GITHUB_BARE, primary))) {\n",
    "    return next()\n",
    "  }\n",
    "\n",
    "  let branches = gitBranches(path.join(PROFILE_HOME, primary), path.join(GITHUB_BARE, primary))\n",
    "\n",
    "  let branch = req.params['branch']\n",
    "  // TODO: check tree/:commit ?\n",
    "  if(!branches.includes(branch)) {\n",
    "    return next()\n",
    "  }\n",
    "\n",
    "  let primaryBranch = primary + '-' + branch\n",
    "  if(!fs.existsSync(path.join(GITHUB_BARE, primaryBranch + '.git'))) {\n",
    "    spawnSync('git', ['clone', '--bare', path.join(PROFILE_HOME, primary), '--branch', branch, '--single-branch', path.join(GITHUB_BARE, primaryBranch + '.git')], {\n",
    "      stdio: ['pipe', 'pipe', 'pipe']\n",
    "    })\n",
    "  }\n",
    "\n",
    "  if(!fs.existsSync(path.join(GITHUB_BARE, primaryBranch))) {\n",
    "    spawnSync('git', ['clone', path.join(GITHUB_BARE, primaryBranch + '.git'), path.join(GITHUB_BARE, primaryBranch)], {\n",
    "      stdio: ['pipe', 'pipe', 'pipe']\n",
    "    })\n",
    "  }\n",
    "\n",
    "  let commitsProc = spawnSync('git', ['rev-list', '--count', branch], {\n",
    "    cwd: path.join(GITHUB_BARE, primaryBranch + '.git'),\n",
    "    stdio: ['pipe', 'pipe', 'pipe']\n",
    "  })\n",
    "  let commits = parseInt(commitsProc.output[1].toString().trim())\n",
    "\n",
    "  // TODO: directory output\n",
    "  let wrapperFragment = importer.interpret('git service index').code\n",
    "  let fileFragment = importer.interpret('file list fragment').code\n",
    "  let html = directoryToHtml(path.join(GITHUB_BARE, primaryBranch), segments.length > 2, req.authenticated, true)\n",
    "\n",
    "  return res.send(wrapperFragment.replaceAll('{MAINCONTENT}', \n",
    "    fileFragment.replaceAll('{FILES}', html)\n",
    "                .replaceAll('{BRANCHES}', branches.length + (branches.length == 1 ? ' branch' : ' branches'))\n",
    "                .replaceAll('{COMMITS}', commits + (commits == 1 ? ' commits' : ' commits'))\n",
    "    ).replaceAll('{REPONAME}', primary)\n",
    "     .replaceAll('{BRANCHNAME}', branch)\n",
    "     .replaceAll('{USERNAME}', path.basename(PROFILE_HOME)))\n",
    "\n",
    "}\n",
    "\n",
    "\n",
    "module.exports = processTree\n",
    "\n"
   ]
  },
  {
   "cell_type": "markdown",
   "metadata": {},
   "source": [
    "\n",
    "git serve commits?\n"
   ]
  },
  {
   "cell_type": "code",
   "execution_count": null,
   "metadata": {
    "vscode": {
     "languageId": "javascript"
    }
   },
   "outputs": [],
   "source": [
    "const fs = require('fs')\n",
    "const path = require('path')\n",
    "const {PROFILE_HOME, GITHUB_BARE} = importer.import('github service config')\n",
    "const gitBranches = importer.import('git branches')\n",
    "const {spawnSync} = require('child_process')\n",
    "\n",
    "\n",
    "function gitCommits(origin, branch) {\n",
    "  // TODO: optional branch?\n",
    "  let commitsProc = spawnSync('git', ['log', '--pretty=%H#123#%s'], {\n",
    "    cwd: origin,\n",
    "    stdio: ['pipe', 'pipe', 'pipe']\n",
    "  })\n",
    "  let commits = commitsProc.output[1].toString().trim().split('\\n').map(commit => commit.split('#123#'))\n",
    "  return commits\n",
    "}\n",
    "\n",
    "\n",
    "function processCommits(req, res, next) {\n",
    "  let profile = req.params['profile']\n",
    "  if(profile != path.basename(PROFILE_HOME)) {\n",
    "    return next()\n",
    "  }\n",
    "\n",
    "  //let segments = req.path.replaceAll(/^\\/|\\/$/gi, '').split('/')\n",
    "  let primary = req.params['primary']\n",
    "  if(!fs.existsSync(path.join(PROFILE_HOME, primary, '.git'))) {\n",
    "    return next()\n",
    "  }\n",
    "\n",
    "  if(!fs.existsSync(path.join(GITHUB_BARE, primary + '.git'))\n",
    "    || !fs.existsSync(path.join(GITHUB_BARE, primary))) {\n",
    "    return next()\n",
    "  }\n",
    "\n",
    "  let branches = gitBranches(path.join(PROFILE_HOME, primary), path.join(GITHUB_BARE, primary))\n",
    "\n",
    "  let branch = req.params['branch']\n",
    "  if(!branches.includes(branch) && branch != 'HEAD') {\n",
    "    return next()\n",
    "  }\n",
    "\n",
    "\n",
    "  let commits\n",
    "  if(branch) {\n",
    "    commits = gitCommits(path.join(GITHUB_BARE, primary + '-' + branch), branch)\n",
    "  } else {\n",
    "    commits = gitCommits(path.join(PROFILE_HOME, primary), 'HEAD')\n",
    "  }\n",
    "  console.log(commits)\n",
    "  \n",
    "  let wrapperFragment = importer.interpret('git service index').code\n",
    "  let listFragment = importer.interpret('commits list fragment').code\n",
    "  let commitFragment = importer.interpret('commit fragment').code\n",
    "  let commitHtml = commits.map(commit => commitFragment\n",
    "    .replaceAll('{COMMITNAME}', commit[0])\n",
    "    .replaceAll('{COMMITDESC}', commit[1])).join('\\n')\n",
    "  return res.send(wrapperFragment.replaceAll('{MAINCONTENT}', \n",
    "    listFragment.replaceAll('{COMMITS}', commitHtml))\n",
    "    .replaceAll('{REPONAME}', primary)\n",
    "    .replaceAll('{USERNAME}', path.basename(PROFILE_HOME)))\n",
    "}\n",
    "\n",
    "\n",
    "module.exports = processCommits\n",
    "\n"
   ]
  }
 ],
 "metadata": {
  "language_info": {
   "name": "python"
  }
 },
 "nbformat": 4,
 "nbformat_minor": 2
}
