{
  "cells": [
    {
      "cell_type": "markdown",
      "metadata": {},
      "source": [
        "# MongoDB Book Collection\n",
        "\n",
        "In this notebook, we'll connect to MongoDB and perform basic operations such as inserting data and querying it. We'll use a book collection database instead of movies.\n"
      ]
    },
    {
      "cell_type": "code",
      "execution_count": 1,
      "metadata": {},
      "outputs": [],
      "source": [
        "// MongoDB setup\n",
        "const { MongoClient } = require('mongodb');\n",
        "const uri = 'mongodb://localhost:27017'; // Replace with your MongoDB connection string\n",
        "const dbName = 'bookCollection'; // Our database name\n",
        "const client = new MongoClient(uri, { useNewUrlParser: true, useUnifiedTopology: true });\n",
        "\n",
        "// Connect to MongoDB\n",
        "async function connectToMongo() {\n",
        "  try {\n",
        "    await client.connect();\n",
        "    console.log('Connected to MongoDB');\n",
        "    return client.db(dbName);\n",
        "  } catch (error) {\n",
        "    console.error('Error connecting to MongoDB:', error);\n",
        "  }\n",
        "}\n",
        "\n",
        "// Call connectToMongo to initiate the connection\n",
        "connectToMongo();"
      ]
    },
    {
      "cell_type": "markdown",
      "metadata": {},
      "source": [
        "### Inserting Data into MongoDB\n",
        "\n",
        "Now we will insert some sample book data into MongoDB. The data will include fields like title, author, year of publication, and genre.\n"
      ]
    },
    {
      "cell_type": "code",
      "execution_count": 2,
      "metadata": {},
      "outputs": [],
      "source": [
        "// Insert sample book data\n",
        "async function insertBookData() {\n",
        "  const db = await connectToMongo();\n",
        "  const booksCollection = db.collection('books');\n",
        "\n",
        "  // Sample book data\n",
        "  const books = [\n",
        "    { title: 'To Kill a Mockingbird', author: 'Harper Lee', year: 1960, genre: 'Fiction' },\n",
        "    { title: '1984', author: 'George Orwell', year: 1949, genre: 'Dystopian' },\n",
        "    { title: 'Moby Dick', author: 'Herman Melville', year: 1851, genre: 'Adventure' }\n",
        "  ];\n",
        "\n",
        "  try {\n",
        "    const result = await booksCollection.insertMany(books);\n",
        "    console.log(`${result.insertedCount} books were inserted.`);\n",
        "  } catch (error) {\n",
        "    console.error('Error inserting book data:', error);\n",
        "  }\n",
        "}\n",
        "\n",
        "// Insert book data\n",
        "insertBookData();"
      ]
    },
    {
      "cell_type": "markdown",
      "metadata": {},
      "source": [
        "### Querying Data from MongoDB\n",
        "\n",
        "Now, let's query our book collection to retrieve books published after 1900.\n"
      ]
    },
    {
      "cell_type": "code",
      "execution_count": 3,
      "metadata": {},
      "outputs": [],
      "source": [
        "// Query books published after 1900\n",
        "async function getBooksPublishedAfter1900() {\n",
        "  const db = await connectToMongo();\n",
        "  const booksCollection = db.collection('books');\n",
        "\n",
        "  try {\n",
        "    const books = await booksCollection.find({ year: { $gt: 1900 } }).toArray();\n",
        "    console.log('Books published after 1900:', books);\n",
        "  } catch (error) {\n",
        "    console.error('Error querying books:', error);\n",
        "  }\n",
        "}\n",
        "\n",
        "// Retrieve books published after 1900\n",
        "getBooksPublishedAfter1900();"
      ]
    },
    {
      "cell_type": "markdown",
      "metadata": {},
      "source": [
        "### Updating Data in MongoDB\n",
        "\n",
        "Next, we'll update the genre of a book. Let's change the genre of '1984' from 'Dystopian' to 'Political Fiction'.\n"
      ]
    },
    {
      "cell_type": "code",
      "execution_count": 4,
      "metadata": {},
      "outputs": [],
      "source": [
        "// Update the genre of '1984'\n",
        "async function updateBookGenre() {\n",
        "  const db = await connectToMongo();\n",
        "  const booksCollection = db.collection('books');\n",
        "\n",
        "  try {\n",
        "    const result = await booksCollection.updateOne(\n",
        "      { title: '1984' },\n",
        "      { $set: { genre: 'Political Fiction' } }\n",
        "    );\n",
        "    console.log(`${result.modifiedCount} document(s) updated.`);\n",
        "  } catch (error) {\n",
        "    console.error('Error updating book genre:', error);\n",
        "  }\n",
        "}\n",
        "\n",
        "// Update book genre\n",
        "updateBookGenre();"
      ]
    },
    {
      "cell_type": "markdown",
      "metadata": {},
      "source": [
        "### Deleting Data from MongoDB\n",
        "\n",
        "Lastly, we will delete a book from the collection. Let's remove 'Moby Dick' from the database.\n"
      ]
    },
    {
      "cell_type": "code",
      "execution_count": 5,
      "metadata": {},
      "outputs": [],
      "source": [
        "// Delete a book from the collection\n",
        "async function deleteBook() {\n",
        "  const db = await connectToMongo();\n",
        "  const booksCollection = db.collection('books');\n",
        "\n",
        "  try {\n",
        "    const result = await booksCollection.deleteOne({ title: 'Moby Dick' });\n",
        "    console.log(`${result.deletedCount} document(s) deleted.`);\n",
        "  } catch (error) {\n",
        "    console.error('Error deleting book:', error);\n",
        "  }\n",
        "}\n",
        "\n",
        "// Delete book\n",
        "deleteBook();"
      ]
    }
  ]
}
