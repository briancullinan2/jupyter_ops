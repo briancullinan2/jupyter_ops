{
 "cells": [
  {
   "cell_type": "markdown",
   "metadata": {},
   "source": [
    "# Quake 3 commands\n",
    "\n",
    "For server and client, for running, configuring, downloading, installing, cloudify, scriptifying, copying, etc.\n",
    "\n",
    "\n"
   ]
  },
  {
   "cell_type": "markdown",
   "metadata": {},
   "source": [
    "## special use cases\n"
   ]
  },
  {
   "cell_type": "markdown",
   "metadata": {},
   "source": [
    "### On Mac it is necessary to quaratine apps\n",
    "\n",
    "That have been downloaded and moved to /Applications when they need to access their own database inside the .app directory:\n"
   ]
  },
  {
   "cell_type": "code",
   "execution_count": null,
   "metadata": {},
   "outputs": [],
   "source": [
    "xattr -d com.apple.quarantine /Applications/ioquake3/ioquake3.app\n",
    "\n",
    "open /Library/Developer/CommandLineTools/Packages/macOS_SDK_headers_for_macOS_10.14.pkg\n",
    "\n",
    "sudo codesign --force --deep --sign - path-to-app.app\n"
   ]
  },
  {
   "cell_type": "markdown",
   "metadata": {
    "heading_collapsed": true
   },
   "source": [
    "### OpenArena on Mac/Linux\n",
    "\n",
    "Requires a chmod because the build process should do this instead:\n"
   ]
  },
  {
   "cell_type": "code",
   "execution_count": null,
   "metadata": {
    "hidden": true
   },
   "outputs": [],
   "source": [
    "chmod +x /Applications/openarena-0.8.8/OpenArena.app/Contents/MacOS/openarena.ub\n",
    "chmod +x \"/Applications/openarena-0.8.8/OpenArena 0.8.8 r28.app/Contents/MacOS/openarena.ub\"\n",
    "\n"
   ]
  },
  {
   "cell_type": "markdown",
   "metadata": {},
   "source": [
    "## server commands\n",
    "\n",
    "Starting, managing servers, etc.\n"
   ]
  },
  {
   "cell_type": "markdown",
   "metadata": {},
   "source": [
    "### starting the server\n"
   ]
  },
  {
   "cell_type": "code",
   "execution_count": 1,
   "metadata": {},
   "outputs": [
    {
     "name": "stdout",
     "output_type": "stream",
     "text": [
      "The file /Users/briancullinan/jupyter_ops/Games/ioquake3-1.36.app does not exist.\n"
     ]
    },
    {
     "ename": "",
     "evalue": "1",
     "output_type": "error",
     "traceback": []
    }
   ],
   "source": [
    "open -n ./ioquake3-1.36.app --args +set fs_game baseq3 +set dedicated 1 +exec ./server.cfg\n",
    "\n",
    "\n",
    "open ./build/release-darwin-x86_64/ioquake3.app/ --args +set dedicated 1 +set fs_basepath ~/.q3a/unpacked +set fs_basegame baseq3-combined-converted +set fs_homepath ~/.q3a/ +map q3dm0\n",
    "\n",
    "./build/release-darwin-x86_64/ioq3ded.x86_64 --args +set ttycon 0 +set fs_basepath /Users/briancullinan/planet_quake_data +set fs_basegame baseq3-combined-converted-repacked +set fs_game baseq3-combined-converted-repacked-menu +set com_gamename Quake3Arena +set sv_pure 1 +map q3tourney5\n"
   ]
  },
  {
   "cell_type": "markdown",
   "metadata": {
    "heading_collapsed": true
   },
   "source": [
    "### creating a VNC quake 3 client\n",
    "\n",
    "Try streaming the game over VNC, is it awful? Kind of, and inputs don't work as expected.\n",
    "\n"
   ]
  },
  {
   "cell_type": "code",
   "execution_count": null,
   "metadata": {
    "hidden": true
   },
   "outputs": [],
   "source": [
    "\n",
    "# working vnc key\n",
    "# VND7Z-M22AB-MQD7R-GAAKF-2B3EA\n",
    "\n",
    "\n",
    "docker run -it --shm-size=2g --name quake3 -d -p 5901:5900 quake3 bash\n"
   ]
  },
  {
   "cell_type": "markdown",
   "metadata": {
    "hidden": true
   },
   "source": [
    "#### client script to start quake as a player\n"
   ]
  },
  {
   "cell_type": "code",
   "execution_count": null,
   "metadata": {
    "hidden": true
   },
   "outputs": [],
   "source": [
    "#!/bin/bash\n",
    "\n",
    "export DISPLAY=:4000\n",
    "\n",
    "/usr/bin/Xvfb $DISPLAY -screen 0 1000x600x24 -dpi 70 -ac +extension RANDR & echo $! > /tmp/xvfb.pid\n",
    "/usr/bin/xinit -display $DISPLAY & echo $! > /tmp/x11.pid\n",
    "\n",
    "/usr/lib/ioquake3/ioquake3 --args +set fs_game missionpack +exec ./client.cfg & echo $! > /tmp/xterm.pid\n",
    "\n",
    "sleep 5\n",
    "/usr/bin/x11vnc -scale 1000x600 -noxdamage -forever -shared -rfbport 5900 -display $DISPLAY -noxrecord & echo $! > /tmp/vnc.pid\n",
    "\n",
    "int_handler()\n",
    "{\n",
    "    kill $(cat /tmp/xterm.pid) 2> /dev/null\n",
    "    kill $(cat /tmp/vnc.pid)\n",
    "    kill $(cat /tmp/x11.pid)\n",
    "    kill $(cat /tmp/xvfb.pid)\n",
    "}\n",
    "\n",
    "trap 'int_handler' INT\n",
    "\n",
    "wait $(cat /tmp/xterm.pid)\n",
    "int_handler\n",
    "\n"
   ]
  },
  {
   "cell_type": "markdown",
   "metadata": {
    "hidden": true
   },
   "source": [
    "#### systemd configurations for quake 3 services\n",
    "\n"
   ]
  },
  {
   "cell_type": "code",
   "execution_count": null,
   "metadata": {
    "hidden": true
   },
   "outputs": [],
   "source": [
    "# quake3-proxy\n",
    "[Unit]\n",
    "Description=Quake proxy service.\n",
    "\n",
    "[Service]\n",
    "Type=simple\n",
    "ExecStart=/usr/bin/node /home/megamindbrian/proxy.js\n",
    "Restart=on-failure\n",
    "\n",
    "[Install]\n",
    "WantedBy=multi-user.target\n",
    "\n",
    "\n",
    "#quake3-server\n",
    "[Unit]\n",
    "Description=Quake server.\n",
    "\n",
    "[Service]\n",
    "Type=simple\n",
    "ExecStart=/home/megamindbrian/ioq3-master/build/release-linux-x86_64/ioq3ded.x86_64 +set fs_homepath /home/megamindbrian/.q3a +set com_hunkMegs 312 +exec server.cfg\n",
    "Restart=on-failure\n",
    "\n",
    "[Install]\n",
    "WantedBy=multi-user.target\n",
    "\n"
   ]
  },
  {
   "cell_type": "markdown",
   "metadata": {},
   "source": [
    "### Done: play quake 3\n",
    "\n",
    "https://quake.games/?set%20name%20player_name\n",
    "\n",
    "clone of https://openarena.live/\n",
    "\n",
    "or http://www.quakejs.com/play?set%20fs_game%20cpma&set%20mode_start%20FFA&set%20g_teamAutoJoin%201&map%20cpm1a\n",
    "\n",
    "\n"
   ]
  },
  {
   "cell_type": "markdown",
   "metadata": {},
   "source": [
    "## client commands\n",
    "\n",
    "Done: drop in to quake 3 browser with server backend. configured. shared. hosted. offer to invite friends with a link.\n",
    "\n"
   ]
  },
  {
   "cell_type": "markdown",
   "metadata": {},
   "source": [
    "### starting the client\n",
    "\n"
   ]
  },
  {
   "cell_type": "code",
   "execution_count": null,
   "metadata": {},
   "outputs": [],
   "source": [
    "open -n ./ioquake3-1.36.app --args +set fs_game baseq3 +exec ./client.cfg\n",
    "\n",
    "open -n /Users/briancullinan/planet_quake/build/release-darwin-x86_64/ioquake3.app --args +set fs_basepath /Applications/ioquake3 +set fs_homepath /Users/briancullinan/.q3a +set fs_restrict 0 +set sv_pure 0 +set sv_cheats 1 +set cheats 1 +set developer 1 +set logfile 1 +set fs_game baseq2vm +map base2-a\n",
    "\n",
    "open -n /Users/briancullinan/planet_quake/build/release-darwin-x86_64/ioquake3.app --args +set fs_basepath /Applications/ioquake3 +set fs_homepath /Users/briancullinan/.q3a +set fs_restrict 0 +set sv_pure 0 +set sv_cheats 1 +set cheats 1 +set developer 1 +set logfile 1 +set fs_game baseq2vm +set r_showtris 0 +devmap base2-a\n",
    "\n",
    "open -n ./build/release-darwin-x86_64/ioquake3.app --args +set fs_basepath /Users/briancullinan/.q3a/unpacked +set fs_homepath /Users/briancullinan/.q3a/unpacked +set fs_restrict 0 +set sv_pure 0 +set sv_cheats 1 +set cheats 1 +set developer 1 +set logfile 1 +set fs_game baseq3-combined-converted +devmap \"Full stadium 2\"\n",
    "\n",
    "\n",
    "open -n /Users/briancullinan/planet_quake/build/release-darwin-x86_64/ioquake3.app --args +set fs_basepath /Users/briancullinan/.q3a/unpacked +set fs_homepath /Users/briancullinan/.q3a +set fs_restrict 0 +set sv_pure 0 +set sv_cheats 1 +set cheats 1 +set developer 1 +set logfile 1 +set fs_game baseq3-combined-converted\n",
    "\n",
    "\n",
    "./build/debug-darwin-x86_64/quake3e +set fs_basepath /Applications/ioquake3 +set fs_game baseq3 +set sv_pure 0 +set net_enable 1 +set recentPassword \"recentPassword\" +set timescale 8 +set developer 1 +set dedicated 0 +bind leftarrow rewind +bind rightarrow forward +demo baseq3_1_map_2_matches\n",
    "\n"
   ]
  },
  {
   "cell_type": "markdown",
   "metadata": {},
   "source": [
    "## mapping commands\n",
    "\n",
    "Commands for building maps, managing assets, converting designs, etc.\n",
    "\n"
   ]
  },
  {
   "cell_type": "markdown",
   "metadata": {},
   "source": [
    "### build quake 3 maps (q3map2)"
   ]
  },
  {
   "cell_type": "code",
   "execution_count": null,
   "metadata": {},
   "outputs": [],
   "source": [
    "q3map2.exe -convert -light -format map -fs_basepath Z:\\.q3a -game baseq3 -v Z:\\.q3a\\baseq3\\acid3dm5.pk3dir\\maps\\acid3dm5.bsp\n",
    "\n",
    "\n",
    "q3map2.exe -convert -light -format map -fs_basepath Z:\\.quake2 -game baseq2 -v Z:\\.quake2\\baseq2\\pak0.pak\\maps\\base1.bsp\n",
    "\n",
    "\n",
    "\n",
    "./q3map2 -meta -v -fs_basepath /Applications/ioquake3/unpacked -game baseq3 /Applications/ioquake3/unpacked/acid3dm5.pk3dir/maps/acid3dm5_converted.map\n",
    "./q3map2 -vis -v -fs_basepath /Applications/ioquake3/unpacked -game baseq3 /Applications/ioquake3/unpacked/acid3dm5.pk3dir/maps/acid3dm5_converted.map\n",
    "\n",
    "./q3map2 -bsp -meta -patchmeta -v -fs_basepath /Applications/ioquake3/unpacked -game baseq3 /Applications/ioquake3/unpacked/acid3dm5.pk3dir/maps/acid3dm5_converted.map\n",
    "\n",
    "./q3map2 -convert ase -v -fs_basepath /Applications/ioquake3/unpacked -game baseq3 /Applications/ioquake3/unpacked/acid3dm5.pk3dir/maps/acid3dm5_converted.map     \n",
    "\n",
    "./q3map2 -light -fast -patchshadows -samples 3 -bounce 8 -gamma 2 -compensate 4 -dirty -v -fs_basepath /Applications/ioquake3/unpacked -game baseq3 /Applications/ioquake3/unpacked/acid3dm5.pk3dir/maps/acid3dm5_converted.map\n",
    "\n",
    "/Applications/GtkRadiant.app/Contents/Resources/install/q3map2 -game quake3 -fs_basepath /Applications/ioquake3/ -fs_game baseq2 -meta ~/planet_quake_data/quake2-baseq2/pak0.pk3dir/maps/base1.map\n",
    "\n",
    "/Applications/GtkRadiant.app/Contents/Resources/install/q3map2 -game quake3 -fs_basepath /Applications/ioquake3/ -fs_game baseq3 -light _keeplights  -fast ~/planet_quake_data/quake2-baseq2/pak0.pk3dir/maps/base1.map\n",
    "\n",
    "/Applications/GtkRadiant.app/Contents/Resources/install/q3map2 -game quake3 -fs_basepath /Applications/ioquake3/ -fs_game baseq3 -vis _keeplights ~/planet_quake_data/quake2-baseq2/pak0.pk3dir/maps/base1.map\n",
    "\n",
    "# normalize a bsp vectors all at once\n",
    "/Applications/NetRadiant.app/Contents/MacOS/install/q3map2.bin -game quake3 -fs_basepath /Applications/ioquake3/ -fs_game baseq2 -convert -format map -readmap ~/planet_quake_data/quake2-baseq2/pak0.pk3dir/maps/base2.map\n",
    "\n",
    "\n",
    "/Applications/GtkRadiant.app/Contents/Resources/install/q3map2 -game quake3 -fs_basepath /Applications/ioquake3/ -fs_game baseq2 -meta _keeplights ~/planet_quake_data/quake2-baseq2/pak0.pk3dir/maps/base2-a.map\n",
    "\n"
   ]
  },
  {
   "cell_type": "markdown",
   "metadata": {},
   "source": [
    "### convert a bsp to map\n",
    "\n",
    "\n",
    "TODO: figure out where lights come from and add them to converted map since they are removed for quake 3 maps (unecessary because of how lightmaps work, but makes decompiling worse)\n",
    "\n"
   ]
  },
  {
   "cell_type": "markdown",
   "metadata": {},
   "source": [
    "#### convert a quake 2 bsp to map\n"
   ]
  },
  {
   "cell_type": "code",
   "execution_count": null,
   "metadata": {},
   "outputs": [],
   "source": [
    "\n",
    "\n",
    "Z:\\Downloads\\netradiant-custom-win64\\netradiant-custom-20190705\\mbspc.exe -bsp2map Z:\\.quake2\\baseq2\\pak0.pak\\maps\\base1.bsp\n",
    "\n",
    "for /r %%v in (*.bsp) do (\n",
    "    cd \"%%~dpv\"\n",
    "    \"Z:\\planet_quake_data\\tools\\mbspc.exe\" -bsp2map \"%%~nv.bsp\")\n",
    "\n",
    "for /r %%v in (*.md2) do \"Z:\\planet_quake_data\\tools\\qwalk\\modelconv.exe\" -i \"%%v\" \"%%~dpv%%~nv.md3\"\n",
    "\n",
    "\n",
    "/Applications/GtkRadiant.app/Contents/Resources/install/q3map2 -game quake3 -fs_basepath /Applications/ioquake3/ -fs_game baseq3 -convert -format map ~/planet_quake_data/quake3-baseq3/pak0.pk3dir/maps/q3tourney6.bsp\n",
    "\n",
    "for i in $(find \"$(pwd -P)\" -iname '*.bsp'); \\\n",
    "do if [ ! -f \"${i%.*}.map\" ]; \\\n",
    "then pushd $(dirname \"$i\"); \\\n",
    "/Users/briancullinan/netradiant-custom/tools/mbspc/build/macosx/mbspc -bsp2map $(basename \"$i\"); \\\n",
    "popd; \\\n",
    "fi; \\\n",
    "done;\n",
    "\n",
    "# normalize brushes verteces using q3map2\n",
    "for i in $(find \"$(pwd -P)\" -iname '*.bsp'); \\\n",
    "do if [ ! -f \"${i%.*}_converted.map\" ]; \\\n",
    "then pushd $(dirname \"$i\"); \\\n",
    "/Applications/NetRadiant.app/Contents/MacOS/install/q3map2.bin -game quake3 -fs_basepath /Applications/ioquake3/ -fs_game baseq2 -convert -format map -readmap $(basename \"${i%.*}.map\")\n",
    "popd; \\\n",
    "fi; \\\n",
    "done;\n",
    "\n",
    "\n",
    "# run the entire process for a single map\n",
    "i=\"/Users/briancullinan/planet_quake_data/quake2-baseq2/pak0.pk3dir/maps/base2.map\"; \\\n",
    "pushd $(dirname \"$i\"); \\\n",
    "/Users/briancullinan/planet_quake_data/tools/mbspc/build/macosx/mbspc -bsp2map $(basename \"${i%.*}.bsp\"); \\\n",
    "/Applications/NetRadiant.app/Contents/MacOS/install/q3map2.bin -game quake3 -fs_basepath /Applications/ioquake3/ -fs_game baseq2 -convert -format map -readmap $(basename \"${i%.*}.map\");\n",
    "\n",
    "# convert acting on nicely formated verteces\n",
    "pushd /Users/briancullinan/jupyter_ops/; \\\n",
    "npm run import \"convert quake 2 map\" -- \"['${i%.*}_converted.map']\"; \\\n",
    "npm run import \"split map hints\" -- \"['${i%.*}_converted.map']\";\n",
    "\n",
    "# compile hinted maps\n",
    "/Applications/GtkRadiant.app/Contents/Resources/install/q3map2 -game quake3 -fs_basepath /Applications/ioquake3/ -fs_game baseq2 -meta _keeplights \"${i%.*}-a.map\"; \\\n",
    "/Applications/GtkRadiant.app/Contents/Resources/install/q3map2 -game quake3 -fs_basepath /Applications/ioquake3/ -fs_game baseq2 -meta _keeplights \"${i%.*}-b.map\"; \\\n",
    "/Applications/GtkRadiant.app/Contents/Resources/install/q3map2 -game quake3 -fs_basepath /Applications/ioquake3/ -fs_game baseq2 -meta _keeplights \"${i%.*}-c.map\";\n",
    "\n",
    "/Applications/NetRadiant.app/Contents/MacOS/install/q3map2.bin -game quake3 -fs_basepath /Applications/ioquake3/ -fs_game baseq2 -meta _keeplights \"${i%.*}_converted.map\"\n",
    "\n",
    "popd\n",
    "popd\n",
    "\n",
    "\n"
   ]
  },
  {
   "cell_type": "markdown",
   "metadata": {},
   "source": [
    "#### convert textures to TGA\n"
   ]
  },
  {
   "cell_type": "code",
   "execution_count": null,
   "metadata": {},
   "outputs": [],
   "source": [
    "\n",
    "for /r %%v in (*.wal) do \"Z:\\planet_quake_data\\tools\\Wal2TGA\\wal2tga copy.exe\" \"%%v\" \"%%~dpv%%~nv.tga\"\n",
    "\n",
    "# TODO: bash uses glob, windows can use \"or\" keyword\n",
    "#windows\n",
    "for /r %%v in (*.pcx or *.jpg or *.jpeg) do convert -colorspace RGB \"%%v\" \"%%~dpv%%~nv.tga\" ; done\n",
    "\n",
    "#bash\n",
    "for i in $(find . -iname '*.pcx' -o -iname '*.jpg' -o -iname '*.jpeg' -o -iname '*.tga'); \\\n",
    "do if [ ! -f \"${i%.*}.tga\" ]; \\\n",
    "then convert -colorspace RGB \"$i\" \"${i%.*}.tga\"; \\\n",
    "fi; \\\n",
    "done;\n",
    "\n",
    "\n",
    "convert -colorspace RGB pak0.pk3dir/models/deadbods/dude/dead1.pcx pak0.pk3dir/models/deadbods/dude/dead1.tga\n"
   ]
  },
  {
   "cell_type": "markdown",
   "metadata": {
    "heading_collapsed": true
   },
   "source": [
    "#### convert wav files to opus for use with web\n",
    "\n"
   ]
  },
  {
   "cell_type": "code",
   "execution_count": null,
   "metadata": {
    "hidden": true
   },
   "outputs": [],
   "source": [
    "\n",
    "for /r %%v in (*.wav) do opusenc \"%%v\" \"%%~dpv%%~nv.opus\"\n",
    "\n",
    "#TODO: WOOOO! Bash pattern, convert this with transpiler to match linux loops with same filename extension operation\n",
    "#bash\n",
    "for i in $(find . -iname '*.wav'); do opusenc \"$i\" \"${i%.wav}\".opus; done\n",
    "\n",
    "for i in $(find . -iname '*.wav'); do echo \"$i\"; done\n"
   ]
  },
  {
   "cell_type": "markdown",
   "metadata": {
    "heading_collapsed": true
   },
   "source": [
    "### TODO: collect these doom maps\n"
   ]
  },
  {
   "cell_type": "code",
   "execution_count": null,
   "metadata": {
    "hidden": true
   },
   "outputs": [],
   "source": [
    "\n",
    "-q3twodeaths (dm1)\n",
    "-q3claustro (dm2)\n",
    "-q3badplace (dm4)\n",
    "-q3cistern (dm5)\n",
    "-q3darkzone (dm6)\n",
    "-q3death32c (original map by (i dunno))\n",
    "-q3ultrav (original map by escher)\n",
    "-q3abandoned (dm3)\n",
    "-q3chthon (e1m7)\n",
    "-q3start (introduction)\n",
    "-q3debello (original map by escher)\n",
    "\n"
   ]
  },
  {
   "cell_type": "markdown",
   "metadata": {
    "heading_collapsed": true
   },
   "source": [
    "### TODO: get map2q3 ported to javascript \n",
    "\n",
    "Because of \"brush line limit\" error, lame. Can't recompile either.\n"
   ]
  },
  {
   "cell_type": "code",
   "execution_count": null,
   "metadata": {
    "hidden": true
   },
   "outputs": [],
   "source": [
    "\n",
    "\n",
    "\n",
    "Z:\\Downloads\\map2q3\\bin\\win32\\map2q3.exe -s Z:\\.quake2\\baseq2\\pak0.pak\\maps\\base1.bsp -q2\n",
    "\n"
   ]
  },
  {
   "cell_type": "markdown",
   "metadata": {},
   "source": [
    "## building commands\n",
    "\n"
   ]
  },
  {
   "cell_type": "markdown",
   "metadata": {},
   "source": [
    "### building game files\n"
   ]
  },
  {
   "cell_type": "code",
   "execution_count": null,
   "metadata": {},
   "outputs": [],
   "source": []
  },
  {
   "cell_type": "markdown",
   "metadata": {},
   "source": [
    "### building the engine"
   ]
  },
  {
   "cell_type": "code",
   "execution_count": null,
   "metadata": {},
   "outputs": [],
   "source": [
    "cmake -G \"Unix Makefiles\" -H. -Bbuild -DCMAKE_BUILD_TYPE=Release -DCMAKE_C_COMPILER=/usr/local/bin/gcc-9 -DCMAKE_CXX_COMPILER=/usr/local/bin/g++-9\n",
    "\n",
    "./code/xquakejs/lib/emsdk/upstream/emscripten/emcc -O1 -s STANDALONE_WASM -s EXPORTED_FUNCTIONS=\"['_MSG_initHuffman', '_Huff_Decompress', '_Huff_Compress']\" -s EXPORT_NAME=\"huffman\" ./code/xquakejs/lib/huffman.c -o ./code/xquakejs/lib/huffman.js\n",
    "\n",
    "./code/xquakejs/lib/emsdk/upstream/emscripten/emcc -O1 -s SAFE_HEAP=1 -s WASM=0 -s EXTRA_EXPORTED_RUNTIME_METHODS=\"['getValue', 'allocate']\" -s EXPORTED_FUNCTIONS=\"['_MSG_initHuffman', '_Huff_Decompress', '_Huff_Compress', '_HuffmanGetSymbol']\" -s EXPORT_NAME=\"huffman\" ./code/xquakejs/lib/huffman.c -o ./code/xquakejs/lib/huffman.js\n",
    "\n",
    "./dpmaster -L --log-file /Users/briancullinan/Downloads/dpmaster-2.2/dpmaster.log -v -g Quake3Arena options=send-empty-servers\n",
    "\n"
   ]
  },
  {
   "cell_type": "markdown",
   "metadata": {},
   "source": [
    "### misc commands\n",
    "\n"
   ]
  },
  {
   "cell_type": "markdown",
   "metadata": {},
   "source": [
    "#### extract linux quake3 image\n"
   ]
  },
  {
   "cell_type": "code",
   "execution_count": null,
   "metadata": {},
   "outputs": [],
   "source": [
    "\n",
    "tail -n +165 linuxq3ademo.gz.sh | gzip -cd | tar xf -\n",
    "\n"
   ]
  },
  {
   "cell_type": "markdown",
   "metadata": {},
   "source": [
    "### build script"
   ]
  },
  {
   "cell_type": "code",
   "execution_count": null,
   "metadata": {
    "vscode": {
     "languageId": "shellscript"
    }
   },
   "outputs": [],
   "source": [
    "#bash\n",
    "for i in $(find . -iname '*.bsp' -o -iname '*.map'); do\n",
    "if [[ ! \"$i\" =~ concepts/ ]]; then\n",
    "if [[ ! \"$i\" =~ autosave/ ]]; then\n",
    "if [[ ! \"$i\" =~ quarantine/ ]]; then\n",
    "\n",
    "if [ ! -f \"${i%.*}.map\" ]; then\n",
    "if [ -f \"${i%.*}_converted.map\" ]; then\n",
    "mv \"${i%.*}_converted.map\"  \"${i%.*}.map\";\n",
    "fi;\n",
    "fi;\n",
    "\n",
    "\n",
    "if [ ! -f \"${i%.*}.map\" ]; then\n",
    "if [ -f \"${i%.*}.bsp\" ]; then\n",
    "~/Quake3e/build/release-darwin-arm/quake3e_q3map2 -convert -format map -keeplights -game quake3 -fs_basepath /Users/briancullinan/planet_quake_data -fs_game quake3-baseq3 \"${i%.*}.bsp\";\n",
    "mv \"${i%.*}_converted.map\"  \"${i%.*}.map\";\n",
    "fi;\n",
    "fi;\n",
    "\n",
    "\n",
    "# comment out this line and third fi; to replace existing bsps?\n",
    "if [ ! -f \"${i%.*}.bsp\" ]; then\n",
    "if [ -f \"${i%.*}.map\" ]; then\n",
    "if [ $(wc -c <\"${i%.*}.map\") -le 100000 ]; then\n",
    "~/Quake3e/build/release-darwin-arm/quake3e_q3map2 -meta -keeplights -game quake3 -fs_basepath /Users/briancullinan/planet_quake_data -fs_game quake3-baseq3 \"${i%.*}.map\";\n",
    "~/Quake3e/build/release-darwin-arm/quake3e_q3map2 -light -fast -game quake3 -fs_basepath /Users/briancullinan/planet_quake_data -fs_game quake3-baseq3 \"${i%.*}.bsp\";\n",
    "fi;\n",
    "fi;\n",
    "fi;\n",
    "\n",
    "\n",
    "# if [ -f \"${i%.*}.bsp\" ]; then\n",
    "# if [ $(wc -c <\"${i%.*}.bsp\") -le 900000 ]; then\n",
    "# /Applications/Blender.app/Contents/MacOS/Blender --python ../model-convert.py -- \"${i%.*}.bsp\";\n",
    "# fi;\n",
    "# fi;\n",
    "\n",
    "# if it still doesn't exist \n",
    "\n",
    "# if [ ! -f \"${i%.*}.md3\" ]; then\n",
    "# if [ ! -f \"${i%.*}-half.md3\" ]; then\n",
    "\n",
    "# if [ -f \"${i%.*}.map\" ]; then\n",
    "# if [ $(wc -c <\"${i%.*}.map\") -le 900000 ]; then\n",
    "# /Applications/Blender.app/Contents/MacOS/Blender --python ../model-convert.py -- \"${i%.*}.map\";\n",
    "# fi;\n",
    "# fi;\n",
    "\n",
    "# fi;\n",
    "# fi;\n",
    "\n",
    "fi;\n",
    "fi;\n",
    "fi;\n",
    "done;\n",
    "\n"
   ]
  }
 ],
 "metadata": {
  "kernelspec": {
   "display_name": "Bash",
   "language": "bash",
   "name": "bash"
  },
  "language_info": {
   "codemirror_mode": "shell",
   "file_extension": ".sh",
   "mimetype": "text/x-sh",
   "name": "bash"
  },
  "toc": {
   "base_numbering": 1,
   "nav_menu": {},
   "number_sections": true,
   "sideBar": true,
   "skip_h1_title": false,
   "title_cell": "Table of Contents",
   "title_sidebar": "Contents",
   "toc_cell": false,
   "toc_position": {},
   "toc_section_display": true,
   "toc_window_display": false
  }
 },
 "nbformat": 4,
 "nbformat_minor": 2
}
