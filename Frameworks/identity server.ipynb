{
 "cells": [
  {
   "cell_type": "markdown",
   "metadata": {},
   "source": [
    "How to use identity server 3\n"
   ]
  },
  {
   "cell_type": "code",
   "execution_count": null,
   "metadata": {
    "collapsed": false,
    "inputHidden": false,
    "outputHidden": false
   },
   "outputs": [
    {
     "ename": "SyntaxError",
     "evalue": "Unexpected string",
     "output_type": "error",
     "traceback": [
      "/Users/briancullinan/jupytangular2/Core/import notebook.ipynb:217",
      "    'import notebook.ipynb[9]': interpretAll,",
      "    ^^^^^^^^^^^^^^^^^^^^^^^^^^",
      "SyntaxError: Unexpected string",
      "    at Object.exports.runInThisContext (vm.js:76:16)",
      "    at Module._compile (module.js:528:28)",
      "    at importer (/Users/briancullinan/jupytangular2/Core/index.js:16:19)",
      "    at Object.<anonymous> (/Users/briancullinan/jupytangular2/Core/index.js:20:5)",
      "    at Module._compile (module.js:556:32)",
      "    at Object.Module._extensions..js (module.js:565:10)",
      "    at Module.load (module.js:473:32)",
      "    at tryModuleLoad (module.js:432:12)",
      "    at Function.Module._load (module.js:424:3)",
      "    at Module.require (module.js:483:17)"
     ]
    }
   ],
   "source": [
    "var path = require('path');\n",
    "var fs = require('fs');\n",
    "var importer = require('../Core');\n",
    "var writeFileSync = fs.writeFileSync;\n",
    "\n",
    "var GITHUB_TOKEN = path.join(\n",
    "    process.env.HOME || process.env.HOMEPATH || process.env.USERPROFILE, '.credentials',\n",
    "    'github_token.txt');\n",
    "\n",
    "// add some run commands to the bash script\n",
    "var bashToRun = (code) => code.split('\\n').map(l => 'RUN ' + l)\n",
    "    .join('\\n').replace(/\\\\\\s*\\nRUN\\s*/ig, '\\\\\\n ');\n",
    "\n",
    "// create a selenium Dockerfile with a vnc connection\n",
    "var identityDockerfile = (output) => {\n",
    "    var DOCKERFILE = path.resolve(path.join(output, 'Dockerfile'));\n",
    "    return importer.interpret([\n",
    "        'run Mono',\n",
    "        'linux dev tools',\n",
    "        'act identity repository',\n",
    "        'build mono'\n",
    "    ]).then(r => {\n",
    "        // lets fix the middle result\n",
    "        r[1].code = bashToRun(r[1].code);\n",
    "        r[2].code = bashToRun(r[2].code)\n",
    "            .replace('{username}', fs.readFileSync(GITHUB_TOKEN));\n",
    "        r[3].code = bashToRun(r[3].code);\n",
    "        return r.map(r => r.code).join('\\n');\n",
    "    })\n",
    "        .then(r => {\n",
    "            // save the Dockerfile\n",
    "            writeFileSync(DOCKERFILE, r);\n",
    "            return r;\n",
    "        });\n",
    "};\n",
    "(identityDockerfile);\n"
   ]
  },
  {
   "cell_type": "code",
   "execution_count": 2,
   "metadata": {
    "collapsed": false,
    "inputHidden": false,
    "outputHidden": false
   },
   "outputs": [
    {
     "data": {
      "text/plain": [
       "Promise { <pending> }"
      ]
     },
     "execution_count": 2,
     "metadata": {},
     "output_type": "execute_result"
    }
   ],
   "source": [
    "var DOCKERFILE = path.resolve(__dirname);\n",
    "identityDockerfile(DOCKERFILE)"
   ]
  },
  {
   "cell_type": "markdown",
   "metadata": {},
   "source": [
    "How to set up identity server?"
   ]
  },
  {
   "cell_type": "code",
   "execution_count": 3,
   "metadata": {
    "collapsed": false,
    "inputHidden": false,
    "outputHidden": false
   },
   "outputs": [
    {
     "data": {
      "text/plain": [
       "[Function: getIdentityServer]"
      ]
     },
     "execution_count": 3,
     "metadata": {},
     "output_type": "execute_result"
    }
   ],
   "source": [
    "var path = require('path');\n",
    "// TODO: fix mono build step\n",
    "var execSync = require('child_process').execSync;\n",
    "var getIdentityServer = (name = 'act-identity') => {\n",
    "    var DOCKERFILE = path.resolve(__dirname);\n",
    "    return identityDockerfile(DOCKERFILE)\n",
    "        .then(r => execSync('docker build -t ' + name + ' \"' + DOCKERFILE + '\"').toString())\n",
    "        .then(r => {\n",
    "            var ps = execSync('docker ps -a').toString();\n",
    "            if (ps.indexOf(name) !== -1) {\n",
    "                return r\n",
    "                    + execSync('docker stop ' + name).toString()\n",
    "                    + execSync('docker rm ' + name).toString();\n",
    "            }\n",
    "            return '';\n",
    "        })\n",
    "        .then(r => r + execSync('docker run --name ' + name + ' ' + name).toString())\n",
    "        // wait for process to start\n",
    "        .then(() => new Promise((resolve, reject) =>\n",
    "            setTimeout(resolve, 5000)));\n",
    "};\n",
    "(getIdentityServer);\n"
   ]
  },
  {
   "cell_type": "code",
   "execution_count": 19,
   "metadata": {
    "collapsed": false,
    "inputHidden": false,
    "outputHidden": false
   },
   "outputs": [],
   "source": [
    "$$.async();\n",
    "getIdentityServer()\n",
    "    .then(r => $$.sendResult(r))\n",
    "    .catch(e => $$.sendError(e));\n"
   ]
  },
  {
   "cell_type": "code",
   "execution_count": null,
   "metadata": {
    "collapsed": false,
    "inputHidden": false,
    "outputHidden": false
   },
   "outputs": [],
   "source": []
  },
  {
   "cell_type": "code",
   "execution_count": null,
   "metadata": {
    "collapsed": false,
    "inputHidden": false,
    "outputHidden": false
   },
   "outputs": [],
   "source": []
  }
 ],
 "metadata": {
  "kernel_info": {
   "name": "node_nteract"
  },
  "kernelspec": {
   "display_name": "Javascript (Node.js)",
   "language": "javascript",
   "name": "javascript"
  },
  "language_info": {
   "file_extension": ".js",
   "mimetype": "application/javascript",
   "name": "javascript",
   "version": "7.7.2"
  }
 },
 "nbformat": 4,
 "nbformat_minor": 4
}
