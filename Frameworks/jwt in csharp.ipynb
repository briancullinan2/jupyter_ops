{
 "cells": [
  {
   "cell_type": "markdown",
   "metadata": {},
   "source": [
    "How to use JSON web tokens in C#?"
   ]
  },
  {
   "cell_type": "code",
   "execution_count": null,
   "metadata": {
    "collapsed": false,
    "inputHidden": false,
    "outputHidden": false
   },
   "outputs": [],
   "source": [
    "\n",
    "// The above should get System.Net from GAC\n",
    "using System.Net;\n",
    "\n",
    "string GetUrlContent(string uri)\n",
    "{\n",
    "\n",
    "    WebClient\n",
    "    client = new WebClient();\n",
    "\n",
    "    using(Stream\n",
    "    data = client.OpenRead(uri)\n",
    ")\n",
    "    {\n",
    "        using(StreamReader\n",
    "        reader = new StreamReader(data)\n",
    "    )\n",
    "        {\n",
    "            string\n",
    "            s = reader.ReadToEnd();\n",
    "            return s;\n",
    "        }\n",
    "    }\n",
    "\n",
    "}\n",
    "\n",
    "GetUrlContent('http://zohaib.me');\n"
   ]
  },
  {
   "cell_type": "code",
   "execution_count": null,
   "metadata": {
    "collapsed": false,
    "inputHidden": false,
    "outputHidden": false
   },
   "outputs": [],
   "source": []
  }
 ],
 "metadata": {
  "kernel_info": {
   "name": "icsharp"
  },
  "kernelspec": {
   "display_name": "CSharp",
   "language": "csharp",
   "name": "icsharp"
  }
 },
 "nbformat": 4,
 "nbformat_minor": 4
}
