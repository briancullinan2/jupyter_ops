{
 "cells": [
  {
   "cell_type": "markdown",
   "metadata": {},
   "source": [
    "# What is Docker?\n",
    "\n",
    "Lets download and find out ;)\n",
    "\n",
    "## 1\n",
    "[Download Docker](https://download.docker.com/win/stable/InstallDocker.msi)\n",
    "and install then skip to step 2.\n",
    "\n",
    "For Docker on Windows see [How to install Docker on Windows](//How%20To%20install%20Docker%20on%20Windows.ipynb)\n",
    "\n",
    "For Docker on Mac see [How to install Docker on Mac](//How%20To%20install%20Docker%20on%20Windows.ipynb)\n"
   ]
  },
  {
   "cell_type": "code",
   "execution_count": 6,
   "metadata": {
    "inputHidden": false,
    "outputHidden": false
   },
   "outputs": [
    {
     "ename": "ReferenceError",
     "evalue": "runNotebook is not defined",
     "output_type": "error",
     "traceback": [
      "ReferenceError: runNotebook is not defined",
      "    at evalmachine.<anonymous>:7:5",
      "    at ContextifyScript.Script.runInThisContext (vm.js:25:33)",
      "    at Object.exports.runInThisContext (vm.js:77:17)",
      "    at run ([eval]:613:19)",
      "    at onRunRequest ([eval]:384:22)",
      "    at onMessage ([eval]:352:17)",
      "    at emitTwo (events.js:106:13)",
      "    at process.emit (events.js:191:7)",
      "    at process.nextTick (internal/child_process.js:744:12)",
      "    at _combinedTickCallback (internal/process/next_tick.js:67:7)"
     ]
    }
   ],
   "source": [
    "$$.async();\n",
    "var path = require('path');\n",
    "if (process.platform === 'win32') {\n",
    "    var notebook = 'How to install Docker on Windows.ipynb';\n",
    "} else if (process.platform === 'darwin') {\n",
    "    var notebook = 'How to install Docker on Mac.ipynb';\n",
    "} else {\n",
    "    $$.done('docker not installed');\n",
    "}"
   ]
  },
  {
   "cell_type": "markdown",
   "metadata": {},
   "source": [
    "Create a Docker container with some dev tools:\n",
    "* selenium (xvfb, x11vnc, novnc, mocha)\n",
    "* source code (git, act.ecommerce, angular-cli)\n",
    "\n",
    "Start from the selenium-chrome-debug image"
   ]
  },
  {
   "cell_type": "markdown",
   "metadata": {},
   "source": [
    "## 2\n",
    "\n",
    "Create a Docker file and project directory."
   ]
  },
  {
   "cell_type": "markdown",
   "metadata": {},
   "source": [
    "## 3\n",
    "Build the Docker image\n",
    "\n",
    "selenium docker?\n",
    "\n"
   ]
  },
  {
   "cell_type": "code",
   "execution_count": null,
   "metadata": {},
   "outputs": [],
   "source": [
    "var importer = require('../Core');\n",
    "var fs = require('fs');\n",
    "\n",
    "// add some run commands to the bash script\n",
    "function bashToRun(code) {\n",
    "    return code.split('\\n').filter(n => n.trim().length > 0).map(l => 'RUN ' + l.trim())\n",
    "    .join('\\n').replace(/\\\\\\s*\\nRUN\\s*/ig, '\\\\\\n ');\n",
    "}\n",
    "\n",
    "// create a selenium Dockerfile with a vnc connection\n",
    "function seleniumDocker(outputFile) {\n",
    "    const r = importer.interpret([\n",
    "        'run selenium inside docker',\n",
    "        'linux dev tools',\n",
    "        'vnc html',\n",
    "        'vnc in docker'\n",
    "    ]);\n",
    "    console.log(r);\n",
    "    // save the Dockerfile\n",
    "    fs.writeFileSync(outputFile, [\n",
    "        r[0].code,\n",
    "        // convert some results to Docker RUN commands instead of bash\n",
    "        bashToRun(r[1].code),\n",
    "        bashToRun(r[2].code),\n",
    "        r[3].code,\n",
    "    ].join('\\n'));\n",
    "    return r;\n",
    "};\n",
    "module.exports = seleniumDocker;\n"
   ]
  },
  {
   "cell_type": "markdown",
   "metadata": {
    "inputHidden": false,
    "outputHidden": false
   },
   "source": [
    "## 4\n",
    "\n",
    "Run your Docker container"
   ]
  }
 ],
 "metadata": {
  "kernel_info": {
   "name": "node_nteract"
  },
  "kernelspec": {
   "display_name": "Javascript (Node.js)",
   "language": "javascript",
   "name": "javascript"
  },
  "language_info": {
   "file_extension": ".js",
   "mimetype": "application/javascript",
   "name": "javascript",
   "version": "12.7.0"
  }
 },
 "nbformat": 4,
 "nbformat_minor": 4
}
