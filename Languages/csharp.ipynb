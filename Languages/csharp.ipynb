{
 "cells": [
  {
   "cell_type": "markdown",
   "metadata": {},
   "source": [
    "\n",
    "rosetta euler csharp 005?\n"
   ]
  },
  {
   "cell_type": "code",
   "execution_count": null,
   "metadata": {
    "vscode": {
     "languageId": "csharp"
    }
   },
   "outputs": [],
   "source": [
    "using System;\n",
    "using System.Collections.Generic;\n",
    "using System.Linq;\n",
    "using System.Threading.Tasks;\n",
    "\n",
    "namespace Rosetta\n",
    "{\n",
    "    public class Euler\n",
    "    {\n",
    "        public async Task<object> RunEuler(dynamic input)\n",
    "        {\n",
    "            return await Task.Run(() => new Euler().Main().ToString());\n",
    "        }\n",
    "\n",
    "        public static void Main(string[] args)\n",
    "        {\n",
    "            Console.WriteLine(\"{0}\", new Euler().Calculate());\n",
    "        }\n",
    "\n",
    "        public ulong Calculate()\n",
    "        {\n",
    "            List<List<ulong>> primeFactorLists = new List<List<ulong>>();\n",
    "\n",
    "            for (ulong x = 1; x <= 20; x++)\n",
    "            {\n",
    "                primeFactorLists.Add(PrimeFactors(x));\n",
    "            }\n",
    "\n",
    "            List<ulong> factors = new List<ulong>();\n",
    "\n",
    "            for (int i = 0; i < 20; i++)\n",
    "            {\n",
    "                factors = Overlap(factors, primeFactorLists[i]);\n",
    "            }\n",
    "\n",
    "            return factors.Aggregate((product, factor) => product * factor);\n",
    "        }\n",
    "\n",
    "        public List<ulong> Overlap(List<ulong> a, List<ulong> b)\n",
    "        {\n",
    "            for (int i = 0; i < b.Count; i++)\n",
    "            {\n",
    "                a.Remove(b[i]);\n",
    "            }\n",
    "\n",
    "            a.AddRange(b);\n",
    "\n",
    "            return a;\n",
    "        }\n",
    "\n",
    "        public List<ulong> PrimeFactors(ulong n)\n",
    "        {\n",
    "            bool found = false;\n",
    "\n",
    "            ulong v = 2;\n",
    "\n",
    "            for (ulong i = 2; i < n - 1; i++)\n",
    "            {\n",
    "                if (n % i == 0)\n",
    "                {\n",
    "                    found = true;\n",
    "\n",
    "                    v = i;\n",
    "\n",
    "                    break;\n",
    "                }\n",
    "            }\n",
    "\n",
    "            List<ulong> result = new List<ulong>();\n",
    "\n",
    "            if (found)\n",
    "            {\n",
    "                result.Add(v);\n",
    "\n",
    "                result = result.Concat(PrimeFactors(n / v)).ToList();\n",
    "            }\n",
    "            else\n",
    "            {\n",
    "                result.Add(n);\n",
    "            }\n",
    "\n",
    "            return result;\n",
    "        }\n",
    "    }\n",
    "\n",
    "}\n",
    "\n"
   ]
  },
  {
   "cell_type": "markdown",
   "metadata": {},
   "source": [
    "\n",
    "test edge.js?\n"
   ]
  },
  {
   "cell_type": "code",
   "execution_count": null,
   "metadata": {
    "vscode": {
     "languageId": "javascript"
    }
   },
   "outputs": [],
   "source": [
    "const path = require('path')\n",
    "const edge = require('edge-js');\n",
    "//const dotnet = require('node-api-dotnet');\n",
    "const { safeurl } = importer.import('domain cache tools')\n",
    "\n",
    "const BUILD_DIRECTORY = path.join(__dirname, '../.build')\n",
    "\n",
    "async function testEdge() {\n",
    "  const codeCell = importer.interpret('rosetta euler csharp 005')\n",
    "  const Euler = await importer.import('rosetta euler csharp 005')\n",
    "  let libName = safeurl(codeCell.questions[0])\n",
    "  let dynamicLib = path.join(BUILD_DIRECTORY, libName + '.dll')\n",
    "  const RunEuler = edge.func({\n",
    "    assemblyFile: dynamicLib,\n",
    "    typeName: 'Rosetta.Euler',\n",
    "    methodName: 'RunEuler' // Must be a static method\n",
    "  });\n",
    "\n",
    "\n",
    "  console.log(await RunEuler())\n",
    "  Euler.Main()\n",
    "}\n",
    "\n",
    "\n",
    "module.exports = testEdge\n"
   ]
  },
  {
   "cell_type": "markdown",
   "metadata": {},
   "source": [
    "\n",
    "list csharp namespaces?\n"
   ]
  },
  {
   "cell_type": "code",
   "execution_count": null,
   "metadata": {
    "vscode": {
     "languageId": "javascript"
    }
   },
   "outputs": [],
   "source": [
    "\n",
    "async function getNamespacesBySize(code) {\n",
    "    const selectCode = await importer.import('select antlr tree')\n",
    "    const result = await selectCode(['//namespace_declaration', {\n",
    "      start: './@start',\n",
    "      stop: './@stop',\n",
    "      name: '(./qualified_identifier/@strdata)[1]'\n",
    "    }], code, 'csharp')\n",
    "    result.sort((a, b) => (b.stop - b.start) - (a.stop - a.start))\n",
    "    return result.map(r => r.name)\n",
    "}\n",
    "\n",
    "module.exports = getNamespacesBySize\n",
    "\n"
   ]
  },
  {
   "cell_type": "markdown",
   "metadata": {},
   "source": [
    "\n",
    "list csharp classes?\n"
   ]
  },
  {
   "cell_type": "code",
   "execution_count": null,
   "metadata": {
    "vscode": {
     "languageId": "javascript"
    }
   },
   "outputs": [],
   "source": [
    "\n",
    "\n",
    "async function getClassNames(code, namespace) {\n",
    "  const selectCode = await importer.import('select antlr tree')\n",
    "\n",
    "  let result\n",
    "  if(namespace) {\n",
    "    result = await selectCode(['//namespace_declaration[contains(./qualified_identifier/@strdata, \"' + namespace + '\")]//class_definition', {\n",
    "      start: './@start',\n",
    "      stop: './@stop',\n",
    "      name: '(./identifier/@strdata)[1]'\n",
    "    }], code, 'csharp')\n",
    "      \n",
    "  } else {\n",
    "\n",
    "    result = await selectCode(['//class_definition', {\n",
    "      start: './@start',\n",
    "      stop: './@stop',\n",
    "      name: '(./identifier/@strdata)[1]'\n",
    "    }], code, 'csharp')\n",
    "  }\n",
    "\n",
    "  result.sort((a, b) => (b.stop - b.start) - (a.stop - a.start))\n",
    "  return result.map(r => r.name)\n",
    "}\n",
    "\n",
    "module.exports = getClassNames\n"
   ]
  },
  {
   "cell_type": "markdown",
   "metadata": {},
   "source": [
    "\n",
    "get csharp params?\n"
   ]
  },
  {
   "cell_type": "code",
   "execution_count": null,
   "metadata": {
    "vscode": {
     "languageId": "javascript"
    }
   },
   "outputs": [],
   "source": [
    "\n",
    "\n",
    "\n",
    "async function getClassParams(code, classname) {\n",
    "  const selectCode = await importer.import('select antlr tree')\n",
    "\n",
    "  let result\n",
    "  if(classname) {\n",
    "    result = await selectCode(['//class_definition[./identifier[contains(@strdata, \"' + classname + '\")]]//method_declaration', {\n",
    "      start: './@start',\n",
    "      stop: './@stop',\n",
    "      name: '(./method_member_name/@strdata)[1]',\n",
    "      params: ['.//fixed_parameter/@strdata']\n",
    "    }], code, 'csharp')\n",
    "      \n",
    "  } else {\n",
    "\n",
    "    result = await selectCode(['//method_declaration', {\n",
    "      start: './@start',\n",
    "      stop: './@stop',\n",
    "      name: '(./method_member_name/@strdata)[1]',\n",
    "      params: ['.//fixed_parameter/@strdata']\n",
    "    }], code, 'csharp')\n",
    "  }\n",
    "\n",
    "  //result.sort((a, b) => (b.stop - b.start) - (a.stop - a.start))\n",
    "  return result.map(r => [r.name].concat(r.params))\n",
    "}\n",
    "\n",
    "module.exports = getClassParams\n",
    "\n"
   ]
  }
 ],
 "metadata": {
  "language_info": {
   "name": "python"
  }
 },
 "nbformat": 4,
 "nbformat_minor": 2
}
