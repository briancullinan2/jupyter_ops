{
 "cells": [
  {
   "cell_type": "markdown",
   "metadata": {},
   "source": [
    "\n",
    "rosetta euler python 005?\n"
   ]
  },
  {
   "cell_type": "code",
   "execution_count": null,
   "metadata": {},
   "outputs": [],
   "source": [
    "from operator import mul\n",
    "from functools import reduce\n",
    "\n",
    "def prime_factors(n):\n",
    "    found = False\n",
    "    if isinstance(n, str):\n",
    "        try:\n",
    "            n = int(n)\n",
    "        except ValueError:\n",
    "            try:\n",
    "                n = float(n)\n",
    "            except ValueError:\n",
    "              raise\n",
    "\n",
    "    v = 2\n",
    "\n",
    "    i = 2\n",
    "\n",
    "    while i < n -1 and found == False:\n",
    "        if n % i == 0:\n",
    "            found = True\n",
    "\n",
    "            v = i\n",
    "\n",
    "        i += 1\n",
    "\n",
    "    if found:\n",
    "        factors = [v] + prime_factors(n // v)\n",
    "    else:\n",
    "        factors = [n]\n",
    "\n",
    "    return factors\n",
    "\n",
    "def overlap(a, b):\n",
    "    for n in b:\n",
    "        if n in a:\n",
    "            a.remove(n)\n",
    "\n",
    "    result = sorted(a + b)\n",
    "\n",
    "\n",
    "    return result\n",
    "\n",
    "#print(reduce(mul, reduce(overlap, [prime_factors(x) for x in range(1, 21)])))\n",
    "__all__ = {\n",
    "  \"prime_factors\": prime_factors,\n",
    "  \"overlap\": overlap\n",
    "}\n"
   ]
  }
 ],
 "metadata": {
  "language_info": {
   "name": "python"
  }
 },
 "nbformat": 4,
 "nbformat_minor": 2
}
