{
 "cells": [
  {
   "cell_type": "markdown",
   "metadata": {},
   "source": [
    "\n",
    "# void zero\n",
    "\n",
    "attribute system for javascript\n"
   ]
  },
  {
   "cell_type": "markdown",
   "metadata": {},
   "source": [
    "## towards intent\n",
    "\n",
    "a landmark towards single token language intent based on large language models and psuedo code\n"
   ]
  },
  {
   "cell_type": "markdown",
   "metadata": {},
   "source": [
    "\n",
    "### templates and attributes\n",
    "\n",
    "most of this concept is based on two core features, attributes and code templates, this controls the generation of both of those\n"
   ]
  },
  {
   "cell_type": "code",
   "execution_count": null,
   "metadata": {
    "vscode": {
     "languageId": "javascript"
    }
   },
   "outputs": [],
   "source": [
    "// BASIC TEMPLATE SYSTEM, find and replace tokens\n",
    "// automatically create templates out of anything marked with @Template\n",
    "function template(string, object) {\n",
    "\tlet params = Object.keys(object)\n",
    "\tlet values = Object.values(object)\n",
    "\tfor (let i = 0; i < params.length; i++) {\n",
    "\t\tstring = (string + '').replaceAll(\n",
    "\t\t\tnew RegExp(params[i], 'g'), values[i])\n",
    "\t}\n",
    "\treturn string\n",
    "}\n",
    "\n",
    "// this is some nice distilling\n",
    "// BASIC TEMPLATE SYSTEM, find and replace tokens\n",
    "// Source: https://stackoverflow.com/questions/29182244/convert-a-string-to-a-template-string\n",
    "function interpolate(template) {\n",
    "\tconst names = Object.keys(template);\n",
    "\tconst vals = Object.values(template);\n",
    "  return Function.apply(null, names.concat([`return \\`${this}\\`;`])).apply(null, vals);\n",
    "}\n",
    "String.prototype.interpolate = interpolate\n",
    "\n",
    "\n",
    "// ATTRIBUTE SYSTEM\n",
    "const handlers = {\n",
    "  function: {\n",
    "    attribute: (node, [name]) => (f => handlers.function[name || f.name] = f)(node()),\n",
    "    template: (node, [name]) => (f => handlers.object[name || f.name] = o => template(f.toString(), o()))(node())\n",
    "  },\n",
    "  object: {\n",
    "    template: (node, [name]) => handlers.function[name] = f => template(f().toString(), node())\n",
    "  }\n",
    "}\n",
    "\n",
    "const extractAttributeParams = line =>\n",
    "  line.match(/\\(([^)]*)\\)/)?.[1]?.split(',').map(p => p.trim()).filter(Boolean) || [];\n",
    "\n",
    "function attribute(node, attributes, type = node.type) {\n",
    "  const typeKey = type.toLowerCase();\n",
    "  const map = handlers[typeKey];\n",
    "  if (!map) throw new Error(`Unknown attribute type: ${typeKey}`);\n",
    "\n",
    "  let ctx = { node }\n",
    "  for (const attr of attributes) {\n",
    "    const [, name] = attr.match(/@(\\w+)/i) || [];\n",
    "    if (!name) continue;\n",
    "    const handler = map[name.toLowerCase()];\n",
    "    handler ? handler(node, extractAttributeParams(attr), ctx) : console.warn(`No handler for @${name} on ${typeKey}`);\n",
    "  }\n",
    "\n",
    "  return ctx.replace || node(); // Return evaluated block\n",
    "}\n",
    "\n",
    "// never wanted to write module.exports or export default again\n",
    "// @Exports\n",
    "({\n",
    "  interpolate,\n",
    "  template,\n",
    "  attribute,\n",
    "})\n"
   ]
  },
  {
   "cell_type": "markdown",
   "metadata": {},
   "source": [
    "### module eval\n",
    "\n",
    "we start by evaluating the code from this notebook and executing our own attributes\n",
    "\n",
    "attribute code?\n"
   ]
  },
  {
   "cell_type": "code",
   "execution_count": null,
   "metadata": {
    "vscode": {
     "languageId": "javascript"
    }
   },
   "outputs": [],
   "source": [
    "const FUNCNAME = '[a-zA-Z_$][\\\\w$]*'; // Allow valid JS identifiers\n",
    "const WORDINESS = '[\\\\s\\\\S]*?\\\\w[\\\\s\\\\S]*?'; // Minimal match around at least one word character\n",
    "\n",
    "// @Nodes\n",
    "const nodeMatchers = {\n",
    "  attribute: /@(\\w+)\\s*(\\([^)]*\\))?/i,\n",
    "  function: new RegExp(\n",
    "    `(?:async\\\\s+)?function\\\\s+${FUNCNAME}\\\\s*\\\\(|` +         // normal function\n",
    "    `(?:const|let|var)?\\\\s*${FUNCNAME}\\\\s*=\\\\s*(?:async\\\\s*)?\\\\(?([^=]*)\\\\)?\\\\s*=>` // arrow function\n",
    "  ),\n",
    "  comments: /^\\s*\\/\\/.*/gm, // Better line-matching multiline\n",
    "  object: new RegExp(`\\\\(\\\\{[\\\\s\\\\S]*?\\\\n(\\\\s*${FUNCNAME}\\\\s*:\\\\s*${WORDINESS}\\\\n)+\\\\s*\\\\}\\\\)`, 'g'),\n",
    "  logical: new RegExp(`\\\\(\\\\s*${WORDINESS}\\\\s*(?:&&|\\\\|\\\\|)\\\\s*${WORDINESS}\\\\s*\\\\)`, 'g'),\n",
    "  variable: /\\b(let|const|var)\\s+([a-zA-Z_$][\\w$]*)(\\s*=\\s*[^;]*)?;/g,\n",
    "  boolean: new RegExp(`\\\\(\\\\s*${WORDINESS}\\\\s*(==|!=|===|!==|>|<|>=|<=)\\\\s*${WORDINESS}\\\\s*\\\\)`, 'g'),\n",
    "  identifier: /(['\"`])(?:\\\\.|[^\\\\])*?\\1/g, // matches any quoted string with escaped quote support\n",
    "  assignment: new RegExp(`\\\\b(${FUNCNAME})\\\\s*=\\\\s*(${WORDINESS})`, 'g'),\n",
    "  params: new RegExp(`function*\\\\s*${FUNCNAME}\\\\s*\\(([^)]*)\\\\)|\\\\(?\\\\s*([^\\)=]+?)\\\\s*\\\\)?\\\\s*=>`, 'g'),\n",
    "}\n",
    "\n",
    "// Utility to extract attribute lines and remove them from the code\n",
    "function extractAttributes(code) {\n",
    "  const { attributes, remaining } = code.split('\\n').reduce((acc, line) => {\n",
    "    nodeMatchers.attribute.test(line)\n",
    "      ? acc.attributes.push(line.trim())\n",
    "      : acc.remaining.push(line);\n",
    "    return acc;\n",
    "  }, { attributes: [], remaining: [] });\n",
    "\n",
    "  return { attributes, code: remaining.join('\\n') };\n",
    "}\n",
    "\n",
    "// Utility to find the next matching code block after a given index\n",
    "function findNextNode(code, startIdx) {\n",
    "  for (const [type, regex] of Object.entries(nodeMatchers)) {\n",
    "    if (type === 'attribute') continue;\n",
    "\n",
    "    const match = regex.exec(code.slice(startIdx));\n",
    "    if (!match) continue;\n",
    "\n",
    "    const absIdx = startIdx + match.index;\n",
    "    const [open, close] = ['object', 'function', 'variable', 'assignment'].includes(type) ? ['{', '}'] : ['(', ')'];\n",
    "    // @Imports(balanced)\n",
    "    const block = balanced(open, close, code.slice(absIdx));\n",
    "    \n",
    "    if (block && block.end !== undefined) {\n",
    "      const fullBlock = code.slice(absIdx, absIdx + block.end + 1);\n",
    "      return { type, start: absIdx, end: absIdx + block.end + 1, code: fullBlock };\n",
    "    }\n",
    "  }\n",
    "\n",
    "  return null;\n",
    "}\n",
    "\n",
    "// Main parser\n",
    "function attributeCode(code) {\n",
    "  let result = '', cursor = 0;\n",
    "\n",
    "  while (cursor < code.length) {\n",
    "    const remaining = code.slice(cursor);\n",
    "    const { attributes, code: stripped } = extractAttributes(remaining);\n",
    "\n",
    "    if (!attributes.length) {\n",
    "      result += remaining;\n",
    "      break;\n",
    "    }\n",
    "\n",
    "    const offset = remaining.length - stripped.length;\n",
    "    const node = findNextNode(remaining, offset);\n",
    "\n",
    "    if (!node) {\n",
    "      result += remaining;\n",
    "      break;\n",
    "    }\n",
    "\n",
    "    result += remaining.slice(0, node.start);\n",
    "    result += `attribute(() => ${node.code}, ${JSON.stringify(attributes)}, \"${node.type}\")`;\n",
    "    cursor += node.start + node.code.length;\n",
    "  }\n",
    "\n",
    "  return result;\n",
    "}\n",
    "\n",
    "module.exports = attributeCode\n"
   ]
  },
  {
   "cell_type": "markdown",
   "metadata": {},
   "source": [
    "\n",
    "### basic attributes\n",
    "\n",
    "by now the attribution system should be loaded and we can provide some basic tools\n"
   ]
  },
  {
   "cell_type": "code",
   "execution_count": null,
   "metadata": {
    "vscode": {
     "languageId": "javascript"
    }
   },
   "outputs": [],
   "source": [
    "\n",
    "// list of aspects implemented in javascript\n",
    "function inflect(func, ctx) {\n",
    "  ctx.replace = func\n",
    "}\n",
    "\n",
    "// list of helper functions\n",
    "function prefect(func, ctx) {\n",
    "  let replace = ctx.replace\n",
    "  ctx.replace = (...args) => {\n",
    "    func()\n",
    "    let node = replace || ctx.node()\n",
    "    return node(args)\n",
    "  }\n",
    "}\n",
    "\n",
    "function affect(func, ctx) {\n",
    "  let replace = ctx.replace\n",
    "  ctx.replace = (...args) => {\n",
    "    let node = replace || ctx.node()\n",
    "    let result = node(args)\n",
    "    func()\n",
    "    return result\n",
    "  }\n",
    "}\n",
    "\n",
    "// Usage: add stopwatch attribute to any function you want to show how long it took in the logs\n",
    "// @Attribute\n",
    "function stopwatch(node, attrs, ctx) {\n",
    "  let replace = ctx.replace\n",
    "  inflect((...args) => {\n",
    "    let func = replace || node()\n",
    "    let then = Date.now()\n",
    "    console.log('Running:', func.name, then)\n",
    "    let result = func(args)\n",
    "    console.info('Function (' + func.name + ') took:', ((Date.now() - then) / 1000) + 's');\n",
    "    return result\n",
    "  }, ctx)\n",
    "}\n",
    "\n",
    "// @Attribute\n",
    "function timer(node, attrs, ctx) {\n",
    "  // because ctx is per function, this will work for 1 function call per definition\n",
    "  prefect(() => {\n",
    "    ctx.then = Date.now()\n",
    "    console.log('Running:', node().name, ctx.then)\n",
    "  }, ctx)\n",
    "  affect(() => {\n",
    "    console.info('Function (' + node().name + ') took:', ((Date.now() - ctx.then) / 1000) + 's');\n",
    "  }, ctx)\n",
    "}\n",
    "\n",
    "// make this function available to other modules\n",
    "const interpretCells = (search) => search ? importer.interpret(search)\n",
    "  : importer.import('cell cache').cellCache.map(([_, cell]) => importer.lookupCell(cell, cacheCells))\n",
    "\n",
    "// add the cells attribute to any function you want cells inserted into the parameters\n",
    "// @Attribute\n",
    "function cells(node, attrs, ctx) {\n",
    "  timer(node, attrs, ctx)\n",
    "  let replace = ctx.replace\n",
    "  inflect((search, ...args) => {\n",
    "    let func = replace || node()\n",
    "    let cells = interpretCells(search)\n",
    "    return func(cells, ...args)\n",
    "  })\n",
    "}\n",
    "\n"
   ]
  },
  {
   "cell_type": "markdown",
   "metadata": {},
   "source": [
    "\n",
    "### attribute notebook?\n",
    "\n",
    "finally we are ready to export our newly attributed code cells into a module\n"
   ]
  },
  {
   "cell_type": "code",
   "execution_count": null,
   "metadata": {
    "vscode": {
     "languageId": "javascript"
    }
   },
   "outputs": [],
   "source": [
    "const path = require('path');\n",
    "const attributeCode = importer.import('attribute code');\n",
    "\n",
    "const isValidSearch = search => typeof search === 'string' || Array.isArray(search);\n",
    "const isCellList = cells => cells.language || (cells[0] && cells[0].language);\n",
    "const loadCells = search => isValidSearch(search)\n",
    "  ? importer.interpret(search) : isCellList(search)\n",
    "    ? search : (() => { throw new Error('Input not recognized: ' + search); })();\n",
    "\n",
    "const getCellCode = cell => cell.source.join('');\n",
    "const getCellPath = cell => path.join(path.dirname(path.resolve(cell.filename)), cell.id);\n",
    "const getModule = (code, cell, ctx) => importer.makeModule(code, getCellPath(cell), ctx);\n",
    "\n",
    "const mergeResult = (mod, result, i) =>\n",
    "  typeof result === 'object' ? Object.assign(mod, result)\n",
    "    : typeof result === 'function' ? (mod[result.name] = result)\n",
    "      : (mod[i] = result);\n",
    "\n",
    "function attributeNotebook(search) {\n",
    "  const cells = loadCells(search);\n",
    "  const module = {};\n",
    "  const ctx = { attribute: module.attribute };\n",
    "\n",
    "  for (let i = 0; i < cells.length; i++) {\n",
    "    const cell = cells[i];\n",
    "    const code = attributeCode(getCellCode(cell));\n",
    "    console.log(code)\n",
    "    const result = getModule(code, cell, ctx);\n",
    "\n",
    "    if (typeof search === 'string' && cells.length === 1 && !search.endsWith('ipynb')) {\n",
    "      return result;\n",
    "    }\n",
    "\n",
    "    mergeResult(module, result, i);\n",
    "  }\n",
    "\n",
    "  return module;\n",
    "}\n",
    "\n",
    "module.exports = attributeNotebook('voidzero.ipynb');\n"
   ]
  },
  {
   "cell_type": "markdown",
   "metadata": {},
   "source": [
    "\n",
    "### TODO: inject attribution and REPL into chrome extension\n"
   ]
  },
  {
   "cell_type": "code",
   "execution_count": null,
   "metadata": {
    "vscode": {
     "languageId": "javascript"
    }
   },
   "outputs": [],
   "source": [
    "\n",
    "\n"
   ]
  },
  {
   "cell_type": "markdown",
   "metadata": {},
   "source": [
    "## TODO: generic REPL\n",
    "\n",
    "this will be portable using LLM and/or ANTLR to run through the code and attributes\n"
   ]
  },
  {
   "cell_type": "code",
   "execution_count": null,
   "metadata": {
    "vscode": {
     "languageId": "javascript"
    }
   },
   "outputs": [],
   "source": [
    "\n",
    "\n"
   ]
  }
 ],
 "metadata": {
  "language_info": {
   "name": "python"
  }
 },
 "nbformat": 4,
 "nbformat_minor": 2
}
