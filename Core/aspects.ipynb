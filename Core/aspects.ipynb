{
 "cells": [
  {
   "cell_type": "markdown",
   "metadata": {},
   "source": [
    "# aspects\n",
    "\n",
    "\n",
    "Aspects provide additional functionality to the classic Object-Oriented pattern.\n",
    "\n",
    "https://en.wikipedia.org/wiki/Aspect-oriented_programming\n",
    "\n"
   ]
  },
  {
   "cell_type": "markdown",
   "metadata": {},
   "source": [
    "## introduction\n"
   ]
  },
  {
   "cell_type": "markdown",
   "metadata": {},
   "source": [
    "Types of aspects:\n",
    "\n",
    "- affect - run after the code\n",
    "- prefect - run before the code\n",
    "- inflect - make available part of the affection within the code\n",
    "- reflect - describe the current affection\n",
    "- infect - replace part of code with result of another\n",
    "- effect - return a list of affections that occured or will occur if reference is provided\n",
    "- expect - deriving from the context find the variables involved and if they do not meet expectation create a \"soft assertion\"?\n",
    "- inspect - show debugging information surrounding the specified code\n",
    "- protect\t- Prevent modification or reassignment of specified variables.\n",
    "- deflect\t- Catch and reroute errors or certain function calls.\n",
    "- reject\t- Block execution if certain conditions are met.\n",
    "- connect\t- Link behavior between nodes (e.g., observables, proxies, reactive links).\n",
    "- collect\t- Aggregate data from the function execution (e.g., results, logs, args).\n",
    "- project\t- Apply transformation to output before returning it.\n",
    "- detect\t- Instrument code to automatically log or track certain behaviors.\n",
    "- redirect - Dynamically change which function or method gets executed.\n",
    "\n",
    "\n",
    "TODO: aspect babel plugin. This will use the transpiler.\n",
    "\n",
    "TODO: depends on transpiling kernels\n"
   ]
  },
  {
   "cell_type": "markdown",
   "metadata": {},
   "source": [
    "## transpiler bindings\n",
    "\n",
    "Transpile calls that bind functionality to the neessary directives.\n",
    "\n",
    "TODO: inspect, find calls to aspect and interpret them up front.\n",
    "\n"
   ]
  },
  {
   "cell_type": "markdown",
   "metadata": {},
   "source": [
    "### inspect\n",
    "\n",
    "Logging is one of the most obvious use cases for aspect oriented programming. It makes sense to start with this.  Log messages are inserted at every possible point in the program execution. When transpiled, additional sum information is collected and provided at the end, useful for attaching a unit test and code coverage reporter.\n",
    "\n"
   ]
  },
  {
   "cell_type": "markdown",
   "metadata": {},
   "source": [
    "#### the code\n",
    "\n",
    "inspect every statement?\n"
   ]
  },
  {
   "cell_type": "code",
   "execution_count": null,
   "metadata": {},
   "outputs": [],
   "source": [
    "var importer = require('../Core')\n",
    "var {transpile} = importer.import('transpile code')\n",
    "var {selectAst, makeExpr} = importer.import('select code tree')\n",
    "var {htmlToTree} = importer.import('html to tree')\n",
    "\n",
    "var STATEMENTS = `//*[contains(@type, \"Declaration\")]\n",
    "|//*[contains(@type, \"Statement\")]`\n",
    "var NEAR_IDENTIFIERS = `\n",
    " ./Identifier/@name\n",
    "|./*/Identifier/@name\n",
    "|./*/*/Identifier/@name\n",
    "|./*/*/*/Identifier/@name\n",
    "\n",
    "|./parent::*/Identifier/@name\n",
    "|./parent::*/*/Identifier/@name\n",
    "|./parent::*/*/*/Identifier/@name\n",
    "|./parent::*/*/*/*/Identifier/@name\n",
    "\n",
    "|./parent::*/parent::*/Identifier/@name\n",
    "|./parent::*/parent::*/*/Identifier/@name\n",
    "|./parent::*/parent::*/*/*/Identifier/@name\n",
    "|./parent::*/parent::*/*/*/*/Identifier/@name\n",
    "\n",
    "`\n",
    "\n",
    "function inspectCallback(ctx) {\n",
    "    console.log(JSON.stringify(ctx))\n",
    "}\n",
    "\n",
    "function inspectTemplate(ctx) {\n",
    "    // code inserted in to transpiled module\n",
    "    inspectCallback(ctx)\n",
    "}\n",
    "\n",
    "function insertInspect(filename, code, ctx) {\n",
    "    var inspect = makeExpr(inspectTemplate)\n",
    "\n",
    "    // replace line with the line number from original range\n",
    "    var range = JSON.parse(ctx.getAttribute('range'))\n",
    "    var line = code.substr(0, range[0]).split('\\n').length\n",
    "    \n",
    "    // replace the ctx with nearby identifiers\n",
    "    // TODO: 'replace' transpiler command\n",
    "    var replaceCtx = selectAst(`.//Identifier[@name=\"ctx\"]`, inspect)\n",
    "    var nearbyIdentifiers = selectAst([NEAR_IDENTIFIERS], ctx)\n",
    "    var nearbyCtx = makeExpr(`{\n",
    "${nearbyIdentifiers.join(',')},\n",
    "//ctx: ${JSON.stringify(htmlToTree(ctx))},\n",
    "type: \"${ctx.getAttribute('type')}\",\n",
    "line: ${line},\n",
    "filename: \"${filename}\"\n",
    "}`)\n",
    "    nearbyCtx.setAttribute('parent-attr', 'arguments')\n",
    "    replaceCtx.replaceWith(nearbyCtx)\n",
    "    \n",
    "    // insert into parent statement body\n",
    "    // TODO: make this a transpile operation because it contains node calls\n",
    "    var parent = selectAst(`./parent::*`, ctx)\n",
    "    Array.from(inspect.childNodes).forEach(n => {\n",
    "        if(n.setAttribute) {\n",
    "            n.setAttribute('parent-attr', 'body')\n",
    "        }\n",
    "        parent.insertBefore(n, ctx)\n",
    "    })\n",
    "}\n",
    "\n",
    "function transpileInspect(code, filename) {\n",
    "    return transpile([\n",
    "        [STATEMENTS, insertInspect.bind(null, filename, code)]\n",
    "    ], code)\n",
    "}\n",
    "\n",
    "module.exports = {\n",
    "    inspectCallback,\n",
    "    inspectTemplate,\n",
    "    transpileInspect,\n",
    "}\n"
   ]
  },
  {
   "cell_type": "markdown",
   "metadata": {},
   "source": [
    "#### test statement inspector\n",
    "\n"
   ]
  },
  {
   "cell_type": "code",
   "execution_count": null,
   "metadata": {
    "scrolled": false
   },
   "outputs": [],
   "source": [
    "var importer = require('../Core')\n",
    "var {transpileInspect} = importer.import('inspect every statement')\n",
    "\n",
    "var code = `\n",
    "var importer = require('../Core');\n",
    "\n",
    "function addImports() {\n",
    "\n",
    "}\n",
    "\n",
    "`\n",
    "\n",
    "if(typeof $$ != 'undefined') {\n",
    "    $$.mime({'text/plain': transpileInspect(code, 'test_code.js')})\n",
    "    \n",
    "    /*\n",
    "    expected output \n",
    "var addImports = importer.import('add missing imports')\n",
    "*/\n",
    "    \n",
    "}\n"
   ]
  },
  {
   "cell_type": "code",
   "execution_count": null,
   "metadata": {},
   "outputs": [],
   "source": []
  },
  {
   "cell_type": "markdown",
   "metadata": {},
   "source": []
  },
  {
   "cell_type": "code",
   "execution_count": null,
   "metadata": {},
   "outputs": [],
   "source": []
  }
 ],
 "metadata": {
  "kernelspec": {
   "display_name": "Javascript (Node.js)",
   "language": "javascript",
   "name": "javascript"
  },
  "language_info": {
   "file_extension": ".js",
   "mimetype": "application/javascript",
   "name": "javascript",
   "version": "12.7.0"
  }
 },
 "nbformat": 4,
 "nbformat_minor": 2
}
