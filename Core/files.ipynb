{
 "cells": [
  {
   "cell_type": "markdown",
   "metadata": {},
   "source": [
    "# files\n",
    "\n",
    "Some file handling, searching, recognizing tools.\n"
   ]
  },
  {
   "cell_type": "code",
   "execution_count": null,
   "metadata": {},
   "outputs": [],
   "source": []
  },
  {
   "cell_type": "markdown",
   "metadata": {
    "heading_collapsed": true
   },
   "source": [
    "## visualizing files\n",
    "\n"
   ]
  },
  {
   "cell_type": "markdown",
   "metadata": {
    "heading_collapsed": true,
    "hidden": true
   },
   "source": [
    "### create a word cloud of imports\n",
    "\n"
   ]
  },
  {
   "cell_type": "markdown",
   "metadata": {
    "heading_collapsed": true,
    "hidden": true
   },
   "source": [
    "#### the code\n",
    "\n",
    "project word-cloud?\n",
    "\n"
   ]
  },
  {
   "cell_type": "code",
   "execution_count": null,
   "metadata": {
    "hidden": true
   },
   "outputs": [],
   "source": [
    "var importer = require('../Core');\n",
    "var path = require('path');\n",
    "    \n",
    "function projectWordCloud(project) {\n",
    "    var d3CloudToSVG = importer.import('d3.ipynb[create word-cloud]');\n",
    "    var relativePaths = importer.import('relative paths and includes', {project});\n",
    "    \n",
    "    var words = [];\n",
    "\n",
    "    function wordCount(r) {\n",
    "        var words = r['packages'].map(p => p.import)\n",
    "            .concat(r['packages'].map(p => path.basename(p.file)))\n",
    "            .concat(r['relatives'].map(r => path.basename(r.import)))\n",
    "            .concat(r['relatives'].map(r => path.basename(r.file)));\n",
    "        var wordCount = {};\n",
    "        words.forEach(w => {\n",
    "            if (typeof wordCount[w] === 'undefined') {\n",
    "                wordCount[w] = 15;\n",
    "            } else {\n",
    "                wordCount[w]++;\n",
    "            }\n",
    "        });\n",
    "        return Object.keys(wordCount).map((d) => ({text: d, size: wordCount[d]}));\n",
    "    };\n",
    "\n",
    "    return relativePaths(project)\n",
    "        .then(words => d3CloudToSVG(wordCount(words)));\n",
    "}\n",
    "\n",
    "module.exports = projectWordCloud;\n",
    "\n",
    "if(typeof $$ !== 'undefined') {\n",
    "    var PROFILE_PATH = process.env.HOME || process.env.HOMEPATH || process.env.USERPROFILE || '';\n",
    "    var project = PROFILE_PATH + '/Documents/portal';\n",
    "\n",
    "    $$.async()\n",
    "    projectWordCloud(project)\n",
    "        .then(svg => $$.svg(svg))\n",
    "        .catch(e => $$.sendError(e));\n",
    "}\n"
   ]
  },
  {
   "cell_type": "markdown",
   "metadata": {
    "heading_collapsed": true,
    "hidden": true
   },
   "source": [
    "### create a tree out of imports\n"
   ]
  },
  {
   "cell_type": "markdown",
   "metadata": {
    "heading_collapsed": true,
    "hidden": true
   },
   "source": [
    "#### the code\n",
    "\n",
    "project imports d3 tree?\n",
    "\n"
   ]
  },
  {
   "cell_type": "code",
   "execution_count": null,
   "metadata": {
    "hidden": true
   },
   "outputs": [],
   "source": [
    "var importer = require('../Core');\n",
    "var path = require('path');\n",
    "\n",
    "function icons(c) {\n",
    "    return c.replace('.component', '\\u2699')\n",
    "           .replace('.module', '\\u26E9')\n",
    "           .replace('.service', '\\u26F4')\n",
    "           .replace('.routing', '\\u2697');\n",
    "}\n",
    "\n",
    "function wordCount(r) {\n",
    "    var words = r['packages'].map(p => p.import)\n",
    "        .concat(r['packages'].map(p => path.basename(p.file)))\n",
    "        .concat(r['relatives'].map(r => path.basename(r.import)))\n",
    "        .concat(r['relatives'].map(r => path.basename(r.file)));\n",
    "    var wordCounts = {};\n",
    "    words.forEach(w => {\n",
    "        if (typeof wordCounts[w] === 'undefined') {\n",
    "            wordCounts[w] = 1;\n",
    "        } else {\n",
    "            wordCounts[w]++;\n",
    "        }\n",
    "    });\n",
    "    var resultWords = Object.keys(wordCounts).map((d, i) => ({\n",
    "        name: icons(d),\n",
    "        branch: ((/\\.component|\\.module|\\.service|\\.routing/ig).exec(d) || {})[0],\n",
    "        size: wordCounts[d]}));\n",
    "    var edges = [];\n",
    "    r['packages'].forEach(p => edges[edges.length] = {\n",
    "        source: icons(p.import),\n",
    "        target: icons(path.basename(p.file))\n",
    "    });\n",
    "    r['relatives'].forEach(p => edges[edges.length] = {\n",
    "        source: icons(path.basename(p.file)),\n",
    "        target: icons(path.basename(p.import))\n",
    "    });\n",
    "    return {nodes: resultWords, edges: edges};\n",
    "};\n",
    "\n",
    "var formatNodes;\n",
    "function projectTree(project) {\n",
    "    var formatNodes = importer.import('d3.ipynb[format tree]');\n",
    "    var d3TieredPieSVG = importer.import('d3.ipynb[display d3 tree]');\n",
    "    var projectRelatives = importer.import('relative paths and includes', {project});\n",
    "    var words = [];\n",
    "    \n",
    "    return projectRelatives(project)\n",
    "        .then(words => {\n",
    "            var tree = wordCount(words);\n",
    "            var nodeNames = tree.nodes.map(n => n.name);\n",
    "            tree.nodes = tree.nodes\n",
    "                .filter((n, i, arr) => nodeNames.indexOf(n.name) === i)\n",
    "                .map((n, i) => {\n",
    "                    Object.assign(n, {index: tree.nodes\n",
    "                                      .filter(f => f.branch === n.branch).indexOf(n)})\n",
    "                    return n;\n",
    "                })\n",
    "            var edgeNames = tree.edges.map(n => n.source + '/' + n.target);\n",
    "            tree.edges = tree.edges\n",
    "                .filter((n, i, arr) => edgeNames.indexOf(n.source + '/' + n.target) === i)\n",
    "            var root = formatNodes(tree.nodes, tree.edges);\n",
    "            return d3TieredPieSVG(root);\n",
    "        })\n",
    "        .catch(e => console.log(e))\n",
    "};\n",
    "module.exports = projectTree;\n",
    "\n",
    "if(typeof $$ !== 'undefined') {\n",
    "    var PROFILE_PATH = process.env.HOME || process.env.HOMEPATH || process.env.USERPROFILE;\n",
    "    var project = PROFILE_PATH + '/jupytangular2';\n",
    "\n",
    "    $$.async()\n",
    "    projectTree(project)\n",
    "        .then(svg => $$.svg(svg))\n",
    "        .catch(e => $$.sendError(e));\n",
    "}\n"
   ]
  },
  {
   "cell_type": "markdown",
   "metadata": {},
   "source": [
    "## listing files\n",
    "\n",
    "Finding files is easy with minimatch.\n",
    "\n"
   ]
  },
  {
   "cell_type": "markdown",
   "metadata": {},
   "source": [
    "### glob files?\n",
    "\n",
    "Combine minimatch with recursive directory searching.\n"
   ]
  },
  {
   "cell_type": "markdown",
   "metadata": {},
   "source": [
    "#### the code\n"
   ]
  },
  {
   "cell_type": "code",
   "execution_count": 1,
   "metadata": {},
   "outputs": [
    {
     "name": "stdout",
     "output_type": "stream",
     "text": [
      "importing /Users/briancullinan/jupyter_ops/Core/cache.ipynb[1] - 1 cells - cache.ipynb[1]\n",
      "importing cache all - 1 cell - cache.ipynb[3]\n",
      "importing list project files - 1 cell - files.ipynb[4]\n",
      "importing common ignore paths - 1 cell - files.ipynb[5]\n",
      "importing cache notebook,cell cache,refresh regular cache,update regular cache,update code cell - 5 cells - cache.ipynb[1],cache.ipynb[0],cache.ipynb[13],cache.ipynb[11],cache.ipynb[10]\n",
      "importing cell cache - 1 cell - cache.ipynb[0]\n",
      "importing minimatch - 1 cell - files.ipynb[15]\n",
      "importing expand - 1 cell - files.ipynb[13]\n",
      "importing mini parser - 1 cell - files.ipynb[14]\n",
      "importing common ignore paths - 1 cell - files.ipynb[5]\n"
     ]
    },
    {
     "data": {
      "text/plain": [
       "{ glob: [Function: glob] }"
      ]
     },
     "execution_count": 1,
     "metadata": {},
     "output_type": "execute_result"
    }
   ],
   "source": [
    "var fs = require('fs')\n",
    "var path = require('path')\n",
    "var importer = require('../Core')\n",
    "var {minimatch} = importer.import('minimatch')\n",
    "var {ignores} = importer.import('common ignore paths');\n",
    "var expand = importer.import('expand')\n",
    "\n",
    "// searches project directory recursively for file paths matching the pattern\n",
    "function globMatch(pattern, cwd, origin) {\n",
    "    if(!Array.isArray(pattern)) {\n",
    "        pattern = [pattern]\n",
    "    }\n",
    "    var result = []\n",
    "    cwd = path.resolve(cwd)\n",
    "    var files = fs.readdirSync(cwd)\n",
    "    files.forEach(file => {\n",
    "        file = '/' + path.relative(origin, path.join(cwd, file))\n",
    "        var filepath = path.join(origin, '.' + file)\n",
    "        \n",
    "        // skip ignores, don't even search directories\n",
    "        if(ignores.filter(i => minimatch(file, i)).length > 0) {\n",
    "            return\n",
    "        }\n",
    "        \n",
    "        var isDirectory = fs.lstatSync(filepath).isDirectory()\n",
    "        \n",
    "        pattern.forEach(pattern => {\n",
    "            if(minimatch(file, pattern)) {\n",
    "                if(isDirectory) {\n",
    "                    // if we are collecting only directories\n",
    "                    if(pattern.substr(-1) === '/') {\n",
    "                        result.push(filepath)\n",
    "                    }\n",
    "                } else {\n",
    "                    // if not collecting directories\n",
    "                    if(pattern.substr(-1) !== '/') {\n",
    "                        result.push(filepath)\n",
    "                    }\n",
    "                }\n",
    "                return false\n",
    "            }\n",
    "            return true\n",
    "        })\n",
    "        \n",
    "        \n",
    "        // recursive matching\n",
    "        if(isDirectory) {\n",
    "            result.push.apply(\n",
    "                result, globMatch(pattern, filepath, origin))\n",
    "        }\n",
    "    })\n",
    "    return result\n",
    "}\n",
    "\n",
    "function glob(pattern, cwd) {\n",
    "    return globMatch(pattern, cwd, cwd)\n",
    "}\n",
    "\n",
    "module.exports = {\n",
    "    glob\n",
    "}\n"
   ]
  },
  {
   "cell_type": "markdown",
   "metadata": {
    "heading_collapsed": true
   },
   "source": [
    "#### test glob files\n",
    "\n"
   ]
  },
  {
   "cell_type": "code",
   "execution_count": 6,
   "metadata": {
    "hidden": true
   },
   "outputs": [
    {
     "name": "stdout",
     "output_type": "stream",
     "text": [
      "importing glob files - 1 cell - files.ipynb[2]\n",
      "importing minimatch - 1 cell - files.ipynb[15]\n",
      "importing expand - 1 cell - files.ipynb[13]\n",
      "importing mini parser - 1 cell - files.ipynb[14]\n",
      "importing common ignore paths - 1 cell - files.ipynb[5]\n",
      "[ '/Users/briancullinan/jupyter_ops/Core/index.js' ]\n"
     ]
    }
   ],
   "source": [
    "var assert = require('assert')\n",
    "var importer = require('../Core')\n",
    "var {glob} = importer.import('glob files')\n",
    "\n",
    "// test that glob works on the current directory\n",
    "function testGlobFiles() {\n",
    "    var results = glob('**index**', '.')\n",
    "    assert(results.length === 1,\n",
    "           'index is missing in glob resultss')\n",
    "    return results\n",
    "}\n",
    "\n",
    "module.exports = testGlobFiles\n",
    "\n",
    "if(typeof $$ !== 'undefined') {\n",
    "    console.log(testGlobFiles())\n",
    "}\n"
   ]
  },
  {
   "cell_type": "markdown",
   "metadata": {
    "heading_collapsed": true
   },
   "source": [
    "### list project files?\n",
    "\n",
    "List files in a project excluding some excessive searches locations?\n",
    "\n",
    "TODO: sortLev on all files on no result and find with similar names < 20% difference\n"
   ]
  },
  {
   "cell_type": "markdown",
   "metadata": {
    "heading_collapsed": true,
    "hidden": true
   },
   "source": [
    "#### the code\n",
    "\n"
   ]
  },
  {
   "cell_type": "code",
   "execution_count": null,
   "metadata": {
    "hidden": true
   },
   "outputs": [],
   "source": [
    "var path = require('path');\n",
    "var {ignores} = importer.import('common ignore paths');\n",
    "var {glob} = importer.import('glob files')\n",
    "\n",
    "// TODO: pull all from gitignore library and add to ignore list\n",
    "//  https://github.com/github/gitignore\n",
    "// TODO: submit script to github project for fame and fortune!\n",
    "\n",
    "// But we also want to automatically load projects?\n",
    "function listInProject(root, match = '{,*,*/,*/*/*,*/*/*/*,*/*/*/*/*}package.json') {\n",
    "    return glob(match, path.resolve(root))\n",
    "}\n",
    "\n",
    "module.exports = {\n",
    "    listInProject\n",
    "}\n"
   ]
  },
  {
   "cell_type": "markdown",
   "metadata": {},
   "source": [
    "### ignoring files\n",
    "\n",
    "common ignore paths?\n",
    "\n",
    "TODO: use the one from github, might need to be reformatted for minimatch\n",
    "\n",
    "https://github.com/github/gitignore\n"
   ]
  },
  {
   "cell_type": "markdown",
   "metadata": {},
   "source": [
    "#### the code"
   ]
  },
  {
   "cell_type": "code",
   "execution_count": null,
   "metadata": {},
   "outputs": [],
   "source": [
    "var ignores = [\n",
    "    '**/bin/**',\n",
    "    '**/obj/**',\n",
    "    '**/dist/**',\n",
    "    \n",
    "    '**/*.spec*',\n",
    "    '**/*.Tests/**',\n",
    "    '**/typings/**',\n",
    "    '**/packages/**',\n",
    "    '**/node_modules/**',\n",
    "    '**/vendor/**',\n",
    "//            '**/*test*/*',\n",
    "//            '**/*Test*/*',\n",
    "    '**/Downloads/**',\n",
    "    '**/Library/**',\n",
    "    '**/Applications/**',\n",
    "    '**/AppData/**',\n",
    "    '**/Trash/**',\n",
    "    '**/proc/**',\n",
    "    '**/wp-content/**',\n",
    "    '**/wp-includes/**',\n",
    "    '**/Pods/**',\n",
    "    '**/svn/**',\n",
    "    '**/lib/**',\n",
    "    '**/.git/**',\n",
    "    '**/.vscode/**',\n",
    "    '**/.npm/**',\n",
    "    '**/\\\\.*',\n",
    "    '**/.*',\n",
    "    '**/Cache/**',\n",
    "    '**/Creative Cloud Files/**',\n",
    "]\n",
    "\n",
    "module.exports = {\n",
    "    ignores\n",
    "}\n"
   ]
  },
  {
   "cell_type": "markdown",
   "metadata": {
    "heading_collapsed": true
   },
   "source": [
    "### listing projects\n",
    "\n",
    "Detect projects across multiple frameworks.  List them by name for easy lookup.\n",
    "\n",
    "TODO: get names out of project files, instead of just parent directory.\n"
   ]
  },
  {
   "cell_type": "markdown",
   "metadata": {
    "heading_collapsed": true,
    "hidden": true
   },
   "source": [
    "#### the code\n",
    "\n",
    "List all projects by names?\n",
    "\n"
   ]
  },
  {
   "cell_type": "code",
   "execution_count": null,
   "metadata": {
    "hidden": true
   },
   "outputs": [],
   "source": [
    "var importer = require('../Core');\n",
    "var path = require('path');\n",
    "var listInProject = importer.import('list project files');\n",
    "\n",
    "// But we also want to automatically load projects?\n",
    "function listProjects(root, match = '{,*,*/,*/*/*,*/*/*/*,*/*/*/*/*}+(package.json|NuGet.config|*.sln|*.csproj)') {\n",
    "    var result = {};\n",
    "    var matches = listInProject(root, match);\n",
    "    matches.forEach(m => {\n",
    "        var projectPath = path.resolve(path.dirname(m));\n",
    "        result[path.basename(projectPath)] = projectPath;\n",
    "    });\n",
    "    return result;\n",
    "};\n",
    "module.exports = listProjects;\n",
    "\n"
   ]
  },
  {
   "cell_type": "markdown",
   "metadata": {
    "heading_collapsed": true,
    "hidden": true
   },
   "source": [
    "#### test project files list\n"
   ]
  },
  {
   "cell_type": "code",
   "execution_count": null,
   "metadata": {
    "hidden": true
   },
   "outputs": [],
   "source": [
    "var importer = require('../Core');\n",
    "var {\n",
    "    listInProject,\n",
    "    listProjects\n",
    "} = importer.import(['list project files', 'list all projects by name']);\n",
    "\n",
    "var PROFILE_PATH = process.env.HOME || process.env.HOMEPATH || process.env.USERPROFILE;\n",
    "\n",
    "if(typeof describe !== 'undefined') {\n",
    "\n",
    "    describe('file system service', () => {\n",
    "        beforeEach(() => {\n",
    "        })\n",
    "\n",
    "        it('should list files quickly', () => {\n",
    "            var files = listInProject(PROFILE_PATH);\n",
    "            console.log(files.length);\n",
    "            assert(files.length > 0);\n",
    "        })\n",
    "\n",
    "        it('should ignore hidden directories for better performance', () => {\n",
    "            var files = listProjects(PROFILE_PATH);\n",
    "            console.log(files.portal);\n",
    "            assert(files.jupytangular && files.jupytangular.indexOf('jupytangular') > -1\n",
    "                    || files.jupytangular2 && files.jupytangular2.indexOf('jupytangular2') > -1, 'could not find own notebook project under the name jupytangular');\n",
    "        })\n",
    "    });\n",
    "\n",
    "}\n"
   ]
  },
  {
   "cell_type": "markdown",
   "metadata": {
    "heading_collapsed": true
   },
   "source": [
    "## fixing files\n",
    "\n"
   ]
  },
  {
   "cell_type": "markdown",
   "metadata": {
    "heading_collapsed": true,
    "hidden": true
   },
   "source": [
    "### fix all imports in a project\n"
   ]
  },
  {
   "cell_type": "markdown",
   "metadata": {
    "heading_collapsed": true,
    "hidden": true
   },
   "source": [
    "#### the code\n",
    "\n",
    "fix project paths?\n",
    "\n",
    "TODO: make this syntax aware using transpiler\n",
    "\n",
    "TODO: find file based on matching syntax structure\n",
    "\n",
    "TODO: convert this to a fix for eslint or transpiler\n"
   ]
  },
  {
   "cell_type": "code",
   "execution_count": null,
   "metadata": {
    "hidden": true
   },
   "outputs": [],
   "source": [
    "var fs = require('fs')\n",
    "var path = require('path')\n",
    "var importer = require('../Core')\n",
    "var {relativeImports} = importer.import('builtin and local modules')\n",
    "var {glob} = importer.import('glob files')\n",
    "\n",
    "function fixImports(project) {\n",
    "    var packagePath = path.join(project, 'package.json')\n",
    "    var codeFiles = glob('**/*.+(ts|js|ipynb)', project)\n",
    "    codeFiles.forEach(f => {\n",
    "        var imports = relativeImports(f)\n",
    "        \n",
    "        // TODO: find file based on matching syntax structure\n",
    "        imports.missing.forEach(i => {\n",
    "            var match = codeFiles\n",
    "                .filter(f => path.basename(f) === path.basename(i))[0]\n",
    "            if(match) {\n",
    "                var newRelative = './' + path.relative(\n",
    "                    path.dirname(f), path.join(project, match))\n",
    "                var fixFile = fs.readFileSync(f).toString()\n",
    "                fs.writeFileSync(f, fixFile.replace(i, newRelative))\n",
    "            }\n",
    "        })\n",
    "        \n",
    "        // fix package json\n",
    "        if(fs.existsSync(packagePath)) {\n",
    "            var packageJson = JSON.parse(fs.readFileSync(packagePath))\n",
    "            var toAdd = imports.packages\n",
    "                .filter(p => typeof packageJson.dependencies[p] === 'undefined'\n",
    "                        && typeof packageJson.devDependencies[p] === 'undefined')\n",
    "            toAdd.forEach(a => {\n",
    "                console.log(`adding ${a}`)\n",
    "                packageJson.dependencies[a] = 'latest'\n",
    "            })\n",
    "            if(toAdd.length > 0) {\n",
    "                fs.writeFileSync(packagePath,\n",
    "                                 JSON.stringify(packageJson, null, 4))\n",
    "            }\n",
    "        }\n",
    "    })\n",
    "}\n",
    "\n",
    "module.exports = {\n",
    "    fixImports\n",
    "}\n"
   ]
  },
  {
   "cell_type": "markdown",
   "metadata": {
    "heading_collapsed": true,
    "hidden": true
   },
   "source": [
    "#### TODO: test fix imports\n",
    "\n",
    "Using memory-fs make a code file, move a reference, check the file was corrected.\n"
   ]
  },
  {
   "cell_type": "code",
   "execution_count": null,
   "metadata": {
    "hidden": true
   },
   "outputs": [],
   "source": []
  },
  {
   "cell_type": "markdown",
   "metadata": {
    "heading_collapsed": true,
    "hidden": true
   },
   "source": [
    "### find functions that are too long\n",
    "\n",
    "(?=\\{((?:[^{}]++|\\{(?1)\\})++)\\})\n",
    "\n",
    "TODO: turn this in to a bs-lint test\n",
    "\n",
    "TODO: use a recusive decent parser to apply to all languages, test finding long python functions which are white-space delimited\n"
   ]
  },
  {
   "cell_type": "markdown",
   "metadata": {
    "heading_collapsed": true,
    "hidden": true
   },
   "source": [
    "#### the code\n",
    "\n",
    "Find too long of functions using regexp?\n",
    "\n"
   ]
  },
  {
   "cell_type": "code",
   "execution_count": null,
   "metadata": {
    "hidden": true
   },
   "outputs": [],
   "source": [
    "var importer = require('../Core')\n",
    "var {listInProject} = importer.import('list project files')\n",
    "\n",
    "function matchCurlyBraces(contents) {\n",
    "    var XRegExp = require('xregexp');\n",
    "    var newMatches = XRegExp.matchRecursive(contents, '{', '}', 'gi', {\n",
    "        valueNames: ['literal', null, 'value', null]\n",
    "    }).filter(m => m.name === 'value');\n",
    "    //console.log(newMatches);\n",
    "    return newMatches.reduce(\n",
    "        (arr, m) => arr.concat(matchCurlyBraces(m.value)),\n",
    "        newMatches);\n",
    "};\n",
    "\n",
    "function findLongFunctions(project) {\n",
    "    var files = listInProject(project, '**/*.+(ts|js|cs)')\n",
    "    var results = files.map(file => {\n",
    "        const contents = file.contents.toString();\n",
    "        try {\n",
    "            results = results.concat(matchCurlyBraces(contents)\n",
    "                .map(m => Object.assign(m, {path: file.path})))\n",
    "        } catch (e) {\n",
    "            results = results.concat([{\n",
    "                name: 'value',\n",
    "                value: file.contents.toString(),\n",
    "                start: 0,\n",
    "                end: file.contents.length,\n",
    "                error: e,\n",
    "                path: file.path\n",
    "            }])\n",
    "        }\n",
    "    });\n",
    "    var code = results.map(r => r.value);\n",
    "    var topLevel = results\n",
    "        .filter(r => code\n",
    "            .filter(c => c !== r.value && c.indexOf(r.value) > 0).length === 0)\n",
    "    results = results\n",
    "        .filter(m => topLevel.filter(c => c.value === m.value).length === 0)\n",
    "    code = results.map(r => r.value);\n",
    "    topLevel = topLevel.concat(results.filter(r => code\n",
    "        .filter(c => c !== r.value && c.indexOf(r.value) > 0).length === 0))\n",
    "    results = results\n",
    "        .filter(m => topLevel.filter(c => c.value === m.value).length === 0)\n",
    "    return results\n",
    "        .filter(m => m.value.split(/\\n/ig).length > 100)\n",
    "}\n",
    "\n",
    "module.exports = findLongFunctions\n"
   ]
  },
  {
   "cell_type": "markdown",
   "metadata": {
    "heading_collapsed": true,
    "hidden": true
   },
   "source": [
    "#### test find too long of functions\n"
   ]
  },
  {
   "cell_type": "code",
   "execution_count": null,
   "metadata": {
    "hidden": true
   },
   "outputs": [],
   "source": [
    "var PROFILE_PATH = process.env.HOME || process.env.HOMEPATH || process.env.USERPROFILE;\n",
    "var project = PROFILE_PATH + '/Documents/asm';\n",
    "\n",
    "if(typeof $$ !== 'undefined') {\n",
    "    $$.async();\n",
    "    findLongFunctions(project)\n",
    "        .then(e => $$.sendResult(e.map(m => m.path)))\n",
    "        .catch(e => $$.sendError(e))\n",
    "\n",
    "}\n"
   ]
  },
  {
   "cell_type": "markdown",
   "metadata": {},
   "source": [
    "## file tools"
   ]
  },
  {
   "cell_type": "markdown",
   "metadata": {},
   "source": [
    "### match filename?\n",
    "\n",
    "Minimatching from an object full of file names and their output destination.\n"
   ]
  },
  {
   "cell_type": "code",
   "execution_count": null,
   "metadata": {},
   "outputs": [],
   "source": [
    "var importer = require('../Core')\n",
    "var {minimatch} = importer.import('minimatch')\n",
    "\n",
    "var getDirectory = (match) => match[match.length-1] === '/'\n",
    "    ? match\n",
    "    : (fs.existsSync(match) && fs.lstatSync(match).isDirectory()\n",
    "       ? match\n",
    "       : path.dirname(match));\n",
    "\n",
    "\n",
    "function matchFilename(filename, matchOutput, projectOutput) {\n",
    "    // TODO: examples of defensive programming\n",
    "    if(!matchOutput || Object.keys(matchOutput).length === 0) {\n",
    "         matchOutput = {'{**,**/*}': './'}\n",
    "    }\n",
    "    return Object.keys(matchOutput)\n",
    "    .filter(match => minimatch(filename, match))\n",
    "    .map(match => {\n",
    "        var projectMatch = path.join(projectOutput, matchOutput[match])\n",
    "        var dir = getDirectory(projectMatch);\n",
    "        return path.join(dir, path.basename(projectMatch) === path.basename(dir)\n",
    "            ? filename\n",
    "            : path.basename(matchOutput[match]));\n",
    "    })\n",
    "}\n",
    "\n",
    "module.exports = {\n",
    "    matchFilename,\n",
    "    getDirectory\n",
    "}\n"
   ]
  },
  {
   "cell_type": "markdown",
   "metadata": {},
   "source": [
    "### make directories recursively\n",
    "\n",
    "mkdirp?\n"
   ]
  },
  {
   "cell_type": "code",
   "execution_count": null,
   "metadata": {},
   "outputs": [],
   "source": [
    "var fs = require('fs');\n",
    "var path = require('path');\n",
    "\n",
    "function mkdirpSync(p) {\n",
    "    if(!fs.existsSync(p)) {\n",
    "        try {\n",
    "            fs.mkdirSync(p);\n",
    "        } catch (e) {\n",
    "            if(e.code === 'ENOENT') {\n",
    "                mkdirpSync(path.dirname(p));\n",
    "                fs.mkdirSync(p);\n",
    "            } else if (e.code === 'EEXISTS') {\n",
    "                \n",
    "            } else {\n",
    "                throw e\n",
    "            }\n",
    "        }\n",
    "    }\n",
    "}\n",
    "\n",
    "module.exports = mkdirpSync;\n"
   ]
  },
  {
   "cell_type": "markdown",
   "metadata": {},
   "source": [
    "### changing file names?\n"
   ]
  },
  {
   "cell_type": "code",
   "execution_count": null,
   "metadata": {},
   "outputs": [],
   "source": [
    "var path = require('path')\n",
    "\n",
    "function chext(file, ext) {\n",
    "    return file.replace(new RegExp('\\\\' + path.extname(file) + '$'), ext)\n",
    "}\n",
    "\n",
    "function chroot(file, root, output) {\n",
    "    // TODO: example of defensive programming\n",
    "    if(file.substr(0, root.length).localeCompare(root) !== 0)\n",
    "        throw new Error(`File not in root ${file}`)\n",
    "    return path.join(output, file.substr(root.length))\n",
    "}\n",
    "\n",
    "module.exports = {\n",
    "    chext,\n",
    "    chroot,\n",
    "}"
   ]
  },
  {
   "cell_type": "markdown",
   "metadata": {
    "heading_collapsed": true
   },
   "source": [
    "### mocking file-system calls\n",
    "\n",
    "This can be useful if a library doesn't natively support streams or putting content in to memory instead of directly on disk.\n",
    "\n"
   ]
  },
  {
   "cell_type": "markdown",
   "metadata": {
    "heading_collapsed": true,
    "hidden": true
   },
   "source": [
    "#### the code\n",
    "\n",
    "How to use memory-fs and rewire to audit cli events?\n",
    "\n"
   ]
  },
  {
   "cell_type": "code",
   "execution_count": null,
   "metadata": {
    "hidden": true,
    "inputHidden": false,
    "outputHidden": false
   },
   "outputs": [],
   "source": [
    "var path = require('path');\n",
    "var mock = require('mock-require');\n",
    "var memfs = require('memfs');\n",
    "var unionfs = require('unionfs');\n",
    "var fs = require('fs');\n",
    "var ts = require('typescript');\n",
    "\n",
    "// TODO: use https://github.com/jhnns/rewire for replacing variables, something like https://github.com/mariocasciaro/object-path?\n",
    "\n",
    "function mockTypescriptFs(root, data) {\n",
    "    var mem = new memfs.Volume;\n",
    "\n",
    "    mem.mountSync(root, data);\n",
    "\n",
    "    // Create a union of two file systems:\n",
    "    unionfs\n",
    "        .use(fs)\n",
    "        .use(mem)\n",
    "        .replace(fs);\n",
    "\n",
    "    var tsMock = Object.assign({}, ts);\n",
    "    var toMock = {\n",
    "        readFile: 'readFileSync',\n",
    "        realpath: 'realpathSync',\n",
    "        writeFile: 'writeFileSync',\n",
    "        fileExists: 'existsSync',\n",
    "        directoryExists: 'existsSync',\n",
    "        createDirectory: 'mkdirSync',\n",
    "        getDirectories: 'readdirSync'\n",
    "    };\n",
    "    Object.keys(toMock)\n",
    "        .forEach(k => {\n",
    "            if (typeof mem[toMock[k]] === 'function') {\n",
    "                tsMock.sys[k] = function () {\n",
    "                    // typescript.sys functions return defined on error\n",
    "                    try {\n",
    "                        return mem[toMock[k]].apply(mem, arguments);\n",
    "                    } catch (e) {\n",
    "                        return;\n",
    "                    }\n",
    "                };\n",
    "            }\n",
    "        });\n",
    "\n",
    "    mock('typescript', tsMock);\n",
    "    return mock;\n",
    "};\n",
    "module.exports = mockTypescriptFs;\n",
    "\n",
    "// TODO: search github for projects like graceful-fs and then search google for projects that use graceful-fs and see if we can record some filesystem activity\n",
    "\n"
   ]
  },
  {
   "cell_type": "markdown",
   "metadata": {
    "heading_collapsed": true
   },
   "source": [
    "## TODO: use static code analysis to find consecutive words in template files?\n",
    "\n",
    "https://stackoverflow.com/questions/18717536/in-python-how-can-i-distinguish-between-a-human-readible-word-and-random-string\n",
    "\n",
    "TODO: combine with DOM minimizing service from recording app?\n",
    "\n",
    "TODO: use to find the main content of the page for scraping.\n"
   ]
  },
  {
   "cell_type": "code",
   "execution_count": null,
   "metadata": {
    "hidden": true
   },
   "outputs": [],
   "source": [
    "var fs = require('fs');\n",
    "var importer = require('../Core')\n",
    "var {glob} = importer.import('glob files')\n",
    "fs.readdirSync('.');\n",
    "var PROJECT_PATH = '/Users/briancullinan/Google Drive/Colab Notebooks'\n",
    "glob.sync('**/*.ipynb', {cwd: PROJECT_PATH}).forEach(f => {\n",
    "    const nb = JSON.parse(fs.readFileSync(path.join(PROJECT_PATH, f)).toString());\n",
    "    nb.nbformat_minor = 0;\n",
    "    /*\n",
    "    nb.metadata = {\n",
    "        colab: {\n",
    "          \"name\": path.basename(f),\n",
    "          \"version\": \"0.3.2\",\n",
    "          \"views\": {},\n",
    "          \"default_view\": {},\n",
    "          \"provenance\": []\n",
    "        },\n",
    "        kernelspec: {\n",
    "          \"name\": \"javascript\",\n",
    "          \"display_name\": \"Javascript\"\n",
    "        }\n",
    "    };\n",
    "    */\n",
    "    fs.writeFileSync(path.join(PROJECT_PATH, f), JSON.stringify(nb, null, 2));\n",
    "});\n"
   ]
  },
  {
   "cell_type": "markdown",
   "metadata": {
    "heading_collapsed": true
   },
   "source": [
    "## TODO:\n",
    "\n",
    "TODO: make a utulity for displaying files that match specific code.\n",
    "\n",
    "TODO: make a utility for loading file information like PECL ID3 from PHP.\n"
   ]
  },
  {
   "cell_type": "code",
   "execution_count": null,
   "metadata": {
    "hidden": true
   },
   "outputs": [],
   "source": []
  }
 ],
 "metadata": {
  "kernel_info": {
   "name": "javascript"
  },
  "kernelspec": {
   "display_name": "Javascript (Node.js)",
   "language": "javascript",
   "name": "javascript"
  },
  "language_info": {
   "file_extension": ".js",
   "mimetype": "application/javascript",
   "name": "javascript",
   "version": "12.7.0"
  }
 },
 "nbformat": 4,
 "nbformat_minor": 4
}
