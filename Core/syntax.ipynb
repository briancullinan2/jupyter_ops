{
 "cells": [
  {
   "cell_type": "markdown",
   "metadata": {},
   "source": [
    "# syntax tools\n",
    "\n",
    "\n"
   ]
  },
  {
   "cell_type": "markdown",
   "metadata": {},
   "source": [
    "## locating libraries\n",
    "\n"
   ]
  },
  {
   "cell_type": "markdown",
   "metadata": {},
   "source": [
    "### get requires from source?\n",
    "\n",
    "get requires?\n",
    "\n",
    "throws an error on dynamic includes.\n"
   ]
  },
  {
   "cell_type": "markdown",
   "metadata": {},
   "source": [
    "#### the code"
   ]
  },
  {
   "cell_type": "code",
   "execution_count": null,
   "metadata": {},
   "outputs": [],
   "source": [
    "var importer = require('../Core');\n",
    "var {selectAst} = importer.import('select code tree')\n",
    "\n",
    "// TODO: use this in files and gulp script \n",
    "//   require(\"module\").builtinModules\n",
    "function getRequires(code) {\n",
    "    return [].concat.apply([], selectAst([\n",
    "        `//CallExpression[./Identifier[@name=\"require\"]]`,\n",
    "        (ctx) => {\n",
    "            var req = selectAst([`.//Literal/@value`], ctx)\n",
    "            if(req.length === 0) throw new Error(\n",
    "                `dynamic require: ${JSON.stringify(htmlToTree(ctx))}`)\n",
    "            return req;\n",
    "        }\n",
    "    ], code))\n",
    "}\n",
    "\n",
    "\n",
    "module.exports = {\n",
    "    getRequires\n",
    "}\n"
   ]
  },
  {
   "cell_type": "markdown",
   "metadata": {},
   "source": [
    "#### test require detection\n",
    "\n"
   ]
  },
  {
   "cell_type": "code",
   "execution_count": null,
   "metadata": {},
   "outputs": [],
   "source": [
    "var importer = require('../Core');\n",
    "var {getRequires} = importer.import('get requires from source')\n",
    "\n",
    "var code = `\n",
    "var importer = require('../Core');\n",
    "var glob = require('glob');\n",
    "var path = require('path');\n",
    "`\n",
    "\n",
    "function testGetRequires() {\n",
    "    return getRequires(code)\n",
    "}\n",
    "\n",
    "module.exports = testGetRequires\n",
    "\n",
    "if(typeof $$ != 'undefined') {\n",
    "    testGetRequires()\n",
    "    \n",
    "    /*\n",
    "    expected output\n",
    "    ../Core\n",
    "    glob\n",
    "    path\n",
    "    */\n",
    "}\n"
   ]
  },
  {
   "cell_type": "markdown",
   "metadata": {},
   "source": [
    "#### builtin and local modules?\n",
    "\n"
   ]
  },
  {
   "cell_type": "code",
   "execution_count": null,
   "metadata": {},
   "outputs": [],
   "source": [
    "var module = require('module')\n",
    "var importer = require('../Core')\n",
    "var {getRequires} = importer.import('get requires')\n",
    "\n",
    "function relativeImports(code, pathToCode) {\n",
    "    var result = {\n",
    "        local: [],\n",
    "        builtin: [],\n",
    "        packages: [],\n",
    "        missing: []\n",
    "    }\n",
    "    var requires = getRequires(code)\n",
    "    requires.forEach(imp => {\n",
    "        var local = imp.substr(0, 1) === '.'\n",
    "        try {\n",
    "            if(local) {\n",
    "                imp = path.relative(__dirname, pathToCode, imp)\n",
    "                require.resolve(imp)\n",
    "                result.local.push(imp)\n",
    "            } else {\n",
    "                if(!module.builtinModules.includes(imp)) {\n",
    "                    throw new Error('Cannot find module')\n",
    "                }\n",
    "                result.builtin.push(imp)\n",
    "            }\n",
    "        } catch (e) {\n",
    "            if(!e.message.includes('Cannot find module')) {\n",
    "                throw e\n",
    "            } else {\n",
    "                if(local) {\n",
    "                    result.missing.push(imp)\n",
    "                } else {\n",
    "                    result.packages.push(imp)\n",
    "                }\n",
    "            }\n",
    "        }\n",
    "    })\n",
    "    return result\n",
    "}\n",
    "\n",
    "module.exports = {\n",
    "    relativeImports\n",
    "}\n"
   ]
  },
  {
   "cell_type": "markdown",
   "metadata": {},
   "source": [
    "#### show all package dependencies in core\n",
    "\n",
    "core dependencies?\n",
    "\n",
    "Needs to be zero, and only builtins used.\n",
    "\n"
   ]
  },
  {
   "cell_type": "code",
   "execution_count": null,
   "metadata": {},
   "outputs": [],
   "source": [
    "var path = require('path')\n",
    "var importer = require('../Core')\n",
    "var {relativeImports} = importer.import('builtin and local modules')\n",
    "var {listInProject} = importer.import('list project files')\n",
    "\n",
    "function coreDependencies() {\n",
    "    var packages = []\n",
    "    var builtin = []\n",
    "    var coreNotebooks = listInProject(__dirname, '{,*,*/,*/*/*,*/*/*/*}*.ipynb')\n",
    "        .filter(n => !n.includes('cache.ipynb'))\n",
    "    coreNotebooks.forEach(n => {\n",
    "        var cells = importer.interpret(path.basename(n))\n",
    "        cells.forEach(cell => {\n",
    "            try {\n",
    "                var imports = relativeImports(cell.code, cell.filename)\n",
    "                imports.packages.forEach(p => packages.push(p))\n",
    "                imports.builtin.forEach(p => builtin.push(p))\n",
    "            } catch (e) {\n",
    "                console.log(`problem with ${cell.id} ${e.message}`)\n",
    "            }\n",
    "            \n",
    "        })\n",
    "    })\n",
    "    console.log(packages)\n",
    "    console.log(builtin)\n",
    "    return packages\n",
    "}\n",
    "\n",
    "module.exports = {\n",
    "    coreDependencies\n",
    "}\n"
   ]
  },
  {
   "cell_type": "markdown",
   "metadata": {},
   "source": [
    "#### test core dependencies?\n",
    "\n"
   ]
  },
  {
   "cell_type": "code",
   "execution_count": null,
   "metadata": {
    "scrolled": false
   },
   "outputs": [],
   "source": [
    "var importer = require('../Core')\n",
    "var {coreDependencies} = importer.import('core dependencies')\n",
    "\n",
    "function testCoreDependencies() {\n",
    "    return coreDependencies()\n",
    "}\n",
    "\n",
    "module.exports = testCoreDependencies\n",
    "\n",
    "if(typeof $$ !== 'undefined') {\n",
    "    testCoreDependencies()\n",
    "}\n"
   ]
  },
  {
   "cell_type": "markdown",
   "metadata": {},
   "source": [
    "### get exports from source?\n",
    "\n",
    "get module exports from source?\n"
   ]
  },
  {
   "cell_type": "markdown",
   "metadata": {},
   "source": [
    "#### the code\n",
    "\n"
   ]
  },
  {
   "cell_type": "code",
   "execution_count": null,
   "metadata": {},
   "outputs": [],
   "source": [
    "var importer = require('../Core');\n",
    "var {selectAst} = importer.import('select code tree')\n",
    "\n",
    "// TODO: does this work on other node_modules?\n",
    "function getExports(code) {\n",
    "    var exports = [].concat.apply([], selectAst([\n",
    "        `//AssignmentExpression[.//Identifier[@name=\"exports\"]]`,\n",
    "        ['.//Identifier', './@name']\n",
    "    ], code))\n",
    "    var functions = selectAst([\n",
    "        `//FunctionDeclaration/Identifier[@parent-attr=\"id\"]`,\n",
    "        './@name'\n",
    "    ], code)\n",
    "    var functions2 = selectAst([\n",
    "        `//AsyncFunctionDeclaration/Identifier[@parent-attr=\"id\"]`,\n",
    "        './@name'\n",
    "    ], code)\n",
    "    var functions3 = selectAst([\n",
    "        `//ExportDefaultDeclaration/Identifier[@parent-attr=\"declaration\"]`,\n",
    "        './@name'\n",
    "    ], code)\n",
    "    return exports.concat(functions).concat(functions2).concat(functions3)\n",
    "        .filter(e => e !== 'exports' && e !== 'require' && e !== 'module')\n",
    "        .filter((e, i, arr) => arr.indexOf(e) === i)\n",
    "}\n",
    "\n",
    "module.exports = getExports;\n"
   ]
  },
  {
   "cell_type": "markdown",
   "metadata": {},
   "source": [
    "#### test export detection\n",
    "\n"
   ]
  },
  {
   "cell_type": "code",
   "execution_count": null,
   "metadata": {},
   "outputs": [],
   "source": [
    "var importer = require('../Core');\n",
    "var getExports = importer.import('get exports from source')\n",
    "\n",
    "var code = `\n",
    "exports.import = importNotebook\n",
    "exports = testExports\n",
    "exports = require('../index.js')\n",
    "`\n",
    "\n",
    "function testGetExports() {\n",
    "    return getExports(code)\n",
    "}\n",
    "\n",
    "if(typeof $$ != 'undefined') {\n",
    "    testGetExports()\n",
    "    \n",
    "    /*\n",
    "    expected output\n",
    "    importNotebook\n",
    "    import\n",
    "    testExports\n",
    "    */\n",
    "}\n"
   ]
  },
  {
   "cell_type": "markdown",
   "metadata": {},
   "source": [
    "### get parameter names?\n",
    "\n",
    "function parameters?\n"
   ]
  },
  {
   "cell_type": "markdown",
   "metadata": {},
   "source": [
    "#### the code\n",
    "\n"
   ]
  },
  {
   "cell_type": "code",
   "execution_count": null,
   "metadata": {},
   "outputs": [],
   "source": [
    "var importer = require('../Core');\n",
    "var {getExports, selectAst} = importer.import([\n",
    "    'select code tree', 'get exports from source'])\n",
    "\n",
    "var EXPORTS = `//AssignmentExpression[.//Identifier[@name=\\\"exports\\\"]]//Identifier`\n",
    "var PARAMETERS = `((//FunctionDeclaration|//ArrowFunctionExpression)[\n",
    "    ./Identifier[@parent-attr=\\\"id\\\" and contains('EXPORTS', @name)]\n",
    "]/Identifier[@parent-attr=\\\"params\\\" or @parent-attr=\\\"left\\\"]|(//FunctionDeclaration|//ArrowFunctionExpression)[\n",
    "    ./Identifier[@parent-attr=\\\"id\\\" and contains('EXPORTS', @name)]\n",
    "]/*/Identifier[@parent-attr=\\\"params\\\" or @parent-attr=\\\"left\\\"])`\n",
    "\n",
    "function getParameters(code) {\n",
    "    var fnName = getExports(code);\n",
    "    if(!fnName[0]) {\n",
    "        return [];\n",
    "    }\n",
    "\n",
    "    var params = selectAst([PARAMETERS.replace('EXPORTS', fnName.join(' ')), './@name'], code)\n",
    "    //for (const attr of params[1].attributes) {\n",
    "    //    console.log(`${attr.name} -> ${attr.value}\\n`)\n",
    "    //}\n",
    "    return [fnName[0], ...params.filter(p => p) /*.filter((p, i, arr) => arr.indexOf(p) === i)*/]\n",
    "}\n",
    "\n",
    "module.exports = getParameters;\n"
   ]
  },
  {
   "cell_type": "markdown",
   "metadata": {},
   "source": [
    "#### test parameter names?\n",
    "\n"
   ]
  },
  {
   "cell_type": "code",
   "execution_count": null,
   "metadata": {},
   "outputs": [],
   "source": [
    "var importer = require('../Core');\n",
    "var getParameters = importer.import('get parameter names')\n",
    "\n",
    "var code = `\n",
    "function getParameters(code) {\n",
    "}\n",
    "`\n",
    "\n",
    "function testGetParameters() {\n",
    "    return getParameters(code)\n",
    "}\n",
    "\n",
    "if(typeof $$ != 'undefined') {\n",
    "    testGetParameters()\n",
    "    \n",
    "    /*\n",
    "    expected output\n",
    "    getParameters\n",
    "    code\n",
    "    \n",
    "    */\n",
    "}\n"
   ]
  },
  {
   "cell_type": "markdown",
   "metadata": {},
   "source": [
    "### get imports from source?\n",
    "\n"
   ]
  },
  {
   "cell_type": "markdown",
   "metadata": {},
   "source": [
    "#### the code\n",
    "\n"
   ]
  },
  {
   "cell_type": "code",
   "execution_count": null,
   "metadata": {},
   "outputs": [],
   "source": [
    "var importer = require('../Core');\n",
    "var {selectAst} = importer.import('select code tree')\n",
    "var CORE_DECLARE = `//*[\n",
    "    contains(@type, \"Declar\")\n",
    "    and ./*/*[@type=\"Literal\" and contains(@value, \"Core\")]\n",
    "]`;\n",
    "var IMPORTER = `${CORE_DECLARE}/*[@type=\"Identifier\"]/@name`;\n",
    "var IMPORTER_CALLS = `//*[contains(@type, \"Call\") and ./*[\n",
    "    contains(@type, \"Member\") and contains(./Identifier/@name, \"import\")\n",
    "] and ./Literal]`;\n",
    "\n",
    "function getImports(code) {\n",
    "    var importer = selectAst([IMPORTER], code)[0]\n",
    "    return [].concat.apply([], selectAst([\n",
    "        IMPORTER_CALLS.replace('importer', importer),\n",
    "        [`./Identifier/@name|./*/Identifier/@name|.//Literal/@value`]\n",
    "    ], code))\n",
    "        .filter((i, j, arr) => arr.indexOf(i) === j)\n",
    "}\n",
    "\n",
    "module.exports = getImports;\n",
    "\n"
   ]
  },
  {
   "cell_type": "markdown",
   "metadata": {},
   "source": [
    "#### test get imports?\n",
    "\n"
   ]
  },
  {
   "cell_type": "code",
   "execution_count": null,
   "metadata": {
    "scrolled": false
   },
   "outputs": [],
   "source": [
    "var importer = require('../Core');\n",
    "var getImports = importer.import('get imports from source')\n",
    "var {selectAst} = importer.import('select code tree')\n",
    "var {htmlToTree} = importer.import('html to tree')\n",
    "\n",
    "var code = `\n",
    "var importer = require('../Core');\n",
    "var getParameters = importer.import('get parameter names')\n",
    "`\n",
    "\n",
    "function testGetImports() {\n",
    "    console.log(getImports(importer.interpret('rpc.ipynb[1]').code))\n",
    "    console.log(htmlToTree(selectAst('//CallExpression', code)[1]))\n",
    "    return getImports(code)\n",
    "}\n",
    "\n",
    "if(typeof $$ != 'undefined') {\n",
    "    testGetImports()\n",
    "    \n",
    "    /*\n",
    "    expected output\n",
    "    get parameter names\n",
    "    import\n",
    "    \n",
    "    */\n",
    "}\n"
   ]
  },
  {
   "cell_type": "markdown",
   "metadata": {},
   "source": [
    "### TODO: retrieving framework documentation\n",
    "\n",
    "generate a synax tree from documentation\n",
    "\n"
   ]
  },
  {
   "cell_type": "markdown",
   "metadata": {},
   "source": [
    "#### the code"
   ]
  },
  {
   "cell_type": "code",
   "execution_count": null,
   "metadata": {},
   "outputs": [],
   "source": []
  },
  {
   "cell_type": "markdown",
   "metadata": {},
   "source": [
    "#### test language translator\n",
    "\n",
    "TODO: Creating an interface like this becomes a simple http request to download and create a language compatible pattern, do in C# and in Node\n",
    "\n",
    "\n"
   ]
  },
  {
   "cell_type": "code",
   "execution_count": null,
   "metadata": {},
   "outputs": [],
   "source": [
    "/*\n",
    "var wireKernelInterface = {\n",
    "    ...metaKernelInterface,\n",
    "    // implement all requests, these are required by the meta kernel\n",
    "    execute_request, inspect_request, complete_request,\n",
    "    history_request, is_complete_request, shutdown_request,\n",
    "    // requests maybe not required right now?\n",
    "    kernel_info_request, interrupt_request, input_request,\n",
    "    connect_request, comm_info_request, kernel_info_request,\n",
    "\n",
    "    // implement all replys\n",
    "    execute_reply, inspect_reply, complete_reply,\n",
    "    history_reply, kernel_info_reply, is_complete_reply,\n",
    "    connect_reply, comm_info_reply, kernel_info_reply,\n",
    "    shutdown_reply, interrupt_reply, input_reply,\n",
    "\n",
    "    // a few extra protocol methods\n",
    "    display_data, update_display_data, execute_input,\n",
    "    execute_result, error, status, clear_output,\n",
    "    comm_msg, comm_close\n",
    "}\n",
    "\n",
    "module.exports = wireKernelInterface;\n",
    "*/\n"
   ]
  },
  {
   "cell_type": "markdown",
   "metadata": {},
   "source": [
    "### TODO: creating libraries from code blocks\n",
    "\n",
    "Code analysis to combine blocks into modules\n"
   ]
  },
  {
   "cell_type": "code",
   "execution_count": null,
   "metadata": {},
   "outputs": [],
   "source": []
  },
  {
   "cell_type": "markdown",
   "metadata": {},
   "source": [
    "### TODO: manipulating code libraries\n",
    "\n",
    "TODO: show git repo organization options\n",
    "\n",
    "Warn of changes made outside of the module or feature branch\n",
    "\n"
   ]
  },
  {
   "cell_type": "markdown",
   "metadata": {},
   "source": [
    "## code trees"
   ]
  },
  {
   "cell_type": "markdown",
   "metadata": {},
   "source": [
    "Functions for working with code trees. selectTree is nice, but jsel and CSS-style selectors don't give you access to parents. True XPath can navigate both directions of an XML/HTML tree. Later in the section selectAst converts the code to an html tree for XPath and CSS-style evaluating."
   ]
  },
  {
   "cell_type": "markdown",
   "metadata": {},
   "source": [
    "### tree to html\n",
    "\n",
    "Reasoning. Every atom is made up of smaller component parts. This conversion creates a tree that breaks down to &lt;elements&gt; and attr=\"ibutes\", just like neutrons and protons. XML, HTML, and CSS parsers are common in every language, which means the XPath and CSS query selectors also might be available.\n",
    "\n",
    "Therefore we have an AST that acts exactly the same in every language, no need to change class names, or make switch blocks for different token types.\n"
   ]
  },
  {
   "cell_type": "markdown",
   "metadata": {},
   "source": [
    "#### the code\n",
    "\n",
    "tree to html?\n",
    "\n",
    "Rules, start with an array `[]` with a single root node. Every list must contain a list of objects, not mixing primitives and objects in lists. Every object must have a `type: ` key to use as the element type.\n"
   ]
  },
  {
   "cell_type": "code",
   "execution_count": null,
   "metadata": {},
   "outputs": [],
   "source": [
    "var importer = require('../Core');\n",
    "var {selectDom} = importer.import('select tree')\n",
    "\n",
    "//TODO: remove \\u200b characters\n",
    "var specialChars = (str) => {\n",
    "    var special = {\n",
    "        '&':'&amp;',\n",
    "        '<':'&lt;',\n",
    "        '>':'&gt;',\n",
    "        '\"':'&quot;',\n",
    "        \"'\":'&apos;'\n",
    "    }\n",
    "    Object.keys(special).forEach(s => {\n",
    "        str = str.replace(new RegExp(s, 'ig'), special[s])\n",
    "    })\n",
    "    return str\n",
    "}\n",
    "\n",
    "function treeToStr(statement, parent) {\n",
    "    var {type} = statement;\n",
    "    var result = ``, attrs = ``;\n",
    "    var isList = true;\n",
    "    for(var i in statement) {\n",
    "        if(parseInt(i) + '' === i + '') {\n",
    "            result += treeToStr(statement[i], parent)\n",
    "            continue;\n",
    "        }\n",
    "        isList = false;\n",
    "        var jsType = typeof statement[i];\n",
    "        if(jsType === 'object' && statement[i]) {\n",
    "            jsType = Object.getPrototypeOf(statement[i]).constructor.name;\n",
    "        }\n",
    "        // if the property is an Object, print out as a child\n",
    "        // TODO: replace this type property when converting other trees\n",
    "        //   should be like getEl() treeToStr(() => el.type)\n",
    "        if(statement[i] && typeof statement[i].type !== 'undefined'\n",
    "           // or if the property is an Array,\n",
    "           //   print them out as child elements\n",
    "           || (Array.isArray(statement[i]) && statement[i].length\n",
    "           && typeof statement[i][0].type !== 'undefined')) {\n",
    "            // print out the other keys just for fun matching\n",
    "            attrs +=  `\n",
    "${i}=\"\" ${i}-type=\"${jsType}\"`;\n",
    "            result += `\n",
    "${treeToStr(statement[i], i)}`\n",
    "            // output as child element and <-attr> elements\n",
    "            //   for posterity, only child elements are return on the select,\n",
    "            //   but attr elements can still be matched\n",
    "        } else {\n",
    "            // if the property is not an object, i.e. native types\n",
    "            if(typeof statement[i] !== 'string') {\n",
    "                attrs +=  `\n",
    "${i}=\"${specialChars(JSON.stringify(statement[i]))}\" ${i}-type=\"${jsType}\"`\n",
    "            } else {\n",
    "                attrs +=  `\n",
    "${i}=\"${specialChars(statement[i])}\" ${i}-type=\"${jsType}\"`\n",
    "            }\n",
    "        }\n",
    "    }\n",
    "    \n",
    "    return isList ? result : `\n",
    "<${type}${attrs}${parent ? `\n",
    " parent-attr=\"${parent}\"`: ``}>${result}</${type}>`\n",
    "}\n",
    "\n",
    "function treeToHtml(tree) {\n",
    "    var body = treeToStr(tree);\n",
    "    return selectDom('//BODY', '<BODY>' + body + '</BODY>');\n",
    "}\n",
    "\n",
    "module.exports = {\n",
    "    treeToHtml\n",
    "}\n"
   ]
  },
  {
   "cell_type": "markdown",
   "metadata": {},
   "source": [
    "#### justification\n",
    "\n",
    "Just so it can be parsed with XPath instead of crappy wanna-be query languages. Get them all working the same!  Also, html/xml parsers are common in many languages. So this library can be parsed and translated to other languages, using itself!\n",
    "\n"
   ]
  },
  {
   "cell_type": "markdown",
   "metadata": {},
   "source": [
    "\n",
    "Crap modules I won't need any more:\n",
    "- css\n",
    "- ASTQ\n",
    "- Acorn\n",
    "- esprima\n",
    "- escodegen\n",
    "- esquery\n",
    "- jsonpath\n",
    "- jsonpath-plus\n",
    "- jsonquery\n",
    "- jspath\n",
    "- json:select\n",
    "- jsel\n",
    "- minimatch\n",
    "\n",
    "TODO: get rid of jsonpath-plus, jsonstream, jspath, \n",
    "\n"
   ]
  },
  {
   "cell_type": "markdown",
   "metadata": {},
   "source": [
    "#### test converting element to markdown using an ast\n",
    "\n"
   ]
  },
  {
   "cell_type": "markdown",
   "metadata": {},
   "source": [
    "```\n",
    "/* expected output `\n",
    "[ Script {\n",
    "    type: 'Program',\n",
    "    body: [ [FunctionDeclaration], [ExpressionStatement] ],\n",
    "    sourceType: 'script',\n",
    "    range: [ 1, 45 ],\n",
    "    comments: [],\n",
    "    tokens:\n",
    "\n",
    "<program type=\"program\">\n",
    "    <function>\n",
    "    </function>\n",
    "    <expression>\n",
    "    </expression>\n",
    "</program>\n",
    "\n",
    "*/\n",
    "```\n",
    "\n"
   ]
  },
  {
   "cell_type": "code",
   "execution_count": null,
   "metadata": {},
   "outputs": [],
   "source": []
  },
  {
   "cell_type": "markdown",
   "metadata": {},
   "source": [
    "### html to tree\n",
    "\n",
    "Convert HTML back from the function above, html to tree."
   ]
  },
  {
   "cell_type": "markdown",
   "metadata": {},
   "source": [
    "#### the code\n",
    "\n",
    "html to tree?"
   ]
  },
  {
   "cell_type": "code",
   "execution_count": null,
   "metadata": {},
   "outputs": [],
   "source": [
    "var {JSDOM} = require('jsdom');\n",
    "\n",
    "// TODO: create a pattern same as notebook markdown in core, accumulate\n",
    "function accumulateChildNodes(body) {\n",
    "    var commentBuffer = []\n",
    "    // TODO: exclude children parent properties\n",
    "    //   left-over children are assigned to children: []\n",
    "    return Array.from(body.childNodes)\n",
    "        .reduce((obj, n) => {\n",
    "            if(n.nodeName === '#text') {\n",
    "                commentBuffer.push[n];\n",
    "                return obj;\n",
    "            }\n",
    "            var parent = n.getAttribute('parent-attr');\n",
    "            var newNode = htmlToTree(n);\n",
    "            if(parent) {\n",
    "                var parentType = body.getAttribute(parent + '-type')\n",
    "                if(parentType === 'Array') {\n",
    "                    if(typeof obj[parent] === 'undefined')\n",
    "                        obj[parent] = [];\n",
    "                    obj[parent].push(newNode);\n",
    "                } else {\n",
    "                    obj[parent] = newNode;\n",
    "                }\n",
    "            } else {\n",
    "                // TODO: if no children left and no other -attr properties,\n",
    "                //   remove the child property from the output\n",
    "                if(typeof obj.children === 'undefined')\n",
    "                    obj.children = [];\n",
    "                obj.children.push(newNode);\n",
    "            }\n",
    "            if(typeof newNode.comments !== 'undefined') {\n",
    "                newNode.comments.push.apply(\n",
    "                    newNode.comments, commentBuffer)\n",
    "                commentBuffer = [];\n",
    "            }\n",
    "            return obj;\n",
    "        }, {})\n",
    "}\n",
    "\n",
    "// expects a string or a tree from JSDOM\n",
    "function htmlToTree(body) {\n",
    "    if(typeof body === 'string') {\n",
    "        var dom = new JSDOM(body);\n",
    "        return accumulateChildNodes(dom.window.document.body).children;\n",
    "    }\n",
    "    if(Array.isArray(body)) {\n",
    "        return body.map(t => htmlToTree(t))\n",
    "    }\n",
    "    if(body.nodeName === '#text') {\n",
    "        return body.nodeValue;\n",
    "    }\n",
    "    // convert attributed object containers back to properties\n",
    "    // TODO: might have a property named -type and it will be lost\n",
    "    var attrs = body.getAttributeNames()\n",
    "        .filter(a => a !== 'parent-attr' && a.substr(-5) != '-type')\n",
    "        .reduce((obj, p) => {\n",
    "            var attr = body.getAttribute(p);\n",
    "            try {\n",
    "                if(body.getAttribute(`${p}-type`) !== 'string') {\n",
    "                    obj[p] = JSON.parse(attr);\n",
    "                } else {\n",
    "                    obj[p] = attr;\n",
    "                }\n",
    "            }\n",
    "            catch (e) { obj[p] = attr; }\n",
    "            return obj;\n",
    "        }, {})\n",
    "    \n",
    "    var children = accumulateChildNodes(body);\n",
    "    \n",
    "    return Object.assign({\n",
    "        type: body.nodeName\n",
    "    }, attrs, children);\n",
    "}\n",
    "\n",
    "module.exports = {\n",
    "    htmlToTree\n",
    "};\n",
    "\n"
   ]
  },
  {
   "cell_type": "markdown",
   "metadata": {},
   "source": [
    "#### test tree to html\n",
    "\n"
   ]
  },
  {
   "cell_type": "code",
   "execution_count": null,
   "metadata": {
    "scrolled": false
   },
   "outputs": [],
   "source": [
    "var importer = require('../Core');\n",
    "var {treeToHtml, htmlToTree} = importer.import([\n",
    "    'tree to html', 'html to tree']);\n",
    "\n",
    "var assert = require('assert');\n",
    "var esprima = require('esprima'); \n",
    "\n",
    "function setupASTArray(code) {\n",
    "    var ctx = esprima.parse(code, {range: true, tokens: true,\n",
    "                        comment: true, whitespace: true})\n",
    "    \n",
    "    return ctx;\n",
    "}\n",
    "\n",
    "function testASTArray(ctx) {\n",
    "    var page = treeToHtml(ctx);\n",
    "    var translated_back = htmlToTree(page);\n",
    "    console.log(translated_back[0]);\n",
    "    assert(JSON.stringify(ctx).length\n",
    "           === JSON.stringify(translated_back[0]).length,\n",
    "           'different code trees');    \n",
    "    console.log('two JSON trees are same-same')\n",
    "    return page;\n",
    "}\n",
    "\n",
    "module.exports = testASTArray;\n",
    "\n",
    "function htmlEntities(str) {\n",
    "    return String(str)\n",
    "        .replace(/&/g, '&amp;')\n",
    "        .replace(/</g, '&lt;')\n",
    "        .replace(/>/g, '&gt;')\n",
    "        .replace(/\"/g, '&quot;');\n",
    "}\n",
    "\n",
    "if(typeof $$ !== 'undefined') {\n",
    "    var code = `\n",
    "function name(params) {\n",
    "    \n",
    "}\n",
    "console.log()\n",
    "`\n",
    "    var ctx = setupASTArray(code);\n",
    "    var html = testASTArray(ctx);\n",
    "    $$.html('<pre>' + htmlEntities(html) + '</pre>')\n",
    "}\n"
   ]
  },
  {
   "cell_type": "markdown",
   "metadata": {},
   "source": [
    "expected output\n",
    "\n",
    "\n",
    "```\n",
    "FunctionDeclaration {\n",
    "    type: 'FunctionDeclaration',\n",
    "    id:\n",
    "     Identifier { type: 'Identifier', name: 'name', range: [Array] },\n",
    "    params: [ [Identifier] ],\n",
    "    body:\n",
    "     BlockStatement { type: 'BlockStatement', body: [], range: [Array] },\n",
    "    generator: false,\n",
    "    expression: false,\n",
    "    async: false,\n",
    "    range: [ 1, 31 ] },\n",
    "  ExpressionStatement {\n",
    "    type: 'ExpressionStatement',\n",
    "    expression:\n",
    "     CallExpression {\n",
    "       type: 'CallExpression',\n",
    "       callee: [StaticMemberExpression],\n",
    "       arguments: [],\n",
    "       range: [Array] },\n",
    "    range: [ 32, 45 ] } ]\n",
    "```\n"
   ]
  },
  {
   "cell_type": "markdown",
   "metadata": {},
   "source": [
    "#### test what happens on regular html converted to a tree\n",
    "\n",
    "\n"
   ]
  },
  {
   "cell_type": "code",
   "execution_count": null,
   "metadata": {},
   "outputs": [],
   "source": [
    "var importer = require('../Core');\n",
    "var {htmlToTree} = importer.import('html to tree');\n",
    "\n",
    "function testHtmlTree(page) {\n",
    "    var translated_back = htmlToTree(page);\n",
    "    return translated_back;\n",
    "}\n",
    "\n",
    "if(typeof $$ !== 'undefined') {\n",
    "    // copied from Chrome Google search homepage\n",
    "    var code = `<div id=\"fakebox-container\">\n",
    "      <div id=\"fakebox\">\n",
    "        <div id=\"fakebox-search-icon\"></div>\n",
    "        <div id=\"fakebox-text\">Search Google or type a URL</div>\n",
    "        <input id=\"fakebox-input\" autocomplete=\"off\" tabindex=\"-1\" type=\"url\" aria-hidden=\"true\">\n",
    "        <div id=\"fakebox-cursor\"></div>\n",
    "        <button id=\"fakebox-microphone\" title=\"Search by voice\"></button>\n",
    "      </div>\n",
    "    </div>`\n",
    "    var tree = testHtmlTree(code);\n",
    "    console.log(tree);\n",
    "}\n"
   ]
  },
  {
   "cell_type": "markdown",
   "metadata": {},
   "source": [
    "### select code tree?\n",
    "\n",
    "select code from tree?\n",
    "\n",
    "select ast?\n",
    "\n",
    "Use CSS selectors to find code.\n",
    "\n"
   ]
  },
  {
   "cell_type": "markdown",
   "metadata": {},
   "source": [
    "#### the code\n"
   ]
  },
  {
   "cell_type": "code",
   "execution_count": null,
   "metadata": {},
   "outputs": [],
   "source": [
    "var esprima = require('esprima')\n",
    "var escodegen = require('escodegen')\n",
    "var importer = require('../Core')\n",
    "var {\n",
    "    selectDom,\n",
    "    evaluateDom,\n",
    "    treeToHtml,\n",
    "    htmlToTree\n",
    "} = importer.import(['select tree', 'tree to html', 'html to tree'])\n",
    "\n",
    "var FUNCTION_BODY = `//FunctionDeclaration/BlockStatement`\n",
    "\n",
    "function toString(ctx, subctx) {\n",
    "    var ast = (subctx || ctx)\n",
    "    if(typeof ast.ownerDocument !== 'undefined') {\n",
    "        ast = htmlToTree(ast)\n",
    "    }\n",
    "    //escodegen.attachComments(ast, ast.comments, ast.tokens, ast.whitespace)\n",
    "    return escodegen.generate(ast, {\n",
    "        comment: true,\n",
    "        tokens: true,\n",
    "        whitespace: true,\n",
    "        format: {indent: {style: '    '}, quotes: 'single'}\n",
    "    })\n",
    "}\n",
    "\n",
    "function selectAst(descriptor, code) {\n",
    "    if(typeof code === 'function') {\n",
    "        code = code.toString()\n",
    "    }\n",
    "    if(typeof code === 'string') {\n",
    "        try {\n",
    "            if(code.match(/^import\\s|\\simport\\s|^export\\s|\\sexport\\s/gi)) {\n",
    "                code = esprima.parseModule(code, {range: true, tokens: true,\n",
    "                    comment: true, whitespace: true, strict: false})\n",
    "            } else {\n",
    "                code = esprima.parse(code, {range: true, tokens: true,\n",
    "                    comment: true, whitespace: true, strict: false})\n",
    "            }\n",
    "        } catch(e) {\n",
    "            console.log(e)\n",
    "            throw new Error('Could not parse \\n' + code)\n",
    "        }\n",
    "    }\n",
    "    // TODO: move this conversion to selectDom for all objects?\n",
    "    //   No more selectTree because jsel and friends are inconsistent.\n",
    "    if(typeof code.evaluate === 'undefined'\n",
    "       && typeof code.ownerDocument === 'undefined') {\n",
    "        code = selectDom('//Program', treeToHtml(code))\n",
    "        code.ownerDocument.toString = toString.bind(code, code)\n",
    "    }\n",
    "    return selectDom(descriptor, code)\n",
    "}\n",
    "\n",
    "function makeExpr(code) {\n",
    "    if(typeof code === 'function') {\n",
    "        return selectAst([FUNCTION_BODY], code.toString())[0]\n",
    "    }\n",
    "    return selectAst([`//ExpressionStatement/*`], `(${code})`)[0]\n",
    "}\n",
    "\n",
    "module.exports = {\n",
    "    selectAst,\n",
    "    makeExpr\n",
    "}\n"
   ]
  },
  {
   "cell_type": "markdown",
   "metadata": {},
   "source": [
    "#### test selecting xpath with parent data\n",
    "\n",
    "Test selecting trees with the html translator.\n",
    "\n",
    "Get the same result as using the json evaluator.\n"
   ]
  },
  {
   "cell_type": "code",
   "execution_count": null,
   "metadata": {
    "scrolled": false
   },
   "outputs": [],
   "source": [
    "var assert = require('assert');\n",
    "var importer = require('../Core');\n",
    "var {selectAst, makeXpaths, htmlToTree} = importer.import([\n",
    "    'select tree', 'make xpaths', 'html to tree'])\n",
    "\n",
    "var code = `\n",
    "var importer = require('../Core');\n",
    "function name(params) {\n",
    "    return importer.interpret('this is a describe request');\n",
    "}\n",
    "console.log()\n",
    "`\n",
    "\n",
    "function testCodeToDom(code) {\n",
    "    // make a path with the interpret symbol\n",
    "    var node1 = selectAst(`//*[@name=\"interpret\"]`, code)\n",
    "    console.log(node1)\n",
    "    var parent = selectAst(`parent::*`, node1);\n",
    "    assert(parent.nodeName !== '', 'parent selector works');\n",
    "    console.log(selectAst(`*`, node1).children.length);\n",
    "    console.log(htmlToTree(parent));\n",
    "}\n",
    "\n",
    "if(typeof $$ !== 'undefined') {\n",
    "    testCodeToDom(code);\n",
    "}\n"
   ]
  },
  {
   "cell_type": "markdown",
   "metadata": {},
   "source": [
    "#### test with acorn instead\n",
    "\n",
    "select acorn tree?\n"
   ]
  },
  {
   "cell_type": "code",
   "execution_count": null,
   "metadata": {},
   "outputs": [],
   "source": [
    "var acorn = require(\"acorn\")\n",
    "var importer = require('../Core')\n",
    "var {selectAst, htmlToTree} = importer.import([\n",
    "    'select code tree', 'html to tree'])\n",
    "\n",
    "function selectAcorn(descriptor, code) {\n",
    "    var comments = [], tokens = [];\n",
    "    if(typeof code === 'string') {\n",
    "        code = acorn.parse(code, {\n",
    "            ecmaVersion: 6,\n",
    "            // collect ranges for each node\n",
    "            locations: true,\n",
    "            ranges: true,\n",
    "            // collect comments in Esprima's format\n",
    "            onComment: comments,\n",
    "            // collect token ranges\n",
    "            onToken: tokens,\n",
    "        })\n",
    "    }\n",
    "    return selectAst(descriptor, code);\n",
    "}\n",
    "\n",
    "module.exports = {\n",
    "    selectAcorn\n",
    "}\n",
    "\n",
    "if(typeof $$ !== 'undefined') {\n",
    "    var code = `\n",
    "    var importer = require('../Core');\n",
    "    function name(params) {\n",
    "        return importer.interpret('this is a describe request');\n",
    "    }\n",
    "    console.log()\n",
    "    `\n",
    "    var call = selectAcorn(`//*[@name=\"interpret\"]`, code);\n",
    "    console.log(htmlToTree(call))\n",
    "}\n"
   ]
  },
  {
   "cell_type": "markdown",
   "metadata": {},
   "source": [
    "### get xpath to node\n",
    "\n",
    "XPath minimizing service from recording prototype app.\n",
    " "
   ]
  },
  {
   "cell_type": "markdown",
   "metadata": {},
   "source": [
    "#### make xpaths?\n",
    "\n",
    "For generating links to nodes from the node, uses parentElement.\n",
    "\n"
   ]
  },
  {
   "cell_type": "code",
   "execution_count": null,
   "metadata": {},
   "outputs": [],
   "source": [
    "var assert = require('assert');\n",
    "var importer = require('../Core');\n",
    "var {selectDom} = importer.import('select tree');\n",
    "\n",
    "function makeCombinations(values) {\n",
    "    // get every combination of matching classifiers\n",
    "    //   pass it up to be used for minimization\n",
    "    //   on a larger context\n",
    "    var combinations = [];\n",
    "    // start at 1 to always include * or Element tag name\n",
    "    let i, j;\n",
    "    for (i = 1; i <= values.length; i++) {\n",
    "        for (j = 1; j <= values.length; j++) {\n",
    "            combinations.push([\n",
    "                values[0],\n",
    "                ...values.slice(i, j)\n",
    "            ].join(''))\n",
    "        }\n",
    "    }\n",
    "    return combinations\n",
    "        .filter((c, i, arr) => arr.indexOf(c) === i)\n",
    "        .sort((a, b) => a.length - b.length)\n",
    "}\n",
    "\n",
    "// algorithm magic!\n",
    "// create an very specific XPath following these rules\n",
    "function makeXpaths(node) {\n",
    "    var classifiers = [{\n",
    "        tag: `local-name(.)`,\n",
    "        ids: [`@*[name()=\"type\" or name()=\"id\" or name()=\"name\"]`],\n",
    "        classNames: `@class`,\n",
    "        index: `count(preceding-sibling::*)`,\n",
    "        parent: `local-name(parent::*)`,\n",
    "        //parent: `parent::*/@*[name()=\"type\" or name()=\"id\" or name()=\"name\"]`,\n",
    "        nthType: `count(preceding-sibling::*[local-name(*)=local-name(.)])`\n",
    "    }, ({tag, ids, classNames, index, parent, nthType}) => ({\n",
    "        tag: tag && tag !== 'object' ? tag : `*`,\n",
    "        id: ids.length\n",
    "            ? `[${ids\n",
    "            .map(id => \n",
    "                 `(@id=\"${id}\" or @name=\"${id}\" or @type=\"${id}\")`)\n",
    "            .join(` and `)}]`\n",
    "            : ``,\n",
    "        classNames: classNames.length > 0\n",
    "            ? `[contains(@class, \"${classNames}\")]`\n",
    "            : ``,\n",
    "        index: typeof index !== 'undefined' && parent\n",
    "            ? `/parent::${parent}/*[${index+1}]`\n",
    "            : ``,\n",
    "        parent: parent && typeof nthType !== 'undefined'\n",
    "            ? `/parent::${parent}/${\n",
    "                tag && tag !== 'object' ? tag : `*`}[${nthType+1}]`\n",
    "            : ``\n",
    "    })]\n",
    "    \n",
    "    var classifiers = selectDom(classifiers, node)[0];\n",
    "    var {tag, id, classNames, index, parent} = classifiers;\n",
    "    // to ensure the order from most specific to least specific\n",
    "    var combinations = [].concat.apply([], makeCombinations( \n",
    "                                       [tag, id, classNames, index, parent]))\n",
    "    assert(selectDom(combinations[0], node),\n",
    "           'oops, the xpath expression maker messed up');\n",
    "    return combinations;\n",
    "}\n",
    "\n",
    "module.exports = {\n",
    "    makeXpaths\n",
    "};\n"
   ]
  },
  {
   "cell_type": "markdown",
   "metadata": {},
   "source": [
    "#### test making an xpath from any arbitraty node\n",
    "\n",
    "generate css selectors from code?\n",
    "\n",
    "problem, jsel doesn't support parent()\n"
   ]
  },
  {
   "cell_type": "code",
   "execution_count": null,
   "metadata": {
    "scrolled": false
   },
   "outputs": [],
   "source": [
    "var esprima = require('esprima'); \n",
    "var assert = require('assert');\n",
    "var importer = require('../Core');\n",
    "var {selectAst, makeXpaths, htmlToTree} = importer.import([\n",
    "    'select code tree', 'make xpaths', 'html to tree'\n",
    "])\n",
    "\n",
    "var code = `\n",
    "var importer = require('../Core');\n",
    "function name(params) {\n",
    "    return importer.interpret('this is a describe request');\n",
    "}\n",
    "console.log()\n",
    "`\n",
    "\n",
    "function testMakeXpaths(code) {\n",
    "    // make a path with the interpret symbol\n",
    "    var node1 = selectAst(`//*[@name=\"name\"]`, code)\n",
    "    var parent = selectAst(`//*[@type=\"FunctionDeclaration\"]`, node1);\n",
    "    var output = makeXpaths(parent)\n",
    "    var node2 = selectAst(`//${output[0]}`, code)\n",
    "    console.log(node2)\n",
    "    assert(node1.parentNode.getAttribute('name') === node2.getAttribute('name'));\n",
    "    return node2\n",
    "    \n",
    "}\n",
    "// TODO: compare with acorn\n",
    "if(typeof $$ !== 'undefined') {\n",
    "    var nodes = testMakeXpaths(code);\n",
    "    console.log(htmlToTree(nodes));\n",
    "}\n"
   ]
  },
  {
   "cell_type": "markdown",
   "metadata": {},
   "source": [
    "#### minimize xpath?\n",
    "\n",
    "Should get something like ```Identifier[@name=\"importer\"]``` by the end of this.\n",
    "\n"
   ]
  },
  {
   "cell_type": "code",
   "execution_count": null,
   "metadata": {},
   "outputs": [],
   "source": [
    "var importer = require('../Core');\n",
    "var {selectDom} = importer.import('select tree');\n",
    "\n",
    "function minXpath(combinations, ctx) {\n",
    "    // flatten the XPath stack using '/'\n",
    "    // sort by smallest and return shortest path matching 1 DOM element\n",
    "    const minimal = combinations\n",
    "            .filter(c => selectDom([`.//${c}`], ctx).length === 1)\n",
    "            .sort((a, b) => a.length - b.length);\n",
    "    return minimal[ 0 ];\n",
    "\n",
    "    // TODO: prioritize by button/input, ids, classes, attributes? (extra credit), index\n",
    "}\n",
    "\n",
    "module.exports = {\n",
    "    minXpath\n",
    "};\n"
   ]
  },
  {
   "cell_type": "markdown",
   "metadata": {},
   "source": [
    "#### TODO: convert simple xpath to css selector"
   ]
  },
  {
   "cell_type": "code",
   "execution_count": null,
   "metadata": {},
   "outputs": [],
   "source": [
    "\n",
    "function convertXPathToCss(path) {\n",
    "    // if matched xpath is simple enough, convert it to CSS\n",
    "    // DIV[contains(@class, \"product-tile\")]/parent::*/DIV[2]//MD-CARD[contains(@class, \"mat-card\")]/parent::*/MD-CARD[1]\n",
    "    return path\n",
    "        .replace(/\\/([a-z-]+)\\[@id=\"(.*?)\"]/ig, '/$1#$2')\n",
    "        .replace(/\\/([^\\/]+)\\[contains\\(@class, \"(.*?)\"\\)]/ig, '/$1.$2')\n",
    "        .replace(/\\/parent::[a-z-]+\\/[a-z-]+\\[([0-9]+)]/ig, ':nth-child($1)')\n",
    "        .replace(/^\\/\\//ig, '')\n",
    "        .replace(/\\/\\//ig, ' ')\n",
    "        .replace(/\\//ig, ' > ');\n",
    "}\n",
    "\n",
    "\n"
   ]
  },
  {
   "cell_type": "markdown",
   "metadata": {},
   "source": [
    "### improved syntax manipulation\n",
    "\n",
    "Replacing the functionality I noticed in babel somewhere. Basically walking a tree with visitors is ugly, so we replace it with a sequence of CSS style queries.\n",
    "\n"
   ]
  },
  {
   "cell_type": "markdown",
   "metadata": {},
   "source": [
    "#### select expression?\n",
    "\n",
    "select from code?\n",
    "\n",
    "Convert the body of a function to a list of search strings.\n"
   ]
  },
  {
   "cell_type": "code",
   "execution_count": null,
   "metadata": {},
   "outputs": [],
   "source": [
    "var importer = require('../Core');\n",
    "var {\n",
    "    selectAst, makeXpaths, minXpath,\n",
    "    htmlToTree\n",
    "} = importer.import([\n",
    "    'select code tree', 'make xpaths', 'minimize xpath',\n",
    "    'html to tree']);\n",
    "\n",
    "function exprToXpath(code) {\n",
    "    // create an XPath search out of the function body\n",
    "    //   using the parameters as matching predicates\n",
    "    code = selectAst([\n",
    "        `(*/FunctionDeclaration|*/*/ArrowFunctionExpression)`\n",
    "    ], code.toString())[0]\n",
    "    \n",
    "    var expression = selectAst([\n",
    "        `Identifier[@parent-attr=\"params\"]/@name`,\n",
    "        // select all elements from func that match param name\n",
    "        //   TODO: default functionality can be overridden by specifying\n",
    "        //   a function as the default parameter value\n",
    "        (name) => selectAst([`BlockStatement//*[@name=\"${name}\"]`], code)[0]\n",
    "    ], code)[0]; // TODO: make multiple expressions?\n",
    "    if(!expression) {\n",
    "        throw new Error(`can't match expression ${JSON.stringify(htmlToTree(code))}`)\n",
    "    }\n",
    "    var xpath = makeXpaths(expression);\n",
    "    // add minimizing expressions, unique to the original context\n",
    "    var min = minXpath(xpath, selectAst(`BlockStatement`, code));\n",
    "    delete code;\n",
    "    return min;\n",
    "}\n",
    "\n",
    "module.exports = {\n",
    "    exprToXpath\n",
    "}\n"
   ]
  },
  {
   "cell_type": "markdown",
   "metadata": {},
   "source": [
    "#### test selecting expressions\n"
   ]
  },
  {
   "cell_type": "code",
   "execution_count": null,
   "metadata": {},
   "outputs": [],
   "source": [
    "var importer = require('../Core');\n",
    "var {exprToXpath} = importer.import('select expression');\n",
    "\n",
    "if(typeof $$ !== 'undefined') {\n",
    "    var xpath = exprToXpath((importer) => {\n",
    "            var importer = require('../Core');\n",
    "        });\n",
    "    \n",
    "    console.log(xpath)\n",
    "//    replaceCore(code)\n",
    "}\n",
    "\n"
   ]
  },
  {
   "cell_type": "markdown",
   "metadata": {},
   "source": [
    "#### test expression on notebook code?\n",
    "\n",
    "TODO: improve speed\n",
    "\n"
   ]
  },
  {
   "cell_type": "code",
   "execution_count": null,
   "metadata": {
    "scrolled": false
   },
   "outputs": [],
   "source": [
    "var importer = require('../Core');\n",
    "var {exprToXpath, selectAst} = importer.import([\n",
    "    'select expression', 'select code tree'\n",
    "]);\n",
    "var {cellCache} = importer.import('cell cache')\n",
    "\n",
    "function matchCell(xpath, cell) {\n",
    "    try {\n",
    "        var match = selectAst([`//${xpath}`], cell.code);\n",
    "        if(match.length > 0) {\n",
    "            console.log(`match ${cell.id}`)\n",
    "            return cell;\n",
    "        }\n",
    "        return false;\n",
    "    } catch (e) {\n",
    "        console.log(e.message);\n",
    "        return false;\n",
    "    }\n",
    "}\n",
    "\n",
    "function findImport(importer) {\n",
    "    var importer = require('../Core');\n",
    "}\n",
    "\n",
    "function testExpressions() {\n",
    "    var xpath = exprToXpath(findImport);\n",
    "    console.log(`matching ${xpath}`);\n",
    "    var allCellIds = cellCache.map(c => c.id)\n",
    "    // get only first occurrence\n",
    "    var allCells = cellCache\n",
    "        .filter((c, i) => allCellIds.indexOf(c.id) == i)\n",
    "        .filter(c => c.code.length < 10000\n",
    "                && c.code.trim().length > 10)\n",
    "    //    .slice(0, 10)\n",
    "    return Promise\n",
    "        .all(allCells.map(cell => new Promise(resolve => {\n",
    "            return setTimeout(() => resolve(matchCell(xpath, cell)), 100);\n",
    "        })))\n",
    "        .then(matches => matches.filter(cell => cell)\n",
    "              .map(cell => cell.id))\n",
    "}\n",
    "\n",
    "module.exports = testExpressions;\n",
    "\n",
    "if(typeof $$ !== 'undefined') {\n",
    "    testExpressions()\n",
    "        .then(matches => $$.sendResult(matches))\n",
    "}\n"
   ]
  },
  {
   "cell_type": "markdown",
   "metadata": {},
   "source": [
    "#### TODO: test with odd code like convert spreadsheet[4]\n",
    "\n"
   ]
  },
  {
   "cell_type": "code",
   "execution_count": null,
   "metadata": {},
   "outputs": [],
   "source": []
  },
  {
   "cell_type": "markdown",
   "metadata": {},
   "source": [
    "## TODO: generate unit tests\n",
    "\n",
    "Generate unit test from logic branching?\n",
    "\n",
    "TODO: use language server for this\n",
    "\n",
    "TODO: move this to it's own notebook\n",
    "\n",
    "Attach to the same branches,\n",
    "\n",
    "https://github.com/gotwarlost/istanbul/blob/master/lib/instrumenter.js\n",
    "\n"
   ]
  },
  {
   "cell_type": "markdown",
   "metadata": {},
   "source": [
    "### unit test each token type\n",
    "\n"
   ]
  },
  {
   "cell_type": "markdown",
   "metadata": {},
   "source": [
    "#### statements\n",
    "\n"
   ]
  },
  {
   "cell_type": "code",
   "execution_count": null,
   "metadata": {},
   "outputs": [],
   "source": [
    "var STATEMENTS = `//*[contains(@type, \"Declaration\")]\n",
    "|//*[contains(@type, \"Statement\")]`\n",
    "\n"
   ]
  },
  {
   "cell_type": "markdown",
   "metadata": {},
   "source": [
    "#### calls\n",
    "\n"
   ]
  },
  {
   "cell_type": "code",
   "execution_count": null,
   "metadata": {},
   "outputs": [],
   "source": [
    "var CALLS = `//CallExpression`\n",
    "\n"
   ]
  },
  {
   "cell_type": "markdown",
   "metadata": {},
   "source": [
    "#### logical branches\n",
    "\n"
   ]
  },
  {
   "cell_type": "code",
   "execution_count": null,
   "metadata": {},
   "outputs": [],
   "source": [
    "\n",
    "var BRANCHES = `//IfStatement|SwitchStatement`\n",
    "\n"
   ]
  },
  {
   "cell_type": "markdown",
   "metadata": {},
   "source": [
    "### generate unit test?\n",
    "\n"
   ]
  },
  {
   "cell_type": "markdown",
   "metadata": {},
   "source": [
    "#### the code\n",
    "\n"
   ]
  },
  {
   "cell_type": "code",
   "execution_count": null,
   "metadata": {},
   "outputs": [],
   "source": []
  },
  {
   "cell_type": "markdown",
   "metadata": {},
   "source": [
    "#### update notebook test cell"
   ]
  },
  {
   "cell_type": "code",
   "execution_count": null,
   "metadata": {},
   "outputs": [],
   "source": []
  },
  {
   "cell_type": "markdown",
   "metadata": {},
   "source": [
    "#### TODO: generate a test from expected output\n"
   ]
  },
  {
   "cell_type": "code",
   "execution_count": null,
   "metadata": {},
   "outputs": [],
   "source": []
  },
  {
   "cell_type": "markdown",
   "metadata": {},
   "source": [
    "## TODO: detecting framework features\n",
    "\n",
    "Show router tree, module import tree, call tree, feature tree\n"
   ]
  },
  {
   "cell_type": "code",
   "execution_count": null,
   "metadata": {},
   "outputs": [],
   "source": []
  },
  {
   "cell_type": "markdown",
   "metadata": {},
   "source": [
    "## TODO: format detection by example\n",
    "\n",
    "Lint all code\n",
    "\n",
    "Reformat all code like when using webstorm\n"
   ]
  },
  {
   "cell_type": "code",
   "execution_count": null,
   "metadata": {},
   "outputs": [],
   "source": []
  }
 ],
 "metadata": {
  "kernelspec": {
   "display_name": "Javascript (Node.js)",
   "language": "javascript",
   "name": "javascript"
  },
  "language_info": {
   "file_extension": ".js",
   "mimetype": "application/javascript",
   "name": "javascript",
   "version": "14.5.0"
  },
  "toc": {
   "base_numbering": 1,
   "nav_menu": {},
   "number_sections": true,
   "sideBar": true,
   "skip_h1_title": false,
   "title_cell": "Table of Contents",
   "title_sidebar": "Contents",
   "toc_cell": false,
   "toc_position": {},
   "toc_section_display": true,
   "toc_window_display": false
  }
 },
 "nbformat": 4,
 "nbformat_minor": 2
}
