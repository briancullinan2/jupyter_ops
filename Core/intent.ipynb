{
 "cells": [
  {
   "cell_type": "markdown",
   "metadata": {},
   "source": [
    "# ```intent```\n",
    "\n",
    "This notebook is both the documentation and the compiler for `intent`.\n",
    "\n",
    "TODO: write a compiler in node based on compiler in PHP from years ago\n",
    "\n",
    "This is My theory as plainly as I can put it: if I write a programming language based on NLP, the path to general artificial intelligence can be paved. By the time I write an NLP compiler for the language in that language, I will have a self-hosted executable that is exactly 1 to 1 equally intelligent as the subroutines I've programmed into it (from the perspective of spoken word). It can read and understand each individual subroutine from words to machine process. But only to the extent that I've programmed. So if I write a subroutine to parse a CSV file, then my interpreter will always know what someone means by `parse CSV file`. If I write a routine to download information from the web automatically, it will understand how to download information but won't yet understand the information it collected. It is, just a program. However, linguistically speaking, I will be able to interpret words into a computer process by shaving off the \"understanding\" algorithm using NLP. Even if the NLP is wrong, the grammar can be changed in each subroutine to be more descriptive, making the language future proof, as long as English exists, the program will run. This combines the best of both worlds, using NLP AI which is some-what of a black box concerning percent likeliness that a word or character will appear in a sentence, combined with the descriptive precision of a computer sub-routine. This is what gives the language a link between words and machine process. Google's AI might be able to translate between languages, but not with what they expose to the web for free.\n",
    "\n",
    "https://core.ac.uk/download/pdf/84868885.pdf\n",
    "\n",
    "\n"
   ]
  },
  {
   "cell_type": "markdown",
   "metadata": {},
   "source": [
    "## introduction\n",
    "\n",
    "Finally a language with only 1 directive!! Programming is simple, type what you want to do and the code will be derived from many sources to achieve the desired outcome.\n",
    "\n",
    "The compiler was originally written in Node, but it has since absorbed all intentions and written itself with `intent`.  That is the goal (i.e. intent) anyway.\n"
   ]
  },
  {
   "cell_type": "markdown",
   "metadata": {
    "heading_collapsed": true
   },
   "source": [
    "### specialities of ```intent```\n",
    "\n",
    "- simplicity, only 1 directive, aspect oriented programming, injecting code in to placing you wouldn't think it could go, see the languages, transpiler, and nlp notebooks for more\n",
    "- defining, classifying, interpreting all computer and spoken languages (TODO: see language notebook and NLP framework for information)\n",
    "- being simple to structure, intent focuses on trees and control flows from a high level, when something breaks or changes intent will tell you\n",
    "- never writing unit tests, because intent recognizes specific patterns, it can mangle/uglify any language, explaining away all sources or nuance\n",
    "- all forms of computer operations and management, since intentions are derived and classified from many sources, common intentions like \n",
    "```\n",
    "try and manage (i.e. show recent activity logs,\n",
    "                costs explorer,\n",
    "                instance information)\n",
    "that server over there (i.e. the test cloud)\n",
    "```\n",
    "becomes transpiled into an advanced application that accepts input from many different sources and outputs to many different information types.\n"
   ]
  },
  {
   "cell_type": "markdown",
   "metadata": {
    "heading_collapsed": true
   },
   "source": [
    "## installation\n",
    "\n",
    "```\n",
    "documentation and code\n",
    "are finally the same\n",
    "\n",
    "intent only depends\n",
    "on it's Core values\n",
    "```\n"
   ]
  },
  {
   "cell_type": "code",
   "execution_count": null,
   "metadata": {
    "hidden": true
   },
   "outputs": [],
   "source": [
    "\n",
    "but it has many extensions (i.e. notebook exporter,\n",
    "                            intent exporter (i.e. language transpiler),\n",
    "                            rpc interface,\n",
    "                            various databases,\n",
    "                            language support\n",
    "\n",
    "simply clone or download\n",
    "this notebook https://github.com/megamindbrian/jupyter_ops\n",
    "\n",
    "and run or execute (i.e. command line,\n",
    "                using marketing site intent.io,\n",
    "                a jupyter notebook,\n",
    "                a multitude of languages using their native imports)\n",
    "\n",
    "or display result (i.e. output,\n",
    "                   console,\n",
    "                   notebook display extension)\n"
   ]
  },
  {
   "cell_type": "markdown",
   "metadata": {},
   "source": [
    "## ```the language!```\n",
    "\n",
    "```\n",
    "the statement above (i.e. the language)\n",
    "intends to (i.e. initialize, defines, inject)\n",
    "generate excitement (i.e. compiling, marketing)\n",
    "\n",
    "ha ha (i.e. adds a sense of humor\n",
    "       to output)\n",
    "```\n"
   ]
  },
  {
   "cell_type": "markdown",
   "metadata": {},
   "source": [
    "### example usage\n",
    "\n",
    "Write intentions like sentences on a page. You might need to add some (parenthesis) for grouping, just like when writing a sentence (i.e. - means another way of saying).\n",
    "(e.g. is an example of the same pattern)"
   ]
  },
  {
   "cell_type": "code",
   "execution_count": null,
   "metadata": {},
   "outputs": [],
   "source": [
    "describe intent"
   ]
  },
  {
   "cell_type": "code",
   "execution_count": null,
   "metadata": {},
   "outputs": [],
   "source": []
  },
  {
   "cell_type": "markdown",
   "metadata": {},
   "source": [
    "In the intent language i.e. can be used to narrow down on function classifiers (i.e. using a data source) would import various data sources such as Google cloud storage, Amazon ECS resources, an sql database. The context of data source that is needed can be derived from the rest of the statement. For example (e.g. coming soon)\n",
    "\n",
    "\n",
    "```display json (i.e. using a data source)```\n",
    "\n",
    "would convert the output from a data source to a json display. This could be more specific such as\n",
    "\n",
    "```display json (i.e. using sqlite)```\n",
    "\n",
    "would only include the resources and sequences to accept an sqlite input and a json display.\n"
   ]
  },
  {
   "cell_type": "markdown",
   "metadata": {},
   "source": [
    "### language definition\n",
    "\n",
    "There is only 1 directive, a function, in the form of a sentence. A sentence is just a combination of multiple directives. Specific operators, like exclaimation points and periods can be used to distinguish between the directives and functionalities.\n"
   ]
  },
  {
   "cell_type": "markdown",
   "metadata": {},
   "source": [
    "\n",
    "\n",
    "- ```intention``` (directive)\n",
    "\n",
    "- ```any sentence of intentions``` (a single directive, or multiple directives)\n",
    "\n",
    "- ```i.e.``` - classify the intention (operator)\n",
    "\n",
    "- ```e.g.``` - classify the expectation or the respond from the previous sentence (operator)\n",
    "\n",
    "- ```(ref ...) or [ref ] or [1] or [100] or ---``` - these are all considered reference material, just like in a book they can reference footnotes or other parts of code, or other libraries, whatever source the interpreter resolves to like normal. Formatting is customizable, see the test for the parser in the compiler notebook for an example of how to add/recognize code formatting features.\n",
    "\n",
    "TODO: show sample NLP tree:\n",
    "\n"
   ]
  },
  {
   "cell_type": "markdown",
   "metadata": {},
   "source": [
    "Expanding on what we have learned. Writing programs that are actually readable. Similar to the mathematica language, ```dependencies are resolved automatically```. Using a feature of compiling, many languages now offer compiling while the program is running. With the use of language kernels in Jupyter, we can ```translate any language from one to another```.\n",
    "By ```adding nlp```, and some special markers in notebooks, we can detect and use any feature from the library or any source of matching patterns that fulfill the intention.\n"
   ]
  },
  {
   "cell_type": "markdown",
   "metadata": {},
   "source": [
    "### how to use intent?\n",
    "\n",
    "Advanced example to generate an application that outputs and represents this application.\n",
    "\n"
   ]
  },
  {
   "cell_type": "markdown",
   "metadata": {},
   "source": [
    "**[**\n",
    "\n",
    "```\n",
    "give an example of how to use intent\n",
    "\n",
    "```\n",
    "\n",
    "**]** <- these are optional for structure or clarification\n"
   ]
  },
  {
   "cell_type": "code",
   "execution_count": null,
   "metadata": {},
   "outputs": [],
   "source": [
    "--- this is a comment,\n",
    "    it appears when describing\n",
    "    \n",
    "give (i.e. using a web url,\n",
    "      cloud compiler,\n",
    "      jupter notebooks)\n",
    "an example of (e.g. how to how to use intent\n",
    "               automatically imports\n",
    "               display json (i.e. using a data source))\n",
    "how to use intent (ref [1])\n",
    "\n",
    "---\n",
    "    [1] this is a footnote,\n",
    "    it also shows up\n",
    "    when describing\n"
   ]
  },
  {
   "cell_type": "markdown",
   "metadata": {},
   "source": [
    "#### how to test intent\n",
    "\n",
    "This test creates a compiled and fully unit tested program from a multitude of code sources, listed there. The fact that is runs, is living proof that it works. If you don't believe me, ask it to generate unit tests.\n",
    "\n",
    "```\n",
    "should now know\n",
    "how to repeat (i.e. compile)\n",
    "itself and generate\n",
    "a unit tests\n",
    "```\n",
    "\n"
   ]
  },
  {
   "cell_type": "code",
   "execution_count": null,
   "metadata": {},
   "outputs": [],
   "source": [
    "markdown and code (i.e readme,\n",
    "                   example usage,\n",
    "                   documentation,\n",
    "                   jupyter notebooks,\n",
    "                   stack overflow)\n",
    "are the definition (i.e. import, require)\n",
    "of a valid program (i.e. interpret, available intentions)\n",
    "and should automatically\n",
    "write my unit tests!\n"
   ]
  },
  {
   "cell_type": "markdown",
   "metadata": {
    "heading_collapsed": true
   },
   "source": [
    "### example program\n",
    "\n",
    "This program monitors a process, such as the compiler that is running this very code.\n"
   ]
  },
  {
   "cell_type": "code",
   "execution_count": null,
   "metadata": {
    "hidden": true
   },
   "outputs": [],
   "source": [
    "because singularity is purpose\n",
    "\n",
    "every program (i.e. child process)\n",
    "needs a reason (i.e. for logging purposes)\n",
    "to exist right? (i.e. monitor program state)\n",
    "\n",
    "anything other than 1\n",
    "is defect (i.e. error,\n",
    "           derivitive of ambition (i.e. purpose)\n",
    "           )\n",
    "\n"
   ]
  },
  {
   "cell_type": "markdown",
   "metadata": {
    "hidden": true
   },
   "source": [
    "#### to really break this down\n",
    "\n",
    "Line by line:\n"
   ]
  },
  {
   "cell_type": "markdown",
   "metadata": {
    "hidden": true
   },
   "source": [
    "```\n",
    "because singularity is purpose\n",
    "every program (i.e. child process)\n",
    "```\n",
    "\n",
    "`singularity`, `purpose`, `program`, and `child process` all become synonyms for looking for words and reasons to run a program.\n"
   ]
  },
  {
   "cell_type": "markdown",
   "metadata": {
    "hidden": true
   },
   "source": [
    "The ```nlp language parser``` (TODO: insert link again) breaks a sentence and subject up just like an ```abstract syntax tree``` in code.\n",
    "\n",
    "```\n",
    "needs a reason (i.e. for logging purposes)\n",
    "```\n",
    "\n",
    "is a tag for the logger, so errors are reported like:\n",
    "\n",
    "`singularity [needs a reason]: Syntax error, un-match closing paren, continuing anyways.`\n"
   ]
  },
  {
   "cell_type": "markdown",
   "metadata": {
    "hidden": true
   },
   "source": [
    "```\n",
    "to exist right? (i.e. monitor program state)\n",
    "```\n",
    "\n",
    "Just like it says, monitors process state for changes because that is it's purpose. With logic like that, what can go wrong?\n"
   ]
  },
  {
   "cell_type": "markdown",
   "metadata": {
    "hidden": true
   },
   "source": [
    "```\n",
    "anything other than 1\n",
    "```\n",
    "\n",
    "This gives our compiler two things:\n",
    "- checking for code that generates anything other than one,\n",
    "- and checking the process for anything other than one.\n",
    "\n",
    "Both of these statements are required and are reported on. Since they are reported on, they can be interpreted by other parts of the paragraph.\n",
    "\n"
   ]
  },
  {
   "cell_type": "markdown",
   "metadata": {
    "hidden": true
   },
   "source": [
    "```\n",
    "is defect (i.e. error,\n",
    "```\n",
    "\n",
    "Report something, outputs aren't specified by the program. We can assume if you are running this from the command line, it should be reported there somehow. (TODO: see notebook on autoloading environments).\n",
    "\n"
   ]
  },
  {
   "cell_type": "markdown",
   "metadata": {
    "hidden": true
   },
   "source": [
    "```\n",
    "derivitive of ambition (i.e. purpose)\n",
    "```\n",
    "\n",
    "Derivitive of ambition in the compiling context means derive the code needed to fulfill this prupose. In the context of child processing it means the status code that is reported. With the `i.e.` the purpose and `deritive of ambition` become synonymous. Meaning the purpose of this program is to derive a child process. Just like it says ;)\n"
   ]
  },
  {
   "cell_type": "markdown",
   "metadata": {},
   "source": [
    "## more demos\n",
    "\n",
    "Some more ridiculously advanced applications in only a few words!"
   ]
  },
  {
   "cell_type": "markdown",
   "metadata": {},
   "source": [
    "### the answer to life\n",
    "\n",
    "Makes funny programs. This program answers 42, and provides various APIs that can also help find that answer. It connects Google search API, Wolfram alpha, and the display notebook.\n"
   ]
  },
  {
   "cell_type": "code",
   "execution_count": null,
   "metadata": {},
   "outputs": [],
   "source": [
    "the answer to life,\n",
    "the universe,\n",
    "and everything\n",
    "is 42\n",
    "\n",
    "but if I didn't\n",
    "know the answer\n",
    "\n",
    "I might (i.e. should)\n",
    "try Google search\n",
    "or Wolfram alpha\n",
    "\n",
    "and get the \n",
    "same answer.\n"
   ]
  },
  {
   "cell_type": "markdown",
   "metadata": {},
   "source": [
    "#### unit testing\n",
    "\n",
    "```\n",
    "this function should test itself\n",
    "```\n",
    "\n",
    "Based on prior knowledge of markdown, notebooks, and control flows, this function also generates and unit tests itself when it is compiled. If there was something specific, the code just following a module is used to describe the test.  The context of knowledge is derived from the words function should test and the location of the previous or following cell extrapolated from this and itself.\n",
    "\n"
   ]
  },
  {
   "cell_type": "markdown",
   "metadata": {},
   "source": [
    "## feature logic merging\n",
    "\n",
    "By creating syntax trees out of many languages, and finding commonality between file structures and call trees, it should be possible to train a GAN to merge features, like a Git merge, automatically.\n",
    "\n",
    "TODO:\n",
    "\n",
    "Use Github's generalized linter\n",
    "https://github.blog/2020-06-18-introducing-github-super-linter-one-linter-to-rule-them-all/\n",
    "\n",
    "Then use the upcoming transpiler in this notebook to create an AST in preferred language\n",
    "When changes are made use the Git tip feature in this notebook\n",
    "Make an AST of the of changes and merge the changes by tree instead of by lines in a file\n",
    "Convert back to source language for compiling\n",
    "Can this method be used to show a Javascript debugger accurately for a C program?\n",
    "That would be handy for a better browser based IDE then what you see from X recruiting company\n",
    "(Where X stands for some boring ass antiquated fizz buzz style online form)\n",
    "Convince me that its a tool for doing interesting work, not just looking for a come up.\n",
    "\n",
    "\n"
   ]
  }
 ],
 "metadata": {
  "kernelspec": {
   "display_name": "Javascript (Node.js)",
   "language": "javascript",
   "name": "javascript"
  },
  "language_info": {
   "file_extension": ".js",
   "mimetype": "application/javascript",
   "name": "javascript",
   "version": "10.16.0"
  }
 },
 "nbformat": 4,
 "nbformat_minor": 2
}
