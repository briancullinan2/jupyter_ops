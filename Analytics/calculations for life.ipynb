{
 "cells": [
  {
   "cell_type": "markdown",
   "metadata": {},
   "source": [
    "\n",
    "Sun, Mar 24, 7:12 PM\n",
    "Jim sends an email claiming that I have only spent .007% of my life with him. Let's check our math!\n",
    "\n",
    "I spent every other weekend with Jim for the first 12 years of my life, excluding the 2 years we lived in Vienna.\n",
    "\n",
    "I also spent extra holidays such as Christmas, 4th of July, and a week during summer breaks.\n",
    "\n",
    "After age 12, I didn't feel like spending weekends with Jim because Corinne was spoiled, and I was viewed as THE BULLY at home, in school, and by my own father. So we only calculate holidays for another 2 years living in Ohio.\n",
    "\n",
    "This does not include vacation days since I was 14 and moved away from Ohio. Maybe 1 week every 3 years average.\n",
    "\n"
   ]
  },
  {
   "cell_type": "code",
   "execution_count": 3,
   "metadata": {},
   "outputs": [
    {
     "name": "stdout",
     "output_type": "stream",
     "text": [
      "Total number of days spent with jim in lifetime: 246.21829915464411\n",
      "Percent of Brian's life spent with Jim: 2.06%\n",
      "Percent of Jim's life spent with his only son: 0.82%\n"
     ]
    }
   ],
   "source": [
    "var _3daysPer14 = 3/14; // 3 days out of every 14 spent with Jim\n",
    "var _12yearsInOhio = 12; // number of years in Ohio consistently visiting Jim every other weekend\n",
    "var _2yearsInVienna = 2; // number of years moved to Vienna\n",
    "var _2yearsInOhioNotWithJim = 2; // number of years in Ohio that I didn't feel like visiting every other week\n",
    "var _12yearsMinusTwo = _12yearsInOhio - _2yearsInVienna;\n",
    "var _7daysVacay = 7; // average length of vacation with Jim\n",
    "var _2everyOtherMultiplier = 2;\n",
    "var _everyOtherWeekendInAYear = 52 / _2everyOtherMultiplier;\n",
    "var _3holidaysAlternating = 3; // number of holidays per year we alternated between Linda and Jim\n",
    "\n",
    "// calculate exact age based on current date\n",
    "var _currentDate = new Date();\n",
    "var _daysUntilBirthday = (_currentDate.getMonth() + 1) / 11 * 365.25 + (_currentDate.getDate() - 12);\n",
    "var _daysLifeOfBrian = (_currentDate.getFullYear() - 1986) * 365.25 - _daysUntilBirthday;\n",
    "var _32exactYearsLifeOfBrian = _daysLifeOfBrian / 365.25;\n",
    "\n",
    "// life expectancy of a male age 65 today\n",
    "var _82yearsLifeExpectancyOfJim = 82;\n",
    "\n",
    "var _yearsSinceAge14 = _32exactYearsLifeOfBrian - 14;\n",
    "\n",
    "// calculate weekends spent with Jim\n",
    "var _everyOtherWeekendTotal = _3daysPer14 * _12yearsMinusTwo * _everyOtherWeekendInAYear;\n",
    "\n",
    "// calculate holidays spent with Jim\n",
    "var _holiDays = _3holidaysAlternating * (_12yearsInOhio * _7daysVacay / _2everyOtherMultiplier);\n",
    "var _holiDaysOnly = _3holidaysAlternating * (_2yearsInOhioNotWithJim * _7daysVacay / _2everyOtherMultiplier);\n",
    "\n",
    "// calculate vacations since age 14\n",
    "var _superflousVacays = _7daysVacay * _yearsSinceAge14 / 3; // average seeing Jim for a week once every 3 years\n",
    "\n",
    "// calculate total days spent with Jim\n",
    "var _totalDaysSpentWithJim = _everyOtherWeekendTotal + _holiDays + _holiDaysOnly + _superflousVacays;\n",
    "var _percentOfLife = _totalDaysSpentWithJim / 365.25 / _32exactYearsLifeOfBrian;\n",
    "var _percentOfLifeFormatted = Math.round(_percentOfLife * 10000) / 100 + '%';\n",
    "var _percentOfJimsLifeSpentWithBrian = _totalDaysSpentWithJim / 365.25 / _82yearsLifeExpectancyOfJim;\n",
    "var _percentOfJimsLifeSpentWithBrianFormatted = Math.round(_percentOfJimsLifeSpentWithBrian * 10000) / 100 + '%';\n",
    "\n",
    "// print the results\n",
    "console.log('Total number of days spent with Jim in lifetime: ' + _totalDaysSpentWithJim);\n",
    "console.log('Percent of Brian\\'s life spent with Jim: ' + _percentOfLifeFormatted);\n",
    "console.log('Percent of Jim\\'s life spent with his only son: ' + _percentOfJimsLifeSpentWithBrianFormatted)\n"
   ]
  },
  {
   "cell_type": "markdown",
   "metadata": {},
   "source": [
    "More lifetime calculations, such as time spent sleeping, time spent jerking off."
   ]
  },
  {
   "cell_type": "code",
   "execution_count": 19,
   "metadata": {},
   "outputs": [
    {
     "name": "stdout",
     "output_type": "stream",
     "text": [
      "Percent of life spent sleeping (1/3 of life): 29.17%\n",
      "Percent of year spent masturbating: 4.17%\n",
      "Percent of life spent masturbating: 2.64%\n"
     ]
    }
   ],
   "source": [
    "// calculate exact age based on current date\n",
    "var _daysUntilBirthday = (_currentDate.getMonth() + 1) / 11 * 365.25 + (_currentDate.getDate() - 12);\n",
    "var _daysLifeOfBrian = (_currentDate.getFullYear() - 1986) * 365.25 - _daysUntilBirthday;\n",
    "var _32exactYearsLifeOfBrian = _daysLifeOfBrian / 365.25;\n",
    "\n",
    "var _7hoursPerNight = 7;\n",
    "var _1hourPerDay = 1;\n",
    "\n",
    "// percent of life spent sleeping (verification of methodology)\n",
    "var _daysPerYearSleeping = _7hoursPerNight / 24 * 365.25;\n",
    "var _percentOfYearSleeping = _daysPerYearSleeping / 365.25;\n",
    "var _percentOfYearSleepingFormatted = Math.round(_percentOfYearSleeping * 10000) / 100 + '%';\n",
    "\n",
    "console.log('Percent of life spent sleeping (1/3 of life): ' + _percentOfYearSleepingFormatted)\n",
    "\n",
    "// percent of life spent masturbating\n",
    "var _daysPerYearJerking = _1hourPerDay / 24 * 365.25;\n",
    "var _percentOfYearJerking = _daysPerYearJerking / 365.25;\n",
    "var _percentOfYearJerkingFormatted = Math.round(_percentOfYearJerking * 10000) / 100 + '%';\n",
    "var _percentOfLifeJerking = _percentOfYearJerking * (_32exactYearsLifeOfBrian - 12) / _32exactYearsLifeOfBrian; // Since age 12\n",
    "var _percentOfLifeJerkingFormatted = Math.round(_percentOfLifeJerking * 10000) / 100 + '%';\n",
    "\n",
    "console.log('Percent of year spent masturbating: ' + _percentOfYearJerkingFormatted);\n",
    "console.log('Percent of life spent masturbating: ' + _percentOfLifeJerkingFormatted);\n",
    "\n",
    "// percent of life spent not working\n",
    "\n",
    "\n",
    "// percent of life spent watching movies\n",
    "\n",
    "\n"
   ]
  },
  {
   "cell_type": "code",
   "execution_count": 22,
   "metadata": {},
   "outputs": [
    {
     "data": {
      "text/plain": [
       "31"
      ]
     },
     "execution_count": 22,
     "metadata": {},
     "output_type": "execute_result"
    }
   ],
   "source": [
    "\n",
    "function getSequenceNumeral(pre, count) {\n",
    "  var digitCount = Math.ceil(count / 10) + 1\n",
    "  var result = 0\n",
    "  for(var i = 1; i < digitCount; i++) {\n",
    "    result += pre * Math.pow(10, i)\n",
    "  }\n",
    "  return result + (count % 10)\n",
    "}\n",
    "\n",
    "getSequenceNumeral(3, 1)"
   ]
  },
  {
   "cell_type": "code",
   "execution_count": null,
   "metadata": {},
   "outputs": [],
   "source": []
  }
 ],
 "metadata": {
  "kernelspec": {
   "display_name": "Javascript (Node.js)",
   "language": "javascript",
   "name": "javascript"
  },
  "language_info": {
   "file_extension": ".js",
   "mimetype": "application/javascript",
   "name": "javascript",
   "version": "12.7.0"
  }
 },
 "nbformat": 4,
 "nbformat_minor": 2
}
