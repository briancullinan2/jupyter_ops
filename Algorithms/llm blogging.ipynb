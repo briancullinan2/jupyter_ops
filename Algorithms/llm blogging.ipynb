{
 "cells": [
  {
   "cell_type": "markdown",
   "metadata": {},
   "source": [
    "\n",
    "automatically blog about code changes over a specified time range and git database\n",
    "\n",
    "blog about code?\n"
   ]
  },
  {
   "cell_type": "code",
   "execution_count": null,
   "metadata": {
    "vscode": {
     "languageId": "javascript"
    }
   },
   "outputs": [],
   "source": [
    "const path = require('path')\n",
    "const fs = require('fs')\n",
    "const {Remarkable} = require('remarkable');\n",
    "const md = new Remarkable({html: true, xhtmlOut: true, breaks: true});\n",
    "const selectModel = importer.import('select llm')\n",
    "const {spawnSync} = require('child_process')\n",
    "const parsePatch = importer.import('parse patch file')\n",
    "const {safeurl} = importer.import('domain cache tools')\n",
    "\n",
    "const PROFILE_PATH = process.env.HOME || process.env.HOMEPATH || process.env.USERPROFILE || '';\n",
    "const PROJECT_PATH = path.join(__dirname, '..', 'Resources', 'Projects', 'code-summaries')\n",
    "\n",
    "\n",
    "async function blogAboutCode(project, timeframe = 3, promptModel = 'Meta') {\n",
    "\n",
    "  if(typeof promptModel != 'function') {\n",
    "    promptModel = await selectModel(promptModel)\n",
    "  }\n",
    "\n",
    "  // TODO: local pull\n",
    "  if(!fs.existsSync(project)\n",
    "    && fs.existsSync(path.join(PROFILE_PATH, project))) {\n",
    "      project = path.join(PROFILE_PATH, project)\n",
    "  }\n",
    "\n",
    "  if(project.includes('://')\n",
    "    && fs.existsSync(path.basename(project).replace('.git', ''))\n",
    "  ) {\n",
    "    project = path.join(PROFILE_PATH, path.basename(project).replace('.git', ''))\n",
    "  }\n",
    "\n",
    "  if(!fs.existsSync(project)) {\n",
    "    console.error('No project')\n",
    "    return\n",
    "  }\n",
    "\n",
    "\n",
    "  let result = await spawnSync('git', ['log', '--since=' + timeframe + '.days'], {\n",
    "    cwd: project,\n",
    "    timeout: 3000,\n",
    "    stdio: ['pipe', 'pipe', 'pipe']\n",
    "  })\n",
    "\n",
    "  let commits = result.stdout.toString()\n",
    "\n",
    "  //console.log(commits)\n",
    "  const matches = [...commits.matchAll(/commit ([a-z0-9]+)/gi)]\n",
    "  let first = matches[0]\n",
    "  let last = matches[matches.length - 1]\n",
    "\n",
    "  if(!first || !last) {\n",
    "    console.error('No commits!')\n",
    "    return\n",
    "  }\n",
    "\n",
    "  console.log(first[1], last[1])\n",
    "\n",
    "  if(first == last) {\n",
    "    result = await spawnSync('git', ['diff', '-U5', first[1]], {\n",
    "      cwd: project,\n",
    "      timeout: 3000,\n",
    "      stdio: ['pipe', 'pipe', 'pipe']\n",
    "    })\n",
    "  } else {\n",
    "    result = await spawnSync('git', ['diff', '-U5', last[1], first[1]], {\n",
    "      cwd: project,\n",
    "      timeout: 3000,\n",
    "      stdio: ['pipe', 'pipe', 'pipe']\n",
    "    })\n",
    "  }\n",
    "\n",
    "  let codePatch = result.stdout.toString()\n",
    "\n",
    "  summary = parsePatch(codePatch)\n",
    "\n",
    "  summaryOutputs = []\n",
    "  let files = Object.keys(summary.files)\n",
    "  for(let i = 0; i < files.length; i++) {\n",
    "    if(files[i].match('cache.ipynb')) {\n",
    "      continue\n",
    "    }\n",
    "    let q1 = 'Summerize this code like you\\'re writing for a fun coding blog, include code excerpts as context:\\n'\n",
    "      + files[i] + '\\nAdditions that were made:\\n' + summary.files[files[i]].additions.join('')\n",
    "      + '\\nDeletions that were made:\\n' + summary.files[files[i]].deletions.join('')\n",
    "    console.log('User: ' + q1)\n",
    "    let a1 = await promptModel(q1)\n",
    "    console.log('AI: ' + a1)\n",
    "    summaryOutputs.push(a1)\n",
    "  }\n",
    "\n",
    "  const mdHtml = md.render(summaryOutputs.join('\\n'))\n",
    "  let now = new Date()\n",
    "  const filename = path.join(PROJECT_PATH, safeurl(path.basename(project) + now.getFullYear() + '-' + (now.getMonth() + 1) + '-' + now.getDate()) + '.html')\n",
    "  fs.writeFileSync(filename, mdHtml)\n",
    "  return mdHtml\n",
    "}\n",
    "\n",
    "\n",
    "module.exports = blogAboutCode\n"
   ]
  },
  {
   "cell_type": "markdown",
   "metadata": {},
   "source": [
    "\n",
    "parse patch file?\n"
   ]
  },
  {
   "cell_type": "code",
   "execution_count": null,
   "metadata": {
    "vscode": {
     "languageId": "javascript"
    }
   },
   "outputs": [],
   "source": [
    "const fs = require(\"fs\");\n",
    "\n",
    "function parsePatch(patchFile) {\n",
    "    let patchContent = patchFile\n",
    "    if(fs.existsSync(patchFile)) {\n",
    "        patchContent = fs.readFileSync(patchFile, \"utf-8\");\n",
    "    }\n",
    "    const lines = patchContent.split(\"\\n\");\n",
    "\n",
    "    let summary = {\n",
    "        files: {},\n",
    "        totalAdditions: 0,\n",
    "        totalDeletions: 0\n",
    "    };\n",
    "\n",
    "    let currentFile = null;\n",
    "\n",
    "    lines.forEach(line => {\n",
    "        console.log(line)\n",
    "        if (line.startsWith(\"+++ b/\")) {\n",
    "            currentFile = line.replace(\"+++ b/\", \"\").trim();\n",
    "            summary.files[currentFile] = { additions: [], deletions: [] };\n",
    "        } else if (line.startsWith(\"+\") && !line.startsWith(\"+++\")) {\n",
    "            const addedLine = line.slice(1).trim(); // Remove leading '+' and trim\n",
    "            summary.files[currentFile].additions.push(addedLine);\n",
    "            summary.totalAdditions++;\n",
    "        } else if (line.startsWith(\"-\") && !line.startsWith(\"---\")) {\n",
    "            const deletedLine = line.slice(1).trim(); // Remove leading '+' and trim\n",
    "            summary.files[currentFile].deletions.push(deletedLine);\n",
    "            summary.totalDeletions++;\n",
    "        } else if (line.startsWith('@')) {\n",
    "\n",
    "        } else if (line.startsWith('diff')) {\n",
    "\n",
    "        } else if (line.startsWith('index')) {\n",
    "\n",
    "        } else if (!line.startsWith(\"---\")) {\n",
    "            const addedLine = line.slice(1).trim(); // Remove leading '+' and trim\n",
    "            summary.files[currentFile].additions.push(addedLine);\n",
    "        }\n",
    "    });\n",
    "\n",
    "    return summary;\n",
    "}\n",
    "\n",
    "module.exports = parsePatch\n",
    "\n"
   ]
  },
  {
   "cell_type": "markdown",
   "metadata": {},
   "source": [
    "\n",
    "TODO: summerize file changes, downloads try to infer purpose, use file watcher? install time machine? how to i version my entire disk?\n"
   ]
  },
  {
   "cell_type": "code",
   "execution_count": null,
   "metadata": {
    "vscode": {
     "languageId": "javascript"
    }
   },
   "outputs": [],
   "source": [
    "\n",
    "\n"
   ]
  }
 ],
 "metadata": {
  "language_info": {
   "name": "python"
  }
 },
 "nbformat": 4,
 "nbformat_minor": 2
}
