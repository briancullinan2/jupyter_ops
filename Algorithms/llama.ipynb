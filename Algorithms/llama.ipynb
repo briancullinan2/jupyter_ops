{
 "cells": [
  {
   "cell_type": "markdown",
   "metadata": {
    "vscode": {
     "languageId": "plaintext"
    }
   },
   "source": [
    "search jupyter notebooks using llama-gpt?\n",
    "\n",
    "search llama?\n",
    "\n"
   ]
  },
  {
   "cell_type": "code",
   "execution_count": null,
   "metadata": {},
   "outputs": [],
   "source": [
    "//import {fileURLToPath} from \"url\";\n",
    "import path from \"path\";\n",
    "import {getLlama, LlamaChatSession} from \"node-llama-cpp\";\n",
    "import process from \"process\"\n",
    "\n",
    "const HOMEPATH = process.env.HOME || process.env.HOMEPATH || process.env.USERPROFILE;\n",
    "//const __dirname = path.dirname(fileURLToPath(import.meta.url));\n",
    "\n",
    "let llama;\n",
    "let model;\n",
    "\n",
    "async function searchLlama() {\n",
    "    if(!llama) {\n",
    "        llama = await getLlama();\n",
    "    }\n",
    "    if(!model) {\n",
    "        model = await llama.loadModel({\n",
    "            modelPath: path.join(HOMEPATH, \"llama.cpp\", \"models\", \"code-llama-7b-chat.gguf\" /*\"Meta-Llama-3.1-8B-Instruct.Q4_K_M.gguf\"*/)\n",
    "        });\n",
    "    }\n",
    "\n",
    "    const context = await model.createContext();\n",
    "    const session = new LlamaChatSession({\n",
    "        contextSequence: context.getSequence()\n",
    "    });\n",
    "    \n",
    "    const q1 = \"Hi there, how are you?\";\n",
    "    console.log(\"User: \" + q1);\n",
    "    \n",
    "    const a1 = await session.prompt(q1);\n",
    "    console.log(\"AI: \" + a1);\n",
    "    \n",
    "    \n",
    "    const q2 = \"Summarize what you said\";\n",
    "    console.log(\"User: \" + q2);\n",
    "    \n",
    "    const a2 = await session.prompt(q2);\n",
    "    console.log(\"AI: \" + a2);\n",
    "}\n",
    "\n",
    "export default searchLlama\n"
   ]
  }
 ],
 "metadata": {
  "kernel_info": {
   "name": "javascript"
  },
  "kernelspec": {
   "display_name": "Javascript (Node.js)",
   "language": "javascript",
   "name": "javascript"
  },
  "language_info": {
   "file_extension": ".js",
   "mimetype": "application/javascript",
   "name": "javascript",
   "version": "14.5.0"
  }
 },
 "nbformat": 4,
 "nbformat_minor": 2
}
