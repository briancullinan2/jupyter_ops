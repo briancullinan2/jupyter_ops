{
 "cells": [
  {
   "cell_type": "markdown",
   "metadata": {},
   "source": [
    "\n",
    "reduce noise from images after resizing?\n",
    "\n",
    "source: https://www.imagemagick.org/discourse-server/viewtopic.php?t=15855\n",
    "\n"
   ]
  },
  {
   "cell_type": "code",
   "execution_count": null,
   "metadata": {},
   "outputs": [],
   "source": [
    "convert in.jpg -filter Box -resize 320x320+0+0 -unsharp 0x1+0.25+0 -quality 86% -sampling-factor 1x1 -write out.png out.jpg\n",
    "\n",
    "\n",
    "convert input.jpg ( +clone -enhance -alpha on -channel alpha -evaluate multiply 0.25 ) -composite output.jpg\n",
    "\n",
    "convert input.jpg ( +clone -despeckle -alpha on -channel alpha -evaluate multiply 0.25 ) -composite output.jpg\n"
   ]
  },
  {
   "cell_type": "code",
   "execution_count": null,
   "metadata": {},
   "outputs": [],
   "source": [
    "\n",
    "convert /Users/briancullinan/jupyter_ops/.output/IMG_6104.jpeg -scale 50% -quality 50% /Users/briancullinan/jupyter_ops/.output/IMG_6104-final.jpg && \\\n",
    "\n",
    "convert /Users/briancullinan/jupyter_ops/.output/IMG_6104-final.jpg +clone -enhance -despeckle -alpha on -channel alpha -evaluate multiply 0.25 -composite /Users/briancullinan/jupyter_ops/.output/IMG_6104-final.jpg\n",
    "\n",
    "#convert /Users/briancullinan/jupyter_ops/.output/IMG_6104.jpeg +clone -scale 200% -enhance -despeckle -alpha on -channel alpha -evaluate multiply 0.25 -composite -sampling-factor 4:2:2 -strip -scale 200% -quality 10% -interlace JPEG -colorspace sRGB /Users/briancullinan/jupyter_ops/.output/IMG_6104-final.jpg\n",
    "\n",
    "echo \"done\""
   ]
  },
  {
   "cell_type": "markdown",
   "metadata": {},
   "source": [
    "Crop and rename all images in a folder\n",
    "\n",
    "\n",
    "\n"
   ]
  },
  {
   "cell_type": "code",
   "execution_count": 5,
   "metadata": {},
   "outputs": [
    {
     "name": "stdout",
     "output_type": "stream",
     "text": [
      "done\n"
     ]
    }
   ],
   "source": [
    "#windows\n",
    "# for /r %%v in (*.pcx or *.jpg or *.jpeg) do convert -colorspace RGB \"%%v\" \"%%~dpv%%~nv.tga\" ; done\n",
    "#\n",
    "\n",
    "#/bin/bash\n",
    "find /Users/briancullinan/jupyter_ops/.output -iname '*.jpeg' -o -iname '*.jpg' -o -iname '*.heic' -o -iname '*.tga' -o -iname '*.png' -o -iname '*.svg' -o -name '*.webp' -o -name '*.wal' | \\\n",
    "while IFS= read -r i; do \\\n",
    "o=\"${i%.*}\"; \\\n",
    "o=\"${o%-final*}-final.jpg\"; \\\n",
    "if [ ! -f \"$o\" ]; \\\n",
    "then convert -density 600 \"$i\" -resize \"600^<\" -scale 50% \"$o\" || true && \\\n",
    "    convert \"$o\" +clone -enhance -despeckle -alpha on -channel alpha -evaluate multiply 0.25 -composite -quality 50% \"$o\" || true; \\\n",
    "fi; \\\n",
    "done;\n",
    "\n",
    "echo \"done\"\n"
   ]
  },
  {
   "cell_type": "code",
   "execution_count": null,
   "metadata": {},
   "outputs": [],
   "source": [
    "convert -density 600 \"./.output/IMG_1587.JPG\" -resize \"600^<\" -scale 50% \"./.output/IMG_1587-final.jpg\" || true && \\\n",
    "    convert \"./.output/IMG_1587-final.jpg\" +clone -enhance -despeckle -alpha on -channel alpha -evaluate multiply 0.25 -composite -quality "
   ]
  },
  {
   "cell_type": "markdown",
   "metadata": {},
   "source": [
    "Convert all quake 3 images to lower quality\n",
    "\n",
    "\n"
   ]
  },
  {
   "cell_type": "code",
   "execution_count": null,
   "metadata": {},
   "outputs": [],
   "source": [
    "find /Users/briancullinan/.q3a/unpacked/baseq3vm -iname '*.jpeg' -o -iname '*.jpg' -o -iname '*.heic' -o -iname '*.tga' -o -iname '*.png' -o -iname '*.svg' -o -name '*.webp' -o -name '*.wal' | \\\n",
    "while IFS= read -r i; do \\\n",
    "o=\"${i%.*}\"; \\\n",
    "o=\"${o%-final*}-final.jpg\"; \\\n",
    "if [ ! -f \"$o\" ]; then \\\n",
    "    convert \"$i\" +clone -enhance -despeckle -alpha on -channel alpha -evaluate multiply 0.25 -composite -quality 50% \"$o\" || true; \\\n",
    "    rm \"$i\"; \\\n",
    "    mv \"$o\" \"${i%.*}.jpg\"; \\\n",
    "else \\\n",
    "    mv \"$o\" \"${i%.*}.jpg\"; \\\n",
    "fi; \\\n",
    "done;\n"
   ]
  },
  {
   "cell_type": "markdown",
   "metadata": {},
   "source": [
    "watermark images\n",
    "\n"
   ]
  },
  {
   "cell_type": "code",
   "execution_count": null,
   "metadata": {},
   "outputs": [],
   "source": [
    "magick /Users/fred/desktop/PZImages/original/17201-33020@02.jpg -print \"%f\\n\" \\\n",
    "-fuzz \"10%\" -trim +repage -background \"white\" \\\n",
    "-resize \"650x650\" -rotate \"90<\" -set option:dim \"%wx%h\" \\\n",
    "\\( /Users/fred/desktop/PZImages/WM_m.png -resize \"%[dim]\" \\\n",
    "-gravity center -background none -extent \"%[dim]\" \\) \\\n",
    "-gravity center -compose over -composite /Users/fred/desktop/PZImages/fred_results/17201-33020@02.jpg\n",
    "\n",
    "\n",
    "\n",
    "magick path2originals\\17201-33020@02.jpg -print \"%f\\n\" -fuzz \"10%\" -trim +repage -background \"white\" ^\n",
    "-resize \"650x650\" -rotate \"90<\" -set option:dim \"%wx%h\" ^\n",
    "( path2towatermark\\WM_m.png -resize \"%[dim]\" -gravity center -background none -extent \"%[dim]\" ) ^\n",
    "-gravity center -compose over -composite path2output\\17201-33020@02.jpg\n",
    "\n"
   ]
  },
  {
   "cell_type": "code",
   "execution_count": null,
   "metadata": {
    "vscode": {
     "languageId": "shellscript"
    }
   },
   "outputs": [],
   "source": [
    "# 1. Swirl an image like a vortex\n",
    "convert input.jpg -swirl 180 swirl_output.jpg"
   ]
  },
  {
   "cell_type": "code",
   "execution_count": null,
   "metadata": {
    "vscode": {
     "languageId": "shellscript"
    }
   },
   "outputs": [],
   "source": [
    "# 2. Add a rainbow gradient overlay\n",
    "convert input.jpg \\( -size 1000x1000 gradient: -rotate 90 \\) -compose Overlay -composite rainbow_overlay.jpg"
   ]
  },
  {
   "cell_type": "code",
   "execution_count": null,
   "metadata": {
    "vscode": {
     "languageId": "shellscript"
    }
   },
   "outputs": [],
   "source": [
    "# 3. Cartoonify an image\n",
    "convert input.jpg -paint 4 -posterize 7 cartoon_output.jpg"
   ]
  },
  {
   "cell_type": "code",
   "execution_count": null,
   "metadata": {
    "vscode": {
     "languageId": "shellscript"
    }
   },
   "outputs": [],
   "source": [
    "# 4. Add glowing edges like a neon effect\n",
    "convert input.jpg -edge 1 -negate -normalize neon_edges.jpg"
   ]
  },
  {
   "cell_type": "code",
   "execution_count": null,
   "metadata": {
    "vscode": {
     "languageId": "shellscript"
    }
   },
   "outputs": [],
   "source": [
    "# 5. Make a photo strip (vertical stack)\n",
    "convert image1.jpg image2.jpg image3.jpg -append photostrip.jpg"
   ]
  },
  {
   "cell_type": "code",
   "execution_count": null,
   "metadata": {
    "vscode": {
     "languageId": "shellscript"
    }
   },
   "outputs": [],
   "source": [
    "# 6. Create a glass magnifier effect\n",
    "convert input.jpg -region 100x100+50+50 -resize 200% +region magnified.jpg"
   ]
  },
  {
   "cell_type": "code",
   "execution_count": null,
   "metadata": {
    "vscode": {
     "languageId": "shellscript"
    }
   },
   "outputs": [],
   "source": [
    "# 7. Mosaic tiles with edge fading\n",
    "convert input.jpg -scale 10% -blur 0x1 -resize 1000% mosaic_blur.jpg"
   ]
  },
  {
   "cell_type": "code",
   "execution_count": null,
   "metadata": {
    "vscode": {
     "languageId": "shellscript"
    }
   },
   "outputs": [],
   "source": [
    "# 8. Crystallize using Voronoi-style segmentation\n",
    "convert input.jpg -segment 1x1 +dither -colors 16 -blur 0x2 crystalized.jpg"
   ]
  },
  {
   "cell_type": "code",
   "execution_count": null,
   "metadata": {
    "vscode": {
     "languageId": "shellscript"
    }
   },
   "outputs": [],
   "source": [
    "# 9. Mirror reflection with fade\n",
    "convert input.jpg -flip -gravity south -background none -splice 0x10 -blur 0x4 -evaluate Multiply 0.5 flipped.png\n",
    "convert input.jpg flipped.png -append mirrored_reflection.jpg"
   ]
  },
  {
   "cell_type": "code",
   "execution_count": null,
   "metadata": {
    "vscode": {
     "languageId": "shellscript"
    }
   },
   "outputs": [],
   "source": [
    "# 10. Apply glitch effect by offsetting channels\n",
    "convert input.jpg -channel R -roll +5+0 -channel G -roll -5+0 -channel B -roll +0+5 +channel glitch.jpg"
   ]
  }
 ],
 "metadata": {
  "kernelspec": {
   "display_name": "Bash",
   "language": "bash",
   "name": "bash"
  },
  "language_info": {
   "codemirror_mode": "shell",
   "file_extension": ".sh",
   "mimetype": "text/x-sh",
   "name": "bash"
  }
 },
 "nbformat": 4,
 "nbformat_minor": 2
}
