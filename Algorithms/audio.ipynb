{
 "cells": [
  {
   "cell_type": "markdown",
   "metadata": {},
   "source": [
    "Find noise in a file to skip directly to that part of the file.\n",
    "\n",
    "Find music like sound hound or music brainz, but the original rythm or melody comes from a source much older like classical.\n",
    "\n",
    "\n"
   ]
  },
  {
   "cell_type": "code",
   "execution_count": null,
   "metadata": {},
   "outputs": [],
   "source": [
    "function walkAudio() {\n",
    "    // creates distinguishable features of audio\n",
    "}\n",
    "\n",
    "function selectAudio() {\n",
    "    // queries specific features of audio\n",
    "}\n",
    "\n",
    "\n"
   ]
  }
 ],
 "metadata": {
  "kernelspec": {
   "display_name": "Javascript (Node.js)",
   "language": "javascript",
   "name": "javascript"
  },
  "language_info": {
   "file_extension": ".js",
   "mimetype": "application/javascript",
   "name": "javascript",
   "version": "10.16.0"
  }
 },
 "nbformat": 4,
 "nbformat_minor": 2
}
