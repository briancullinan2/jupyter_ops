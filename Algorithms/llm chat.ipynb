{
 "cells": [
  {
   "cell_type": "markdown",
   "metadata": {},
   "source": [
    "\n",
    "# Chat\n"
   ]
  },
  {
   "cell_type": "markdown",
   "metadata": {},
   "source": [
    "\n",
    "TODO: move chat analysis tools here, separate from brian's resume, generalize so history can be found in discord and both bots can benefit from the additional context.\n",
    "\n"
   ]
  },
  {
   "cell_type": "markdown",
   "metadata": {},
   "source": [
    "\n",
    "## Persistance\n",
    "\n"
   ]
  },
  {
   "cell_type": "markdown",
   "metadata": {},
   "source": [
    "\n",
    "### store conversation\n",
    "\n",
    "store llm response?\n",
    "\n",
    "store chat history so that it can be recalled later and added to the context window, this gives the LLM more context about how the conversation is going.\n"
   ]
  },
  {
   "cell_type": "code",
   "execution_count": null,
   "metadata": {
    "vscode": {
     "languageId": "javascript"
    }
   },
   "outputs": [],
   "source": [
    "const path = require('path')\n",
    "const fs = require('fs')\n",
    "const selectModel = importer.import('select llm')\n",
    "const {askLlamaAboutEmotions} = importer.import('ask llm about emotions')\n",
    "const {ACTIVE_CONVERSATIONS, PROJECT_PATH, DEFAULT_MODEL} = importer.import('general chit chat')\n",
    "\n",
    "\n",
    "async function storeResponse(user, session, content, context, otr) {\n",
    "  let promptModel = await selectModel(DEFAULT_MODEL)\n",
    "\n",
    "  let now = new Date()\n",
    "  let convoFile = path.join(PROJECT_PATH, now.getFullYear() + '-' \n",
    "    + String(now.getMonth() + 1).padStart(2, '0') \n",
    "    + '-' + DEFAULT_MODEL\n",
    "    + '-' + session + '.json')\n",
    "  if(typeof ACTIVE_CONVERSATIONS[convoFile] == 'undefined') {\n",
    "    if(fs.existsSync(convoFile)) {\n",
    "      ACTIVE_CONVERSATIONS[convoFile] = JSON.parse(fs.readFileSync(convoFile))\n",
    "    } else {\n",
    "      ACTIVE_CONVERSATIONS[convoFile] = {}\n",
    "    }\n",
    "  }\n",
    "\n",
    "  let contextContainsImage = false\n",
    "  if(context.startsWith('data:image/png;base64,')) {\n",
    "    contextContainsImage = true\n",
    "  }\n",
    "\n",
    "  let summary\n",
    "  if(!otr) {\n",
    "    summary = await promptModel('Summerize this prompt in one short sentence:\\n' \n",
    "      + content + '\\nOnly respond with the summary, no pleasantries.')\n",
    "  }\n",
    "  let keywords = await promptModel('List a few key words that categorize this prompt:\\n' \n",
    "    + content + '\\nOnly respond with a single category, no pleasantries.')\n",
    "  let emotions = await askLlamaAboutEmotions(content)\n",
    "\n",
    "  ACTIVE_CONVERSATIONS[convoFile][Date.now()] = {\n",
    "    user: user,\n",
    "    content: otr ? void 0 : content,\n",
    "    context: contextContainsImage ? void 0 : context,\n",
    "    summary: summary,\n",
    "    keywords: keywords,\n",
    "    emotions: emotions,\n",
    "    otr: otr ? true : false,\n",
    "  }\n",
    "  fs.writeFileSync(convoFile, JSON.stringify(ACTIVE_CONVERSATIONS[convoFile], null, 4))\n",
    "\n",
    "}\n",
    "\n",
    "\n",
    "module.exports = storeResponse\n"
   ]
  },
  {
   "cell_type": "markdown",
   "metadata": {},
   "source": [
    "\n",
    "### general discussion\n",
    "\n",
    "general chit chat?\n",
    "\n",
    "everything else falls into this category. context will be populated with recent message conversation history.\n"
   ]
  },
  {
   "cell_type": "code",
   "execution_count": null,
   "metadata": {
    "vscode": {
     "languageId": "javascript"
    }
   },
   "outputs": [],
   "source": [
    "const path = require('path')\n",
    "const fs = require('fs')\n",
    "\n",
    "\n",
    "const PROJECT_PATH = path.join(__dirname, '..', 'Resources', 'Projects', 'conversations')\n",
    "const ACTIVE_CONVERSATIONS = {}\n",
    "const DEFAULT_MODEL = process.env.DEFAULT_MODEL || 'Default'\n",
    "\n",
    "// TODO: load some previous summaries and contents\n",
    "\n",
    "async function messageRecents(promptModel, session) {\n",
    "\n",
    "  if(!session) {\n",
    "    return ''\n",
    "  }\n",
    "\n",
    "  let now = new Date()\n",
    "  let convoFile = path.join(PROJECT_PATH, now.getFullYear() + '-' \n",
    "    + String(now.getMonth() + 1).padStart(2, '0') \n",
    "    + '-' + DEFAULT_MODEL\n",
    "    + '-' + session + '.json')\n",
    "  // TODO: reload chat\n",
    "  if(typeof ACTIVE_CONVERSATIONS[convoFile] == 'undefined') {\n",
    "    if(fs.existsSync(convoFile)) {\n",
    "      ACTIVE_CONVERSATIONS[convoFile] = JSON.parse(fs.readFileSync(convoFile))\n",
    "    } else {\n",
    "      ACTIVE_CONVERSATIONS[convoFile] = {}\n",
    "    }\n",
    "  }\n",
    "\n",
    "  let messageTimes = Object.keys(ACTIVE_CONVERSATIONS[convoFile]).filter(k => k != 'summaries')\n",
    "  messageTimes.sort((a, b) => b - a)\n",
    "  let count = 0\n",
    "  let messages = 'Current date: ' + (new Date).toISOString() \n",
    "    + '\\nOur recent conversion:\\n'\n",
    "  for(let i = 0; i < messageTimes.length && count < 25; i++) {\n",
    "    let message = ACTIVE_CONVERSATIONS[convoFile][messageTimes[i]]\n",
    "    let useSummary = i > 10 || messages.length > 1024 || (message.content && message.content.length > 1024)\n",
    "    let useKeywords = !message.content\n",
    "    messages += (message.user ? 'User: ' : 'AI: ') \n",
    "      + (useKeywords ? message.keywords : (useSummary ? message.summary : message.content))\n",
    "      + '\\n\\n'\n",
    "    if(messages.length > 2048) {\n",
    "      break\n",
    "    }\n",
    "    count++\n",
    "  }\n",
    "\n",
    "  return messages\n",
    "}\n",
    "\n",
    "module.exports = {\n",
    "  messageRecents,\n",
    "  PROJECT_PATH,\n",
    "  ACTIVE_CONVERSATIONS,\n",
    "  DEFAULT_MODEL\n",
    "}\n"
   ]
  }
 ],
 "metadata": {
  "language_info": {
   "name": "python"
  }
 },
 "nbformat": 4,
 "nbformat_minor": 2
}
