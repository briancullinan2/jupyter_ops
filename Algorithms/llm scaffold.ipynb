{
 "cells": [
  {
   "cell_type": "markdown",
   "metadata": {},
   "source": [
    "\n",
    "try to make this clever\n",
    "\n",
    "llm scaffold?\n"
   ]
  },
  {
   "cell_type": "code",
   "execution_count": null,
   "metadata": {
    "vscode": {
     "languageId": "javascript"
    }
   },
   "outputs": [],
   "source": [
    "\n",
    "const PROFILE_PATH = process.env.HOME || process.env.HOMEPATH || process.env.USERPROFILE || '';\n",
    "\n",
    "async function llmScaffold(github) {\n",
    "\n",
    "  if(!github) {\n",
    "    console.error('Provide a github repository for comparison and updating')\n",
    "  }\n",
    "\n",
    "\n",
    "\n",
    "  // TODO: feed the llm the proper project components as necessary to get it to generate code files\n",
    "  \n",
    "\n",
    "}\n",
    "\n",
    "module.exports = llmScaffold\n",
    "\n"
   ]
  },
  {
   "cell_type": "markdown",
   "metadata": {},
   "source": [
    "\n",
    "llm code?\n"
   ]
  },
  {
   "cell_type": "code",
   "execution_count": null,
   "metadata": {
    "vscode": {
     "languageId": "javascript"
    }
   },
   "outputs": [],
   "source": [
    "\n",
    "\n",
    "\n",
    "\n",
    "import path from \"path\"\n",
    "import {getLlama, LlamaChatSession} from \"node-llama-cpp\"\n",
    "import process from \"process\"\n",
    "\n",
    "const HOMEPATH = process.env.HOME || process.env.HOMEPATH || process.env.USERPROFILE\n",
    "//const __dirname = path.dirname(fileURLToPath(import.meta.url));\n",
    "\n",
    "let llama\n",
    "let model\n",
    "let context\n",
    "let session\n",
    "let initialChatHistory\n",
    "\n",
    "\n",
    "async function initSession(context2, prompt) {\n",
    "  if(!context2) {\n",
    "    context = await model.createContext()\n",
    "  } else {\n",
    "    context = context2\n",
    "  }\n",
    "\n",
    "  session = new LlamaChatSession({\n",
    "      contextSequence: context.getSequence(),\n",
    "      systemPrompt: prompt ? prompt : '```markdown\\n# You are a\\n##helpful coding module\\nnamed Llama that responds to every request using beautifully crafted `markdown`. Return only a single code block in the specified language without reasoning or instructions if requested.\\n</think>\\n...```\\n'\n",
    "  })\n",
    "  // initialize the model\n",
    "  //console.log(await session.prompt())\n",
    "  initialChatHistory = session.getChatHistory();\n",
    "\n",
    "  // Reset the chat history\n",
    "  session.setChatHistory(initialChatHistory);\n",
    "  return session\n",
    "}\n",
    "\n",
    "async function createSession() {\n",
    "  if(!llama) {\n",
    "    llama = await getLlama();\n",
    "  }\n",
    "  if(!model) {\n",
    "      model = await llama.loadModel({\n",
    "          modelPath: path.join(HOMEPATH, \"llama.cpp\", \"models\", 'DeepSeek-R1-Distill-Llama-70B-Q5_K_S.gguf' ),\n",
    "          //contextSize: 2048\n",
    "      });\n",
    "  }\n",
    "\n",
    "  await initSession()\n",
    "\n",
    "  return session\n",
    "}\n",
    "\n",
    "async function getSession() {\n",
    "  if(!session) {\n",
    "    await createSession()\n",
    "  }\n",
    "  return session\n",
    "}\n",
    "\n",
    "async function llmCode(prompt, session2) {\n",
    "  if(!session2) {\n",
    "    session2 = await getSession()\n",
    "  }\n",
    "  let result = await session2.prompt(prompt, {\n",
    "    //maxTokens: context.contextSize,\n",
    "    onTextChunk: function (text) {\n",
    "      process.stdout.write(text)\n",
    "    }\n",
    "  })\n",
    "  if(session == session2)\n",
    "    session2.setChatHistory(initialChatHistory);\n",
    "  return result\n",
    "}\n",
    "\n",
    "export default llmCode\n",
    "\n"
   ]
  },
  {
   "cell_type": "markdown",
   "metadata": {},
   "source": [
    "\n",
    "bash project files?\n"
   ]
  },
  {
   "cell_type": "code",
   "execution_count": null,
   "metadata": {
    "vscode": {
     "languageId": "javascript"
    }
   },
   "outputs": [],
   "source": [
    "\n",
    "const fs = require('fs')\n",
    "const path = require('path')\n",
    "const PROFILE_PATH = process.env.HOME || process.env.HOMEPATH || process.env.USERPROFILE || '';\n",
    "const {spawnSync} = require('child_process')\n",
    "const llama = importer.import('llm code')\n",
    "const {safeurl} = importer.import('domain cache tools')\n",
    "\n",
    "async function generateBash(prompt, github) {\n",
    "  const llmCode = (await llama)\n",
    "\n",
    "  // TODO: local pull\n",
    "  if(!fs.existsSync(github)\n",
    "    && fs.existsSync(path.join(PROFILE_PATH, github))) {\n",
    "      github = path.join(PROFILE_PATH, github)\n",
    "  }\n",
    "\n",
    "  if(github.includes('://')\n",
    "    && fs.existsSync(path.basename(github).replace('.git', ''))\n",
    "  ) {\n",
    "    github = path.join(PROFILE_PATH, path.basename(github).replace('.git', ''))\n",
    "  }\n",
    "\n",
    "  if(!fs.existsSync(github)) {\n",
    "    return\n",
    "  }\n",
    "\n",
    "  let baseName = path.basename(github)\n",
    "\n",
    "  await spawnSync('git', ['pull'], {\n",
    "    cwd: github,\n",
    "    timeout: 3000,\n",
    "    stdio: ['pipe', 'pipe', 'pipe']\n",
    "  })\n",
    "\n",
    "  // TODO: generate bash\n",
    "  let q1 = 'Project listing:\\n' +  fs.readdirSync(github).join('\\n')\n",
    "    + '\\nGenerate a Bash shell script for the following request, include any empty file touch/folder creations, file moves or general file management: ' + prompt + '\\n</think>Don\\'t do any file content insertion or reasoning, limit response to two or three shell command lines.'\n",
    "  console.log('User: ' + q1)\n",
    "  let a1 = await llmCode(q1)\n",
    "  console.log('AI: ' + a1)\n",
    "\n",
    "  // try to extract code blocks\n",
    "  let code = a1.matchAll(/```(bash|javascript|code)*\\n[\\s\\S]*?\\n```/gi)\n",
    "\n",
    "  // make sure we're oporating on our own directory\n",
    "  let codeBlocks = '#!/bin/bash\\ncd /home/' + baseName + '\\n\\n'\n",
    "\n",
    "  // extract code blocks from response\n",
    "  for(let match of code) {\n",
    "    codeBlocks += match[0].replace(/^```(bash|javascript|code)*\\n|\\n```$/gi, '') + '\\n'\n",
    "  }\n",
    "  if(!codeBlocks) {\n",
    "    console.log('Error, couldn\\'t find code in:' + a1)\n",
    "    return\n",
    "  }\n",
    "\n",
    "  if(!fs.existsSync(path.join(github, '.automations'))) {\n",
    "    fs.mkdirSync(path.join(github, '.automations'))\n",
    "  }\n",
    "  const CODE_FILE = path.join('.automations', safeurl((new Date).toISOString() + '-' + prompt) + '.sh')\n",
    "  fs.writeFileSync(path.join(github, CODE_FILE), codeBlocks)\n",
    "  fs.chmodSync(path.join(github, CODE_FILE), 0o777)\n",
    "\n",
    "  // TODO: execute new docker file on project\n",
    "  let args = ['run', '-it', '--rm', '-v', \n",
    "    // TODO: mount project directory\n",
    "    github + ':/home/' + baseName, \n",
    "    // TODO: change docker image\n",
    "    'alpine:latest', 'sh', \n",
    "    path.join('/home/', baseName, CODE_FILE)]\n",
    "  console.log('docker', args.join(' '))\n",
    "  await spawnSync('docker', args, {\n",
    "    cwd: github,\n",
    "    timeout: 3000,\n",
    "    stdio: [0, 1, 2]\n",
    "  })\n",
    "\n",
    "  // TODO: git commit and git push?\n",
    "\n",
    "}\n",
    "\n",
    "module.exports = generateBash\n"
   ]
  },
  {
   "cell_type": "markdown",
   "metadata": {},
   "source": [
    "\n",
    "generate code?\n"
   ]
  },
  {
   "cell_type": "code",
   "execution_count": null,
   "metadata": {
    "vscode": {
     "languageId": "javascript"
    }
   },
   "outputs": [],
   "source": [
    "\n",
    "\n",
    "async function generateCode(github) {\n",
    "  \n",
    "  // TODO: local pull\n",
    "\n",
    "  // TODO: compare existing project files\n",
    "\n",
    "  // TODO: create new files\n",
    "\n",
    "  // TODO: populate code files with goals\n",
    "\n",
    "  // TODO: populate goals with actual code\n",
    "\n",
    "}\n",
    "\n",
    "module.exports = generateCode\n",
    "\n"
   ]
  },
  {
   "cell_type": "markdown",
   "metadata": {},
   "source": [
    "\n",
    "\n"
   ]
  },
  {
   "cell_type": "code",
   "execution_count": null,
   "metadata": {
    "vscode": {
     "languageId": "javascript"
    }
   },
   "outputs": [],
   "source": [
    "\n",
    "\n"
   ]
  }
 ],
 "metadata": {
  "language_info": {
   "name": "python"
  }
 },
 "nbformat": 4,
 "nbformat_minor": 2
}
