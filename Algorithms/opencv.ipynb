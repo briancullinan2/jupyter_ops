{
 "cells": [
  {
   "cell_type": "markdown",
   "metadata": {},
   "source": [
    "# open CV\n",
    "\n",
    "TODO: create security cameras\n",
    "\n",
    "TODO: create a Google VR app that allows you to type on any surface using the front camera\n",
    "\n",
    "\n",
    "\n"
   ]
  },
  {
   "cell_type": "markdown",
   "metadata": {},
   "source": [
    "\n",
    "detect people?\n"
   ]
  },
  {
   "cell_type": "code",
   "execution_count": null,
   "metadata": {
    "vscode": {
     "languageId": "python"
    }
   },
   "outputs": [],
   "source": [
    "import os\n",
    "import requests\n",
    "import cv2\n",
    "import numpy as np\n",
    "\n",
    "# Initialize HOG descriptor/person detector\n",
    "hog = cv2.HOGDescriptor()\n",
    "hog.setSVMDetector(cv2.HOGDescriptor_getDefaultPeopleDetector())\n",
    "\n",
    "def trace_people(image_path):\n",
    "  # Load image\n",
    "  if os.path.exists(image_path):\n",
    "    image = cv2.imread(image_path)\n",
    "  else:\n",
    "    # Fetch the image from the URL\n",
    "    response = requests.get(image_path)\n",
    "    response.raise_for_status()  # Raise an error if the request fails\n",
    "\n",
    "    # Convert to a NumPy array for OpenCV\n",
    "    image_array = np.asarray(bytearray(response.content), dtype=np.uint8)\n",
    "    image = cv2.imdecode(image_array, cv2.IMREAD_COLOR)\n",
    "\n",
    "\n",
    "  # Resize image (optional, improves detection speed)\n",
    "  image = cv2.resize(image, (800, 600))\n",
    "\n",
    "  # Convert to grayscale (not necessary, but can improve performance)\n",
    "  gray = cv2.cvtColor(image, cv2.COLOR_BGR2GRAY)\n",
    "\n",
    "  # Detect people\n",
    "  boxes, weights = hog.detectMultiScale(gray, winStride=(4, 4), padding=(8, 8), scale=1.05)\n",
    "\n",
    "  # Draw bounding boxes\n",
    "  for (x, y, w, h) in boxes:\n",
    "      cv2.rectangle(image, (x, y), (x + w, y + h), (0, 255, 0), 2)\n",
    "\n",
    "  return image\n",
    "\n",
    "def main(image_path):\n",
    "  while True:\n",
    "    # Create a random image (or load a new one dynamically)\n",
    "    image = trace_people(image_path)  # Random image example\n",
    "\n",
    "    # Display the image\n",
    "    cv2.imshow(\"People Detection\", image)\n",
    "\n",
    "    # Wait for 1 second (1000 ms) and check for key press\n",
    "    if cv2.waitKey(1000) & 0xFF == ord('q'):  # Press 'q' to exit\n",
    "        break\n",
    "\n",
    "  cv2.destroyAllWindows()\n",
    "\n",
    "__all__ = {\n",
    "  \"main\": main,\n",
    "  \"trace_people\": trace_people\n",
    "}\n"
   ]
  }
 ],
 "metadata": {
  "kernelspec": {
   "display_name": "Javascript (Node.js)",
   "language": "javascript",
   "name": "javascript"
  },
  "language_info": {
   "file_extension": ".js",
   "mimetype": "application/javascript",
   "name": "javascript",
   "version": "10.16.0"
  }
 },
 "nbformat": 4,
 "nbformat_minor": 2
}
