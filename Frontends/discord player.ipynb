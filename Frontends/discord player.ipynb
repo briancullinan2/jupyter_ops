{
 "cells": [
  {
   "cell_type": "markdown",
   "metadata": {},
   "source": [
    "\n",
    "discord music player?\n",
    "\n",
    "export TOKENPATH=/Users/briancullinan/.credentials/discord-bot7.txt && export DEFAULT_APPLICATION=1335769252409380884 && export SECRETPATH=/Users/briancullinan/.credentials/discord7.txt && npm run import -- \"discord music player\"\n"
   ]
  },
  {
   "cell_type": "code",
   "execution_count": null,
   "metadata": {
    "vscode": {
     "languageId": "javascript"
    }
   },
   "outputs": [],
   "source": [
    "\n",
    "const {\n",
    "  registerCommand, getCommands, deleteCommand, updateCommand\n",
    "} = importer.import('discord api')\n",
    "const {interactionsCommands} = importer.import('discord gateway')\n",
    "const { startServer, closeExpress } = importer.import('express service')\n",
    "const {doMention, doPrivate} = importer.import('discord llm interactions')\n",
    "\n",
    "const ALL_COMMANDS = [\n",
    "  'browse',\n",
    "]\n",
    "\n",
    "// bot commands using new API, same names as above but lower-case\n",
    "async function playerCommands(guildId = null) {\n",
    "  var cmd, cmdDef\n",
    "  var commandResult = await getCommands(guildId)\n",
    "  var commands = commandResult.map(command => command.name)\n",
    "\n",
    "  interactionsCommands['startActivity'] = startServer.bind(null, ['discord player.ipynb'])\n",
    "  interactionsCommands['endActivity'] = closeExpress\n",
    "\n",
    "  interactionsCommands['promptMention'] = doMention\n",
    "  interactionsCommands['promptPrivate'] = doPrivate\n",
    "\n",
    "  cmdDef = {\n",
    "    'name': 'browse',\n",
    "    'description': 'Launch the music player',\n",
    "    'type': 4,\n",
    "    'handler': 2,\n",
    "  }\n",
    "  if(!commands.includes('browse')) {\n",
    "    await registerCommand(cmdDef, null, guildId)\n",
    "  } else {\n",
    "    cmd = commandResult.filter(c => c.name == 'browse')[0]\n",
    "    if(cmdDef.name != cmd.name || cmdDef.description != cmd.description)\n",
    "      await updateCommand(cmdDef, null, cmd.id, guildId)\n",
    "  }\n",
    "\n",
    "  var toRemove = commandResult.filter(c => !ALL_COMMANDS.includes(c.name))\n",
    "  for(var i = 0; i < toRemove.length; i++) {\n",
    "    await deleteCommand(toRemove[i].id, guildId)\n",
    "  }\n",
    "\n",
    "  return await getCommands()\n",
    "}\n",
    "\n",
    "module.exports = playerCommands\n",
    "\n",
    "\n"
   ]
  },
  {
   "cell_type": "markdown",
   "metadata": {},
   "source": [
    "\n",
    "discord music player server?\n",
    "\n",
    "ROUTE = /player\n",
    "\n",
    "ROOT = true\n",
    "\n",
    "AUTHENTICATE = importer.import('discord authenticate instances').authenticateRoute\n",
    "\n"
   ]
  },
  {
   "cell_type": "code",
   "execution_count": null,
   "metadata": {
    "vscode": {
     "languageId": "javascript"
    }
   },
   "outputs": [],
   "source": [
    "const {BASE_DIRECTORY} = importer.import('node express directory handler')\n",
    "const {DEFAULT_APPLICATION} = importer.import('discord bot configuration')\n",
    "const path = require('path')\n",
    "const directoryToHtml = importer.import('directory to html')\n",
    "\n",
    "async function discordLogin(baseURI, req, res, next) {\n",
    "  let basePath = path.resolve(BASE_DIRECTORY)\n",
    "\n",
    "  let combined = path.join(basePath, decodeURIComponent(req.path))\n",
    "  console.log(combined)\n",
    "\n",
    "  if(!fs.existsSync(combined)) {\n",
    "    return next()\n",
    "  }\n",
    "\n",
    "  if(!fs.statSync(combined).isDirectory()) {\n",
    "    return next()\n",
    "  }\n",
    "\n",
    "  // this is exclusively a discord function so it has to be appended somewhere before using the generic directory lister\n",
    "  let htmlCode = await directoryToHtml(combined, req.path.split('/').length > 2, req.authenticated)\n",
    "  htmlCode = htmlCode.replace('<head>', `<head>\n",
    "    <base href=\"/.proxy/\" />\n",
    "    <script type=\"text/javascript\">\n",
    "    ${importer.interpret('discord client auth code').code\n",
    "      .replaceAll('{CLIENT_ID}', DEFAULT_APPLICATION)\n",
    "      .replaceAll('{BASE_URI}', baseURI)}\n",
    "    </script>`)\n",
    "  return res.send(htmlCode)\n",
    "}\n",
    "\n",
    "module.exports = discordLogin\n"
   ]
  }
 ],
 "metadata": {
  "language_info": {
   "name": "python"
  }
 },
 "nbformat": 4,
 "nbformat_minor": 2
}
