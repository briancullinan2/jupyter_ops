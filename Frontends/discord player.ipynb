{
 "cells": [
  {
   "cell_type": "markdown",
   "metadata": {},
   "source": [
    "\n",
    "discord music player?\n",
    "\n",
    "export TOKENPATH=/Users/briancullinan/.credentials/discord-bot7.txt && export DEFAULT_APPLICATION=1335769252409380884 && export SECRETPATH=/Users/briancullinan/.credentials/discord7.txt && npm run import -- \"discord music player\"\n"
   ]
  },
  {
   "cell_type": "code",
   "execution_count": null,
   "metadata": {
    "vscode": {
     "languageId": "javascript"
    }
   },
   "outputs": [],
   "source": [
    "\n",
    "const {\n",
    "  registerCommand, getCommands, deleteCommand, updateCommand\n",
    "} = importer.import('discord api')\n",
    "\n",
    "const ALL_COMMANDS = [\n",
    "  'browse',\n",
    "]\n",
    "\n",
    "// bot commands using new API, same names as above but lower-case\n",
    "async function musicCommands(guildId = null) {\n",
    "  var cmd, cmdDef\n",
    "  var commandResult = await getCommands(guildId)\n",
    "  var commands = commandResult.map(command => command.name)\n",
    "\n",
    "  cmdDef = {\n",
    "    'name': 'browse',\n",
    "    'description': 'Launch the music player',\n",
    "    'type': 4,\n",
    "    'handler': 2,\n",
    "  }\n",
    "  if(!commands.includes('browse')) {\n",
    "    await registerCommand(cmdDef, null, guildId)\n",
    "  } else {\n",
    "    cmd = commandResult.filter(c => c.name == 'browse')[0]\n",
    "    if(cmdDef.name != cmd.name || cmdDef.description != cmd.description)\n",
    "      await updateCommand(cmdDef, null, cmd.id, guildId)\n",
    "  }\n",
    "\n",
    "  var toRemove = commandResult.filter(c => !ALL_COMMANDS.includes(c.name))\n",
    "  for(var i = 0; i < toRemove.length; i++) {\n",
    "    await deleteCommand(toRemove[i].id, guildId)\n",
    "  }\n",
    "\n",
    "  return await getCommands()\n",
    "}\n",
    "\n",
    "module.exports = musicCommands\n",
    "\n",
    "\n"
   ]
  }
 ],
 "metadata": {
  "language_info": {
   "name": "python"
  }
 },
 "nbformat": 4,
 "nbformat_minor": 2
}
