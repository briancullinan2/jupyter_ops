{
 "cells": [
  {
   "cell_type": "markdown",
   "metadata": {},
   "source": [
    "# Discord Imagine\n",
    "\n"
   ]
  },
  {
   "cell_type": "markdown",
   "metadata": {},
   "source": [
    "## Stable Diffusion\n"
   ]
  },
  {
   "cell_type": "markdown",
   "metadata": {},
   "source": [
    "### Post An Attachment"
   ]
  },
  {
   "cell_type": "markdown",
   "metadata": {},
   "source": [
    "#### the code\n",
    "\n",
    "this is getting long.\n",
    "\n",
    "update discord interaction with attachments?\n"
   ]
  },
  {
   "cell_type": "code",
   "execution_count": null,
   "metadata": {
    "vscode": {
     "languageId": "javascript"
    }
   },
   "outputs": [],
   "source": [
    "const {DEFAULT_APPLICATION} = importer.import('discord configuration')\n",
    "const { safeurl } = importer.import('domain cache tools')\n",
    "const mime = require('mime-types');\n",
    "const {requestAuthQ} = importer.import('discord request')\n",
    "\n",
    "\n",
    "async function patchInteractionImageAttachment(prompt, buff, token, content = 'image/png') {\n",
    "  return await requestAuthQ({\n",
    "    headers: {\n",
    "      'Content-Type': 'multipart/form-data; boundary=boundary123'\n",
    "    },\n",
    "    method: 'PATCH',\n",
    "    url: `webhooks/${DEFAULT_APPLICATION}/${token}/messages/@original`,\n",
    "    body: `--boundary123\n",
    "Content-Disposition: form-data; name=\"payload_json\"\n",
    "Content-Type: application/json\n",
    "\n",
    "${JSON.stringify({\n",
    "  content: 'Your ' + (content.includes('image') ? 'image' : content) + ' delivered: *' + prompt + '*',\n",
    "  attachments: [{\n",
    "    \"id\": 0,\n",
    "    \"description\": prompt,\n",
    "    \"filename\": safeurl(prompt) + '.' + mime.extension(content)\n",
    "  }],\n",
    "})}\n",
    "--boundary123\n",
    "Content-Disposition: form-data; name=\"files[0]\"; filename=\"${safeurl(prompt)}.${mime.extension(content)}\"\n",
    "Content-Transfer-Encoding: base64\n",
    "Content-Type: ${content}\n",
    "\n",
    "${buff.toString('base64')}\n",
    "--boundary123--`\n",
    "  })\n",
    "}\n",
    "\n",
    "\n",
    "module.exports = {\n",
    "  patchInteractionImageAttachment\n",
    "}\n"
   ]
  },
  {
   "cell_type": "markdown",
   "metadata": {},
   "source": [
    "### Proxy Request\n"
   ]
  },
  {
   "cell_type": "markdown",
   "metadata": {},
   "source": [
    "#### the code\n",
    "\n",
    "\n",
    "some sample interactions.\n",
    "\n",
    "discord stability proxy?\n",
    "\n"
   ]
  },
  {
   "cell_type": "code",
   "execution_count": null,
   "metadata": {
    "vscode": {
     "languageId": "javascript"
    }
   },
   "outputs": [],
   "source": [
    "const llama = importer.import('create llm session')\n",
    "const {request} = require('gaxios')\n",
    "const {patchInteractionImageAttachment} = importer.import('update discord interaction with attachments')\n",
    "\n",
    "async function doHallucinate(interaction) {\n",
    "  const {llmPrompt} = (await llama)\n",
    "  let a1 = await llmPrompt('Imagine a scene that is much more exotic, weird, bizarre and detailed with this topic:\\n' \n",
    "    + interaction.data.options[0].value + '\\nFit as much detail as possible in to two or three sentences.')\n",
    "  if(interaction.guild_id) {\n",
    "    let q2 = 'Would this prompt be considered to be rated R or for mature audiences, answer Yes or No only?\\n' + a1\n",
    "    let a2 = await llmPrompt(q2)\n",
    "    if(a2.includes('Yes')) {\n",
    "      return await updateInteraction({\n",
    "        content: 'I will not.'\n",
    "      }, interaction.id, interaction.token)\n",
    "    }\n",
    "  }\n",
    "  let buff = await doStableRequest(a1)\n",
    "  return await patchInteractionImageAttachment(interaction.data.options[0].value + '* -> *' + a1, buff, interaction.token)\n",
    "}\n",
    "\n",
    "async function doStableRequest(prompt) {\n",
    "  let width = 1024\n",
    "  if(prompt.includes('View360')) {\n",
    "    width = 2048\n",
    "  }\n",
    "  try {\n",
    "    let result = await request({\n",
    "      url: 'http://127.0.0.1:7860/sdapi/v1/txt2img',\n",
    "      method: 'POST',\n",
    "      headers: {\n",
    "        'Content-Type': 'application/json'\n",
    "      },\n",
    "      data: JSON.stringify({\n",
    "        prompt: prompt,\n",
    "        negative_prompt: 'bad hands, bad feet, bad faces, bad eyes, bad anatomy, extra limbs, missing limbs, tattoo, statue, picture frame, anime, cartoon, signature, abstract',\n",
    "        save_images: true,\n",
    "        \"width\": width,\n",
    "        \"height\": 1024,\n",
    "        \"steps\": 30,\n",
    "        tiling: false,\n",
    "      })\n",
    "    })\n",
    "    let buff = Buffer.from(result.data.images[0], 'base64');\n",
    "    return buff\n",
    "  } catch (e) {\n",
    "    console.error(e)\n",
    "  }\n",
    "}\n",
    "\n",
    "\n",
    "async function doImagineProxy(interaction) {\n",
    "  if(interaction.guild_id) {\n",
    "    const {llmPrompt} = (await llama)\n",
    "    let q2 = 'Would this prompt be considered to be rated PG or safe for children, answer Yes or No only?\\n' + interaction.data.options[0].value\n",
    "    let a2 = await llmPrompt(q2)\n",
    "    if(a2.includes('No')) {\n",
    "      return await updateInteraction({\n",
    "        content: 'I will not.'\n",
    "      }, interaction.id, interaction.token)\n",
    "    }\n",
    "  }\n",
    "  let buff = await doStableRequest(interaction.data.options[0].value)\n",
    "  //const fs = require('fs')\n",
    "  //fs.writeFileSync('/Users/briancullinan/Downloads/test.png', buff)\n",
    "  //console.log(atob(result.data.images[0]))\n",
    "  return await patchInteractionImageAttachment(interaction.data.options[0].value, buff, interaction.token)\n",
    "}\n",
    "\n",
    "module.exports = {\n",
    "  doHallucinate,\n",
    "  doImagineProxy,\n",
    "}\n"
   ]
  },
  {
   "cell_type": "markdown",
   "metadata": {},
   "source": [
    "### Bot Commands"
   ]
  },
  {
   "cell_type": "markdown",
   "metadata": {},
   "source": [
    "\n",
    "#### the code\n",
    "\n",
    "discord mid journey commands?\n",
    "\n",
    "export TOKENPATH=/Users/briancullinan/.credentials/discord-bot2.txt && export DEFAULT_APPLICATION=1335464182111535124 && npm run import -- \"discord mid journey commands\"\n"
   ]
  },
  {
   "cell_type": "code",
   "execution_count": null,
   "metadata": {
    "vscode": {
     "languageId": "javascript"
    }
   },
   "outputs": [],
   "source": [
    "const {\n",
    "  registerCommand, getCommands, deleteCommand, updateCommand\n",
    "} = importer.import('discord api')\n",
    "const {interactionsCommands} = importer.import('discord gateway')\n",
    "const {\n",
    "  doHallucinate, doImagineProxy\n",
    "} = importer.import('discord stability proxy')\n",
    "const doVision = importer.import('discord ollama vision')\n",
    "\n",
    "const ALL_COMMANDS = [\n",
    "  'imagine',\n",
    "  'hallucinate',\n",
    "  'describe',\n",
    "]\n",
    "\n",
    "// bot commands using new API, same names as above but lower-case\n",
    "async function imagineCommands(guildId = null) {\n",
    "  var cmd, cmdDef\n",
    "  var commandResult = await getCommands(guildId)\n",
    "  var commands = commandResult.map(command => command.name)\n",
    "\n",
    "\n",
    "  cmdDef = {\n",
    "    'name': 'imagine',\n",
    "    'description': 'Prompt an image generator.',\n",
    "    'options': [\n",
    "      {\n",
    "        'name': 'text',\n",
    "        'description': 'Text to prompt stability diffusion with.',\n",
    "        'required': true,\n",
    "        'type': 3\n",
    "      }\n",
    "    ]\n",
    "  }\n",
    "  if(!commands.includes('imagine')) {\n",
    "    await registerCommand(cmdDef, null, guildId)\n",
    "  } else {\n",
    "    cmd = commandResult.filter(c => c.name == 'imagine')[0]\n",
    "    if(cmdDef.name != cmd.name || cmdDef.description != cmd.description)\n",
    "      await updateCommand(cmdDef, null, cmd.id, guildId)\n",
    "  }\n",
    "  interactionsCommands['imagine'] = doImagineProxy\n",
    "\n",
    "  cmdDef = {\n",
    "    'name': 'hallucinate',\n",
    "    'description': 'Prompt an image generator with weirder content.',\n",
    "    'options': [\n",
    "      {\n",
    "        'name': 'text',\n",
    "        'description': 'Text to prompt the llm with then use with stable diffusion.',\n",
    "        'required': true,\n",
    "        'type': 3\n",
    "      }\n",
    "    ]\n",
    "  }\n",
    "  if(!commands.includes('hallucinate')) {\n",
    "    await registerCommand(cmdDef, null, guildId)\n",
    "  } else {\n",
    "    cmd = commandResult.filter(c => c.name == 'hallucinate')[0]\n",
    "    if(cmdDef.name != cmd.name || cmdDef.description != cmd.description)\n",
    "      await updateCommand(cmdDef, null, cmd.id, guildId)\n",
    "  }\n",
    "  interactionsCommands['hallucinate'] = doHallucinate\n",
    "\n",
    "\n",
    "  cmdDef = {\n",
    "    'name': 'describe',\n",
    "    'description': 'Prompt Ollama 3.2 Vision with an image to describe.',\n",
    "    'options': [\n",
    "      {\n",
    "        'name': 'url',\n",
    "        'description': 'URL to the image you want a description of.',\n",
    "        'required': true,\n",
    "        'type': 3\n",
    "      }\n",
    "    ]\n",
    "  }\n",
    "  if(!commands.includes('describe')) {\n",
    "    await registerCommand(cmdDef, null, guildId)\n",
    "  } else {\n",
    "    cmd = commandResult.filter(c => c.name == 'describe')[0]\n",
    "    if(cmdDef.name != cmd.name || cmdDef.description != cmd.description)\n",
    "      await updateCommand(cmdDef, null, cmd.id, guildId)\n",
    "  }\n",
    "  interactionsCommands['describe'] = doVision\n",
    "\n",
    "  \n",
    "  var toRemove = commandResult.filter(c => !ALL_COMMANDS.includes(c.name))\n",
    "  for(var i = 0; i < toRemove.length; i++) {\n",
    "    await deleteCommand(toRemove[i].id, guildId)\n",
    "  }\n",
    "\n",
    "  return await getCommands()\n",
    "}\n",
    "\n",
    "\n",
    "module.exports = imagineCommands\n",
    "\n"
   ]
  },
  {
   "cell_type": "markdown",
   "metadata": {},
   "source": [
    "\n",
    "### Ollama Vision\n"
   ]
  },
  {
   "cell_type": "markdown",
   "metadata": {},
   "source": [
    "\n",
    "#### the code\n",
    "\n",
    "discord ollama vision?\n"
   ]
  },
  {
   "cell_type": "code",
   "execution_count": null,
   "metadata": {
    "vscode": {
     "languageId": "javascript"
    }
   },
   "outputs": [],
   "source": [
    "const { request } = require('gaxios')\n",
    "//const fs = require('fs')\n",
    "const requestOllamaVision = importer.import('request ollama vision')\n",
    "\n",
    "//const TEMP_DIR = os.tmpdir();\n",
    "\n",
    "async function doVision(interaction) {\n",
    "  // TODO: download the image file to temp\n",
    "  if(interaction.data.options[0].value.includes('discord')\n",
    "    && interaction.data.options[0].value.includes('/message/')\n",
    "  ) {\n",
    "    // TODO: get the message reference instead\n",
    "  }\n",
    "\n",
    "  let result = await request({\n",
    "    url: interaction.data.options[0].value,\n",
    "    method: 'GET',\n",
    "  })\n",
    "\n",
    "  // Describe the image using ollama vision proxy\n",
    "  let content = await requestOllamaVision(Buffer.from(await result.data.arrayBuffer()))\n",
    "\n",
    "  return await updateInteraction({\n",
    "    content\n",
    "  }, interaction.id, interaction.token)\n",
    "}\n",
    "\n",
    "\n",
    "module.exports = doVision\n"
   ]
  }
 ],
 "metadata": {
  "language_info": {
   "name": "python"
  }
 },
 "nbformat": 4,
 "nbformat_minor": 2
}
