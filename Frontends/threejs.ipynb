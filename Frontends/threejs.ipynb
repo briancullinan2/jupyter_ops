{
 "cells": [
  {
   "cell_type": "markdown",
   "metadata": {},
   "source": [
    "\n",
    "three js smiley face\n"
   ]
  },
  {
   "cell_type": "code",
   "execution_count": null,
   "metadata": {
    "vscode": {
     "languageId": "html"
    }
   },
   "outputs": [],
   "source": [
    "<!DOCTYPE html>\n",
    "<html lang=\"en\">\n",
    "<head>\n",
    "    <meta charset=\"UTF-8\">\n",
    "    <meta name=\"viewport\" content=\"width=device-width, initial-scale=1.0\">\n",
    "    <title>Smiley Face with Three.js</title>\n",
    "    <script src=\"https://cdnjs.cloudflare.com/ajax/libs/three.js/r128/three.min.js\"></script>\n",
    "</head>\n",
    "<body>\n",
    "    <script>\n",
    "        // Setup scene, camera, and renderer\n",
    "        const scene = new THREE.Scene();\n",
    "        const camera = new THREE.PerspectiveCamera(75, window.innerWidth / window.innerHeight, 0.1, 1000);\n",
    "        const renderer = new THREE.WebGLRenderer();\n",
    "        renderer.setSize(window.innerWidth, window.innerHeight);\n",
    "        document.body.appendChild(renderer.domElement);\n",
    "\n",
    "        // Create face (yellow circle)\n",
    "        const faceGeometry = new THREE.CircleGeometry(5, 32);\n",
    "        const faceMaterial = new THREE.MeshBasicMaterial({ color: 0xFFFF00 });\n",
    "        const face = new THREE.Mesh(faceGeometry, faceMaterial);\n",
    "        scene.add(face);\n",
    "\n",
    "        // Create eyes (black circles)\n",
    "        function createEye(x, y) {\n",
    "            const eyeGeometry = new THREE.CircleGeometry(0.5, 16);\n",
    "            const eyeMaterial = new THREE.MeshBasicMaterial({ color: 0x000000 });\n",
    "            const eye = new THREE.Mesh(eyeGeometry, eyeMaterial);\n",
    "            eye.position.set(x, y, 0.1);\n",
    "            return eye;\n",
    "        }\n",
    "\n",
    "        scene.add(createEye(-1.5, 1.5)); // Left eye\n",
    "        scene.add(createEye(1.5, 1.5));  // Right eye\n",
    "\n",
    "        // Create smile (curved line)\n",
    "        const smileCurve = new THREE.CatmullRomCurve3([\n",
    "            new THREE.Vector3(-2, -1, 0.1),\n",
    "            new THREE.Vector3(-1, -2, 0.1),\n",
    "            new THREE.Vector3(0, -2.2, 0.1),\n",
    "            new THREE.Vector3(1, -2, 0.1),\n",
    "            new THREE.Vector3(2, -1, 0.1)\n",
    "        ]);\n",
    "\n",
    "        const smilePoints = smileCurve.getPoints(50);\n",
    "        const smileGeometry = new THREE.BufferGeometry().setFromPoints(smilePoints);\n",
    "        const smileMaterial = new THREE.LineBasicMaterial({ color: 0x000000, linewidth: 3 });\n",
    "        const smile = new THREE.Line(smileGeometry, smileMaterial);\n",
    "        scene.add(smile);\n",
    "\n",
    "        // Set camera position\n",
    "        camera.position.z = 10;\n",
    "\n",
    "        // Render the scene\n",
    "        function animate() {\n",
    "            requestAnimationFrame(animate);\n",
    "            renderer.render(scene, camera);\n",
    "        }\n",
    "        animate();\n",
    "    </script>\n",
    "</body>\n",
    "</html>\n"
   ]
  }
 ],
 "metadata": {
  "language_info": {
   "name": "python"
  }
 },
 "nbformat": 4,
 "nbformat_minor": 2
}
