{
 "cells": [
  {
   "cell_type": "markdown",
   "metadata": {},
   "source": [
    "\n",
    "qt application?\n"
   ]
  },
  {
   "cell_type": "code",
   "execution_count": null,
   "metadata": {
    "vscode": {
     "languageId": "cpp"
    }
   },
   "outputs": [],
   "source": [
    "#include <QApplication>\n",
    "#include <QWidget>\n",
    "#include <QPushButton>\n",
    "#include <QHBoxLayout>\n",
    "\n",
    "int main(int argc, char *argv[]) {\n",
    "    QApplication app(argc, argv);\n",
    "\n",
    "    QWidget window;\n",
    "    window.setWindowTitle(\"Qt Layout Example\");\n",
    "\n",
    "    QPushButton *button1 = new QPushButton(\"Button 1\");\n",
    "    QPushButton *button2 = new QPushButton(\"Button 2\");\n",
    "    QPushButton *button3 = new QPushButton(\"Button 3\");\n",
    "\n",
    "    QHBoxLayout *layout = new QHBoxLayout;\n",
    "    layout->addWidget(button1);\n",
    "    layout->addWidget(button2);\n",
    "    layout->addWidget(button3);\n",
    "\n",
    "    window.setLayout(layout);\n",
    "    window.show();\n",
    "\n",
    "    return app.exec();\n",
    "}\n"
   ]
  },
  {
   "cell_type": "markdown",
   "metadata": {},
   "source": [
    "\n",
    "test qt application?\n"
   ]
  },
  {
   "cell_type": "code",
   "execution_count": null,
   "metadata": {
    "vscode": {
     "languageId": "javascript"
    }
   },
   "outputs": [],
   "source": [
    "\n",
    "async function textQtApp() {\n",
    "  let {main} = await importer.import('qt application')\n",
    "  main(0, '')\n",
    "}\n",
    "\n",
    "module.exports = textQtApp\n",
    "\n"
   ]
  }
 ],
 "metadata": {
  "language_info": {
   "name": "python"
  }
 },
 "nbformat": 4,
 "nbformat_minor": 2
}
