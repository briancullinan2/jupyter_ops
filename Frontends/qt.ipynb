{
 "cells": [
  {
   "cell_type": "markdown",
   "metadata": {},
   "source": [
    "\n",
    "qt application?\n",
    "\n",
    "PKG_CONFIG = QtCore QtGui QtWidgets\n"
   ]
  },
  {
   "cell_type": "code",
   "execution_count": null,
   "metadata": {
    "vscode": {
     "languageId": "cpp"
    }
   },
   "outputs": [],
   "source": [
    "#include <QApplication>\n",
    "#include <QWidget>\n",
    "#include <QPushButton>\n",
    "#include <QHBoxLayout>\n",
    "\n",
    "int main(int argc, char *argv[]) {\n",
    "    QApplication app(argc, argv);\n",
    "\n",
    "    QWidget window;\n",
    "    window.setWindowTitle(\"Qt Layout Example\");\n",
    "\n",
    "    QPushButton *button1 = new QPushButton(\"Button 1\");\n",
    "    QPushButton *button2 = new QPushButton(\"Button 2\");\n",
    "    QPushButton *button3 = new QPushButton(\"Button 3\");\n",
    "\n",
    "    QHBoxLayout *layout = new QHBoxLayout;\n",
    "    layout->addWidget(button1);\n",
    "    layout->addWidget(button2);\n",
    "    layout->addWidget(button3);\n",
    "\n",
    "    window.setLayout(layout);\n",
    "    window.show();\n",
    "\n",
    "    return app.exec();\n",
    "}\n"
   ]
  },
  {
   "cell_type": "markdown",
   "metadata": {},
   "source": [
    "\n",
    "test qt application?\n"
   ]
  },
  {
   "cell_type": "code",
   "execution_count": null,
   "metadata": {
    "vscode": {
     "languageId": "javascript"
    }
   },
   "outputs": [],
   "source": [
    "\n",
    "async function textQtApp() {\n",
    "  let {main} = await importer.import('qt qml widget')\n",
    "  main(0, '')\n",
    "}\n",
    "\n",
    "module.exports = textQtApp\n",
    "\n"
   ]
  },
  {
   "cell_type": "markdown",
   "metadata": {},
   "source": [
    "\n",
    "qt qml widget?\n",
    "\n",
    "PKG_CONFIG = QtCore QtGui QtWidgets QtQml QtNetwork QtQuick QtQuickWidgets\n",
    "\n"
   ]
  },
  {
   "cell_type": "code",
   "execution_count": null,
   "metadata": {
    "vscode": {
     "languageId": "cpp"
    }
   },
   "outputs": [],
   "source": [
    "\n",
    "#include <QApplication>\n",
    "#include <QWidget>\n",
    "#include <QVBoxLayout>\n",
    "#include <QQmlEngine>\n",
    "#include <QQmlComponent>\n",
    "#include <QQuickWidget>\n",
    "#include <QQuickItem>\n",
    "#include <QQuickWindow>\n",
    "\n",
    "int main(int argc, char *argv[]) {\n",
    "    QApplication app(argc, argv);\n",
    "\n",
    "    // QML string defining a simple Rectangle\n",
    "    QString qmlString =\n",
    "        \"import QtQuick 2.0\\n\"\n",
    "        \"import QtQuick.Controls 2.0\\n\"\n",
    "        \"Item {\\n\"\n",
    "        \"    width: 200\\n\"\n",
    "        \"    height: 100\\n\"\n",
    "        \"    Row {\\n\"\n",
    "        \"        anchors.centerIn: parent\\n\"\n",
    "        \"        Button {\\n\"\n",
    "        \"            text: \\\"Button 1\\\"\\n\"\n",
    "        \"            onClicked: { console.log(\\\"Button 1 clicked\\\") }\\n\"\n",
    "        \"        }\\n\"\n",
    "        \"    }\\n\"\n",
    "        \"}\\n\";\n",
    "\n",
    "    // Create QML engine and component\n",
    "    QQmlEngine engine;\n",
    "    QQmlComponent component(&engine);\n",
    "    component.setData(qmlString.toUtf8(), QUrl());\n",
    "\n",
    "    // Check for errors\n",
    "    if (component.isError()) {\n",
    "        qDebug() << \"Error loading QML:\" << component.errorString();\n",
    "        return 1;\n",
    "    }\n",
    "\n",
    "    // Create the QQuickItem\n",
    "    QQuickItem *item = qobject_cast<QQuickItem*>(component.create());\n",
    "    if (!item) {\n",
    "        qDebug() << \"Error creating QQuickItem\";\n",
    "        return 1;\n",
    "    }\n",
    "\n",
    "    // Create a QQuickWidget to host the QQuickItem\n",
    "    QQuickWidget *quickWidget = new QQuickWidget;\n",
    "    quickWidget->setResizeMode(QQuickWidget::SizeRootObjectToView);\n",
    "    quickWidget->setSource(QUrl(\"data:text/plain,\" + qmlString)); //Alternative to using setData on component\n",
    "\n",
    "    //Create main widget and layout\n",
    "    QWidget *mainWindow = new QWidget;\n",
    "    QVBoxLayout *layout = new QVBoxLayout(mainWindow);\n",
    "    \n",
    "    // Add the QQuickWidget to the layout\n",
    "    layout->addWidget(quickWidget);\n",
    "    mainWindow->setLayout(layout);\n",
    "    mainWindow->show();\n",
    "\n",
    "    return app.exec();\n",
    "}\n",
    "\n"
   ]
  },
  {
   "cell_type": "code",
   "execution_count": null,
   "metadata": {
    "vscode": {
     "languageId": "cpp"
    }
   },
   "outputs": [],
   "source": []
  }
 ],
 "metadata": {
  "language_info": {
   "name": "python"
  }
 },
 "nbformat": 4,
 "nbformat_minor": 2
}
