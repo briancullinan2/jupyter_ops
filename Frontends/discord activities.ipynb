{
 "cells": [
  {
   "cell_type": "markdown",
   "metadata": {},
   "source": [
    "\n",
    "# Discord Activities\n"
   ]
  },
  {
   "cell_type": "markdown",
   "metadata": {},
   "source": [
    "\n",
    "## Client Code\n"
   ]
  },
  {
   "cell_type": "markdown",
   "metadata": {},
   "source": [
    "\n",
    "### Override Links\n",
    "\n",
    "In Discord client, the links have to use window.parent.postMessage in order to open external links otherwise the client closes on mobile, this is to prevent the client from being used in phishing attempts redirecting users to nefarious websites. Instead all web traffic goes through Discord's servers.\n",
    "\n"
   ]
  },
  {
   "cell_type": "markdown",
   "metadata": {},
   "source": [
    "\n",
    "#### the code\n",
    "\n",
    "discord client code?\n"
   ]
  },
  {
   "cell_type": "code",
   "execution_count": null,
   "metadata": {
    "vscode": {
     "languageId": "javascript"
    }
   },
   "outputs": [],
   "source": [
    "\n",
    "let code\n",
    "let userId\n",
    "\n",
    "function sourceWindow() {\n",
    "  return (window.parent.opener || window.parent)\n",
    "}\n",
    "\n",
    "document.addEventListener('click', async (evt) => {\n",
    "  if(evt.target.tagName == 'A' && evt.target.getAttribute('href').includes('://')) {\n",
    "    debugger\n",
    "\n",
    "\n",
    "    sourceWindow().postMessage([1, {\n",
    "      cmd: 'OPEN_EXTERNAL_LINK', \n",
    "      args: {url: evt.target.href}, \n",
    "      nonce: Math.random() * 1000,\n",
    "      transfer: void 0\n",
    "    }], '*')\n",
    "\n",
    "    evt.preventDefault()\n",
    "    return false\n",
    "  }\n",
    "\n",
    "  if(evt.target.tagName == 'A' && evt.target.getAttribute('href').includes('/.proxy/')) {\n",
    "    const loggedInResponse = await fetch(evt.target.getAttribute('href'))\n",
    "    const newContent = await loggedInResponse.text()\n",
    "    //if(!newContent.includes('Cannot GET'))\n",
    "    document.body.innerHTML = newContent.replace(/<\\/?html>/gi, '')\n",
    "                                        .replace(/<script.*?>[\\s\\S]*?<\\/script>/gi, '');\n",
    "  }\n",
    "  return true\n",
    "})\n",
    "\n",
    "let result = {}\n",
    "let params = (window.location.search.split('?')[1] || '').split('&')\n",
    "for(var param in params) {\n",
    "  if (params.hasOwnProperty(param)) {\n",
    "    let paramParts = params[param].split('=')\n",
    "    result[paramParts[0]] = decodeURIComponent(paramParts[1] || \"\")\n",
    "  }\n",
    "}\n",
    "\n",
    "document.addEventListener(\"DOMContentLoaded\", (event) => {\n",
    "\n",
    "  debugger\n",
    "\n",
    "  if(typeof result.frame_id == 'undefined') {\n",
    "    return\n",
    "  }\n",
    "\n",
    "})\n"
   ]
  },
  {
   "cell_type": "markdown",
   "metadata": {},
   "source": [
    "\n",
    "### Authorize Code\n",
    "\n",
    "Mostly from the documentation and watching another successful app make the connection. Basic steps are say hello, dispatch events, authorize, then authenticate. Because it's using my server as a token proxy, I'm also validating the user_id server side and offering logged in users extra features.\n",
    "\n"
   ]
  },
  {
   "cell_type": "markdown",
   "metadata": {},
   "source": [
    "\n",
    "#### the code\n",
    "\n",
    "discord client auth code?\n"
   ]
  },
  {
   "cell_type": "code",
   "execution_count": null,
   "metadata": {
    "vscode": {
     "languageId": "javascript"
    }
   },
   "outputs": [],
   "source": [
    "\n",
    "let expiry\n",
    "let result\n",
    "let initNonce = Math.round(Math.random() * 1000)\n",
    "\n",
    "window.addEventListener('message', async (evt) => {\n",
    "\n",
    "  document.querySelector('h1').innerHTML = '<pre>' + JSON.stringify(evt.data, null, 2) + '</pre>'\n",
    "\n",
    "  const sourceWindow = () => {\n",
    "    return (window.parent.opener || window.parent)\n",
    "  }\n",
    "\n",
    "  if(evt.data[0] == 3 && typeof evt.data[1].frame_id != 'undefined') {\n",
    "\n",
    "    result = evt.data[1] // get it from page init instead of query params\n",
    "    // send handshake\n",
    "    sourceWindow().postMessage([0, {\n",
    "      v: 1,\n",
    "      encoding: 'json',\n",
    "      client_id: '{CLIENT_ID}',\n",
    "      frame_id: evt.data[1].frame_id,\n",
    "      nonce: initNonce,\n",
    "      transfer: void 0\n",
    "    }], 'https://discord.com' || '*')\n",
    "  }\n",
    "\n",
    "  if(evt.data[0] == 1 && evt.data[1].cmd == 'DISPATCH') {\n",
    "\n",
    "    // start authorization chain\n",
    "    sourceWindow().postMessage([1, {\n",
    "      cmd: 'AUTHORIZE',\n",
    "      args: {\n",
    "        client_id: '{CLIENT_ID}',\n",
    "        prompt: 'none',\n",
    "        response_type: 'code',\n",
    "        scope: ['applications.commands', 'identify', 'guilds.members.read', 'rpc.activities.write'],\n",
    "        state: '',\n",
    "      },\n",
    "      nonce: Math.random() * 1000,\n",
    "      transfer: void 0\n",
    "    }], 'https://discord.com' || '*')\n",
    "\n",
    "  }\n",
    "\n",
    "  if(evt.data[1].cmd == 'AUTHORIZE') {\n",
    "    code = evt.data[1].data.code\n",
    "\n",
    "    const response = await fetch(\"{BASE_URI}api/token\", {\n",
    "      method: \"POST\",\n",
    "      headers: {\n",
    "        \"Content-Type\": \"application/json\",\n",
    "      },\n",
    "      credentials: 'same-origin',\n",
    "      body: JSON.stringify({\n",
    "        code,\n",
    "        launch_id: result.launch_id,\n",
    "        frame_id: result.frame_id,\n",
    "      }),\n",
    "    });\n",
    "    const { access_token, expires_in, session_id } = await response.json();\n",
    "    window.session_id = session_id\n",
    "    \n",
    "    debugger\n",
    "\n",
    "    // TODO: take authenticate commands\n",
    "  \n",
    "    sourceWindow().postMessage([1, {\n",
    "      cmd: 'AUTHENTICATE',\n",
    "      args: {\n",
    "        access_token: access_token\n",
    "      },\n",
    "      nonce: Math.random() * 1000,\n",
    "      transfer: void 0\n",
    "    }], 'https://discord.com' || '*')\n",
    "\n",
    "    expiry = Date.now() + expires_in\n",
    "  }\n",
    "\n",
    "  if(evt.data[1].cmd == 'AUTHENTICATE') {\n",
    "    // TODO: some authenticated page update\n",
    "    // trying to solve the cookie problem\n",
    "    if(window.session_id)\n",
    "      window.location = '{BASE_URI}?t=' + Date.now() + '&session=' + window.session_id\n",
    "  }\n",
    "})\n",
    "\n"
   ]
  },
  {
   "cell_type": "markdown",
   "metadata": {},
   "source": [
    "\n",
    "## Activity Server\n",
    "\n"
   ]
  },
  {
   "cell_type": "markdown",
   "metadata": {},
   "source": [
    "\n",
    "### Start Express\n",
    "\n",
    "this should be replaced by code in discord remote and discord player with the correct routes handled.\n"
   ]
  },
  {
   "cell_type": "markdown",
   "metadata": {},
   "source": [
    "\n",
    "#### the code\n",
    "\n",
    "start activity server?\n"
   ]
  },
  {
   "cell_type": "code",
   "execution_count": null,
   "metadata": {
    "vscode": {
     "languageId": "javascript"
    }
   },
   "outputs": [],
   "source": [
    "const {\n",
    "  registerCommand, getCommands, deleteCommand, updateCommand\n",
    "} = importer.import('discord api')\n",
    "const {interactionsCommands} = importer.import('discord gateway')\n",
    "//const {discordExpress, closeExpress, getInstance} = importer.import('discord express server')\n",
    "\n",
    "const ALL_COMMANDS = [\n",
    "  'launch',\n",
    "]\n",
    "\n",
    "// bot commands using new API, same names as above but lower-case\n",
    "async function activityCommands(guildId = null) {\n",
    "  var cmd, cmdDef\n",
    "  var commandResult = await getCommands(guildId)\n",
    "  var commands = commandResult.map(command => command.name)\n",
    "\n",
    "  interactionsCommands['startActivity'] = discordExpress\n",
    "  interactionsCommands['endActivity'] = closeExpress\n",
    "\n",
    "  cmdDef = {\n",
    "    'name': 'launch',\n",
    "    'description': 'Launch an activity',\n",
    "    'type': 4,\n",
    "    'handler': 2,\n",
    "  }\n",
    "  if(!commands.includes('launch')) {\n",
    "    await registerCommand(cmdDef, null, guildId)\n",
    "  } else {\n",
    "    cmd = commandResult.filter(c => c.name == 'launch')[0]\n",
    "    if(cmdDef.name != cmd.name || cmdDef.description != cmd.description)\n",
    "      await updateCommand(cmdDef, null, cmd.id, guildId)\n",
    "  }\n",
    "\n",
    "  var toRemove = commandResult.filter(c => !ALL_COMMANDS.includes(c.name))\n",
    "  for(var i = 0; i < toRemove.length; i++) {\n",
    "    await deleteCommand(toRemove[i].id, guildId)\n",
    "  }\n",
    "\n",
    "  return await getCommands()\n",
    "}\n",
    "\n",
    "module.exports = activityCommands\n",
    "\n"
   ]
  },
  {
   "cell_type": "markdown",
   "metadata": {},
   "source": [
    "\n",
    "check discord commands?\n"
   ]
  },
  {
   "cell_type": "code",
   "execution_count": null,
   "metadata": {
    "vscode": {
     "languageId": "javascript"
    }
   },
   "outputs": [],
   "source": [
    "\n",
    "const {getCommands} = importer.import('discord api')\n",
    "\n",
    "module.exports = getCommands\n"
   ]
  },
  {
   "cell_type": "markdown",
   "metadata": {},
   "source": [
    "\n",
    "### All Bots\n",
    "\n",
    "A list of a bot start ups with formulated environments and launch commands.\n"
   ]
  },
  {
   "cell_type": "markdown",
   "metadata": {},
   "source": [
    "\n",
    "#### the code\n",
    "\n",
    "start a bunch of discord services?\n"
   ]
  },
  {
   "cell_type": "code",
   "execution_count": null,
   "metadata": {
    "vscode": {
     "languageId": "javascript"
    }
   },
   "outputs": [],
   "source": [
    "const {spawn, spawnSync} = require(\"child_process\");\n",
    "const path = require('path')\n",
    "\n",
    "const DISCORD_SERVICES = [\n",
    "  void 0,\n",
    "  void 0, // TODO: Orbb bot\n",
    "  'discord mid journey commands',\n",
    "  'sync deceptive chat',\n",
    "  'sync discord llm tools',\n",
    "  'discord handy tools',\n",
    "  'discord remote control',\n",
    "  'discord music player',\n",
    "]\n",
    "\n",
    "const APPLICATION_IDS = [\n",
    "  void 0,\n",
    "  void 0,\n",
    "  '1335464182111535124',\n",
    "  '1335472379232780401',\n",
    "  '1335479586858733568',\n",
    "  '1335483072602177626',\n",
    "  '1335491680630997034',\n",
    "  '1335769252409380884',\n",
    "]\n",
    "\n",
    "const ENVIRONMENTS = [\n",
    "  void 0,\n",
    "  void 0,\n",
    "  void 0,\n",
    "  void 0,\n",
    "  void 0,\n",
    "  void 0,\n",
    "  void 0,\n",
    "]\n",
    "\n",
    "function launchDiscord(botIndex = 0) {\n",
    "\n",
    "  if(parseInt(botIndex).toString() != botIndex.toString()) {\n",
    "    return\n",
    "  } else {\n",
    "    botIndex = parseInt(botIndex)\n",
    "  }\n",
    "\n",
    "  if(typeof botIndex != 'number' && !botIndex) {\n",
    "    return\n",
    "  }\n",
    "\n",
    "  for(let i = botIndex; i < DISCORD_SERVICES.length; i++) {\n",
    "    if(!DISCORD_SERVICES[i]) {\n",
    "      continue\n",
    "    }\n",
    "\n",
    "    spawn('node', ['--experimental-vm-modules', '-e', 'var result = require(\\'./Core\\').run()', '--', DISCORD_SERVICES[i]], {\n",
    "      env: Object.assign({}, process.env, {\n",
    "        TOKENPATH: '/Users/briancullinan/.credentials/discord-bot' + (i ? i : '') + '.txt',\n",
    "        SECRETPATH: '/Users/briancullinan/.credentials/discord' + (i ? i : '') + '.txt',\n",
    "        DEFAULT_APPLICATION: APPLICATION_IDS[i]\n",
    "      }, ENVIRONMENTS[i] ? ENVIRONMENTS[i] : {}),\n",
    "      stdio: [0, 1, 2],\n",
    "      //detached: true,\n",
    "      //shell: true,\n",
    "      cwd: path.dirname(__dirname)\n",
    "    })\n",
    "  \n",
    "    if(botIndex) {\n",
    "      break\n",
    "    }\n",
    "  }\n",
    "}\n",
    "\n",
    "module.exports = launchDiscord\n"
   ]
  },
  {
   "cell_type": "markdown",
   "metadata": {},
   "source": [
    "\n",
    "### Express Authenticator\n",
    "\n",
    "Authenticate a page using the passed in session query parameter. This is vulnerable to man in the middle attacks because it goes through Discord proxy. Somebody knows.\n"
   ]
  },
  {
   "cell_type": "markdown",
   "metadata": {},
   "source": [
    "\n",
    "#### the code\n",
    "\n",
    "discord authenticate instances?\n"
   ]
  },
  {
   "cell_type": "code",
   "execution_count": null,
   "metadata": {
    "vscode": {
     "languageId": "javascript"
    }
   },
   "outputs": [],
   "source": [
    "const {INSTANCES, SESSIONS} = importer.import('discord gateway')\n",
    "\n",
    "const ALLOWED_USERS = [\n",
    "  '1019970191603544164'\n",
    "]\n",
    "\n",
    "async function authenticateRoute(req, res, next) {\n",
    "  var url_parts = url.parse(req.url, true);\n",
    "  var query = url_parts.query;\n",
    "  //console.log(query, SESSIONS, query.session && typeof SESSIONS[query.session] != 'undefined' \n",
    "  //  && ALLOWED_USERS.includes(SESSIONS[query.session]))\n",
    "  if(query.session && typeof SESSIONS[query.session] != 'undefined' \n",
    "    && ALLOWED_USERS.includes(SESSIONS[query.session])) {\n",
    "    req.authenticated = query.session\n",
    "    return next()\n",
    "  }\n",
    "\n",
    "  // TODO: check if the user is in fact apart of the activity\n",
    "  req.authenticated = false\n",
    "\n",
    "  return next()\n",
    "}\n",
    "\n",
    "\n",
    "module.exports = {\n",
    "  //registerInstance,\n",
    "  authenticateRoute,\n",
    "  INSTANCES,\n",
    "  SESSIONS,\n",
    "  \n",
    "}\n"
   ]
  },
  {
   "cell_type": "markdown",
   "metadata": {},
   "source": [
    "\n",
    "### Token Checkout\n",
    "\n",
    "Get a token from discord through this application. This is how the SECRET is kept secret from clients, but there's an option in Discord for that scenario too. This turns my application into a Discord JWT client within the webframe embedded inside the Discord app.\n",
    "\n"
   ]
  },
  {
   "cell_type": "markdown",
   "metadata": {},
   "source": [
    "#### the code\n",
    "\n",
    "\n",
    "discord express token endpoint?\n"
   ]
  },
  {
   "cell_type": "code",
   "execution_count": null,
   "metadata": {
    "vscode": {
     "languageId": "javascript"
    }
   },
   "outputs": [],
   "source": [
    "const {INSTANCES, SESSIONS} = importer.import('discord gateway')\n",
    "const {request} = require('gaxios')\n",
    "const qs = require('qs');\n",
    "const {DEFAULT_API, SECRET, TOKEN, DEFAULT_APPLICATION} = importer.import('discord configuration')\n",
    "var crypto = require('crypto')\n",
    "\n",
    "async function getToken(req, res, next) {\n",
    "  //console.log(req.body)\n",
    "  let result = await request({\n",
    "    url: DEFAULT_API + 'oauth2/token',\n",
    "    method: 'POST',\n",
    "    headers: {\n",
    "      'Content-Type': 'application/x-www-form-urlencoded',\n",
    "      //'Authorization': 'Bot ' + TOKEN\n",
    "    },\n",
    "    data: qs.stringify({\n",
    "      client_id: DEFAULT_APPLICATION,\n",
    "      client_secret: SECRET,\n",
    "      grant_type: 'authorization_code',\n",
    "\t\t\tcode: req.body.code,\n",
    "\t\t})\n",
    "  })\n",
    "\n",
    "  let expiry = new Date(Date.now() + result.data.expires_in)\n",
    "\n",
    "  if(typeof req.body['launch_id'] != 'undefined' \n",
    "    && typeof req.body['frame_id'] != 'undefined')\n",
    "  {\n",
    "    let userResult = await request({\n",
    "      method: 'GET',\n",
    "      url: DEFAULT_API + `oauth2/@me`,\n",
    "      headers: {\n",
    "        'Authorization': 'Bearer ' + result.data.access_token\n",
    "      }\n",
    "    })\n",
    "\n",
    "    // TODO: group permissions\n",
    "\n",
    "    if(typeof INSTANCES[req.body['launch_id']] == 'undefined') {\n",
    "      INSTANCES[req.body['launch_id']] = []\n",
    "    }\n",
    "    INSTANCES[req.body['launch_id']].push([userResult.data.user.id, req.body['frame_id']])\n",
    "    console.log(INSTANCES)\n",
    "\n",
    "    // generate nonce for client to use on future commands to authenticate with our server quickly instead of relying on cookies\n",
    "    result.data.session_id = crypto.randomBytes(16).toString('hex')\n",
    "    SESSIONS[result.data.session_id] = userResult.data.user.id\n",
    "\n",
    "    res.cookie('discord_bot_session', userResult.data.user.id, {\n",
    "      path: '/.proxy/',\n",
    "      expires: expiry\n",
    "    })\n",
    "    res.cookie('discord_bot_frame', req.body['frame_id'], { \n",
    "      path: '/.proxy/',\n",
    "      expires: expiry\n",
    "    })\n",
    "  }\n",
    "\n",
    "  res.cookie('discord_bot_expiry', Date.now() + result.data.expires_in, { \n",
    "    path: '/.proxy/',\n",
    "    expires: expiry\n",
    "  })\n",
    "  res.setHeader('Content-Type', 'application/json')\n",
    "  return res.send(JSON.stringify(result.data))\n",
    "}\n",
    "\n",
    "module.exports = getToken\n"
   ]
  }
 ],
 "metadata": {
  "language_info": {
   "name": "python"
  }
 },
 "nbformat": 4,
 "nbformat_minor": 2
}
