{
 "cells": [
  {
   "cell_type": "markdown",
   "metadata": {},
   "source": [
    "\n",
    "grafana llm service?\n"
   ]
  },
  {
   "cell_type": "code",
   "execution_count": null,
   "metadata": {
    "vscode": {
     "languageId": "javascript"
    }
   },
   "outputs": [],
   "source": [
    "const {Remarkable} = require('remarkable')\n",
    "const md = new Remarkable({html: true, xhtmlOut: true, breaks: true})\n",
    "\n",
    "const express = require('express')\n",
    "const cors = require('cors')\n",
    "\n",
    "\n",
    "let initialChatHistory\n",
    "let session\n",
    "async function handleRequest(req, res) {\n",
    "  if(!session) {\n",
    "    const {createSession} = await importer.import('llama vision')\n",
    "    session = await createSession(process.env.DEFAULT_MODEL || 'gemma-3-27b-it-Q6_K.gguf', req.body.messages[0].content)\n",
    "    initialChatHistory = session.getChatHistory();\n",
    "  }\n",
    "\n",
    "  if(req.body.messages && req.body.messages.length) {\n",
    "    req.body.message = req.body.messages[req.body.messages.length-1].content\n",
    "  }\n",
    "\n",
    "  console.log('User: ' + (req.body.content || req.body.message))\n",
    "  let result = await session.prompt(req.body.content || req.body.message, {\n",
    "    //temperature: temperature,\n",
    "    onTextChunk: function (text) {\n",
    "      process.stdout.write(text)\n",
    "    }\n",
    "  })\n",
    "\n",
    "  console.log('AI: ' + result)\n",
    "  session.setChatHistory(initialChatHistory)\n",
    "\n",
    "  let code = result.matchAll(/```(json|bash|javascript|code|markdown)*\\n[\\s\\S]*?\\n*```/gi)\n",
    "  if(code) {\n",
    "    result = result.replaceAll(/^```(json|bash|javascript|code|markdown)\\n*|\\n*```\\s*$/gi, '')\n",
    "  }\n",
    "\n",
    "\n",
    "  if(req.headers.accept == 'application/json') {\n",
    "    return res.json({ content: result, object: result });\n",
    "  }\n",
    "  const mdHtml = md.render(result)\n",
    "  return res.send(mdHtml)\n",
    "}\n",
    "\n",
    "async function startServer() {\n",
    "  var app = express()\n",
    "  app.use(cors({\n",
    "    credentials: true,\n",
    "    origin: '*' \n",
    "  }))\n",
    "  app.use(express.json({ limit: '20mb' }))\n",
    "  app.post('/', handleRequest)\n",
    "  app.post('/v1/chat/completions', handleRequest)\n",
    "\n",
    "  let port = process.env.CHAT_PORT || 9393\n",
    "  app.listen(port, () => console.log('Listening on http://localhost:' + port))\n",
    "}\n",
    "\n",
    "module.exports = startServer\n"
   ]
  }
 ],
 "metadata": {
  "language_info": {
   "name": "python"
  }
 },
 "nbformat": 4,
 "nbformat_minor": 2
}
