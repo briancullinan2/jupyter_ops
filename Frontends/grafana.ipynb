{
 "cells": [
  {
   "cell_type": "markdown",
   "metadata": {},
   "source": [
    "\n",
    "grafana llm service?\n"
   ]
  },
  {
   "cell_type": "code",
   "execution_count": null,
   "metadata": {
    "vscode": {
     "languageId": "javascript"
    }
   },
   "outputs": [],
   "source": [
    "const { Remarkable } = require('remarkable')\n",
    "const md = new Remarkable({ html: true, xhtmlOut: true, breaks: true })\n",
    "\n",
    "const express = require('express')\n",
    "const cors = require('cors')\n",
    "const crypto = require('crypto');\n",
    "\n",
    "function generateHash(data, algorithm = 'sha256', encoding = 'hex') {\n",
    "  const hash = crypto.createHash(algorithm);\n",
    "  hash.update(data);\n",
    "  return hash.digest(encoding);\n",
    "}\n",
    "\n",
    "let TIMEOUT = 15 * 1000\n",
    "let initialChatHistory\n",
    "let session\n",
    "let hashes = [\n",
    "\n",
    "]\n",
    "async function handleRequest(req, res) {\n",
    "  if (!session) {\n",
    "    const { createSession } = await importer.import('llama vision')\n",
    "    session = await createSession(process.env.DEFAULT_MODEL || 'gemma-3-27b-it-Q6_K.gguf', req.body.messages[0].content)\n",
    "    initialChatHistory = session.getChatHistory();\n",
    "  }\n",
    "\n",
    "  let start = Date.now()\n",
    "\n",
    "  if (req.body.messages && req.body.messages.length) {\n",
    "    req.body.message = req.body.messages[req.body.messages.length - 1].content\n",
    "  }\n",
    "\n",
    "  res.set('Connection', 'keep-alive');\n",
    "  res.set('Keep-Alive', 'timeout=' + (TIMEOUT / 1000) + ', max=' + (TIMEOUT / 1000))\n",
    "\n",
    "  let hash = generateHash(req.body.content || req.body.message)\n",
    "  if (typeof hashes[hash] != 'undefined') {\n",
    "    await new Promise(resolve => setTimeout(resolve, TIMEOUT - 5)) // make client wait for requesting\n",
    "    return res.json(hashes[hash])\n",
    "  }\n",
    "  console.log('User: ' + (req.body.content || req.body.message))\n",
    "  let result = await session.prompt(req.body.content || req.body.message, {\n",
    "    //temperature: temperature,\n",
    "    onTextChunk: function (text) {\n",
    "      process.stdout.write(text)\n",
    "      if (typeof hashes[hash] == 'undefined' && start + TIMEOUT - 5 < Date.now()) {\n",
    "        hashes[hash] = { \"id\": \"resp_\" + hash, \"status\": \"pending\" }\n",
    "        res.json(hashes[hash])\n",
    "      }\n",
    "    }\n",
    "  })\n",
    "\n",
    "  console.log('AI: ' + result)\n",
    "  session.setChatHistory(initialChatHistory)\n",
    "\n",
    "  let code = result.matchAll(/```(json|bash|javascript|code|markdown)*\\n[\\s\\S]*?\\n*```/gi)\n",
    "  if (code) {\n",
    "    result = result.replaceAll(/^```(json|bash|javascript|code|markdown)\\n*|\\n*```\\s*$/gi, '')\n",
    "  }\n",
    "\n",
    "  if (typeof hashes[hash] != 'undefined') {\n",
    "    hashes[hash] = { content: result, object: result }\n",
    "    return\n",
    "  }\n",
    "\n",
    "  if (req.headers.accept == 'application/json') {\n",
    "    return res.json({ content: result, object: result });\n",
    "  }\n",
    "  const mdHtml = md.render(result)\n",
    "  return res.send(mdHtml)\n",
    "}\n",
    "\n",
    "async function startServer() {\n",
    "  var app = express()\n",
    "  app.use(cors({\n",
    "    credentials: true,\n",
    "    origin: '*'\n",
    "  }))\n",
    "  app.use(express.json({ limit: '20mb' }))\n",
    "  app.post('/', handleRequest)\n",
    "  app.post('/v1/chat/completions', handleRequest)\n",
    "\n",
    "  let port = process.env.CHAT_PORT || 9393\n",
    "  let server = app.listen(port, () => console.log('Listening on http://localhost:' + port))\n",
    "  server.keepAliveTimeout = TIMEOUT;\n",
    "  server.headersTimeout = TIMEOUT;\n",
    "}\n",
    "\n",
    "module.exports = startServer\n"
   ]
  },
  {
   "cell_type": "markdown",
   "metadata": {},
   "source": [
    "TODO: make a metrics for prometheus and logging for loki output\n",
    "\n",
    "spread the console format like [service][debug] message throughout the notebooks\n",
    "\n",
    "log by replacing console.log in services by importing constants from logging service\n",
    "\n"
   ]
  },
  {
   "cell_type": "code",
   "execution_count": null,
   "metadata": {
    "vscode": {
     "languageId": "javascript"
    }
   },
   "outputs": [],
   "source": []
  }
 ],
 "metadata": {
  "language_info": {
   "name": "python"
  }
 },
 "nbformat": 4,
 "nbformat_minor": 2
}
