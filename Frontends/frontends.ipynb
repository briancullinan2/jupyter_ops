{
 "cells": [
  {
   "cell_type": "markdown",
   "metadata": {},
   "source": [
    "\n",
    "start a bunch of front end services?\n"
   ]
  },
  {
   "cell_type": "code",
   "execution_count": null,
   "metadata": {
    "vscode": {
     "languageId": "javascript"
    }
   },
   "outputs": [],
   "source": [
    "\n",
    "const {spawn, spawnSync} = require(\"child_process\");\n",
    "const path = require('path')\n",
    "\n",
    "const HOMEPATH = process.env.HOME || process.env.HOMEPATH || process.env.USERPROFILE\n",
    "\n",
    "const COMMANDS = [\n",
    "  ['node', '--experimental-vm-modules', '-e', 'var result = require(\\'./Core\\').run()', '--', 'start a bunch of llm rpc services'],\n",
    "  ['node', '--experimental-vm-modules', '-e', 'var result = require(\\'./Core\\').run()', '--', 'start a bunch of discord services'],\n",
    "  ['cloudflared', 'tunnel', 'run', '64d274ab-b0a4-4ef0-9636-e623dd02ac5c'],\n",
    "  [path.join(HOMEPATH, 'stable-diffusion-webui', './webui.sh')],\n",
    "  ['ollama', 'run', 'llama3.2-vision'],\n",
    "  ['node', '--experimental-vm-modules', '-e', 'var result = require(\\'./Core\\').run()', '--', 'linkedin service'],\n",
    "  //['node', '--experimental-vm-modules', '-e', 'var result = require(\\'./Core\\').run()', '--', 'github service'],\n",
    "]\n",
    "\n",
    "const ENVIRONMENTS = [\n",
    "  {},\n",
    "  {},\n",
    "  {},\n",
    "  {},\n",
    "  {},\n",
    "  {\n",
    "    // for emailing\n",
    "    ADMIN_USER: 'megamindbrian',\n",
    "    ADMIN_PASS: JSON.parse(fs.readFileSync(path.join(HOMEPATH, '.credentials', 'google-secret.json')))\n",
    "  },\n",
    "  //{},\n",
    "]\n",
    "\n",
    "function launchChats(botIndex = 0) {\n",
    "\n",
    "  if(parseInt(botIndex).toString() != botIndex.toString()) {\n",
    "    return\n",
    "  } else {\n",
    "    botIndex = parseInt(botIndex)\n",
    "  }\n",
    "\n",
    "  if(typeof botIndex != 'number' && !botIndex) {\n",
    "    return\n",
    "  }\n",
    "\n",
    "  for(let i = botIndex; i < ENVIRONMENTS.length; i++) {\n",
    "    if(!ENVIRONMENTS[i] || !COMMANDS[i]) {\n",
    "      continue\n",
    "    }\n",
    "\n",
    "    spawn(COMMANDS[i][0], COMMANDS[i].slice(1), {\n",
    "      env: Object.assign({}, process.env, ENVIRONMENTS[i] ? ENVIRONMENTS[i] : {}),\n",
    "      stdio: [0, 1, 2],\n",
    "      //detached: true,\n",
    "      //shell: true,\n",
    "      cwd: ENVIRONMENTS[i].CWD || path.dirname(__dirname)\n",
    "    })\n",
    "\n",
    "    if(botIndex) {\n",
    "      break\n",
    "    }\n",
    "  }\n",
    "}\n",
    "\n",
    "module.exports = launchChats\n",
    "\n"
   ]
  },
  {
   "cell_type": "markdown",
   "metadata": {},
   "source": []
  },
  {
   "cell_type": "code",
   "execution_count": null,
   "metadata": {
    "vscode": {
     "languageId": "javascript"
    }
   },
   "outputs": [],
   "source": []
  }
 ],
 "metadata": {
  "language_info": {
   "name": "python"
  }
 },
 "nbformat": 4,
 "nbformat_minor": 2
}
