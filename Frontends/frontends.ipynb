{
 "cells": [
  {
   "cell_type": "markdown",
   "metadata": {},
   "source": [
    "\n",
    "start a bunch of front end services?\n"
   ]
  },
  {
   "cell_type": "code",
   "execution_count": null,
   "metadata": {
    "vscode": {
     "languageId": "javascript"
    }
   },
   "outputs": [],
   "source": [
    "\n",
    "const {spawn} = require(\"child_process\");\n",
    "const path = require('path')\n",
    "\n",
    "const HOMEPATH = process.env.HOME || process.env.HOMEPATH || process.env.USERPROFILE\n",
    "\n",
    "const COMMANDS = [\n",
    "  ['node', '--experimental-vm-modules', '-e', 'var result = require(\\'./Core\\').run()', '--', 'start a bunch of llm rpc services'],\n",
    "  ['node', '--experimental-vm-modules', '-e', 'var result = require(\\'./Core\\').run()', '--', 'start a bunch of discord services'],\n",
    "  ['cloudflared', 'tunnel', 'run', '64d274ab-b0a4-4ef0-9636-e623dd02ac5c'],\n",
    "  [path.join(HOMEPATH, 'stable-diffusion-webui', './webui.sh')],\n",
    "  ['ollama', 'run', 'llama3.2-vision'],\n",
    "  ['node', '--experimental-vm-modules', '-e', 'var result = require(\\'./Core\\').run()', '--', 'express service', '--services=linkedin.ipynb'],\n",
    "  ['node', '--experimental-vm-modules', '-e', 'var result = require(\\'./Core\\').run()', '--', 'express service', '--services=git index.ipynb'],\n",
    "  ['node', '--experimental-vm-modules', '-e', 'var result = require(\\'./Core\\').run()', '--', 'notebook lint watcher'],\n",
    "]\n",
    "\n",
    "const ENVIRONMENTS = [\n",
    "  {\n",
    "    SERVICE_NAME: 'llm-rpc'\n",
    "  },\n",
    "  {\n",
    "    SERVICE_NAME: 'discord'\n",
    "  },\n",
    "  {\n",
    "    SERVICE_NAME: 'cloud-flared'\n",
    "  },\n",
    "  {\n",
    "    SERVICE_NAME: 'stable-webui'\n",
    "  },\n",
    "  {\n",
    "    SERVICE_NAME: 'ollama-vision'\n",
    "  },\n",
    "  {\n",
    "    // for emailing\n",
    "    SERVICE_NAME: 'linked-out',\n",
    "    ADMIN_USER: 'megamindbrian',\n",
    "    ADMIN_PASS: JSON.parse(fs.readFileSync(path.join(HOMEPATH, '.credentials', 'google-secret.json'))),\n",
    "    EXPRESS_PORT: 9191\n",
    "  },\n",
    "  {\n",
    "    SERVICE_NAME: 'github-clone',\n",
    "    EXPRESS_PORT: 9090\n",
    "  },\n",
    "  {\n",
    "    SERVICE_NAME: 'lint-watcher',\n",
    "  }\n",
    "]\n",
    "\n",
    "function launchChats(botIndex = 0) {\n",
    "\n",
    "  if(parseInt(botIndex).toString() != botIndex.toString()) {\n",
    "    return\n",
    "  } else {\n",
    "    botIndex = parseInt(botIndex)\n",
    "  }\n",
    "\n",
    "  if(typeof botIndex != 'number' && !botIndex) {\n",
    "    return\n",
    "  }\n",
    "\n",
    "  for(let i = botIndex; i < ENVIRONMENTS.length; i++) {\n",
    "    if(!ENVIRONMENTS[i] || !COMMANDS[i]) {\n",
    "      continue\n",
    "    }\n",
    "\n",
    "    let child = spawn(COMMANDS[i][0], COMMANDS[i].slice(1), {\n",
    "      env: Object.assign({}, process.env, ENVIRONMENTS[i] ? ENVIRONMENTS[i] : {}),\n",
    "      stdio: ['pipe', 'pipe', 'pipe'],\n",
    "      //detached: true,\n",
    "      //shell: true,\n",
    "      cwd: ENVIRONMENTS[i].CWD || path.dirname(__dirname)\n",
    "    })\n",
    "\n",
    "    child.stdout.on('data', (data) => console.log('[' + ENVIRONMENTS[i].SERVICE_NAME + ']', data.toString()))\n",
    "    child.stderr.on('data', (data) => console.error('[' + ENVIRONMENTS[i].SERVICE_NAME + ']', data.toString()))\n",
    "\n",
    "    if(botIndex) {\n",
    "      break\n",
    "    }\n",
    "  }\n",
    "}\n",
    "\n",
    "module.exports = launchChats\n",
    "\n"
   ]
  },
  {
   "cell_type": "markdown",
   "metadata": {},
   "source": []
  },
  {
   "cell_type": "code",
   "execution_count": null,
   "metadata": {
    "vscode": {
     "languageId": "javascript"
    }
   },
   "outputs": [],
   "source": []
  }
 ],
 "metadata": {
  "language_info": {
   "name": "python"
  }
 },
 "nbformat": 4,
 "nbformat_minor": 2
}
