{
 "cells": [
  {
   "cell_type": "markdown",
   "metadata": {},
   "source": [
    "\n",
    "# Quine\n",
    "\n",
    "https://github.com/mame/quine-relay\n",
    "\n",
    "https://en.wikipedia.org/wiki/Quine_(computing)\n",
    "\n",
    "inspiration from morpheus that produced a downloadable chrome plugin client side from it's own source code.\n",
    "\n"
   ]
  },
  {
   "cell_type": "code",
   "execution_count": null,
   "metadata": {
    "vscode": {
     "languageId": "plaintext"
    }
   },
   "outputs": [],
   "source": [
    "\n",
    "\n"
   ]
  },
  {
   "cell_type": "markdown",
   "metadata": {},
   "source": [
    "\n",
    "TODO: write services for injecting notebook services into other projects, and/or scaffoldings or things like electron, angular, react, flutter, etc\n",
    "\n"
   ]
  }
 ],
 "metadata": {
  "language_info": {
   "name": "python"
  }
 },
 "nbformat": 4,
 "nbformat_minor": 2
}
