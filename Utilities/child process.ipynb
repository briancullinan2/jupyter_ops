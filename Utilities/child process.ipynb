{
 "cells": [
  {
   "cell_type": "markdown",
   "metadata": {},
   "source": [
    "spawning child processes?\n",
    "\n",
    "spawn child process?\n"
   ]
  },
  {
   "cell_type": "code",
   "execution_count": null,
   "metadata": {
    "collapsed": true,
    "inputHidden": false,
    "outputHidden": false
   },
   "outputs": [],
   "source": [
    "var {exec} = require('child_process');\n",
    "var path = require('path');\n",
    "var importer = require('../Core');\n",
    "\n",
    "var multiline = process.platform === 'win32' ? '^\\n ' : '\\\\\\n ';\n",
    "var multicmd = process.platform === 'win32' ? ' ^\\n&& ' : ' \\\\\\n&& ';\n",
    "\n",
    "// read cmd template and execute each line?\n",
    "function bashToExec(code) {\n",
    "    return code\n",
    "        .split(/\\n/ig)\n",
    "        .map(l => '{EXEC} ' + l)\n",
    "        .join('\\n')\n",
    "        .replace(/\\\\((\\s*\\n)+\\{EXEC\\})+\\s*&&/ig, multicmd)\n",
    "        .replace(/\\\\((\\s*\\n)+\\{EXEC\\})+\\s*/ig, multiline);\n",
    "}\n",
    "\n",
    "function execCmd(script, options) {\n",
    "    if(typeof options == 'undefined') options = {}\n",
    "    // TODO: fix current working directory matching project name in the cwd: option\n",
    "    // add some run commands to the bash script\n",
    "    return importer.runAllPromises(\n",
    "        bashToExec(script)\n",
    "            .split(/\\s*\\{EXEC\\}\\s*/ig)\n",
    "            .filter(r => r.trim() !== '')\n",
    "            .map(r => (resolve, reject) => {\n",
    "                if(!options.quiet) console.log('spawning process ' + r)\n",
    "                const ps = exec(r.replace(/\\$[0-9]+/ig, i => process.argv[parseInt(i.substr(1))+1] || ''), Object.assign(options || {}, {maxBuffer: 1024 * 50000}),  (err, result) => {\n",
    "                    if (err) {\n",
    "                        return reject(err);\n",
    "                    }\n",
    "                    return resolve(result);\n",
    "                });\n",
    "                let errors = '';\n",
    "                let data = '';\n",
    "                ps.stderr.on('data', d => {\n",
    "                    if(!options.quiet) console.error(d);\n",
    "                    data += d;\n",
    "                });\n",
    "                ps.stdout.on('data', d => {\n",
    "                    if(!options.quiet) console.log(d);\n",
    "                    errors += d;\n",
    "                });\n",
    "                ps.on('exit', (code, signal) => {\n",
    "                    if(code > 0) {\n",
    "                        const err = new Error(`child process exited with code ${code} and signal ${signal}`);\n",
    "                        err.data = data + errors;\n",
    "                        reject(err);\n",
    "                    }\n",
    "                });\n",
    "            })\n",
    "    );\n",
    "};\n",
    "module.exports = execCmd;\n",
    "\n",
    "//        \"test\": \"concurrently --kill-others --success first \\\"mocha **/*.spec.js\\\" \\\"node ./zuora-eloqua-express-mock.js\\\" \",\n",
    " \n"
   ]
  },
  {
   "cell_type": "markdown",
   "metadata": {},
   "source": [
    "test child process?"
   ]
  },
  {
   "cell_type": "code",
   "execution_count": null,
   "metadata": {
    "collapsed": true,
    "inputHidden": false,
    "outputHidden": false
   },
   "outputs": [],
   "source": [
    "$$.async();\n",
    "describe(() => {\n",
    "    \n",
    "})\n",
    "execCmd(`ps -a`)\n",
    "    .then(r => $$.sendResult(r))\n",
    "    .catch(e => $$.sendError(e));\n",
    "\n"
   ]
  },
  {
   "cell_type": "markdown",
   "metadata": {},
   "source": [
    "convert bash to one liner?"
   ]
  },
  {
   "cell_type": "code",
   "execution_count": null,
   "metadata": {
    "collapsed": true,
    "inputHidden": false,
    "outputHidden": false
   },
   "outputs": [],
   "source": [
    "// read cmd template and execute each line?\n",
    "var multiline = process.platform === 'win32' ? '^\\n ' : '\\\\\\n ';\n",
    "var multicmd = process.platform === 'win32' ? ' ^\\n; ' : ' \\\\\\n&& ';\n",
    "\n",
    "function bashToOne(code) {\n",
    "    return code\n",
    "        .split(/\\n/ig)\n",
    "        .map(l => '{EXEC} ' + l)\n",
    "        .join('\\n')\n",
    "        .replace(/\\\\((\\s*\\n)+\\{EXEC\\})+\\s*&&/ig, multicmd)\n",
    "        .replace(/\\\\((\\s*\\n)+\\{EXEC\\})+/ig, multiline)\n",
    "        .split(/\\s*\\{EXEC\\}\\s*/ig)\n",
    "        .filter(r => r.trim() !== '')\n",
    "        .join(multicmd);\n",
    "}\n",
    "module.exports = bashToOne;\n"
   ]
  }
 ],
 "metadata": {
  "kernel_info": {
   "name": "node_nteract"
  },
  "kernelspec": {
   "display_name": "Javascript (Node.js)",
   "language": "javascript",
   "name": "javascript"
  },
  "language_info": {
   "file_extension": ".js",
   "mimetype": "application/javascript",
   "name": "javascript",
   "version": "12.7.0"
  }
 },
 "nbformat": 4,
 "nbformat_minor": 4
}
