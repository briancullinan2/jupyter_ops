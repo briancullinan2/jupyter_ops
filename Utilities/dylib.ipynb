{
 "cells": [
  {
   "cell_type": "markdown",
   "metadata": {},
   "source": [
    "\n",
    "include a dynamic lib?\n",
    "\n",
    "\n",
    "\n",
    "clang -g -O0 -fmodules -x objective-c -fno-objc-arc -c main.c -o main.o\n",
    "\n",
    "clang main.o -framework Cocoa -dynamiclib -rdynamic -o sog.dylib\n",
    "\n"
   ]
  },
  {
   "cell_type": "code",
   "execution_count": null,
   "metadata": {
    "vscode": {
     "languageId": "javascript"
    }
   },
   "outputs": [],
   "source": [
    "const {\n",
    "  equal\n",
    "} = require('assert')\n",
    "const {\n",
    "  load,\n",
    "  DataType,\n",
    "  open,\n",
    "  close,\n",
    "  arrayConstructor,\n",
    "  define\n",
    "} = require('ffi-rs')\n",
    "const path = require('path')\n",
    "const {platform} = require('os')\n",
    "const a = 1\n",
    "const b = 100\n",
    "const dynamicLib = platform === 'win32' ? '../sog.dll' : (platform === 'linux' ? '../sog.so' : '../sog.dylib')\n",
    "// First open dynamic library with key for close\n",
    "const IGNORE_PROGRAMS = [\n",
    "  'Window Server',\n",
    "  'Macs Fan Control',\n",
    "  'Control Center',\n",
    "  'Spotlight',\n",
    "  'Dock',\n",
    "  'SSMenuAgent',\n",
    "  'Menubar'\n",
    "]\n",
    "function enumWindows() {\n",
    "  // It only needs to be opened once.\n",
    "  open({\n",
    "    library: 'sog', // key\n",
    "    path: path.join(__dirname, dynamicLib) // path\n",
    "  })\n",
    "  const count = load({\n",
    "    library: \"sog\", // path to the dynamic library file\n",
    "    funcName: 'enumWindows', // the name of the function to call\n",
    "    retType: DataType.I32, // the return value type\n",
    "    paramsType: [], // the parameter types\n",
    "    paramsValue: [] // the actual parameter values\n",
    "    // freeResultMemory: true, // whether or not need to free the result of return value memory automatically, default is false\n",
    "  })\n",
    "  let windows = []\n",
    "  for(let i = 0; i < count; i++) {\n",
    "    const result = load({\n",
    "      library: \"sog\", // path to the dynamic library file\n",
    "      funcName: 'getTitle', // the name of the function to call\n",
    "      retType: DataType.String, // the return value type\n",
    "      paramsType: [DataType.I32], // the parameter types\n",
    "      paramsValue: [i] // the actual parameter values\n",
    "      // freeResultMemory: true, // whether or not need to free the result of return value memory automatically, default is false\n",
    "    })\n",
    "    windows.push(result.split(/:\\s/g)[1])\n",
    "  }\n",
    "  // Release library memory when you're not using it.\n",
    "  close('sog')\n",
    "  return windows.filter((a, i, arr) => arr.indexOf(a) == i && !IGNORE_PROGRAMS.includes(a))\n",
    "}\n",
    "\n",
    "module.exports = enumWindows\n"
   ]
  },
  {
   "cell_type": "markdown",
   "metadata": {},
   "source": []
  },
  {
   "cell_type": "code",
   "execution_count": null,
   "metadata": {
    "vscode": {
     "languageId": "javascript"
    }
   },
   "outputs": [],
   "source": [
    "\n",
    "// Use define function to define a function signature\n",
    "const res = define({\n",
    "  sum: {\n",
    "      library: \"libsum\",\n",
    "      retType: DataType.I32,\n",
    "      paramsType: [DataType.I32, DataType.I32],\n",
    "  },\n",
    "  atoi: {\n",
    "      library: \"libnative\",\n",
    "      retType: DataType.I32,\n",
    "      paramsType: [DataType.String],\n",
    "  }\n",
    "})\n",
    "equal(res.sum([1, 2]), 3)\n",
    "equal(res.atoi([\"1000\"]), 1000)\n"
   ]
  },
  {
   "cell_type": "markdown",
   "metadata": {},
   "source": [
    "\n",
    "move mouse\n"
   ]
  },
  {
   "cell_type": "code",
   "execution_count": null,
   "metadata": {
    "vscode": {
     "languageId": "javascript"
    }
   },
   "outputs": [],
   "source": [
    "const {\n",
    "  equal\n",
    "} = require('assert')\n",
    "const {\n",
    "  load,\n",
    "  DataType,\n",
    "  open,\n",
    "  close,\n",
    "  arrayConstructor,\n",
    "  define\n",
    "} = require('ffi-rs')\n",
    "const path = require('path')\n",
    "const {platform} = require('os')\n",
    "\n",
    "const dynamicLib = platform === 'win32' ? '../mouse.dll' : (platform === 'linux' ? '../mouse.so' : '../mouse.dylib')\n",
    "\n",
    "function moveMouse(x, y) {\n",
    "  open({\n",
    "    library: 'mouse', // key\n",
    "    path: path.join(__dirname, dynamicLib) // path\n",
    "  })\n",
    "  load({\n",
    "    library: \"mouse\", // path to the dynamic library file\n",
    "    funcName: 'SetMousePosition', // the name of the function to call\n",
    "    retType: DataType.Void, // the return value type\n",
    "    paramsType: [DataType.Float, DataType.Float], // the parameter types\n",
    "    paramsValue: [x || 0, y || 0] // the actual parameter values\n",
    "    // freeResultMemory: true, // whether or not need to free the result of return value memory automatically, default is false\n",
    "  })\n",
    "  close('mouse')\n",
    "}\n",
    "\n",
    "module.exports = moveMouse\n"
   ]
  },
  {
   "cell_type": "markdown",
   "metadata": {},
   "source": [
    "\n",
    "get c parameters?\n"
   ]
  },
  {
   "cell_type": "code",
   "execution_count": null,
   "metadata": {
    "vscode": {
     "languageId": "javascript"
    }
   },
   "outputs": [],
   "source": [
    "const selectCode = importer.import('select antlr tree')\n",
    "\n",
    "async function getParameters(code) {\n",
    "    var result = await (await selectCode)(['//functionDefinition', './declarator//declaratorid/@strdata'], code, 'cpp')\n",
    "    return result\n",
    "}\n",
    "\n",
    "module.exports = getParameters\n",
    "\n"
   ]
  },
  {
   "cell_type": "markdown",
   "metadata": {},
   "source": [
    "\n",
    "get c exports?\n"
   ]
  },
  {
   "cell_type": "code",
   "execution_count": null,
   "metadata": {
    "vscode": {
     "languageId": "javascript"
    }
   },
   "outputs": [],
   "source": [
    "const selectCode = importer.import('select antlr tree')\n",
    "\n",
    "async function getExports(code) {\n",
    "    var result = await (await selectCode)(['//functionDefinition', './declarator//declaratorid/@strdata'], code, 'cpp')\n",
    "    return result.map(e => typeof e == 'string' ? e : e[0])\n",
    "}\n",
    "\n",
    "module.exports = getExports\n",
    "\n"
   ]
  },
  {
   "cell_type": "markdown",
   "metadata": {},
   "source": [
    "\n",
    "get c types?\n"
   ]
  },
  {
   "cell_type": "code",
   "execution_count": null,
   "metadata": {
    "vscode": {
     "languageId": "javascript"
    }
   },
   "outputs": [],
   "source": [
    "const selectCode = importer.import('select antlr tree')\n",
    "\n",
    "async function getTypes(code, functionName) {\n",
    "    if(functionName) {\n",
    "        let result = await (await selectCode)(['(//functionDefinition[contains(.//declaratorid/@strdata, \"' + functionName + '\")]/declSpecifierSeq/declSpecifier/typeSpecifier|//functionDefinition[contains(.//declaratorid/@strdata, \"' + functionName + '\")]/declarator//typeSpecifier)', './@strdata'], code, 'cpp')\n",
    "        return result\n",
    "    }\n",
    "\n",
    "    var result = await (await selectCode)(['(//functionDefinition/declSpecifierSeq/declSpecifier/typeSpecifier|//functionDefinition/declarator//typeSpecifier)', './@strdata'], code, 'cpp')\n",
    "    return result\n",
    "}\n",
    "\n",
    "module.exports = getTypes\n",
    "\n"
   ]
  }
 ],
 "metadata": {
  "language_info": {
   "name": "python"
  }
 },
 "nbformat": 4,
 "nbformat_minor": 2
}
