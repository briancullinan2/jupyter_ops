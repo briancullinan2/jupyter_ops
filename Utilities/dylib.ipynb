{
 "cells": [
  {
   "cell_type": "markdown",
   "metadata": {},
   "source": [
    "\n",
    "include a dynamic lib?\n",
    "\n",
    "\n",
    "\n",
    "clang -g -O0 -fmodules -x objective-c -fno-objc-arc -c main.c -o main.o\n",
    "\n",
    "clang main.o -framework Cocoa -dynamiclib -rdynamic -o sog.dylib\n",
    "\n"
   ]
  },
  {
   "cell_type": "code",
   "execution_count": null,
   "metadata": {
    "vscode": {
     "languageId": "javascript"
    }
   },
   "outputs": [],
   "source": [
    "const {\n",
    "  equal\n",
    "} = require('assert')\n",
    "const {\n",
    "  load,\n",
    "  DataType,\n",
    "  open,\n",
    "  close,\n",
    "  arrayConstructor,\n",
    "  define\n",
    "} = require('ffi-rs')\n",
    "const path = require('path')\n",
    "const {platform} = require('os')\n",
    "const a = 1\n",
    "const b = 100\n",
    "const dynamicLib = platform === 'win32' ? '../sog.dll' : (platform === 'linux' ? '../sog.so' : '../sog.dylib')\n",
    "// First open dynamic library with key for close\n",
    "const IGNORE_PROGRAMS = [\n",
    "  'Window Server',\n",
    "  'Macs Fan Control',\n",
    "  'Control Center',\n",
    "  'Spotlight',\n",
    "  'Dock',\n",
    "  'SSMenuAgent',\n",
    "  'Menubar'\n",
    "]\n",
    "function enumWindows() {\n",
    "  // It only needs to be opened once.\n",
    "  open({\n",
    "    library: 'sog', // key\n",
    "    path: path.join(__dirname, dynamicLib) // path\n",
    "  })\n",
    "  const count = load({\n",
    "    library: \"sog\", // path to the dynamic library file\n",
    "    funcName: 'enumWindows', // the name of the function to call\n",
    "    retType: DataType.I32, // the return value type\n",
    "    paramsType: [], // the parameter types\n",
    "    paramsValue: [] // the actual parameter values\n",
    "    // freeResultMemory: true, // whether or not need to free the result of return value memory automatically, default is false\n",
    "  })\n",
    "  let windows = []\n",
    "  for(let i = 0; i < count; i++) {\n",
    "    const result = load({\n",
    "      library: \"sog\", // path to the dynamic library file\n",
    "      funcName: 'getTitle', // the name of the function to call\n",
    "      retType: DataType.String, // the return value type\n",
    "      paramsType: [DataType.I32], // the parameter types\n",
    "      paramsValue: [i] // the actual parameter values\n",
    "      // freeResultMemory: true, // whether or not need to free the result of return value memory automatically, default is false\n",
    "    })\n",
    "    windows.push(result.split(/:\\s/g)[1])\n",
    "  }\n",
    "  // Release library memory when you're not using it.\n",
    "  close('sog')\n",
    "  return windows.filter((a, i, arr) => arr.indexOf(a) == i && !IGNORE_PROGRAMS.includes(a))\n",
    "}\n",
    "\n",
    "module.exports = enumWindows\n"
   ]
  },
  {
   "cell_type": "markdown",
   "metadata": {},
   "source": []
  },
  {
   "cell_type": "code",
   "execution_count": null,
   "metadata": {
    "vscode": {
     "languageId": "javascript"
    }
   },
   "outputs": [],
   "source": [
    "\n",
    "// Use define function to define a function signature\n",
    "const res = define({\n",
    "  sum: {\n",
    "      library: \"libsum\",\n",
    "      retType: DataType.I32,\n",
    "      paramsType: [DataType.I32, DataType.I32],\n",
    "  },\n",
    "  atoi: {\n",
    "      library: \"libnative\",\n",
    "      retType: DataType.I32,\n",
    "      paramsType: [DataType.String],\n",
    "  }\n",
    "})\n",
    "equal(res.sum([1, 2]), 3)\n",
    "equal(res.atoi([\"1000\"]), 1000)\n"
   ]
  },
  {
   "cell_type": "markdown",
   "metadata": {},
   "source": [
    "\n",
    "move mouse\n"
   ]
  },
  {
   "cell_type": "code",
   "execution_count": null,
   "metadata": {
    "vscode": {
     "languageId": "javascript"
    }
   },
   "outputs": [],
   "source": [
    "const {\n",
    "  equal\n",
    "} = require('assert')\n",
    "const {\n",
    "  load,\n",
    "  DataType,\n",
    "  open,\n",
    "  close,\n",
    "  arrayConstructor,\n",
    "  define\n",
    "} = require('ffi-rs')\n",
    "const path = require('path')\n",
    "const {platform} = require('os')\n",
    "\n",
    "const dynamicLib = platform === 'win32' ? '../mouse.dll' : (platform === 'linux' ? '../mouse.so' : '../mouse.dylib')\n",
    "\n",
    "function moveMouse(x, y) {\n",
    "  open({\n",
    "    library: 'mouse', // key\n",
    "    path: path.join(__dirname, dynamicLib) // path\n",
    "  })\n",
    "  load({\n",
    "    library: \"mouse\", // path to the dynamic library file\n",
    "    funcName: 'SetMousePosition', // the name of the function to call\n",
    "    retType: DataType.Void, // the return value type\n",
    "    paramsType: [DataType.Float, DataType.Float], // the parameter types\n",
    "    paramsValue: [x || 0, y || 0] // the actual parameter values\n",
    "    // freeResultMemory: true, // whether or not need to free the result of return value memory automatically, default is false\n",
    "  })\n",
    "  close('mouse')\n",
    "}\n",
    "\n",
    "module.exports = moveMouse\n"
   ]
  },
  {
   "cell_type": "markdown",
   "metadata": {},
   "source": [
    "\n",
    "test a csharp dylib?\n",
    "\n",
    "mcs -target:library -out:005.dll 005.cs\n",
    "\n",
    "dotnet build .\n",
    "\n",
    "\n"
   ]
  },
  {
   "cell_type": "code",
   "execution_count": null,
   "metadata": {
    "vscode": {
     "languageId": "javascript"
    }
   },
   "outputs": [],
   "source": [
    "\n",
    "const path = require('path')\n",
    "const dynamicLib = path.join(__dirname, '../Resources/Projects/rosetta-euler/csharp/005/Debug/net9.0/osx-arm64/005.dll')\n",
    "//const dynamicLib = path.join(__dirname, '../Resources/Projects/rosetta-euler/csharp/005/005.dll')\n",
    "\n",
    "/*\n",
    "function moveMouse(x, y) {\n",
    "  open({\n",
    "    library: 'mouse', // key\n",
    "    path: path.join(__dirname, dynamicLib) // path\n",
    "  })\n",
    "  let result = load({\n",
    "    library: \"mouse\", // path to the dynamic library file\n",
    "    funcName: 'main', // the name of the function to call\n",
    "    retType: DataType.BigInt, // the return value type\n",
    "    paramsType: [DataType.I32, arrayConstructor({\n",
    "      type: DataType.StringArray,\n",
    "      length: 1\n",
    "    })], // the parameter types\n",
    "    paramsValue: [0, ['']] // the actual parameter values\n",
    "    // freeResultMemory: true, // whether or not need to free the result of return value memory automatically, default is false\n",
    "  })\n",
    "  console.log(result)\n",
    "  close('mouse')\n",
    "  return result\n",
    "}\n",
    "*/\n",
    "\n",
    "//const edge = require('edge-js');\n",
    "const dotnet = require('node-api-dotnet');\n",
    "\n",
    "async function testEdge() {\n",
    "  \n",
    "  dotnet.load(dynamicLib);\n",
    "\n",
    "  /*\n",
    "  const Main = edge.func({\n",
    "    assemblyFile: dynamicLib,\n",
    "    typeName: 'Rosetta.Euler',\n",
    "    methodName: 'Calculate' // Must be a static method\n",
    "  });\n",
    "\n",
    "  console.log('it works: ', await Main([]));\n",
    "  */\n",
    "\n",
    "  console.log(dotnet)\n",
    "  const Euler = dotnet.Rosetta.Euler;\n",
    "  const myObject = new Euler()\n",
    "  //console.log(await myObject.Calculate([]))\n",
    "  Euler.Main([])\n",
    "}\n",
    "\n",
    "\n",
    "module.exports = testEdge\n"
   ]
  },
  {
   "cell_type": "markdown",
   "metadata": {},
   "source": [
    "\n",
    "set mouse position?\n",
    "\n"
   ]
  },
  {
   "cell_type": "code",
   "execution_count": null,
   "metadata": {
    "vscode": {
     "languageId": "javascript"
    }
   },
   "outputs": [],
   "source": [
    "\n",
    "async function moveMouse(x, y) {\n",
    "  let {SetMousePosition} = await importer.import('mouse control c')\n",
    "  await SetMousePosition(parseFloat(x), parseFloat(y))\n",
    "}\n",
    "\n",
    "module.exports = moveMouse\n"
   ]
  },
  {
   "cell_type": "markdown",
   "metadata": {},
   "source": [
    "\n",
    "get c parameters?\n"
   ]
  },
  {
   "cell_type": "code",
   "execution_count": null,
   "metadata": {
    "vscode": {
     "languageId": "javascript"
    }
   },
   "outputs": [],
   "source": [
    "\n",
    "async function getParameters(code) {\n",
    "    const selectCode = await importer.import('select antlr tree')\n",
    "    const result = await selectCode(['//functionDefinition', './declarator//declaratorid/@strdata'], code, 'cpp')\n",
    "    return result\n",
    "}\n",
    "\n",
    "module.exports = getParameters\n",
    "\n"
   ]
  },
  {
   "cell_type": "markdown",
   "metadata": {},
   "source": [
    "\n",
    "get c exports?\n"
   ]
  },
  {
   "cell_type": "code",
   "execution_count": null,
   "metadata": {
    "vscode": {
     "languageId": "javascript"
    }
   },
   "outputs": [],
   "source": [
    "\n",
    "async function getExports(code) {\n",
    "    const selectCode = await importer.import('select antlr tree')\n",
    "    const result = await selectCode(['//functionDefinition', './declarator//declaratorid/@strdata'], code, 'cpp')\n",
    "    return result.map(e => typeof e == 'string' ? e : e[0])\n",
    "}\n",
    "\n",
    "module.exports = getExports\n",
    "\n"
   ]
  },
  {
   "cell_type": "markdown",
   "metadata": {},
   "source": [
    "\n",
    "get c types?\n"
   ]
  },
  {
   "cell_type": "code",
   "execution_count": null,
   "metadata": {
    "vscode": {
     "languageId": "javascript"
    }
   },
   "outputs": [],
   "source": [
    "\n",
    "let selectCode\n",
    "\n",
    "async function getTypes(code, functionName) {\n",
    "    if(!selectCode)\n",
    "        selectCode = await importer.import('select antlr tree')\n",
    "\n",
    "    if(functionName) {\n",
    "        let result = await selectCode(['(//functionDefinition[contains(.//declaratorid/@strdata, \"' + functionName + '\")]/declSpecifierSeq/declSpecifier/typeSpecifier|//functionDefinition[contains(.//declaratorid/@strdata, \"' + functionName + '\")]/declarator//typeSpecifier)', './@strdata'], code, 'cpp')\n",
    "        return result\n",
    "    }\n",
    "\n",
    "    var result = await selectCode(['(//functionDefinition/declSpecifierSeq/declSpecifier/typeSpecifier|//functionDefinition/declarator//typeSpecifier)', './@strdata'], code, 'cpp')\n",
    "    return result\n",
    "}\n",
    "\n",
    "module.exports = getTypes\n",
    "\n"
   ]
  },
  {
   "cell_type": "markdown",
   "metadata": {},
   "source": [
    "\n",
    "c type to data type?\n"
   ]
  },
  {
   "cell_type": "code",
   "execution_count": null,
   "metadata": {
    "vscode": {
     "languageId": "javascript"
    }
   },
   "outputs": [],
   "source": [
    "const { open, load, close, DataType, arrayConstructor } = require('ffi-rs')\n",
    "\n",
    "function typeToDataType(returnLength, returnType, dataType) {\n",
    "  if(returnLength > 1) {\n",
    "    switch(returnType) {\n",
    "      case 'void':\n",
    "        return arrayConstructor({ type: DataType.StackArray, length: returnLength })\n",
    "      case 'double':\n",
    "        return arrayConstructor({ type: DataType.DoubleArray, length: returnLength })\n",
    "      case 'float':\n",
    "        return arrayConstructor({ type: DataType.DoubleArray, length: returnLength })\n",
    "      case 'int':\n",
    "        return arrayConstructor({ type: DataType.I32Array, length: returnLength })\n",
    "      case 'char':\n",
    "        return arrayConstructor({ type: DataType.StringArray, length: returnLength })\n",
    "      default:\n",
    "        return arrayConstructor({ type: dataType, length: returnLength })\n",
    "    }\n",
    "\n",
    "  } else {\n",
    "    switch(returnType) {\n",
    "      case 'void':\n",
    "        return DataType.Void\n",
    "      case 'double':\n",
    "        return DataType.Double\n",
    "      case 'float':\n",
    "        return DataType.Double\n",
    "      case 'int':\n",
    "        return DataType.I32\n",
    "      case 'char':\n",
    "        return DataType.String\n",
    "      default:\n",
    "        return dataType\n",
    "    }\n",
    "  }\n",
    "}\n",
    "\n",
    "module.exports = typeToDataType"
   ]
  },
  {
   "cell_type": "markdown",
   "metadata": {},
   "source": [
    "\n",
    "build dylib?\n"
   ]
  },
  {
   "cell_type": "code",
   "execution_count": null,
   "metadata": {
    "vscode": {
     "languageId": "javascript"
    }
   },
   "outputs": [],
   "source": [
    "\n",
    "const fs = require('fs')\n",
    "const path = require('path')\n",
    "const { interpret } = require('../Core')\n",
    "const { safeurl } = importer.import('domain cache tools')\n",
    "const parse = importer.import('shell parse')\n",
    "\n",
    "const BUILD_DIRECTORY = path.join(__dirname, '../.build')\n",
    "const SCAN_ENVIRONMENT = /([A-Z_])\\s*[\\:-=]+\\s*(.*?)\\s*(\\n|$)/g\n",
    "\n",
    "\n",
    "function buildDylib(code, pathToCode, ctx) {\n",
    "  if (!fs.existsSync(BUILD_DIRECTORY)) {\n",
    "    fs.mkdirSync(BUILD_DIRECTORY)\n",
    "  }\n",
    "\n",
    "  const codeCell = interpret(pathToCode)\n",
    "  // TODO: compare file times for dylib module recompile\n",
    "  let libName = safeurl(codeCell.questions[0])\n",
    "  let libPath = path.join(BUILD_DIRECTORY, libName + (codeCell.language == 'cpp' ? '.cpp' : '.c'))\n",
    "  if (!fs.existsSync(libPath)\n",
    "    || fs.statSync(codeCell.filename).mtime > fs.statSync(libPath).mtime\n",
    "  ) {\n",
    "    fs.writeFileSync(libPath, codeCell.source.join(''))\n",
    "  }\n",
    "\n",
    "\n",
    "  let env = {}\n",
    "  let match;\n",
    "  while ((match = SCAN_ENVIRONMENT.exec(codeCell.markdown.join(''))) !== null) {\n",
    "      env[match[1]] = match[2]\n",
    "  }\n",
    "\n",
    "  if(codeCell.language == 'cpp') {\n",
    "    env['CXX'] = parse(process.env.CXX) || ['clang++']\n",
    "    env['STD'] = parse(process.env.STD) || ['-std=c++17', '-stdlib=libc++']\n",
    "  } else {\n",
    "    env['CXX'] = parse(process.env.CXX) || ['clang']\n",
    "  }\n",
    "\n",
    "  // TODO: recompile dylib\n",
    "  let objPath = path.join(BUILD_DIRECTORY, libName + '.o')\n",
    "  if (!fs.existsSync(objPath)\n",
    "    || fs.statSync(libPath).mtime > fs.statSync(objPath).mtime\n",
    "  ) {\n",
    "    const { spawnSync } = require('child_process')\n",
    "    \n",
    "    let mods = []\n",
    "    if(codeCell.language == 'objective-c') {\n",
    "      mods = ['-x', 'objective-c', '-fno-objc-arc']\n",
    "    }\n",
    "\n",
    "    if(codeCell.source.join('').match('@import')) {\n",
    "      mods = ['-fmodules'].concat(mods)\n",
    "    }\n",
    "\n",
    "    let cflags = []\n",
    "    if(env['PKG_CONFIG']) {\n",
    "      let result = spawnSync('pkg-config', ['--cflags'].concat(parse(env['PKG_CONFIG'])))\n",
    "      cflags = parse(result.stdout.toString())\n",
    "    }\n",
    "\n",
    "    let args = ['-c', libPath, '-o', objPath]\n",
    "\n",
    "    // TODO:\n",
    "    //export PKG_CONFIG_PATH=\"$PKG_CONFIG_PATH:/opt/homebrew/Cellar/mono/6.12.0.206/lib/pkgconfig\"\n",
    "    spawnSync(env['CXX'][0], env['CXX'].slice(1).concat(mods).concat(cflags).concat(args), { stdio: [0, 1, 2], env })\n",
    "\n",
    "  }\n",
    "\n",
    "  let modPath = path.join(BUILD_DIRECTORY, libName + '.dylib')\n",
    "  if (!fs.existsSync(modPath)\n",
    "    || fs.statSync(objPath).mtime > fs.statSync(modPath).mtime\n",
    "  ) {\n",
    "    const { spawnSync } = require('child_process')\n",
    "\n",
    "    let libs = []\n",
    "    if(env['PKG_CONFIG']) {\n",
    "      let result = spawnSync('pkg-config', ['--libs'].concat(parse(env['PKG_CONFIG'])))\n",
    "      libs = parse(result.stdout.toString())\n",
    "    }\n",
    "\n",
    "    let mods = []\n",
    "    if(env['CXX'].match('clang')) {\n",
    "      mods = ['-dynamiclib', '-rdynamic']\n",
    "    }\n",
    "\n",
    "    let objs = [objPath]\n",
    "    let args = ['-o', modPath]\n",
    "\n",
    "    spawnSync(env['CXX'][0], objs.concat(mods).concat(libs).concat(args), { stdio: [0, 1, 2] })\n",
    "  }\n",
    "\n",
    "}\n",
    "\n",
    "module.exports = buildDylib\n"
   ]
  }
 ],
 "metadata": {
  "language_info": {
   "name": "python"
  }
 },
 "nbformat": 4,
 "nbformat_minor": 2
}
