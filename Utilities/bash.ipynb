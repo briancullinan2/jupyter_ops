{
 "cells": [
  {
   "cell_type": "code",
   "execution_count": null,
   "metadata": {
    "collapsed": true
   },
   "outputs": [],
   "source": [
    "du -a . | sort -n -r | head -n 10\n"
   ]
  },
  {
   "cell_type": "markdown",
   "metadata": {},
   "source": [
    "node webdriver support?\n"
   ]
  },
  {
   "cell_type": "code",
   "execution_count": null,
   "metadata": {
    "collapsed": true
   },
   "outputs": [],
   "source": [
    "cd ~/jupytangular \\\n",
    "   && npm install wdio webdriverio \\\n",
    "   && mkdir ~/Collections || true \\\n",
    "   && mkdir ~/Collections/searches || true \\\n",
    "   && mkdir ~/Collections/screenshots || true"
   ]
  },
  {
   "cell_type": "markdown",
   "metadata": {},
   "source": [
    "install node?"
   ]
  },
  {
   "cell_type": "code",
   "execution_count": null,
   "metadata": {
    "collapsed": true
   },
   "outputs": [],
   "source": [
    "curl -sL https://deb.nodesource.com/setup_9.x | sudo -E bash - \\\n",
    "    && sudo apt-get update -qqy \\\n",
    "    && sudo apt-get -qqy install nodejs build-essential"
   ]
  },
  {
   "cell_type": "markdown",
   "metadata": {},
   "source": [
    "install notebooks?"
   ]
  },
  {
   "cell_type": "code",
   "execution_count": null,
   "metadata": {
    "collapsed": true
   },
   "outputs": [],
   "source": [
    "git clone https://megamindbrian@bitbucket.org/megamindbrian/jupyter_ops.git ./jupytangular \\\n",
    "   && cd ~/jupytangular \\\n",
    "   && npm run install:minimal"
   ]
  },
  {
   "cell_type": "markdown",
   "metadata": {},
   "source": [
    "install systemd?"
   ]
  },
  {
   "cell_type": "code",
   "execution_count": null,
   "metadata": {
    "collapsed": true
   },
   "outputs": [],
   "source": [
    "cd ~/jupytangular \\\n",
    "   && cp ./jupyter.service /etc/systemd/system \\\n",
    "   && cp ./jupyter.timer /etc/systemd/system \\\n",
    "   && systemctl daemon-reload \\\n",
    "   && systemctl enable jupyter.timer \\\n",
    "   && systemctl enable jupyter.service \\\n",
    "   && systemctl start jupyter.service \\\n",
    "   && systemctl start jupyter.timer \\\n",
    "   && cp ./selenium.service /etc/systemd/system \\\n",
    "   && systemctl daemon-reload \\\n",
    "   && systemctl enable selenium \\\n",
    "   && systemctl start selenium.service"
   ]
  },
  {
   "cell_type": "markdown",
   "metadata": {},
   "source": [
    "install launchd?"
   ]
  },
  {
   "cell_type": "code",
   "execution_count": null,
   "metadata": {
    "collapsed": true
   },
   "outputs": [],
   "source": [
    "cp ./com.jupytangular.heartbeat.plist ~/Library/LaunchCtl/ \\\n",
    "   && launchctl load com.jupytangular.heartbeat.plist \\\n",
    "   && launchctl enable com.jupytangular.heartbeat.plist \\\n",
    "   && launchctl start com.jupytangular.heartbeat.plist"
   ]
  },
  {
   "cell_type": "markdown",
   "metadata": {},
   "source": [
    "copy credentials?"
   ]
  },
  {
   "cell_type": "code",
   "execution_count": null,
   "metadata": {
    "collapsed": true
   },
   "outputs": [],
   "source": [
    "npm run ssh -t \"mkdir ~/.credentials || true\" \\\n",
    "   && scp -i ~/.credentials/selenium.pem \\\n",
    "   ~/.credentials/https_www_googleapis* ubuntu@ec2-54-201-232-148.us-west-2.compute.amazonaws.com:~/.credentials/ \\\n",
    "   && scp -i ~/.credentials/selenium.pem \\\n",
    "   ~/.credentials/client_secret* ubuntu@ec2-54-201-232-148.us-west-2.compute.amazonaws.com:~/.credentials/ \\\n",
    "   && scp -i ~/.credentials/selenium.pem \\\n",
    "   ~/.credentials/aws-sdk* ubuntu@ec2-54-201-232-148.us-west-2.compute.amazonaws.com:~/.credentials/ \\\n"
   ]
  },
  {
   "cell_type": "markdown",
   "metadata": {},
   "source": [
    "run the same command?"
   ]
  },
  {
   "cell_type": "code",
   "execution_count": null,
   "metadata": {},
   "outputs": [],
   "source": [
    "while :\n",
    "    do\n",
    "        npm run import \"create export cache\"\n",
    "done\n"
   ]
  },
  {
   "cell_type": "markdown",
   "metadata": {},
   "source": []
  },
  {
   "cell_type": "code",
   "execution_count": null,
   "metadata": {
    "vscode": {
     "languageId": "plaintext"
    }
   },
   "outputs": [],
   "source": []
  }
 ],
 "metadata": {
  "kernelspec": {
   "display_name": "Bash",
   "language": "bash",
   "name": "bash"
  },
  "language_info": {
   "codemirror_mode": "shell",
   "file_extension": ".sh",
   "mimetype": "text/x-sh",
   "name": "bash"
  }
 },
 "nbformat": 4,
 "nbformat_minor": 2
}
