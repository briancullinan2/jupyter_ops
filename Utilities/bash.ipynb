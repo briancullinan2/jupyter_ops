{
 "cells": [
  {
   "cell_type": "code",
   "execution_count": null,
   "metadata": {
    "collapsed": true
   },
   "outputs": [],
   "source": [
    "du -a . | sort -n -r | head -n 10\n"
   ]
  },
  {
   "cell_type": "markdown",
   "metadata": {},
   "source": [
    "node webdriver support?\n"
   ]
  },
  {
   "cell_type": "code",
   "execution_count": null,
   "metadata": {
    "collapsed": true
   },
   "outputs": [],
   "source": [
    "cd ~/jupytangular \\\n",
    "   && npm install wdio webdriverio \\\n",
    "   && mkdir ~/Collections || true \\\n",
    "   && mkdir ~/Collections/searches || true \\\n",
    "   && mkdir ~/Collections/screenshots || true"
   ]
  },
  {
   "cell_type": "markdown",
   "metadata": {},
   "source": [
    "install node?"
   ]
  },
  {
   "cell_type": "code",
   "execution_count": null,
   "metadata": {
    "collapsed": true
   },
   "outputs": [],
   "source": [
    "curl -sL https://deb.nodesource.com/setup_9.x | sudo -E bash - \\\n",
    "    && sudo apt-get update -qqy \\\n",
    "    && sudo apt-get -qqy install nodejs build-essential"
   ]
  },
  {
   "cell_type": "markdown",
   "metadata": {},
   "source": [
    "install notebooks?"
   ]
  },
  {
   "cell_type": "code",
   "execution_count": null,
   "metadata": {
    "collapsed": true
   },
   "outputs": [],
   "source": [
    "git clone https://megamindbrian@bitbucket.org/megamindbrian/jupyter_ops.git ./jupytangular \\\n",
    "   && cd ~/jupytangular \\\n",
    "   && npm run install:minimal"
   ]
  },
  {
   "cell_type": "markdown",
   "metadata": {},
   "source": [
    "install systemd?"
   ]
  },
  {
   "cell_type": "code",
   "execution_count": null,
   "metadata": {
    "collapsed": true
   },
   "outputs": [],
   "source": [
    "cd ~/jupytangular \\\n",
    "   && cp ./jupyter.service /etc/systemd/system \\\n",
    "   && cp ./jupyter.timer /etc/systemd/system \\\n",
    "   && systemctl daemon-reload \\\n",
    "   && systemctl enable jupyter.timer \\\n",
    "   && systemctl enable jupyter.service \\\n",
    "   && systemctl start jupyter.service \\\n",
    "   && systemctl start jupyter.timer \\\n",
    "   && cp ./selenium.service /etc/systemd/system \\\n",
    "   && systemctl daemon-reload \\\n",
    "   && systemctl enable selenium \\\n",
    "   && systemctl start selenium.service"
   ]
  },
  {
   "cell_type": "markdown",
   "metadata": {},
   "source": [
    "install launchd?"
   ]
  },
  {
   "cell_type": "code",
   "execution_count": null,
   "metadata": {
    "collapsed": true
   },
   "outputs": [],
   "source": [
    "cp ./com.jupytangular.heartbeat.plist ~/Library/LaunchCtl/ \\\n",
    "   && launchctl load com.jupytangular.heartbeat.plist \\\n",
    "   && launchctl enable com.jupytangular.heartbeat.plist \\\n",
    "   && launchctl start com.jupytangular.heartbeat.plist"
   ]
  },
  {
   "cell_type": "markdown",
   "metadata": {},
   "source": [
    "copy credentials?"
   ]
  },
  {
   "cell_type": "code",
   "execution_count": null,
   "metadata": {
    "collapsed": true
   },
   "outputs": [],
   "source": [
    "npm run ssh -t \"mkdir ~/.credentials || true\" \\\n",
    "   && scp -i ~/.credentials/selenium.pem \\\n",
    "   ~/.credentials/https_www_googleapis* ubuntu@ec2-54-201-232-148.us-west-2.compute.amazonaws.com:~/.credentials/ \\\n",
    "   && scp -i ~/.credentials/selenium.pem \\\n",
    "   ~/.credentials/client_secret* ubuntu@ec2-54-201-232-148.us-west-2.compute.amazonaws.com:~/.credentials/ \\\n",
    "   && scp -i ~/.credentials/selenium.pem \\\n",
    "   ~/.credentials/aws-sdk* ubuntu@ec2-54-201-232-148.us-west-2.compute.amazonaws.com:~/.credentials/ \\\n"
   ]
  },
  {
   "cell_type": "markdown",
   "metadata": {},
   "source": [
    "run the same command?"
   ]
  },
  {
   "cell_type": "code",
   "execution_count": null,
   "metadata": {},
   "outputs": [],
   "source": [
    "while :\n",
    "    do\n",
    "        npm run import \"create export cache\"\n",
    "done\n"
   ]
  },
  {
   "cell_type": "markdown",
   "metadata": {},
   "source": [
    "\n",
    "Reorganize home directory:\n"
   ]
  },
  {
   "cell_type": "code",
   "execution_count": null,
   "metadata": {
    "vscode": {
     "languageId": "shellscript"
    }
   },
   "outputs": [],
   "source": [
    "#!/bin/bash\n",
    "# Define your categories\n",
    "declare -A categories=(\n",
    "  [GAMES]=\"Quake* UrbanTerror* tremulous tremulous2 ioquake3 fteqw* OpenJK OpenLoco RollerCoaster* quake3* planet_quake* q3* Putt-Putt* Neverhood multigame* quake-portal-gun Quetoo* QuakeSandbox RBQUAKE*\"\n",
    "  [ENGINES]=\"Godots GtkRadiant* UnrealEngine TrenchBroom OpenWolf* source-engine cmod-engine-alpha-web ioq3-* netradiant-custom openradiant\"\n",
    "  [WEB]=\"Websites blog.* node-* browser-* noVNC cocainediesel friend-maker quake3-discord-bot quake3-proxy-server portal3\"\n",
    "  [WASM]=\"Browser-WASI emscripten* emsdk wasm-dist browser-shell d3wasm browsix wasi-sdk-* v86\"\n",
    "  [AI_ML]=\"LLaMA* llama* stable-diffusion* Lumina_AI morpheus\"\n",
    "  [TOOLS]=\"Parallels Applications* prom* git-bare macrecovery.py miniforge3 godot* elastic-game-server grafana google-cloud-sdk\"\n",
    "  [MEDIA]=\"Movies Music Pictures\"\n",
    "  [DOCS]=\"Documents bookmarks untitled.md3 README* studysauce* creation jupyter_ops activity\"\n",
    "  [SYSTEM]=\"boot.img data*.img fix-obs-rtspserver.sh USE_MULTIVM_USE_MV.code-search\"\n",
    "  [DEV_LIBS]=\"assimp FreeImage FreeType fmt zlib tinyxml2 pcre2 libpng libdiscord libwebsockets qt5 qt6 irrlicht-* jansson harfbuzz gyp-next\"\n",
    "  [EDU]=\"studysauce* studysauceapp studysauce2 studysauce3 studysauce4\"\n",
    "  [PARALLELS]=\"Parallels Applications\\ \\(Parallels\\)\"\n",
    "  [MISC]=\"My\\ project Daemon Downloads Desktop Public QQuickStaticHelloWorld* patient test\\ app uber-realistic-porn-merge\"\n",
    ")\n",
    "\n",
    "# Create directories\n",
    "for dir in \"${!categories[@]}\"; do\n",
    "  mkdir -p \"$HOME/Categorized/$dir\"\n",
    "done\n",
    "\n",
    "# Move files\n",
    "for category in \"${!categories[@]}\"; do\n",
    "  for pattern in ${categories[$category]}; do\n",
    "    for file in $HOME/$pattern; do\n",
    "      [ -e \"$file\" ] && mv -v \"$file\" \"$HOME/Categorized/$category/\"\n",
    "    done\n",
    "  done\n",
    "done\n",
    "\n",
    "echo \"📁 Organization complete. Check ~/Categorized.\"\n"
   ]
  },
  {
   "cell_type": "markdown",
   "metadata": {},
   "source": [
    "\n",
    "better jupyter organization?\n"
   ]
  },
  {
   "cell_type": "code",
   "execution_count": null,
   "metadata": {
    "vscode": {
     "languageId": "shellscript"
    }
   },
   "outputs": [],
   "source": [
    "Social Media\n",
    "Google Services\n",
    "Networking Tools\n",
    "Selenium Automation\n",
    "Version Control\n",
    "Databases SQL\n",
    "Docker Containers\n",
    "Cloud Deployment\n",
    "Auth Security\n",
    "Programming Concepts\n",
    "Frontend Dev\n",
    "Backend Dev\n",
    "Discord Tools\n",
    "AI Models\n",
    "Data Science\n",
    "Game Engines\n",
    "DevOps Config\n",
    "Marketing UX\n",
    "Jupyter Tools\n",
    "Testing QA\n",
    "Personal Projects\n",
    "CLI Utilities\n",
    "Media Tools\n",
    "Text Parsing\n",
    "Study Materials\n",
    "Docs Guides\n",
    "Code Snippets\n",
    "Package Tools\n",
    "Shell Scripts\n",
    "Game Projects\n",
    "Creative Assets\n",
    "Data Analytics\n",
    "Misc Projects\n"
   ]
  }
 ],
 "metadata": {
  "kernelspec": {
   "display_name": "Bash",
   "language": "bash",
   "name": "bash"
  },
  "language_info": {
   "codemirror_mode": "shell",
   "file_extension": ".sh",
   "mimetype": "text/x-sh",
   "name": "bash"
  }
 },
 "nbformat": 4,
 "nbformat_minor": 2
}
