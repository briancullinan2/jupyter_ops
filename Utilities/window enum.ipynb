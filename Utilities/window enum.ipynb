{
 "cells": [
  {
   "cell_type": "markdown",
   "metadata": {},
   "source": [
    "\n",
    "enum windows with cocoa?\n",
    "\n",
    "clang -g -O0 -fmodules -x objective-c -fno-objc-arc -c main.c -o main.o\n",
    "\n",
    "clang main.o -framework Cocoa -dynamiclib -rdynamic -o sog.dylib\n"
   ]
  },
  {
   "cell_type": "code",
   "execution_count": null,
   "metadata": {
    "vscode": {
     "languageId": "objective-c"
    }
   },
   "outputs": [],
   "source": [
    "\n",
    "@import Cocoa;\n",
    "\n",
    "static NSArray* windows;\n",
    "static NSUInteger count;\n",
    "\n",
    "#if __cplusplus\n",
    "extern \"C\" {\n",
    "#endif\n",
    "\n",
    "__attribute__((visibility(\"default\")))\n",
    "int enumWindows()\n",
    "{\n",
    "\tCGWindowListOption listOptions = kCGWindowListOptionAll;\n",
    "\tlistOptions |= kCGWindowListOptionOnScreenOnly;\n",
    "\tlistOptions |= kCGWindowListExcludeDesktopElements;\n",
    "\n",
    "\t// Ask the window server for the list of windows.\n",
    "\twindows = (NSArray*)CGWindowListCopyWindowInfo(listOptions, kCGNullWindowID);\n",
    "\tcount = [windows count];\n",
    "\n",
    "\treturn count;\n",
    "}\n",
    "\n",
    "__attribute__((visibility(\"default\")))\n",
    "const char* getTitle(int i) {\n",
    "\tif(windows == NULL) {\n",
    "\t\tcount\t= enumWindows();\n",
    "\t}\n",
    "\t//for (NSUInteger i = 0; i < count; i++) {\n",
    "\t//}\n",
    "\tNSDictionary*   nswindowsdescription = [windows objectAtIndex:i];\n",
    "\t//NSNumber* windowid = (NSNumber*)[nswindowsdescription objectForKey:@\"kCGWindowNumber\"];\n",
    "\tNSString* windowName = (NSString*)[nswindowsdescription objectForKey:@\"kCGWindowOwnerName\"];\n",
    "\tNSNumber* windowLayer = (NSNumber*)[nswindowsdescription objectForKey:@\"kCGWindowLayer\"];\n",
    "\tNSString* res = [NSString stringWithFormat:@\"%@: %s\", windowLayer, [windowName UTF8String]];\n",
    "\treturn (char *)[res UTF8String];\n",
    "}\n",
    "\n",
    "\n",
    "int main(int argc, char *argv[])\n",
    "{\n",
    "    int count = enumWindows();\n",
    "\t\tfor(int i = 0; i < count; i++) {\n",
    "\t\t\tprintf(\"%s\\n\", getTitle(i));\n",
    "\t\t}\n",
    "}\n",
    "\n",
    "#if __cplusplus\n",
    "}\n",
    "#endif\n",
    "\n"
   ]
  },
  {
   "cell_type": "markdown",
   "metadata": {},
   "source": [
    "\n",
    "lookup window by?\n"
   ]
  },
  {
   "cell_type": "code",
   "execution_count": null,
   "metadata": {
    "vscode": {
     "languageId": "objective-c"
    }
   },
   "outputs": [],
   "source": [
    "__attribute__((visibility(\"default\")))\n",
    "const char* getTitle(int i) {\n",
    "    if (windows == NULL) {\n",
    "        count = enumWindows();\n",
    "    }\n",
    "\n",
    "    NSDictionary* targetWindow = nil;\n",
    "    for (NSDictionary* window in windows) {\n",
    "        NSNumber* windowLayer = (NSNumber*)[window objectForKey:(__bridge NSString*)kCGWindowLayer];\n",
    "        if (windowLayer && [windowLayer intValue] == i) { // Compare with the provided index\n",
    "            targetWindow = window;\n",
    "            break;\n",
    "        }\n",
    "    }\n",
    "\n",
    "    if (!targetWindow) {\n",
    "        return NULL;\n",
    "    }\n",
    "\n",
    "    NSString* windowName = (NSString*)[targetWindow objectForKey:(__bridge NSString*)kCGWindowOwnerName];\n",
    "    NSNumber* windowLayer = (NSNumber*)[targetWindow objectForKey:(__bridge NSString*)kCGWindowLayer];\n",
    "    NSString* res = [NSString stringWithFormat:@\"%@: %s\", windowLayer, [windowName UTF8String]];\n",
    "    \n",
    "    return strdup([res UTF8String]); // Use strdup to return a persistent C-string\n",
    "}\n",
    "\n"
   ]
  }
 ],
 "metadata": {
  "language_info": {
   "name": "python"
  }
 },
 "nbformat": 4,
 "nbformat_minor": 2
}
