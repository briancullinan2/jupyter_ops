{
 "cells": [
  {
   "cell_type": "markdown",
   "metadata": {},
   "source": [
    "\n",
    "node screenshots?\n"
   ]
  },
  {
   "cell_type": "code",
   "execution_count": null,
   "metadata": {
    "vscode": {
     "languageId": "javascript"
    }
   },
   "outputs": [],
   "source": [
    "\n",
    "const screenshot = require('screenshot-desktop')\n",
    "const sharp = require('sharp')\n",
    "//const { Monitor } = require('node-screenshots')\n",
    "\n",
    "async function screenshotMonitor(monitor) {\n",
    "\n",
    "  if(!monitor) {\n",
    "    monitor = 0\n",
    "  }\n",
    "  //console.log('Taking screenshot')\n",
    "  //let monitors = Monitor.all()\n",
    "\n",
    "  //let capturer = monitors[monitor]\n",
    "  try {\n",
    "    let displays = await screenshot.listDisplays()\n",
    "\n",
    "    let image = await screenshot({ format: 'png', screen: displays[monitor].id })\n",
    "\n",
    "    console.log(displays[monitor])\n",
    "    //let rawData = await image.toRaw()\n",
    "\n",
    "    //console.log('Converting screenshot')\n",
    "    const imageObj = await sharp(image)\n",
    "    const metadata = await imageObj.metadata()\n",
    "\n",
    "    return await imageObj\n",
    "      .resize(Math.round(metadata.width / 3), Math.round(metadata.height / 3))\n",
    "      .png()\n",
    "      .toBuffer()\n",
    "  } catch (e) {\n",
    "    console.error(e)\n",
    "  }\n",
    "}\n",
    "\n",
    "module.exports = screenshotMonitor\n"
   ]
  },
  {
   "cell_type": "markdown",
   "metadata": {},
   "source": [
    "\n",
    "node window screenshot?\n"
   ]
  },
  {
   "cell_type": "code",
   "execution_count": null,
   "metadata": {
    "vscode": {
     "languageId": "javascript"
    }
   },
   "outputs": [],
   "source": [
    "\n",
    "const fs = require(\"fs\");\n",
    "const { Window } = require(\"node-screenshots\");\n",
    "\n",
    "\n",
    "async function screenshotWindow(window) {\n",
    "\n",
    "  if(!window) {\n",
    "    window = 0\n",
    "  }\n",
    "\n",
    "  let windows = Window.all();\n",
    "  let item\n",
    "  if(!Number.isNaN(parseInt(window)))\n",
    "    item = windows[window]\n",
    "  else\n",
    "    item = windows.filter(w => {\n",
    "      console.log(w.title, w.app_name)\n",
    "      return w.title.includes(window) || w.app_name && w.app_name.includes(window)\n",
    "    })[0]\n",
    "\n",
    "  if(!item)\n",
    "    return void 0\n",
    "\n",
    "  /*console.log({\n",
    "    title: item.title,\n",
    "    app_name: item.app_name,\n",
    "    id: item.id,\n",
    "    x: item.x,\n",
    "    y: item.y,\n",
    "    width: item.width,\n",
    "    height: item.height,\n",
    "    rotation: item.rotation,\n",
    "    scaleFactor: item.scaleFactor,\n",
    "    isPrimary: item.isPrimary,\n",
    "  })*/\n",
    "\n",
    "  let image = await windows[window].captureImage()\n",
    "\n",
    "  return await image.toPng()\n",
    "}\n",
    "\n",
    "module.exports = screenshotWindow\n"
   ]
  },
  {
   "cell_type": "markdown",
   "metadata": {},
   "source": [
    "\n",
    "get screen size?\n"
   ]
  },
  {
   "cell_type": "code",
   "execution_count": null,
   "metadata": {
    "vscode": {
     "languageId": "javascript"
    }
   },
   "outputs": [],
   "source": [
    "\n",
    "const robot = require(\"robotjs\")\n",
    "\n",
    "function getScreenSize() {\n",
    "  return robot.getScreenSize()\n",
    "}\n",
    "\n",
    "module.exports = getScreenSize\n"
   ]
  },
  {
   "cell_type": "markdown",
   "metadata": {},
   "source": [
    "\n",
    "move mouse?\n"
   ]
  },
  {
   "cell_type": "code",
   "execution_count": null,
   "metadata": {
    "vscode": {
     "languageId": "javascript"
    }
   },
   "outputs": [],
   "source": [
    "const { Monitor } = require(\"node-screenshots\")\n",
    "const MouseController = require('mouse-controller')\n",
    "const mc = new MouseController();\n",
    "\n",
    "function moveMouse(x, y) {\n",
    "  let monitors = Monitor.all()\n",
    "  monitors.sort((a, b) => (a.x + a.y) - (b.x + b.y))\n",
    "  /*console.log({\n",
    "    x: monitors[0].x,\n",
    "    y: monitors[0].y,\n",
    "    width: monitors[0].width,\n",
    "    height: monitors[0].height,\n",
    "  })*/\n",
    "  mc.move(x * monitors[0].width * 3 + monitors[0].x, y * monitors[0].height)\n",
    "}\n",
    "\n",
    "module.exports = moveMouse\n"
   ]
  },
  {
   "cell_type": "markdown",
   "metadata": {},
   "source": [
    "\n",
    "mouse click?\n"
   ]
  },
  {
   "cell_type": "code",
   "execution_count": null,
   "metadata": {
    "vscode": {
     "languageId": "javascript"
    }
   },
   "outputs": [],
   "source": [
    "const { Monitor } = require(\"node-screenshots\")\n",
    "const MouseController = require('mouse-controller')\n",
    "const mc = new MouseController();\n",
    "\n",
    "function clickMouse(x, y) {\n",
    "  let monitors = Monitor.all()\n",
    "  monitors.sort((a, b) => (a.x + a.y) - (b.x + b.y))\n",
    "  /*console.log({\n",
    "    x: monitors[0].x,\n",
    "    y: monitors[0].y,\n",
    "    width: monitors[0].width,\n",
    "    height: monitors[0].height,\n",
    "  })*/\n",
    "  mc.click(mc.BUTTON.LEFT, {x: x * monitors[0].width * 3 + monitors[0].x, y: y * monitors[0].height})\n",
    "}\n",
    "\n",
    "module.exports = clickMouse\n"
   ]
  },
  {
   "cell_type": "markdown",
   "metadata": {},
   "source": [
    "\n",
    "send keys?\n"
   ]
  },
  {
   "cell_type": "code",
   "execution_count": null,
   "metadata": {
    "vscode": {
     "languageId": "javascript"
    }
   },
   "outputs": [],
   "source": [
    "// Type \"Hello World\" then press enter.\n",
    "var robot = require(\"robotjs\");\n",
    "\n",
    "const TAP_SPECIAL = [\n",
    "  'enter',\n",
    "  'escape',\n",
    "  'backspace',\n",
    "  'delete',\n",
    "]\n",
    "\n",
    "async function keySend(text, special) {\n",
    "\n",
    "  // Type \"Hello World\".\n",
    "  //robot.typeString(text)\n",
    "\n",
    "  let modifiers = special.filter(s => !TAP_SPECIAL.includes(s))\n",
    "\n",
    "  for(let i = 0; i < text.length; i++) {\n",
    "    let localModifiers = [].concat(modifiers)\n",
    "    if(text[i].toUpperCase() == text[i] && !localModifiers.includes('shift')) {\n",
    "      localModifiers.push('shift')\n",
    "    }\n",
    "    robot.keyToggle(text[i].toLowerCase(), 'down', modifiers)\n",
    "    await new Promise(resolve => setTimeout(resolve, 150))\n",
    "    robot.keyToggle(text[i].toLowerCase(), 'up', modifiers)\n",
    "  }\n",
    "\n",
    "  let tap = special.filter(s => TAP_SPECIAL.includes(s))\n",
    "  if(tap.length > 0) {\n",
    "    // Press enter.\n",
    "    robot.keyTap(tap[0], modifiers)\n",
    "  }\n",
    "\n",
    "}\n",
    "\n",
    "module.exports = keySend"
   ]
  },
  {
   "cell_type": "markdown",
   "metadata": {},
   "source": [
    "\n",
    "mouse control cocoa?\n"
   ]
  },
  {
   "cell_type": "code",
   "execution_count": null,
   "metadata": {
    "vscode": {
     "languageId": "objective-c"
    }
   },
   "outputs": [],
   "source": [
    "#include <CoreFoundation/CoreFoundation.h>\n",
    "#include <CoreGraphics/CoreGraphics.h>\n",
    "\n",
    "#if __cplusplus\n",
    "extern \"C\" {\n",
    "#endif\n",
    "\n",
    "typedef enum {\n",
    "  kButtonLeft = 0,\n",
    "  kButtonRight = 1,\n",
    "} Button;\n",
    "\n",
    "CGEventType previous_event_;\n",
    "int event_number_ = 32000;\n",
    "\n",
    "int main(int argc, char *argv[])\n",
    "{\n",
    "    previous_event_ = kCGEventNull;\n",
    "}\n",
    "\n",
    "void DispatchMouseEvent(CGMouseButton button, CGEventType type, CGPoint position, uint32_t click_count, uint32_t delay)\n",
    "{\n",
    "    if (previous_event_ == kCGEventMouseMoved || previous_event_ == kCGEventLeftMouseDragged)\n",
    "    {\n",
    "        usleep(delay);\n",
    "    }\n",
    "\n",
    "    event_number_++;\n",
    "    CGEventRef event = CGEventCreateMouseEvent(NULL, type, position, button);\n",
    "    CGEventSetType(event, type);\n",
    "    CGEventSetIntegerValueField(event, kCGMouseEventNumber, event_number_);\n",
    "    CGEventSetIntegerValueField(event, kCGMouseEventClickState, click_count);\n",
    "    CGEventPost(kCGHIDEventTap, event);\n",
    "    CFRelease(event);\n",
    "    previous_event_ = type;\n",
    "    usleep(delay);\n",
    "}\n",
    "\n",
    "CGPoint GetMousePosition()\n",
    "{\n",
    "    usleep(200000);\n",
    "    CGEventRef event = CGEventCreate(NULL);\n",
    "    CGPoint cursor = CGEventGetLocation(event);\n",
    "    CFRelease(event);\n",
    "    return cursor;\n",
    "}\n",
    "\n",
    "void SetMousePosition(double x, double y)\n",
    "{\n",
    "    CGPoint position = CGPointMake(x, y);\n",
    "    DispatchMouseEvent(kCGMouseButtonLeft, kCGEventMouseMoved, position, 1, 0);\n",
    "    previous_event_ = kCGEventMouseMoved;\n",
    "}\n",
    "\n",
    "void SetPosition(CGPoint position)\n",
    "{\n",
    "    DispatchMouseEvent(kCGMouseButtonLeft, kCGEventMouseMoved, position, 1, 0);\n",
    "    previous_event_ = kCGEventMouseMoved;\n",
    "}\n",
    "\n",
    "void SetButtonState(Button btn, bool is_pressed, CGPoint position, int click_count)\n",
    "{\n",
    "    CGEventType type;\n",
    "    CGMouseButton button;\n",
    "\n",
    "    switch (btn)\n",
    "    {\n",
    "    case kButtonLeft:\n",
    "        type = (is_pressed ? kCGEventLeftMouseDown : kCGEventLeftMouseUp);\n",
    "        button = kCGMouseButtonLeft;\n",
    "        break;\n",
    "\n",
    "    case kButtonRight:\n",
    "        type = (is_pressed ? kCGEventRightMouseDown : kCGEventRightMouseUp);\n",
    "        button = kCGMouseButtonRight;\n",
    "        break;\n",
    "    };\n",
    "\n",
    "    DispatchMouseEvent(button, type, position, click_count, 200000);\n",
    "}\n",
    "\n",
    "void MouseClick(Button btn, CGPoint position)\n",
    "{\n",
    "    SetButtonState(btn, true, position, 1);  // Press\n",
    "    SetButtonState(btn, false, position, 1); // Release\n",
    "}\n",
    "\n",
    "void Click(Button btn)\n",
    "{\n",
    "    CGPoint position = GetMousePosition();\n",
    "    MouseClick(btn, position);\n",
    "}\n",
    "\n",
    "void MouseDoubleClick(Button btn, CGPoint position)\n",
    "{\n",
    "    SetButtonState(btn, true, position, 1);\n",
    "    SetButtonState(btn, false, position, 1);\n",
    "    SetButtonState(btn, true, position, 2);\n",
    "    SetButtonState(btn, false, position, 2);\n",
    "}\n",
    "\n",
    "void DoubleClick(Button btn)\n",
    "{\n",
    "    CGPoint position = GetMousePosition();\n",
    "    MouseDoubleClick(btn, position);\n",
    "}\n",
    "\n",
    "void MouseDrag(CGPoint position)\n",
    "{\n",
    "    DispatchMouseEvent(kCGMouseButtonLeft, kCGEventLeftMouseDragged, position, 1, 0);\n",
    "}\n",
    "\n",
    "void MouseStartDrag(CGPoint position)\n",
    "{\n",
    "    SetButtonState(kButtonLeft, true, position, 1);\n",
    "    MouseDrag(position);\n",
    "}\n",
    "\n",
    "void MouseEndDrag(CGPoint position)\n",
    "{\n",
    "    MouseDrag(position);\n",
    "    SetButtonState(kButtonLeft, false, position, 1);\n",
    "}\n",
    "\n",
    "\n",
    "#if __cplusplus\n",
    "}\n",
    "#endif\n",
    "\n"
   ]
  }
 ],
 "metadata": {
  "language_info": {
   "name": "python"
  }
 },
 "nbformat": 4,
 "nbformat_minor": 2
}
