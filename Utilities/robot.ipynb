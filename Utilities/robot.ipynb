{
 "cells": [
  {
   "cell_type": "markdown",
   "metadata": {},
   "source": [
    "\n",
    "node screenshots?\n"
   ]
  },
  {
   "cell_type": "code",
   "execution_count": null,
   "metadata": {
    "vscode": {
     "languageId": "javascript"
    }
   },
   "outputs": [],
   "source": [
    "\n",
    "const { Monitor } = require(\"node-screenshots\");\n",
    "\n",
    "async function screenshotMonitor(monitor) {\n",
    "\n",
    "  if(!monitor) {\n",
    "    monitor = 0\n",
    "  }\n",
    "\n",
    "  let monitors = Monitor.all()\n",
    "  monitors.sort((a, b) => (a.x+a.y) - (b.x + b.y))\n",
    "  let capturer = monitors[monitor]\n",
    "\n",
    "  if(!capturer) {\n",
    "    return void 0\n",
    "  }\n",
    "\n",
    "  console.log({\n",
    "    id: capturer.id,\n",
    "    x: capturer.x,\n",
    "    y: capturer.y,\n",
    "    width: capturer.width,\n",
    "    height: capturer.height,\n",
    "    rotation: capturer.rotation,\n",
    "    scaleFactor: capturer.scaleFactor,\n",
    "    isPrimary: capturer.isPrimary,\n",
    "  })\n",
    "\n",
    "  let image = await monitors[monitor].captureImage()\n",
    "\n",
    "  return await image.toPng()\n",
    "}\n",
    "\n",
    "module.exports = screenshotMonitor\n"
   ]
  },
  {
   "cell_type": "markdown",
   "metadata": {},
   "source": [
    "\n",
    "node window screenshot?\n"
   ]
  },
  {
   "cell_type": "code",
   "execution_count": null,
   "metadata": {
    "vscode": {
     "languageId": "javascript"
    }
   },
   "outputs": [],
   "source": [
    "\n",
    "const fs = require(\"fs\");\n",
    "const { Window } = require(\"node-screenshots\");\n",
    "\n",
    "\n",
    "async function screenshotMonitor(window) {\n",
    "\n",
    "  if(!window) {\n",
    "    window = 0\n",
    "  }\n",
    "\n",
    "  let windows = Window.all();\n",
    "  let item\n",
    "  if(!Number.isNaN(parseInt(window)))\n",
    "    item = windows[window]\n",
    "  else\n",
    "    item = windows.filter(w => {\n",
    "      console.log(w.title, w.app_name)\n",
    "      return w.title.includes(window) || w.app_name && w.app_name.includes(window)\n",
    "    })[0]\n",
    "\n",
    "  if(!item)\n",
    "    return void 0\n",
    "\n",
    "  console.log({\n",
    "    title: item.title,\n",
    "    app_name: item.app_name,\n",
    "    id: item.id,\n",
    "    x: item.x,\n",
    "    y: item.y,\n",
    "    width: item.width,\n",
    "    height: item.height,\n",
    "    rotation: item.rotation,\n",
    "    scaleFactor: item.scaleFactor,\n",
    "    isPrimary: item.isPrimary,\n",
    "  })\n",
    "\n",
    "  let image = await windows[window].captureImage()\n",
    "\n",
    "  return await image.toPng()\n",
    "}\n",
    "\n",
    "module.exports = screenshotMonitor\n"
   ]
  },
  {
   "cell_type": "markdown",
   "metadata": {},
   "source": [
    "\n",
    "get screen size?\n"
   ]
  },
  {
   "cell_type": "code",
   "execution_count": null,
   "metadata": {
    "vscode": {
     "languageId": "javascript"
    }
   },
   "outputs": [],
   "source": [
    "\n",
    "const robot = require(\"robotjs\")\n",
    "\n",
    "function getScreenSize() {\n",
    "  return robot.getScreenSize()\n",
    "}\n",
    "\n",
    "module.exports = getScreenSize\n"
   ]
  },
  {
   "cell_type": "markdown",
   "metadata": {},
   "source": [
    "\n",
    "move mouse?\n"
   ]
  },
  {
   "cell_type": "code",
   "execution_count": null,
   "metadata": {
    "vscode": {
     "languageId": "javascript"
    }
   },
   "outputs": [],
   "source": [
    "const { Monitor } = require(\"node-screenshots\")\n",
    "const MouseController = require('mouse-controller')\n",
    "const mc = new MouseController();\n",
    "\n",
    "function moveMouse(x, y) {\n",
    "  let monitors = Monitor.all()\n",
    "  monitors.sort((a, b) => (a.x + a.y) - (b.x + b.y))\n",
    "  /*console.log({\n",
    "    x: monitors[0].x,\n",
    "    y: monitors[0].y,\n",
    "    width: monitors[0].width,\n",
    "    height: monitors[0].height,\n",
    "  })*/\n",
    "  mc.move(x * monitors[0].width * 3, y * monitors[0].height)\n",
    "}\n",
    "\n",
    "module.exports = moveMouse\n"
   ]
  }
 ],
 "metadata": {
  "language_info": {
   "name": "python"
  }
 },
 "nbformat": 4,
 "nbformat_minor": 2
}
