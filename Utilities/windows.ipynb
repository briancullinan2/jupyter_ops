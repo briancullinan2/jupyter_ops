{
 "cells": [
  {
   "cell_type": "markdown",
   "metadata": {},
   "source": [
    "connect to windows API\n",
    "\n",
    "list window handles?\n",
    "\n",
    "list window titles\n",
    "\n"
   ]
  },
  {
   "cell_type": "code",
   "execution_count": null,
   "metadata": {
    "vscode": {
     "languageId": "csharp"
    }
   },
   "outputs": [],
   "source": [
    "using System;\n",
    "using System.Collections.Generic;\n",
    "using System.Diagnostics;\n",
    "using System.Runtime.InteropServices;\n",
    "using System.Text;\n",
    "\n",
    "namespace window_tracker\n",
    "{\n",
    "    public static class ProgramExtensions\n",
    "    {\n",
    "\n",
    "        [DllImport(\"user32.dll\", SetLastError = true)]\n",
    "        [return: MarshalAs(UnmanagedType.Bool)]\n",
    "        private static extern bool GetWindowPlacement(IntPtr hWnd, ref WINDOWPLACEMENT lpwndpl);\n",
    "\n",
    "        [DllImport(\"user32.dll\", SetLastError = true)]\n",
    "        private static extern uint GetWindowThreadProcessId(IntPtr hWnd, out uint lpdwProcessId);\n",
    "\n",
    "        [DllImport(\"user32.dll\", CharSet = CharSet.Unicode)]\n",
    "        private static extern int GetWindowText(IntPtr hWnd, StringBuilder strText, int maxCount);\n",
    "\n",
    "        [DllImport(\"user32.dll\", CharSet = CharSet.Unicode)]\n",
    "        private static extern int GetWindowTextLength(IntPtr hWnd);\n",
    "\n",
    "        [DllImport(\"user32.dll\")]\n",
    "        private static extern bool EnumWindows(EnumWindowsProc enumProc, IntPtr lParam);\n",
    "\n",
    "        [DllImport(\"user32.dll\")]\n",
    "        private static extern IntPtr GetForegroundWindow();\n",
    "\n",
    "        // Delegate to filter which windows to include \n",
    "        public delegate bool EnumWindowsProc(IntPtr hWnd, IntPtr lParam);\n",
    "\n",
    "        /// <summary> Get the text for the window pointed to by hWnd </summary>\n",
    "        public static string GetWindowText(IntPtr hWnd)\n",
    "        {\n",
    "            int size = GetWindowTextLength(hWnd);\n",
    "            if(size > 0)\n",
    "            {\n",
    "                var builder = new StringBuilder(size + 1);\n",
    "                GetWindowText(hWnd, builder, builder.Capacity);\n",
    "                return builder.ToString();\n",
    "            }\n",
    "\n",
    "            return String.Empty;\n",
    "        }\n",
    "\n",
    "        /// <summary> Find all windows that match the given filter </summary>\n",
    "        /// <param name=\"filter\"> A delegate that returns true for windows\n",
    "        ///    that should be returned and false for windows that should\n",
    "        ///    not be returned </param>\n",
    "        public static IEnumerable<IntPtr> FindWindows(EnumWindowsProc filter)\n",
    "        {\n",
    "            IntPtr found = IntPtr.Zero;\n",
    "            List<IntPtr> windows = new List<IntPtr>();\n",
    "\n",
    "            EnumWindows(delegate (IntPtr wnd, IntPtr param)\n",
    "            {\n",
    "                if(filter(wnd, param))\n",
    "                {\n",
    "                    // only add the windows that pass the filter\n",
    "                    windows.Add(wnd);\n",
    "                }\n",
    "\n",
    "                // but return true here so that we iterate all windows\n",
    "                return true;\n",
    "            }, found);\n",
    "\n",
    "            return windows;\n",
    "        }\n",
    "\n",
    "        /// <summary> Find all windows that contain the given title text </summary>\n",
    "        /// <param name=\"titleText\"> The text that the window title must contain. </param>\n",
    "        public static IEnumerable<IntPtr> FindWindowsWithText(string titleText)\n",
    "        {\n",
    "            return FindWindows(delegate (IntPtr wnd, IntPtr param)\n",
    "            {\n",
    "                return GetWindowText(wnd).Contains(titleText);\n",
    "            });\n",
    "        }\n",
    "\n",
    "        public static Process GetProcess(IntPtr wnd)\n",
    "        {\n",
    "            uint proc;\n",
    "            GetWindowThreadProcessId(wnd, out proc);\n",
    "            return Process.GetProcessById((int)proc);\n",
    "        }\n",
    "\n",
    "        public static string GetProcessTitle(IntPtr wnd)\n",
    "        {\n",
    "            return GetProcess(wnd).MainWindowTitle;\n",
    "        }\n",
    "\n",
    "        public static bool IsForeground(IntPtr wnd)\n",
    "        {\n",
    "            return GetForegroundWindow() == wnd;\n",
    "        }\n",
    "\n",
    "        public static WINDOWPLACEMENT GetPlacement(IntPtr hwnd)\n",
    "        {\n",
    "            WINDOWPLACEMENT placement = new WINDOWPLACEMENT();\n",
    "            placement.length = Marshal.SizeOf(placement);\n",
    "            GetWindowPlacement(hwnd, ref placement);\n",
    "            return placement;\n",
    "        }\n",
    "\n",
    "        [Serializable]\n",
    "        [StructLayout(LayoutKind.Sequential)]\n",
    "        public struct WINDOWPLACEMENT\n",
    "        {\n",
    "            public int length;\n",
    "            public int flags;\n",
    "            public ShowWindowCommands showCmd;\n",
    "            public POINTAPI ptMinPosition;\n",
    "            public POINTAPI ptMaxPosition;\n",
    "            public RECT rcNormalPosition;\n",
    "        }\n",
    "\n",
    "        public struct POINTAPI {\n",
    "            public int x;\n",
    "            public int y;\n",
    "        }\n",
    "        public struct RECT {\n",
    "            public int left;\n",
    "            public int top;\n",
    "            public int right;\n",
    "            public int bottom;\n",
    "        }\n",
    "\n",
    "        public enum ShowWindowCommands : int\n",
    "        {\n",
    "            Hide = 0,\n",
    "            Normal = 1,\n",
    "            Minimized = 2,\n",
    "            Maximized = 3,\n",
    "        }\n",
    "    }\n",
    "}\n"
   ]
  },
  {
   "cell_type": "markdown",
   "metadata": {},
   "source": [
    "monitor active windows?\n"
   ]
  },
  {
   "cell_type": "code",
   "execution_count": null,
   "metadata": {
    "vscode": {
     "languageId": "csharp"
    }
   },
   "outputs": [],
   "source": [
    "using System;\n",
    "using System.Linq;\n",
    "\n",
    "namespace window_tracker\n",
    "{\n",
    "    class Program\n",
    "    {\n",
    "        static void Main(string[] args)\n",
    "        {\n",
    "            var listWindows = ProgramExtensions.FindWindows(delegate (IntPtr wnd, IntPtr param)\n",
    "            {\n",
    "                var placement = ProgramExtensions.GetPlacement(wnd);\n",
    "                var title = ProgramExtensions.GetWindowText(wnd);\n",
    "                return placement.rcNormalPosition.top != placement.rcNormalPosition.bottom\n",
    "                    && !String.IsNullOrWhiteSpace(title)\n",
    "                    && ProgramExtensions.GetProcessTitle(wnd) == title;\n",
    "            });\n",
    "            Console.WriteLine(String.Join(\"\\n\", listWindows.Select(ptr => (ProgramExtensions.IsForeground(ptr) ? \"* \" : \"\" )\n",
    "                + ProgramExtensions.GetWindowText(ptr) + \" - \" + ProgramExtensions.GetProcess(ptr).ProcessName)));\n",
    "        }\n",
    "    }\n",
    "}\n"
   ]
  },
  {
   "cell_type": "code",
   "execution_count": null,
   "metadata": {
    "vscode": {
     "languageId": "csharp"
    }
   },
   "outputs": [],
   "source": []
  },
  {
   "cell_type": "code",
   "execution_count": null,
   "metadata": {
    "vscode": {
     "languageId": "xml"
    }
   },
   "outputs": [],
   "source": [
    "<?xml version=\"1.0\" encoding=\"utf-8\"?>\n",
    "<Project ToolsVersion=\"15.0\" xmlns=\"http://schemas.microsoft.com/developer/msbuild/2003\">\n",
    "  <Import Project=\"$(MSBuildExtensionsPath)\\$(MSBuildToolsVersion)\\Microsoft.Common.props\" Condition=\"Exists('$(MSBuildExtensionsPath)\\$(MSBuildToolsVersion)\\Microsoft.Common.props')\" />\n",
    "  <PropertyGroup>\n",
    "    <Configuration Condition=\" '$(Configuration)' == '' \">Debug</Configuration>\n",
    "    <Platform Condition=\" '$(Platform)' == '' \">AnyCPU</Platform>\n",
    "    <ProjectGuid>{CBBD254A-ED60-4677-AB5C-4AA7A292A1FE}</ProjectGuid>\n",
    "    <OutputType>Exe</OutputType>\n",
    "    <RootNamespace>window_tracker</RootNamespace>\n",
    "    <AssemblyName>window tracker</AssemblyName>\n",
    "    <TargetFrameworkVersion>v4.6.1</TargetFrameworkVersion>\n",
    "    <FileAlignment>512</FileAlignment>\n",
    "    <AutoGenerateBindingRedirects>true</AutoGenerateBindingRedirects>\n",
    "  </PropertyGroup>\n",
    "  <PropertyGroup Condition=\" '$(Configuration)|$(Platform)' == 'Debug|AnyCPU' \">\n",
    "    <PlatformTarget>AnyCPU</PlatformTarget>\n",
    "    <DebugSymbols>true</DebugSymbols>\n",
    "    <DebugType>full</DebugType>\n",
    "    <Optimize>false</Optimize>\n",
    "    <OutputPath>bin\\Debug\\</OutputPath>\n",
    "    <DefineConstants>DEBUG;TRACE</DefineConstants>\n",
    "    <ErrorReport>prompt</ErrorReport>\n",
    "    <WarningLevel>4</WarningLevel>\n",
    "  </PropertyGroup>\n",
    "  <PropertyGroup Condition=\" '$(Configuration)|$(Platform)' == 'Release|AnyCPU' \">\n",
    "    <PlatformTarget>AnyCPU</PlatformTarget>\n",
    "    <DebugType>pdbonly</DebugType>\n",
    "    <Optimize>true</Optimize>\n",
    "    <OutputPath>bin\\Release\\</OutputPath>\n",
    "    <DefineConstants>TRACE</DefineConstants>\n",
    "    <ErrorReport>prompt</ErrorReport>\n",
    "    <WarningLevel>4</WarningLevel>\n",
    "  </PropertyGroup>\n",
    "  <ItemGroup>\n",
    "    <Reference Include=\"System\" />\n",
    "    <Reference Include=\"System.Core\" />\n",
    "    <Reference Include=\"System.Xml.Linq\" />\n",
    "    <Reference Include=\"System.Data.DataSetExtensions\" />\n",
    "    <Reference Include=\"Microsoft.CSharp\" />\n",
    "    <Reference Include=\"System.Data\" />\n",
    "    <Reference Include=\"System.Net.Http\" />\n",
    "    <Reference Include=\"System.Xml\" />\n",
    "  </ItemGroup>\n",
    "  <ItemGroup>\n",
    "    <Compile Include=\"list-window-handles.cs\" />\n",
    "    <Compile Include=\"Program.cs\" />\n",
    "    <Compile Include=\"Properties\\AssemblyInfo.cs\" />\n",
    "  </ItemGroup>\n",
    "  <ItemGroup>\n",
    "    <None Include=\"App.config\" />\n",
    "  </ItemGroup>\n",
    "  <Import Project=\"$(MSBuildToolsPath)\\Microsoft.CSharp.targets\" />\n",
    "</Project>\n"
   ]
  },
  {
   "cell_type": "code",
   "execution_count": null,
   "metadata": {
    "vscode": {
     "languageId": "csharp"
    }
   },
   "outputs": [],
   "source": []
  },
  {
   "cell_type": "code",
   "execution_count": null,
   "metadata": {
    "vscode": {
     "languageId": "csharp"
    }
   },
   "outputs": [],
   "source": [
    "\n",
    "Microsoft Visual Studio Solution File, Format Version 12.00\n",
    "# Visual Studio 15\n",
    "VisualStudioVersion = 15.0.27004.2002\n",
    "MinimumVisualStudioVersion = 10.0.40219.1\n",
    "Project(\"{FAE04EC0-301F-11D3-BF4B-00C04F79EFBC}\") = \"window tracker\", \"window tracker.csproj\", \"{CBBD254A-ED60-4677-AB5C-4AA7A292A1FE}\"\n",
    "EndProject\n",
    "Global\n",
    "\tGlobalSection(SolutionConfigurationPlatforms) = preSolution\n",
    "\t\tDebug|Any CPU = Debug|Any CPU\n",
    "\t\tRelease|Any CPU = Release|Any CPU\n",
    "\tEndGlobalSection\n",
    "\tGlobalSection(ProjectConfigurationPlatforms) = postSolution\n",
    "\t\t{CBBD254A-ED60-4677-AB5C-4AA7A292A1FE}.Debug|Any CPU.ActiveCfg = Debug|Any CPU\n",
    "\t\t{CBBD254A-ED60-4677-AB5C-4AA7A292A1FE}.Debug|Any CPU.Build.0 = Debug|Any CPU\n",
    "\t\t{CBBD254A-ED60-4677-AB5C-4AA7A292A1FE}.Release|Any CPU.ActiveCfg = Release|Any CPU\n",
    "\t\t{CBBD254A-ED60-4677-AB5C-4AA7A292A1FE}.Release|Any CPU.Build.0 = Release|Any CPU\n",
    "\tEndGlobalSection\n",
    "\tGlobalSection(SolutionProperties) = preSolution\n",
    "\t\tHideSolutionNode = FALSE\n",
    "\tEndGlobalSection\n",
    "\tGlobalSection(ExtensibilityGlobals) = postSolution\n",
    "\t\tSolutionGuid = {8A185532-6E16-4241-B1B6-CE6109E2E112}\n",
    "\tEndGlobalSection\n",
    "EndGlobal\n"
   ]
  },
  {
   "cell_type": "code",
   "execution_count": null,
   "metadata": {
    "vscode": {
     "languageId": "shellscript"
    }
   },
   "outputs": [],
   "source": [
    "\n",
    "\"C:\\Program Files (x86)\\MSBuild\\14.0\\bin\\amd64\\msbuild.exe\" \"window tracker.csproj\"\n"
   ]
  }
 ],
 "metadata": {
  "kernelspec": {
   "display_name": "C#",
   "language": "csharp",
   "name": "icsharpkernel"
  },
  "language_info": {
   "name": ""
  }
 },
 "nbformat": 4,
 "nbformat_minor": 2
}
