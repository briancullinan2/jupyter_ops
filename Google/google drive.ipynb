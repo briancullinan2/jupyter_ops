{
 "cells": [
  {
   "cell_type": "markdown",
   "metadata": {},
   "source": [
    "# google drive\n",
    "\n",
    "utilities for google drive\n",
    "\n",
    "\n"
   ]
  },
  {
   "cell_type": "markdown",
   "metadata": {},
   "source": [
    "## basic needs\n",
    "\n",
    "authorization, listing, writing, copying, etc\n"
   ]
  },
  {
   "cell_type": "markdown",
   "metadata": {},
   "source": [
    "### authorization\n",
    "authorize google drive?\n"
   ]
  },
  {
   "cell_type": "markdown",
   "metadata": {},
   "source": [
    "#### the code \n",
    "\n"
   ]
  },
  {
   "cell_type": "code",
   "execution_count": 1,
   "metadata": {},
   "outputs": [
    {
     "data": {
      "text/plain": [
       "[Function: authorizeDrive]"
      ]
     },
     "execution_count": 1,
     "metadata": {},
     "output_type": "execute_result"
    }
   ],
   "source": [
    "var fs = require('fs');\n",
    "var path = require('path');\n",
    "var {google} = require('googleapis');\n",
    "var {GoogleAuth} = require('google-auth-library');\n",
    "\n",
    "var PROFILE_PATH = process.env.HOME || process.env.HOMEPATH || process.env.USERPROFILE;\n",
    "var credentials;\n",
    "if(fs.existsSync('./sheet to web-8ca5784e0b05.json')) {\n",
    "    credentials = path.resolve('./sheet to web-8ca5784e0b05.json');\n",
    "} else {\n",
    "    credentials = path.join(PROFILE_PATH, '.credentials/sheet to web-8ca5784e0b05.json');\n",
    "}\n",
    "\n",
    "var GOOGLE_AUTH_SCOPE = [\n",
    "    'https://www.googleapis.com/auth/drive'\n",
    "];\n",
    "\n",
    "function authorizeDrive() {\n",
    "    return new GoogleAuth({\n",
    "        keyFile: credentials,\n",
    "        scopes: GOOGLE_AUTH_SCOPE\n",
    "    }).getClient()\n",
    "        .then(client => google.drive({version: 'v3', auth: client}))\n",
    "}\n",
    "\n",
    "module.exports = authorizeDrive;\n"
   ]
  },
  {
   "cell_type": "markdown",
   "metadata": {
    "heading_collapsed": true
   },
   "source": [
    "#### test list google drive?\n"
   ]
  },
  {
   "cell_type": "code",
   "execution_count": null,
   "metadata": {
    "hidden": true
   },
   "outputs": [],
   "source": [
    "var importer = require('../Core');\n",
    "var listDrive = importer.import('list google drive files');\n",
    "var insertPermission = importer.import('insert google drive permissions');\n",
    "\n",
    "describe('list google drive files', () => {\n",
    "    \n",
    "    it('should list files', () => {\n",
    "        return listDrive()\n",
    "            .then(r => importer\n",
    "                  .runAllPromises(r.filter(r => r.name.includes('Untitled'))\n",
    "                                           .map(f => resolve => insertPermission(f.id, 'megamindbrian@gmail.com')\n",
    "                                                .then(resolve))))\n",
    "    })\n",
    "})\n"
   ]
  },
  {
   "cell_type": "markdown",
   "metadata": {},
   "source": [
    "### list google drive files?\n"
   ]
  },
  {
   "cell_type": "code",
   "execution_count": null,
   "metadata": {},
   "outputs": [],
   "source": [
    "var util = require('util');\n",
    "var importer = require('../Core');\n",
    "var authorizeDrive = importer.import('authorize google drive');\n",
    "\n",
    "function listDrive() {\n",
    "    return authorizeDrive()\n",
    "        .then(drive => util.promisify(drive.files.list.bind(drive))({}))\n",
    "        .then(r => r.data.files || [])\n",
    "}\n",
    "\n",
    "module.exports = listDrive;\n"
   ]
  },
  {
   "cell_type": "markdown",
   "metadata": {
    "heading_collapsed": true
   },
   "source": [
    "### insert google drive permissions?\n"
   ]
  },
  {
   "cell_type": "code",
   "execution_count": null,
   "metadata": {
    "hidden": true
   },
   "outputs": [],
   "source": [
    "var util = require('util');\n",
    "var importer = require('../Core');\n",
    "var authorizeDrive = importer.import('authorize google drive');\n",
    "\n",
    "function insertPermission(fileId, email) {\n",
    "    return authorizeDrive()\n",
    "        .then(drive => util.promisify(drive.permissions.create.bind(drive))({\n",
    "            resource: {\n",
    "                'type': 'user',\n",
    "                'role': 'owner',\n",
    "                'emailAddress': email\n",
    "            },\n",
    "            fileId: fileId,\n",
    "            fields: 'id',\n",
    "            transferOwnership: true\n",
    "        }))\n",
    "        .then(r => r.data.id)\n",
    "}\n",
    "\n",
    "module.exports = insertPermission;\n"
   ]
  },
  {
   "cell_type": "markdown",
   "metadata": {
    "heading_collapsed": true
   },
   "source": [
    "### create a sheet in google drive?\n"
   ]
  },
  {
   "cell_type": "code",
   "execution_count": null,
   "metadata": {
    "hidden": true
   },
   "outputs": [],
   "source": [
    "var util = require('util');\n",
    "var importer = require('../Core');\n",
    "var authorizeSheets = importer.import('authorize sheets api');\n",
    "var insertPermission = importer.import('insert google drive permissions');\n",
    "\n",
    "function createSheet(email) {\n",
    "    var sheets;\n",
    "    \n",
    "    return authorizeSheets()\n",
    "        .then(s => sheets = s)\n",
    "        .then(() => util.promisify(sheets.spreadsheets.create.bind(sheets))())\n",
    "        .then(r => insertPermission(r.data.spreadsheetId, 'megamindbrian@gmail.com'))\n",
    "        .then(r => insertPermission(r.data.spreadsheetId, email))\n",
    "}\n",
    "\n",
    "module.exports = createSheet;\n"
   ]
  },
  {
   "cell_type": "markdown",
   "metadata": {
    "hidden": true
   },
   "source": [
    "#### test google sheet create?\n"
   ]
  },
  {
   "cell_type": "code",
   "execution_count": null,
   "metadata": {
    "hidden": true
   },
   "outputs": [],
   "source": [
    "var importer = require('../Core');\n",
    "var createSheet = importer.import('create a sheet in google drive');\n",
    "\n",
    "describe('create a new marketing sheet', () => {\n",
    "    \n",
    "    it('should create a sheet', () => {\n",
    "        return createSheet('bjcullinan@gmail.com');\n",
    "    })\n",
    "})\n"
   ]
  },
  {
   "cell_type": "markdown",
   "metadata": {
    "heading_collapsed": true
   },
   "source": [
    "### copy a file on google drive?\n"
   ]
  },
  {
   "cell_type": "code",
   "execution_count": null,
   "metadata": {
    "hidden": true
   },
   "outputs": [],
   "source": [
    "var util = require('util');\n",
    "var importer = require('../Core');\n",
    "var authorizeDrive = importer.import('authorize google drive');\n",
    "\n",
    "function copyFile(fileId, title) {\n",
    "    return authorizeDrive()\n",
    "        .then(drive => util.promisify(drive.files.copy.bind(drive))({\n",
    "            fileId: fileId,\n",
    "            resource: {name: title},\n",
    "            convert: true\n",
    "        }))\n",
    "        .then(r => r.data.id)\n",
    "}\n",
    "\n",
    "module.exports = copyFile;\n"
   ]
  },
  {
   "cell_type": "markdown",
   "metadata": {},
   "source": [
    "## advanced tools\n",
    "\n",
    "comparing, cateloging, sharing, converting, etc\n",
    "\n"
   ]
  },
  {
   "cell_type": "markdown",
   "metadata": {},
   "source": [
    "### compare a folder with local\n",
    "\n",
    "What is the purpose 🐬 of this? Well, Google Drive sync is awful for these reason:\n",
    "\n",
    "1. Drive creates an MD5 hash for every single file. Anyone familiar with rsync principles knows there are plenty of faster metrics to compare before hashing a file, such as, does it exist? Did the file time change?\n",
    "2. It stores the list of files in separate database, and is completely useless without that database, has to be rebuilt from scratch.\n",
    "3. Can't upload files while it is searching for files, many FTP tools use to have this problem, and SourceTree still has this problem.\n",
    "4. Slows to a crawl the more files you have (~300,000), rendering it useless for backup purposes.\n",
    "5. Insists on recreating a cache every time you try to use it on a different computer because of that missing database.\n",
    "6. It created 2 directories with the same name, I can't trust this service anymore.\n",
    "7. Apparently, somebody decided that \"On demand\" isn't the same as \"On command\", can't sync the files I want when I need them, always automatic, no way to control queuing. Having a nice little settings dialog and task bar icon doesn't excuse this.\n",
    "8. Of course! Good Google sync is only available for paying customers. Even though I am paying for extra storage every month?  How much sense does this make?\n",
    "\n",
    "Let's separate the databasing features from the syncing features. And separate the uploading features from the databasing features. And, if we need any merging features, those should be separate too. Because of my experience with my mediaserver project, I have the necessary skills to implement this concisely.\n",
    "\n",
    "* scan - look for files and folders\n",
    "* upload - send to Google drive\n",
    "* merge - do the actual syncing\n",
    "* extract - take real documents out of drive, like a download but it has to be converted from Google's proprietary internal format.\n",
    "\n"
   ]
  },
  {
   "cell_type": "markdown",
   "metadata": {},
   "source": [
    "#### the code \n",
    "\n",
    "compare google drive?\n",
    "\n",
    "merge google drive?\n"
   ]
  },
  {
   "cell_type": "code",
   "execution_count": null,
   "metadata": {},
   "outputs": [],
   "source": [
    "var fs = require('fs');\n",
    "var path = require('path');\n",
    "var {GoogleAuth} = require('google-auth-library');\n",
    "var importer = require('../Core')\n",
    "var getRpcFromSpec = importer.import('get rpc from spec')\n",
    "var authorize = importer.import('google oauth token client')\n",
    "\n",
    "// TODO: pattern recognized! create a \"google\" object that does this for every service in the Google discovery list\n",
    "var google = {drive: ({version, auth}) => getRpcFromSpec(require(path.join(__dirname, `../Resources/APIs/drive.${version}.json`)), auth)}\n",
    "\n",
    "//var PROFILE_PATH = process.env.HOME || process.env.HOMEPATH || process.env.USERPROFILE;\n",
    "/*\n",
    "var credentials;\n",
    "if(fs.existsSync('./sheet to web-8ca5784e0b05.json')) {\n",
    "    credentials = path.resolve('./sheet to web-8ca5784e0b05.json');\n",
    "} else {\n",
    "    credentials = path.join(PROFILE_PATH, '.credentials/sheet to web-8ca5784e0b05.json');\n",
    "}\n",
    "*/\n",
    "\n",
    "var GOOGLE_AUTH_SCOPE = [\n",
    "    'https://www.googleapis.com/auth/drive'\n",
    "];\n",
    "\n",
    "async function listDriveFiles(drive, folder, pageToken) {\n",
    "    var result = await drive.files.list({\n",
    "        fields: 'files(kind,id,name,modifiedTime,md5Checksum,mimeType,owners,size,parents,originalFilename)',\n",
    "        pageToken: pageToken,\n",
    "        q: `'${folder}' in parents and trashed = false`\n",
    "        //driveId: 'my-drive',\n",
    "        //includeTeamDriveItems: true,\n",
    "        //corpora: 'drive',\n",
    "        //supportsAllDrives: true\n",
    "    })\n",
    "    if(result.data.nextPageToken) {\n",
    "        var moreFiles = listDriveFiles(drive, folder, result.data.nextPageToken)\n",
    "        return result.data.files.concat(moreFiles)\n",
    "    } else {\n",
    "        return result.data.files\n",
    "    }\n",
    "}\n",
    "\n",
    "async function listDrive(folder = 'root') {\n",
    "    var client = await authorize(GOOGLE_AUTH_SCOPE)\n",
    "    var drive = await google.drive({version: 'v3', auth: client})\n",
    "    var files = await listDriveFiles(drive, folder)\n",
    "    return files\n",
    "}\n",
    "\n",
    "module.exports = listDrive\n",
    "\n",
    "if(typeof $$ != 'undefined') {\n",
    "    listDrive()\n",
    "        .then(r => $$.sendResult(r))\n",
    "        .catch(e => $$.sendError(e))\n",
    "}\n",
    "\n"
   ]
  },
  {
   "cell_type": "markdown",
   "metadata": {},
   "source": [
    "\n",
    "download all docs as actual data files?\n",
    "\n"
   ]
  },
  {
   "cell_type": "code",
   "execution_count": null,
   "metadata": {},
   "outputs": [],
   "source": [
    "const listDrive = importer.import('merge google drive')\n",
    "const getRpcFromSpec = importer.import('get rpc from spec')\n",
    "const authorize = importer.import('google oauth token client')\n",
    "const google = {drive: ({version, auth}) => getRpcFromSpec(require(path.join(__dirname, `../Resources/APIs/drive.${version}.json`)), auth)}\n",
    "const { safeurl } = importer.import('domain cache tools')\n",
    "const GOOGLE_AUTH_SCOPE = [\n",
    "  'https://www.googleapis.com/auth/drive'\n",
    "]\n",
    "\n",
    "const PROFILE_PATH = process.env.HOME || process.env.HOMEPATH || process.env.USERPROFILE;\n",
    "const DOWNLOAD_PATH = path.join(PROFILE_PATH, 'Downloads')\n",
    "\n",
    "async function convertGoogleDoc(fileId, outType) {\n",
    "  let client = await authorize(GOOGLE_AUTH_SCOPE)\n",
    "  let drive = await google.drive({version: 'v3', auth: client})\n",
    "  return await drive.files.export({\n",
    "    fileId: fileId,\n",
    "    mimeType: outType\n",
    "  })\n",
    "}\n",
    "\n",
    "\n",
    "async function downloadDocs(folder = 'root') {\n",
    "\n",
    "  let drive = await listDrive(folder)\n",
    "\n",
    "  for(let i = 0; i < drive.length; i++) {\n",
    "    if(drive[i].mimeType == 'application/vnd.google-apps.document') {\n",
    "      console.log('Exporting ' + drive[i].name)\n",
    "      try {\n",
    "        let response = await convertGoogleDoc(drive[i].id, 'application/vnd.openxmlformats-officedocument.wordprocessingml.document')\n",
    "        let data = await response.data.arrayBuffer()\n",
    "        fs.writeFileSync(path.join(DOWNLOAD_PATH, safeurl(drive[i].name + '_' + drive[i].id) + '.docx'), Buffer.from(data))\n",
    "      } catch (e) {\n",
    "        console.log(e)\n",
    "      }\n",
    "    }\n",
    "\n",
    "    if(drive[i].mimeType == 'application/vnd.google-apps.spreadsheet') {\n",
    "      console.log('Exporting ' + drive[i].name)\n",
    "      try {\n",
    "        let response = await convertGoogleDoc(drive[i].id, 'application/vnd.openxmlformats-officedocument.spreadsheetml.sheet')\n",
    "        let data = await response.data.arrayBuffer()\n",
    "        fs.writeFileSync(path.join(DOWNLOAD_PATH, safeurl(drive[i].name + '_' + drive[i].id) + '.xlsx'), Buffer.from(data))\n",
    "      } catch (e) {\n",
    "        console.log(e)\n",
    "      }\n",
    "    }\n",
    "    // TODO: application/vnd.openxmlformats-officedocument.presentationml.presentation\n",
    "  }\n",
    "}\n",
    "\n",
    "module.exports = {\n",
    "  downloadDocs,\n",
    "  convertGoogleDoc,\n",
    "  \n",
    "}\n"
   ]
  },
  {
   "cell_type": "markdown",
   "metadata": {},
   "source": [
    "\n",
    "how to sign a file url for uploading to google storage?\n"
   ]
  },
  {
   "cell_type": "code",
   "execution_count": null,
   "metadata": {},
   "outputs": [],
   "source": [
    "const {Storage} = require('@google-cloud/storage');\n",
    "const storage = new Storage();\n",
    "\n",
    "/**\n",
    " * HTTP function that generates a signed URL\n",
    " * The signed URL can be used to upload files to Google Cloud Storage (GCS)\n",
    " *\n",
    " * @param {Object} req Cloud Function request context.\n",
    " * @param {Object} res Cloud Function response context.\n",
    " */\n",
    "exports.getSignedUrl = (req, res) => {\n",
    "  if (req.method !== 'POST') {\n",
    "    // Return a \"method not allowed\" error\n",
    "    return res.status(405).end();\n",
    "  }\n",
    "  // TODO(developer) check that the user is authorized to upload\n",
    "\n",
    "  // Get a reference to the destination file in GCS\n",
    "  const file = storage.bucket(req.body.bucket).file(req.body.filename);\n",
    "\n",
    "  // Create a temporary upload URL\n",
    "  const expiresAtMs = Date.now() + 300000; // Link expires in 5 minutes\n",
    "  const config = {\n",
    "    action: 'write',\n",
    "    expires: expiresAtMs,\n",
    "    contentType: req.body.contentType,\n",
    "  };\n",
    "\n",
    "  file.getSignedUrl(config, (err, url) => {\n",
    "    if (err) {\n",
    "      console.error(err);\n",
    "      res.status(500).end();\n",
    "      return;\n",
    "    }\n",
    "    res.send(url);\n",
    "  });\n",
    "};\n",
    "\n"
   ]
  },
  {
   "cell_type": "markdown",
   "metadata": {},
   "source": [
    "\n",
    "### code marketing sheet\n"
   ]
  },
  {
   "cell_type": "markdown",
   "metadata": {},
   "source": [
    "\n",
    "create a copy of study sauce template?\n"
   ]
  },
  {
   "cell_type": "code",
   "execution_count": null,
   "metadata": {},
   "outputs": [],
   "source": [
    "var uuid = require('uuid/v1');\n",
    "var importer = require('../Core');\n",
    "var getSheet = importer.import('get sheet identifier');\n",
    "var copyFile = importer.import('copy a file on google drive');\n",
    "var listDrive = importer.import('list google drive files');\n",
    "var insertPermission = importer.import('insert google drive permissions');\n",
    "\n",
    "function copyStudy(email) {\n",
    "    var fileId, newId;\n",
    "    if(!email) {\n",
    "        throw new Error('email not specified!');\n",
    "    }\n",
    "    return listDrive()\n",
    "        .then(r => fileId = r.filter(f => f.name === 'Study sauce template')[0].id)\n",
    "        .then(() => copyFile(fileId, 'Study sauce ' + uuid().substr(0, 5)))\n",
    "        .then(id => newId = id)\n",
    "        .then(() => insertPermission(newId, email))\n",
    "        .then(() => getSheet(newId, null, email))\n",
    "        .then(() => newId)\n",
    "}\n",
    "\n",
    "module.exports = copyStudy;\n",
    "\n"
   ]
  },
  {
   "cell_type": "markdown",
   "metadata": {},
   "source": [
    "#### the code\n",
    "\n",
    "create a sheet handler?\n",
    "\n",
    "create a copy of marketing template?\n"
   ]
  },
  {
   "cell_type": "code",
   "execution_count": null,
   "metadata": {},
   "outputs": [],
   "source": [
    "var uuid = require('uuid/v1');\n",
    "var importer = require('../Core');\n",
    "var getSheet = importer.import('get sheet identifier');\n",
    "var copyFile = importer.import('copy a file on google drive');\n",
    "var listDrive = importer.import('list google drive files');\n",
    "var insertPermission = importer.import('insert google drive permissions');\n",
    "\n",
    "function copyMarketing(email) {\n",
    "    var fileId;\n",
    "    return listDrive()\n",
    "        .then(r => fileId = r.filter(f => f.name === 'Marketing site')[0].id)\n",
    "        .then(() => copyFile(fileId, 'Marketing site ' + uuid().substr(0, 5)))\n",
    "        .then(id => insertPermission(id, email))\n",
    "        .then(() => getSheet(fileId, email))\n",
    "        .then(() => fileId)\n",
    "}\n",
    "\n",
    "module.exports = copyMarketing;\n",
    "\n"
   ]
  }
 ],
 "metadata": {
  "kernelspec": {
   "display_name": "Javascript (Node.js)",
   "language": "javascript",
   "name": "javascript"
  },
  "language_info": {
   "file_extension": ".js",
   "mimetype": "application/javascript",
   "name": "javascript",
   "version": "12.7.0"
  }
 },
 "nbformat": 4,
 "nbformat_minor": 2
}
